{
 "cells": [
  {
   "cell_type": "code",
   "execution_count": 1,
   "metadata": {},
   "outputs": [],
   "source": [
    "import plotly.express as px \n",
    "import plotly.graph_objects as go\n",
    "from plotly.subplots import make_subplots\n",
    "import pandas as pd \n",
    "import os \n",
    "import plotly.io as pio\n",
    "pio.kaleido.scope.mathjax = None \n",
    "from math import log"
   ]
  },
  {
   "attachments": {},
   "cell_type": "markdown",
   "metadata": {},
   "source": [
    "# <b>Functions for visualizing benchmarking results</b>"
   ]
  },
  {
   "attachments": {},
   "cell_type": "markdown",
   "metadata": {},
   "source": [
    "## Speedup Visualization"
   ]
  },
  {
   "cell_type": "code",
   "execution_count": null,
   "metadata": {},
   "outputs": [],
   "source": [
    "def find_color(line_color_map, imp):\n",
    "    for i, c in line_color_map:\n",
    "        if i == imp:\n",
    "            return c \n",
    "\n",
    "def vis_bench_speedup(primary: str, secondary: str, date: str, time: str, save_pdf: bool = False):\n",
    "    df = pd.read_csv(\"csv_results/\" + date + \"/\" + primary + \"_\" + secondary + \"_\" + date + \"_\" + time + \".csv\")\n",
    "    df.sort_values('set_size', inplace=True)\n",
    "\n",
    "    exponentials = []\n",
    "    i = 5\n",
    "    for _ in df.set_size.unique():\n",
    "        exponentials.append(\"2<sup>\" + str(i) + \"</sup>\")\n",
    "        i += 1\n",
    "\n",
    "    fig = make_subplots(rows=3, \n",
    "                        cols=1, shared_yaxes=False, shared_xaxes=True,\n",
    "                        x_title=\"Number of VLMCs\",\n",
    "                        y_title=\"Speedup\",\n",
    "                        subplot_titles=(\"Small\", \"Medium\", \"Large\"), \n",
    "                        horizontal_spacing= 0.02, vertical_spacing= 0.05) # specs=[[{}, {}],[{\"colspan\": 2}, None]])\n",
    "    \n",
    "    df_pst = df[df.implementation==\"PstClassifierSeqan\"]\n",
    "    df = df[df.implementation!=\"PstClassifierSeqan\"]\n",
    "\n",
    "    marker_symbols = ['circle', 'square', 'diamond', 'cross', 'x', 'pentagon', 'star', 'diamond-wide']\n",
    "    line_dashes = ['solid', 'dot', 'dash', 'longdash', 'dashdot', 'longdashdot']\n",
    "    implementations = [\"PstClassifierSeqan\", \"sorted-vector\", \"sorted-search\", \"hashmap\", \"veb\", \"ey\", \"alt-btree\" ,\"sorted-search-ey\"]\n",
    "    line_color_map = list(zip(implementations, px.colors.qualitative.Plotly))\n",
    "    iterate_on = list(zip(list(df.implementation.unique()), marker_symbols, line_dashes))\n",
    "    for imp, marker_symbol, line_dash in iterate_on:\n",
    "        df_imp = df[df.implementation==imp]\n",
    "        line_color = find_color(line_color_map, imp)\n",
    "        fig.add_trace(go.Scatter(x=exponentials, y=list(df_pst[df_pst.vlmc_size=='small']['elapsed_time']) / df_imp[df_imp.vlmc_size=='small']['elapsed_time'], line_color=line_color, name=imp, marker_symbol=marker_symbol, line_dash=line_dash), 1, 1)\n",
    "        fig.add_trace(go.Scatter(x=exponentials, y=list(df_pst[df_pst.vlmc_size=='medium']['elapsed_time']) / df_imp[df_imp.vlmc_size=='medium']['elapsed_time'], line_color=line_color, name=imp, marker_symbol=marker_symbol, line_dash=line_dash, showlegend = False), 2, 1)\n",
    "        fig.add_trace(go.Scatter(x=exponentials, y=list(df_pst[df_pst.vlmc_size=='large']['elapsed_time']) / df_imp[df_imp.vlmc_size=='large']['elapsed_time'], line_color=line_color, name=imp, marker_symbol=marker_symbol, line_dash=line_dash, showlegend = False), 3, 1)\n",
    "    \n",
    "    fig.update_layout(legend=dict(\n",
    "        orientation=\"h\",\n",
    "        yanchor=\"bottom\",\n",
    "        font_size=24,\n",
    "        y=1.08),\n",
    "        margin=dict(l=100, r=60, t=60, b=80),\n",
    "        height=900,\n",
    "        width=900,\n",
    "        plot_bgcolor=\"white\")\n",
    "    fig.update_layout(xaxis_range=[0, i - 5.5])\n",
    "\n",
    "    fig.update_xaxes(gridcolor='LightGrey', tickfont_size=20, showline=True, linewidth=1, linecolor='LightGrey')\n",
    "    fig.update_yaxes(gridcolor='LightGrey', tickfont_size=20, showline=True, linewidth=1, linecolor='LightGrey')\n",
    "\n",
    "    for i in range(0, len(fig.layout.annotations)):\n",
    "        fig.layout.annotations[i][\"font\"] = {'size': 24}\n",
    "    \n",
    "    if save_pdf:\n",
    "        fig.write_image(\"images/\" + primary + \"_to_\" + secondary + \"_elapsed_time.pdf\") \n",
    "    fig.show()"
   ]
  },
  {
   "attachments": {},
   "cell_type": "markdown",
   "metadata": {},
   "source": [
    "## Cache-misses Visualization"
   ]
  },
  {
   "cell_type": "code",
   "execution_count": null,
   "metadata": {},
   "outputs": [],
   "source": [
    "def find_color(line_color_map, imp):\n",
    "    for i, c in line_color_map:\n",
    "        if i == imp:\n",
    "            return c \n",
    "\n",
    "def vis_bench_cache_misses(primary: str, secondary: str, date: str, time: str, save_pdf: bool = False):\n",
    "    df = pd.read_csv(\"csv_results/\" + date + \"/\" + primary + \"_\" + secondary + \"_\" + date + \"_\" + time + \".csv\")\n",
    "    df.sort_values('set_size', inplace=True)\n",
    "\n",
    "    exponentials = []\n",
    "    i = 5\n",
    "    for _ in df.set_size.unique():\n",
    "        exponentials.append(\"2<sup>\" + str(i) + \"</sup>\")\n",
    "        i += 1\n",
    "\n",
    "    fig = make_subplots(rows=3, \n",
    "                        cols=1, shared_yaxes=False, shared_xaxes=True,\n",
    "                        x_title=\"Number of VLMCs\",\n",
    "                        y_title=\"Cache misses (%)\",\n",
    "                        subplot_titles=(\"Small\", \"Medium\", \"Large\"), \n",
    "                        horizontal_spacing= 0.02, vertical_spacing= 0.05) # specs=[[{}, {}],[{\"colspan\": 2}, None]])\n",
    "    \n",
    "    marker_symbols = ['circle', 'square', 'diamond', 'cross', 'x', 'pentagon', 'star']#, 'diamond-wide']\n",
    "    line_dashes = ['solid', 'dot', 'dash', 'longdash', 'dashdot', 'longdashdot', 'dot']\n",
    "    implementations = [\"PstClassifierSeqan\", \"sorted-vector\", \"sorted-search\", \"hashmap\", \"veb\", \"ey\", \"alt-btree\"]\n",
    "    line_color_map = list(zip(implementations, px.colors.qualitative.Plotly))\n",
    "    iterate_on = list(zip(list(df.implementation.unique()), marker_symbols, line_dashes))\n",
    "    for imp, marker_symbol, line_dash in iterate_on:\n",
    "        df_imp = df[df.implementation==imp]\n",
    "        line_color = find_color(line_color_map, imp)\n",
    "        fig.add_trace(go.Scatter(x=exponentials, y=df_imp[df_imp.vlmc_size=='small']['cache_misses'], line_color=line_color, name=imp, marker_symbol=marker_symbol, line_dash=line_dash), 1, 1)\n",
    "        fig.add_trace(go.Scatter(x=exponentials, y=df_imp[df_imp.vlmc_size=='medium']['cache_misses'], line_color=line_color, name=imp, marker_symbol=marker_symbol, line_dash=line_dash, showlegend = False), 2, 1)\n",
    "        fig.add_trace(go.Scatter(x=exponentials, y=df_imp[df_imp.vlmc_size=='large']['cache_misses'], line_color=line_color, name=imp, marker_symbol=marker_symbol, line_dash=line_dash, showlegend = False), 3, 1)\n",
    "    \n",
    "    fig.update_layout(legend=dict(\n",
    "        orientation=\"h\",\n",
    "        yanchor=\"bottom\",\n",
    "        font_size=24,\n",
    "        y=1.08),\n",
    "        margin=dict(l=100, r=60, t=60, b=80),\n",
    "        height=900,\n",
    "        width=900,\n",
    "        plot_bgcolor=\"white\")\n",
    "    fig.update_layout(xaxis_range=[0, i - 5.5])\n",
    "\n",
    "    fig.update_xaxes(gridcolor='LightGrey', tickfont_size=20, showline=True, linewidth=1, linecolor='LightGrey')\n",
    "    fig.update_yaxes(gridcolor='LightGrey', tickfont_size=20, showline=True, linewidth=1, linecolor='LightGrey')\n",
    "\n",
    "    for i in range(0, len(fig.layout.annotations)):\n",
    "        fig.layout.annotations[i][\"font\"] = {'size': 24}\n",
    "    \n",
    "    if save_pdf:\n",
    "        fig.write_image(\"images/\" + primary + \"_to_\" + secondary + \"_cache_misses.pdf\") \n",
    "    fig.show()"
   ]
  },
  {
   "attachments": {},
   "cell_type": "markdown",
   "metadata": {},
   "source": [
    "# Single Run Visualization"
   ]
  },
  {
   "cell_type": "code",
   "execution_count": 2,
   "metadata": {},
   "outputs": [],
   "source": [
    "def find_color(line_color_map, imp):\n",
    "    for i, c in line_color_map:\n",
    "        if i == imp:\n",
    "            return c \n",
    "\n",
    "def vis_bench_speedup_single_run(datetime, save_pdf: bool = False):\n",
    "    datasets = [(\"human\", \"human\"), (\"human\", \"turkey\") , (\"human\", \"corn\"), (\"turkey\", \"turkey\"), (\"turkey\", \"corn\"), (\"corn\", \"corn\"), (\"ecoli\", \"ecoli\")]\n",
    "\n",
    "    df_list = []\n",
    "    for primary, secondary in datasets:\n",
    "        for date, time in datetime: \n",
    "            try:\n",
    "                df_tmp = pd.read_csv(\"csv_results/\" + date + \"/\" + primary + \"_\" + secondary + \"_\" + date + \"_\" + time + \".csv\")\n",
    "                df_tmp['datasets'] = primary.title() + \" to \" + secondary.title() \n",
    "                df_list.append(df_tmp)\n",
    "            except:\n",
    "                print(\"Couldn't read \" + primary + \" to \" + secondary + \" for \" + date + \" \" + time)\n",
    "\n",
    "    df = pd.concat(df_list)\n",
    "\n",
    "    df['elapsed_time_mean'] = df.groupby(['datasets', 'implementation', 'vlmc_size'])['elapsed_time'].transform('mean')\n",
    "\n",
    "    for dataset in df.datasets.unique():\n",
    "        for s in [\"small\", \"medium\", \"large\"]:\n",
    "            df_pst_time = df[(df.datasets==dataset) & (df.vlmc_size==s) & (df.implementation==\"PstClassifierSeqan\")]['elapsed_time_mean'].iloc[0]\n",
    "            df.loc[(df.datasets==dataset) & (df.vlmc_size==s), 'speedup'] = df_pst_time / df[(df.datasets==dataset) & (df.vlmc_size==s)].elapsed_time_mean \n",
    "\n",
    "    df['implementation_mean'] = df.groupby(['implementation', 'vlmc_size'])['speedup'].transform('mean')\n",
    "    \n",
    "    df['datasets'] = df.datasets.apply(lambda x : x.replace(\"Ecoli\", \"Virus\"))\n",
    "    df['implementation'] = df.implementation.apply(lambda x : x.replace(\"sbs\", \"SBS\"))\n",
    "    df['implementation'] = df.implementation.apply(lambda x : x.replace(\"eytzinger\", \"Eytzinger\"))\n",
    "    df['implementation'] = df.implementation.apply(lambda x : x.replace(\"b-tree\", \"B-tree\"))\n",
    "    df['implementation'] = df.implementation.apply(lambda x : x.replace(\"sorted-vector\", \"Sorted vector\"))\n",
    "    df['implementation'] = df.implementation.apply(lambda x : x.replace(\"hashmap\", \"Hash map\"))\n",
    "    df['implementation'] = df.implementation.apply(lambda x : x.replace(\"veb\", \"vEB\"))\n",
    "\n",
    "    fig = make_subplots(rows=3, \n",
    "                        cols=3, shared_yaxes=False, shared_xaxes=True,\n",
    "                        column_widths=[0.7, 0.15, 0.15],\n",
    "                        x_title=\"\",\n",
    "                        y_title=\"Speedup\",\n",
    "                        subplot_titles=(\"Small\", \"Small\", \"Small\", \"Medium\", \"Medium\", \"Medium\", \"Large\", \"Large\", \"Large\"), \n",
    "                        horizontal_spacing= 0.08, vertical_spacing= 0.07) # specs=[[{}, {}],[{\"colspan\": 2}, None]])\n",
    "\n",
    "    marker_size = 12\n",
    "\n",
    "    df = df[df.implementation!=\"PstClassifierSeqan\"]\n",
    "    marker_symbols = ['circle', 'square', 'diamond', 'cross', 'x', 'pentagon', 'star', 'diamond-wide']\n",
    "    implementations = [\"Sorted vector\", \"SBS\", \"Hash map\", \"vEB\", \"Eytzinger\", \"B-tree\", \"PstClassifierSeqan\"] # ,\"sorted-search-ey\"]\n",
    "    line_color_map = list(zip(implementations, px.colors.qualitative.Plotly))\n",
    "    iterate_on = list(zip(implementations, marker_symbols))\n",
    "\n",
    "    for imp, marker_symbol in iterate_on:\n",
    "        df_imp = df[df.implementation==imp]\n",
    "        df_eco = df_imp[df_imp.datasets==\"Virus to Virus\"]\n",
    "        df_imp = df_imp[df_imp.datasets!=\"Virus to Virus\"]\n",
    "        line_color = find_color(line_color_map, imp)\n",
    "        fig.add_trace(go.Scatter(x=df_imp[df_imp.vlmc_size=='small']['datasets'], y=df_imp[df_imp.vlmc_size=='small']['speedup'], line_color=line_color, name=imp, marker_symbol=marker_symbol, mode='markers', marker_size=marker_size), 1, 1)\n",
    "        fig.add_trace(go.Scatter(x=df_imp[df_imp.vlmc_size=='medium']['datasets'], y=df_imp[df_imp.vlmc_size=='medium']['speedup'], line_color=line_color, name=imp, marker_symbol=marker_symbol, showlegend = False, mode='markers', marker_size=marker_size), 2, 1)\n",
    "        fig.add_trace(go.Scatter(x=df_imp[df_imp.vlmc_size=='large']['datasets'], y=df_imp[df_imp.vlmc_size=='large']['speedup'], line_color=line_color, name=imp, marker_symbol=marker_symbol, showlegend = False, mode='markers', marker_size=marker_size), 3, 1)\n",
    "\n",
    "        fig.add_trace(go.Scatter(x=df_eco[df_eco.vlmc_size=='small']['datasets'], y=df_eco[df_eco.vlmc_size=='small']['speedup'], line_color=line_color, name=imp, marker_symbol=marker_symbol, showlegend = False, mode='markers', marker_size=marker_size), 1, 2)\n",
    "        fig.add_trace(go.Scatter(x=df_eco[df_eco.vlmc_size=='medium']['datasets'], y=df_eco[df_eco.vlmc_size=='medium']['speedup'], line_color=line_color, name=imp, marker_symbol=marker_symbol, showlegend = False, mode='markers', marker_size=marker_size), 2, 2)\n",
    "        fig.add_trace(go.Scatter(x=df_eco[df_eco.vlmc_size=='large']['datasets'], y=df_eco[df_eco.vlmc_size=='large']['speedup'], line_color=line_color, name=imp, marker_symbol=marker_symbol, showlegend = False, mode='markers', marker_size=marker_size), 3, 2)\n",
    "\n",
    "        fig.add_trace(go.Scatter(x=[\"All Data Sets\"], y=df_imp[df_imp.vlmc_size=='small']['implementation_mean'], line_color=line_color, name=imp, marker_symbol=marker_symbol, mode='markers', showlegend=False, marker_size=marker_size), 1, 3)\n",
    "        fig.add_trace(go.Scatter(x=[\"All Data Sets\"], y=df_imp[df_imp.vlmc_size=='medium']['implementation_mean'], line_color=line_color, name=imp, marker_symbol=marker_symbol, showlegend = False, mode='markers', marker_size=marker_size), 2, 3)\n",
    "        fig.add_trace(go.Scatter(x=[\"All Data Sets\"], y=df_imp[df_imp.vlmc_size=='large']['implementation_mean'], line_color=line_color, name=imp, marker_symbol=marker_symbol, showlegend = False, mode='markers', marker_size=marker_size), 3, 3)\n",
    "\n",
    "    fig.update_layout(legend=dict(\n",
    "        orientation=\"h\",\n",
    "        yanchor=\"bottom\",\n",
    "        font_size=24,\n",
    "        y=1.08),\n",
    "        margin=dict(l=100, r=60, t=60, b=80),\n",
    "        height=900,\n",
    "        width=900,\n",
    "        plot_bgcolor=\"white\")\n",
    "    fig.update_xaxes(gridcolor='LightGrey', tickfont_size=20, showline=True, linewidth=1, linecolor='LightGrey')\n",
    "    fig.update_yaxes(gridcolor='LightGrey', tickfont_size=20, showline=True, linewidth=1, linecolor='LightGrey')\n",
    "    for i in range(0, len(fig.layout.annotations)):\n",
    "        fig.layout.annotations[i][\"font\"] = {'size': 24}\n",
    "\n",
    "    if save_pdf:\n",
    "        fig.write_image(\"images/Single_run_\" + date + \"_\" + time + \"_elapsed_time.pdf\") \n",
    "    fig.show()"
   ]
  },
  {
   "cell_type": "code",
   "execution_count": null,
   "metadata": {},
   "outputs": [],
   "source": [
    "def find_color(line_color_map, imp):\n",
    "    for i, c in line_color_map:\n",
    "        if i == imp:\n",
    "            return c \n",
    "\n",
    "def vis_bench_cache_misses_single_run(datetime, save_pdf: bool = False):\n",
    "    datasets = [(\"human\", \"human\"), (\"human\", \"turkey\") , (\"human\", \"corn\"), (\"turkey\", \"turkey\"), (\"turkey\", \"corn\"), (\"corn\", \"corn\"), (\"ecoli\", \"ecoli\")]\n",
    "\n",
    "    df_list = []\n",
    "    for primary, secondary in datasets:\n",
    "        for date, time in datetime: \n",
    "            try:\n",
    "                df_tmp = pd.read_csv(\"csv_results/\" + date + \"/\" + primary + \"_\" + secondary + \"_\" + date + \"_\" + time + \".csv\")\n",
    "                df_tmp['datasets'] = primary.title() + \" to \" + secondary.title() \n",
    "                df_list.append(df_tmp)\n",
    "            except:\n",
    "                print(\"Couldn't read \" + primary + \" to \" + secondary + \" for \" + date + \" \" + time)\n",
    "\n",
    "    df = pd.concat(df_list)\n",
    "\n",
    "    df['cache_misses'] = df.groupby(['datasets', 'implementation', 'vlmc_size'])['cache_misses'].transform('mean')\n",
    "\n",
    "    df['datasets'] = df.datasets.apply(lambda x : x.replace(\"Ecoli\", \"Virus\"))\n",
    "    df['implementation'] = df.implementation.apply(lambda x : x.replace(\"sorted-search\", \"SBS\"))\n",
    "    df['implementation'] = df.implementation.apply(lambda x : x.replace(\"ey\", \"Eytzinger\"))\n",
    "    df['implementation'] = df.implementation.apply(lambda x : x.replace(\"alt-btree\", \"B-tree\"))\n",
    "    df['implementation'] = df.implementation.apply(lambda x : x.replace(\"sorted-vector\", \"Sorted vector\"))\n",
    "    df['implementation'] = df.implementation.apply(lambda x : x.replace(\"hashmap\", \"Hash map\"))\n",
    "    df['implementation'] = df.implementation.apply(lambda x : x.replace(\"veb\", \"vEB\"))\n",
    "\n",
    "    fig = make_subplots(rows=3, \n",
    "                        cols=2, shared_yaxes=False, shared_xaxes=True,\n",
    "                        column_widths=[0.8, 0.2],\n",
    "                        x_title=\"\",\n",
    "                        y_title=\"Speedup\",\n",
    "                        subplot_titles=(\"Small\", \"Small\", \"Medium\", \"Medium\", \"Large\", \"Large\"), \n",
    "                        horizontal_spacing= 0.08, vertical_spacing= 0.07) # specs=[[{}, {}],[{\"colspan\": 2}, None]])\n",
    "\n",
    "    marker_size = 12\n",
    "\n",
    "    marker_symbols = ['circle', 'square', 'diamond', 'cross', 'x', 'pentagon', 'star', 'diamond-wide']\n",
    "    implementations = [\"Sorted vector\", \"SBS\", \"Hash map\", \"vEB\", \"Eytzinger\", \"B-tree\", \"PstClassifierSeqan\"] # ,\"sorted-search-ey\"]\n",
    "    line_color_map = list(zip(implementations, px.colors.qualitative.Plotly))\n",
    "    iterate_on = list(zip(implementations, marker_symbols))\n",
    "\n",
    "    for imp, marker_symbol in iterate_on:\n",
    "        df_imp = df[df.implementation==imp]\n",
    "        df_eco = df_imp[df_imp.datasets==\"Virus to Virus\"]\n",
    "        df_imp = df_imp[df_imp.datasets!=\"Virus to Virus\"]\n",
    "        line_color = find_color(line_color_map, imp)\n",
    "        fig.add_trace(go.Scatter(x=df_imp[df_imp.vlmc_size=='small']['datasets'], y=df_imp[df_imp.vlmc_size=='small']['cache_misses'], line_color=line_color, name=imp, marker_symbol=marker_symbol, mode='markers', marker_size=marker_size), 1, 1)\n",
    "        fig.add_trace(go.Scatter(x=df_imp[df_imp.vlmc_size=='medium']['datasets'], y=df_imp[df_imp.vlmc_size=='medium']['cache_misses'], line_color=line_color, name=imp, marker_symbol=marker_symbol, showlegend = False, mode='markers', marker_size=marker_size), 2, 1)\n",
    "        fig.add_trace(go.Scatter(x=df_imp[df_imp.vlmc_size=='large']['datasets'], y=df_imp[df_imp.vlmc_size=='large']['cache_misses'], line_color=line_color, name=imp, marker_symbol=marker_symbol, showlegend = False, mode='markers', marker_size=marker_size), 3, 1)\n",
    "\n",
    "        fig.add_trace(go.Scatter(x=df_eco[df_eco.vlmc_size=='small']['datasets'], y=df_eco[df_eco.vlmc_size=='small']['cache_misses'], line_color=line_color, name=imp, marker_symbol=marker_symbol, showlegend = False, mode='markers', marker_size=marker_size), 1, 2)\n",
    "        fig.add_trace(go.Scatter(x=df_eco[df_eco.vlmc_size=='medium']['datasets'], y=df_eco[df_eco.vlmc_size=='medium']['cache_misses'], line_color=line_color, name=imp, marker_symbol=marker_symbol, showlegend = False, mode='markers', marker_size=marker_size), 2, 2)\n",
    "        fig.add_trace(go.Scatter(x=df_eco[df_eco.vlmc_size=='large']['datasets'], y=df_eco[df_eco.vlmc_size=='large']['cache_misses'], line_color=line_color, name=imp, marker_symbol=marker_symbol, showlegend = False, mode='markers', marker_size=marker_size), 3, 2)\n",
    "\n",
    "    fig.update_layout(legend=dict(\n",
    "        orientation=\"h\",\n",
    "        yanchor=\"bottom\",\n",
    "        font_size=24,\n",
    "        y=1.08),\n",
    "        margin=dict(l=100, r=60, t=60, b=80),\n",
    "        height=900,\n",
    "        width=900,\n",
    "        plot_bgcolor=\"white\")\n",
    "    fig.update_xaxes(gridcolor='LightGrey', tickfont_size=20, showline=True, linewidth=1, linecolor='LightGrey')\n",
    "    fig.update_yaxes(gridcolor='LightGrey', tickfont_size=20, showline=True, linewidth=1, linecolor='LightGrey')\n",
    "    for i in range(0, len(fig.layout.annotations)):\n",
    "        fig.layout.annotations[i][\"font\"] = {'size': 24}\n",
    "\n",
    "    if save_pdf:\n",
    "        fig.write_image(\"images/Single_run_\" + date + \"_\" + time + \"_cache_misses.pdf\") \n",
    "    fig.show()"
   ]
  },
  {
   "cell_type": "code",
   "execution_count": null,
   "metadata": {},
   "outputs": [],
   "source": [
    "def find_color(line_color_map, imp):\n",
    "    for i, c in line_color_map:\n",
    "        if i == imp:\n",
    "            return c \n",
    "        \n",
    "def ahmdals(date, time, species, to_pdf: bool = False):\n",
    "    df = pd.read_csv(f'csv_results/{date}/{species}_parallelization_{date}_{time}.csv')\n",
    "    df['implementation'] = df.implementation.apply(lambda x : x.replace(\"sorted-search\", \"SBS\"))\n",
    "    df['implementation'] = df.implementation.apply(lambda x : x.replace(\"ey\", \"Eytzinger\"))\n",
    "    df['implementation'] = df.implementation.apply(lambda x : x.replace(\"alt-btree\", \"B-tree\"))\n",
    "    df['implementation'] = df.implementation.apply(lambda x : x.replace(\"sorted-vector\", \"Sorted vector\"))\n",
    "    df['implementation'] = df.implementation.apply(lambda x : x.replace(\"hashmap\", \"Hashmap\"))\n",
    "    df['implementation'] = df.implementation.apply(lambda x : x.replace(\"veb\", \"vEB\"))\n",
    "    \n",
    "    size_vlmc = \"large\"\n",
    "    containers = [\"Sorted vector\", \"SBS\", \"Hashmap\"]#, \"vEB\", \"Eytzinger\", \"B-tree\", \"PstClassifierSeqan\"]\n",
    "    p=0.99\n",
    "\n",
    "    line_color_map = list(zip(containers, px.colors.qualitative.Plotly))\n",
    "    line_dashes = ['solid', 'dot', 'dash', 'longdash', 'dashdot', 'longdashdot']\n",
    "    iterate_on = zip(containers, line_dashes)\n",
    "\n",
    "    fig = go.Figure()\n",
    "    for container, line_dash in iterate_on:\n",
    "        time = df[(df.implementation==container) & (df.vlmc_size==size_vlmc)]['elapsed_time']\n",
    "        cores = df[(df.implementation==container) & (df.vlmc_size==size_vlmc)]['nr_cores_used']\n",
    "        cores = [str(x) for x in cores]\n",
    "        single_core_time = time.iloc[0]\n",
    "        speedup = single_core_time / time\n",
    "        line_color = find_color(line_color_map, container)\n",
    "        fig.add_trace(go.Scatter(mode='lines', x=cores, y=speedup, name=container, line_color=line_color, line_dash=line_dash))\n",
    "\n",
    "    cores = df[(df.implementation==container) & (df.vlmc_size==size_vlmc)]['nr_cores_used']\n",
    "    th_speedups = [1 / ( (1 - p) + (p / s)) for s in cores]\n",
    "    cores = [str(x) for x in cores]\n",
    "    fig.add_trace(go.Scatter(mode='lines', x=cores, y=th_speedups, line_color='#636EFA', name=\"Theoretical\"))\n",
    "    fig.update_layout(yaxis_tick0=0, yaxis_dtick=2, yaxis_title=\"Parallel speedup\", xaxis_title=\"Number of cores used\", yaxis_range=[0,25], xaxis_range=[0,len(cores)], font={'size': 20}, plot_bgcolor=\"white\", yaxis_gridcolor='LightGrey'\n",
    "    ,xaxis_gridcolor='LightGrey')\n",
    "    fig.update_layout(\n",
    "        autosize=False,\n",
    "        width=1000,\n",
    "        height=600)\n",
    "    fig.show()\n",
    "    if to_pdf:\n",
    "        fig.write_image(\"images/virus-parallel-to-ahmdals.pdf\")"
   ]
  },
  {
   "attachments": {},
   "cell_type": "markdown",
   "metadata": {},
   "source": [
    "# Speedup to cache misses"
   ]
  },
  {
   "cell_type": "code",
   "execution_count": null,
   "metadata": {},
   "outputs": [],
   "source": [
    "def find_color(line_color_map, imp):\n",
    "    for i, c in line_color_map:\n",
    "        if i == imp:\n",
    "            return c \n",
    "\n",
    "def vis_bench_speedup_to_cache_miss_single_run(datetime, save_pdf: bool = False):\n",
    "    datasets = [(\"human\", \"human\"), (\"human\", \"turkey\") , (\"human\", \"corn\"), (\"turkey\", \"turkey\"), (\"turkey\", \"corn\"), (\"corn\", \"corn\"), (\"ecoli\", \"ecoli\")]\n",
    "\n",
    "    df_list = []\n",
    "    for primary, secondary in datasets:\n",
    "        for date, time in datetime: \n",
    "            df_tmp = pd.read_csv(\"csv_results/\" + date + \"/\" + primary + \"_\" + secondary + \"_\" + date + \"_\" + time + \".csv\")\n",
    "            df_tmp['datasets'] = primary + \" to \" + secondary \n",
    "            df_list.append(df_tmp)\n",
    "\n",
    "    df = pd.concat(df_list)\n",
    "\n",
    "    df['elapsed_time_mean'] = df.groupby(['datasets', 'implementation', 'vlmc_size'])['elapsed_time'].transform('mean')\n",
    "    for dataset in df.datasets.unique():\n",
    "        for s in [\"small\", \"medium\", \"large\"]:\n",
    "            df_pst_time = df[(df.datasets==dataset) & (df.vlmc_size==s) & (df.implementation==\"PstClassifierSeqan\")]['elapsed_time_mean'].iloc[0]\n",
    "            df.loc[(df.datasets==dataset) & (df.vlmc_size==s), 'speedup'] = df_pst_time / df[(df.datasets==dataset) & (df.vlmc_size==s)].elapsed_time_mean \n",
    "\n",
    "    df['datasets'] = df.datasets.apply(lambda x : x.replace(\"ecoli\", \"virus\"))\n",
    "    df['implementation'] = df.implementation.apply(lambda x : x.replace(\"sorted-search\", \"SBS\"))\n",
    "    df['implementation'] = df.implementation.apply(lambda x : x.replace(\"ey\", \"Eytzinger\"))\n",
    "    df['implementation'] = df.implementation.apply(lambda x : x.replace(\"alt-btree\", \"B-tree\"))\n",
    "    df['implementation'] = df.implementation.apply(lambda x : x.replace(\"sorted-vector\", \"Sorted vector\"))\n",
    "    df['implementation'] = df.implementation.apply(lambda x : x.replace(\"hashmap\", \"Hashmap\"))\n",
    "    df['implementation'] = df.implementation.apply(lambda x : x.replace(\"veb\", \"vEB\"))\n",
    "\n",
    "    df.loc[(df.datasets!=\"virus to virus\") & (df.vlmc_size==\"medium\"), \"max_depth\"] = 10\n",
    "    df.loc[(df.datasets!=\"virus to virus\") & (df.vlmc_size==\"large\"), \"max_depth\"] = 15\n",
    "\n",
    "    fig = make_subplots(rows=1, \n",
    "                        cols=1, shared_yaxes=False, shared_xaxes=True,\n",
    "                        x_title=\"Cache misses (%)\",\n",
    "                        y_title=\"Speedup\", \n",
    "                        horizontal_spacing= 0.08, vertical_spacing= 0.07) # specs=[[{}, {}],[{\"colspan\": 2}, None]])\n",
    "\n",
    "    marker_size = 12\n",
    "\n",
    "    df = df[df.implementation!=\"PstClassifierSeqan\"]\n",
    "    marker_symbols = ['circle', 'square', 'diamond', 'cross', 'x', 'pentagon', 'star', 'diamond-wide']\n",
    "    implementations = [\"Sorted vector\", \"SBS\", \"Hashmap\"] # , \"vEB\", \"Eytzinger\", \"B-tree\", \"PstClassifierSeqan\"] # ,\"sorted-search-ey\"]\n",
    "    line_color_map = list(zip(implementations, px.colors.qualitative.Plotly))\n",
    "    iterate_on = list(zip(implementations, marker_symbols))\n",
    "\n",
    "    for imp, marker_symbol in iterate_on:\n",
    "        df_imp = df[df.implementation==imp]\n",
    "        line_color = find_color(line_color_map, imp)\n",
    "        fig.add_trace(go.Scatter(x=df_imp['cache_misses'], y=df_imp['speedup'], line_color=line_color, name=imp, marker_symbol=marker_symbol, mode='markers', marker_size=marker_size), 1, 1)\n",
    "        # fig.add_trace(go.Scatter(x=df_imp[df_imp.vlmc_size=='medium']['cache_misses'], y=df_imp[df_imp.vlmc_size=='medium']['speedup'], line_color=line_color, name=imp, marker_symbol=marker_symbol, showlegend = False, mode='markers', marker_size=marker_size), 2, 1)\n",
    "        # fig.add_trace(go.Scatter(x=df_imp[df_imp.vlmc_size=='large']['cache_misses'], y=df_imp[df_imp.vlmc_size=='large']['speedup'], line_color=line_color, name=imp, marker_symbol=marker_symbol, showlegend = False, mode='markers', marker_size=marker_size), 3, 1)\n",
    "\n",
    "    fig.update_layout(legend=dict(\n",
    "        orientation=\"h\",\n",
    "        yanchor=\"bottom\",\n",
    "        font_size=24,\n",
    "        y=1.08),\n",
    "        margin=dict(l=100, r=60, t=60, b=80),\n",
    "        height=600,\n",
    "        width=900,\n",
    "        plot_bgcolor=\"white\")\n",
    "    fig.update_xaxes(gridcolor='LightGrey', tickfont_size=20, showline=True, linewidth=1, linecolor='LightGrey')\n",
    "    fig.update_yaxes(gridcolor='LightGrey', tickfont_size=20, showline=True, linewidth=1, linecolor='LightGrey')\n",
    "    for i in range(0, len(fig.layout.annotations)):\n",
    "        fig.layout.annotations[i][\"font\"] = {'size': 24}\n",
    "\n",
    "    if save_pdf:\n",
    "        fig.write_image(\"images/Single_run_\" + date + \"_\" + time + \"_elapsed_time.pdf\") \n",
    "    fig.show()"
   ]
  },
  {
   "attachments": {},
   "cell_type": "markdown",
   "metadata": {},
   "source": [
    "# <b>PLOTS</b>"
   ]
  },
  {
   "cell_type": "code",
   "execution_count": null,
   "metadata": {},
   "outputs": [],
   "source": [
    "vis_bench_speedup_to_cache_miss_single_run([(\"05_11\", \"11_02\"), (\"05_11\", \"13_38\"), (\"05_11\", \"20_45\")], False)"
   ]
  },
  {
   "cell_type": "code",
   "execution_count": null,
   "metadata": {},
   "outputs": [],
   "source": [
    "vis_bench_speedup_single_run([(\"05_11\", \"11_02\"), (\"05_11\", \"13_38\"), (\"05_11\", \"20_45\"), (\"05_21\", \"14_16\")], True)\n",
    "vis_bench_cache_misses_single_run([(\"05_11\", \"11_02\"), (\"05_11\", \"13_38\"), (\"05_11\", \"20_45\"), (\"05_21\", \"14_16\")], True)"
   ]
  },
  {
   "cell_type": "code",
   "execution_count": null,
   "metadata": {},
   "outputs": [],
   "source": [
    "vis_bench_speedup_single_run([(\"05_11\", \"11_02\"), (\"05_11\", \"13_38\")], True)\n",
    "vis_bench_cache_misses_single_run([(\"05_11\", \"11_02\"), (\"05_11\", \"13_38\")], True)"
   ]
  },
  {
   "cell_type": "code",
   "execution_count": null,
   "metadata": {},
   "outputs": [],
   "source": [
    "ahmdals(\"05_15\", \"21_28\", \"ecoli\", False)"
   ]
  },
  {
   "cell_type": "code",
   "execution_count": 6,
   "metadata": {},
   "outputs": [
    {
     "data": {
      "application/vnd.plotly.v1+json": {
       "config": {
        "plotlyServerURL": "https://plot.ly"
       },
       "data": [
        {
         "line": {
          "color": "#636EFA"
         },
         "marker": {
          "size": 12,
          "symbol": "circle"
         },
         "mode": "markers",
         "name": "Sorted vector",
         "type": "scatter",
         "x": [
          "Human to Human",
          "Human to Turkey",
          "Human to Corn",
          "Turkey to Turkey",
          "Turkey to Corn",
          "Corn to Corn"
         ],
         "xaxis": "x",
         "y": [
          6.325132657983598,
          7.440176645784121,
          6.821609862218999,
          6.739875529899883,
          5.831399317406144,
          6.05667859560886
         ],
         "yaxis": "y"
        },
        {
         "line": {
          "color": "#636EFA"
         },
         "marker": {
          "size": 12,
          "symbol": "circle"
         },
         "mode": "markers",
         "name": "Sorted vector",
         "showlegend": false,
         "type": "scatter",
         "x": [
          "Human to Human",
          "Human to Turkey",
          "Human to Corn",
          "Turkey to Turkey",
          "Turkey to Corn",
          "Corn to Corn"
         ],
         "xaxis": "x4",
         "y": [
          7.2054613521250825,
          5.46256763853056,
          6.176059960320376,
          4.192621634867254,
          5.540819137919568,
          6.333311884692104
         ],
         "yaxis": "y4"
        },
        {
         "line": {
          "color": "#636EFA"
         },
         "marker": {
          "size": 12,
          "symbol": "circle"
         },
         "mode": "markers",
         "name": "Sorted vector",
         "showlegend": false,
         "type": "scatter",
         "x": [
          "Human to Human",
          "Human to Turkey",
          "Human to Corn",
          "Turkey to Turkey",
          "Turkey to Corn",
          "Corn to Corn"
         ],
         "xaxis": "x7",
         "y": [
          5.929656493773094,
          4.944741833508957,
          5.951795472287276,
          3.6861445061309257,
          5.190104829565177,
          6.325465050732808
         ],
         "yaxis": "y7"
        },
        {
         "line": {
          "color": "#636EFA"
         },
         "marker": {
          "size": 12,
          "symbol": "circle"
         },
         "mode": "markers",
         "name": "Sorted vector",
         "showlegend": false,
         "type": "scatter",
         "x": [
          "Virus to Virus"
         ],
         "xaxis": "x2",
         "y": [
          12.032162383700786
         ],
         "yaxis": "y2"
        },
        {
         "line": {
          "color": "#636EFA"
         },
         "marker": {
          "size": 12,
          "symbol": "circle"
         },
         "mode": "markers",
         "name": "Sorted vector",
         "showlegend": false,
         "type": "scatter",
         "x": [
          "Virus to Virus"
         ],
         "xaxis": "x5",
         "y": [
          11.887987562579553
         ],
         "yaxis": "y5"
        },
        {
         "line": {
          "color": "#636EFA"
         },
         "marker": {
          "size": 12,
          "symbol": "circle"
         },
         "mode": "markers",
         "name": "Sorted vector",
         "showlegend": false,
         "type": "scatter",
         "x": [
          "Virus to Virus"
         ],
         "xaxis": "x8",
         "y": [
          11.901259886879707
         ],
         "yaxis": "y8"
        },
        {
         "line": {
          "color": "#636EFA"
         },
         "marker": {
          "size": 12,
          "symbol": "circle"
         },
         "mode": "markers",
         "name": "Sorted vector",
         "showlegend": false,
         "type": "scatter",
         "x": [
          "All Data Sets"
         ],
         "xaxis": "x3",
         "y": [
          7.3210049989432,
          7.3210049989432,
          7.3210049989432,
          7.3210049989432,
          7.3210049989432,
          7.3210049989432
         ],
         "yaxis": "y3"
        },
        {
         "line": {
          "color": "#636EFA"
         },
         "marker": {
          "size": 12,
          "symbol": "circle"
         },
         "mode": "markers",
         "name": "Sorted vector",
         "showlegend": false,
         "type": "scatter",
         "x": [
          "All Data Sets"
         ],
         "xaxis": "x6",
         "y": [
          6.685547024433499,
          6.685547024433499,
          6.685547024433499,
          6.685547024433499,
          6.685547024433499,
          6.685547024433499
         ],
         "yaxis": "y6"
        },
        {
         "line": {
          "color": "#636EFA"
         },
         "marker": {
          "size": 12,
          "symbol": "circle"
         },
         "mode": "markers",
         "name": "Sorted vector",
         "showlegend": false,
         "type": "scatter",
         "x": [
          "All Data Sets"
         ],
         "xaxis": "x9",
         "y": [
          6.275595438982563,
          6.275595438982563,
          6.275595438982563,
          6.275595438982563,
          6.275595438982563,
          6.275595438982563
         ],
         "yaxis": "y9"
        },
        {
         "line": {
          "color": "#EF553B"
         },
         "marker": {
          "size": 12,
          "symbol": "square"
         },
         "mode": "markers",
         "name": "SBS",
         "type": "scatter",
         "x": [
          "Human to Human",
          "Human to Turkey",
          "Human to Corn",
          "Turkey to Turkey",
          "Turkey to Corn",
          "Corn to Corn"
         ],
         "xaxis": "x",
         "y": [
          7.028301886792453,
          6.782922147839519,
          6.711615296803653,
          6.777777777777778,
          5.5770988379684034,
          5.666968325791855
         ],
         "yaxis": "y"
        },
        {
         "line": {
          "color": "#EF553B"
         },
         "marker": {
          "size": 12,
          "symbol": "square"
         },
         "mode": "markers",
         "name": "SBS",
         "showlegend": false,
         "type": "scatter",
         "x": [
          "Human to Human",
          "Human to Turkey",
          "Human to Corn",
          "Turkey to Turkey",
          "Turkey to Corn",
          "Corn to Corn"
         ],
         "xaxis": "x4",
         "y": [
          7.659176029962547,
          5.470623878173981,
          6.2649075730471075,
          4.513353223693786,
          5.445980016808292,
          6.422158423593892
         ],
         "yaxis": "y4"
        },
        {
         "line": {
          "color": "#EF553B"
         },
         "marker": {
          "size": 12,
          "symbol": "square"
         },
         "mode": "markers",
         "name": "SBS",
         "showlegend": false,
         "type": "scatter",
         "x": [
          "Human to Human",
          "Human to Turkey",
          "Human to Corn",
          "Turkey to Turkey",
          "Turkey to Corn",
          "Corn to Corn"
         ],
         "xaxis": "x7",
         "y": [
          6.107627768505571,
          4.90445194168872,
          5.907638068302888,
          4.032038446135362,
          5.1080693283531104,
          6.404163337518548
         ],
         "yaxis": "y7"
        },
        {
         "line": {
          "color": "#EF553B"
         },
         "marker": {
          "size": 12,
          "symbol": "square"
         },
         "mode": "markers",
         "name": "SBS",
         "showlegend": false,
         "type": "scatter",
         "x": [
          "Virus to Virus"
         ],
         "xaxis": "x2",
         "y": [
          13.637364952877174
         ],
         "yaxis": "y2"
        },
        {
         "line": {
          "color": "#EF553B"
         },
         "marker": {
          "size": 12,
          "symbol": "square"
         },
         "mode": "markers",
         "name": "SBS",
         "showlegend": false,
         "type": "scatter",
         "x": [
          "Virus to Virus"
         ],
         "xaxis": "x5",
         "y": [
          14.026689875253844
         ],
         "yaxis": "y5"
        },
        {
         "line": {
          "color": "#EF553B"
         },
         "marker": {
          "size": 12,
          "symbol": "square"
         },
         "mode": "markers",
         "name": "SBS",
         "showlegend": false,
         "type": "scatter",
         "x": [
          "Virus to Virus"
         ],
         "xaxis": "x8",
         "y": [
          14.569893940333685
         ],
         "yaxis": "y8"
        },
        {
         "line": {
          "color": "#EF553B"
         },
         "marker": {
          "size": 12,
          "symbol": "square"
         },
         "mode": "markers",
         "name": "SBS",
         "showlegend": false,
         "type": "scatter",
         "x": [
          "All Data Sets"
         ],
         "xaxis": "x3",
         "y": [
          7.454578460835833,
          7.454578460835833,
          7.454578460835833,
          7.454578460835833,
          7.454578460835833,
          7.454578460835833
         ],
         "yaxis": "y3"
        },
        {
         "line": {
          "color": "#EF553B"
         },
         "marker": {
          "size": 12,
          "symbol": "square"
         },
         "mode": "markers",
         "name": "SBS",
         "showlegend": false,
         "type": "scatter",
         "x": [
          "All Data Sets"
         ],
         "xaxis": "x6",
         "y": [
          7.114698431504778,
          7.114698431504778,
          7.114698431504778,
          7.114698431504778,
          7.114698431504778,
          7.114698431504778
         ],
         "yaxis": "y6"
        },
        {
         "line": {
          "color": "#EF553B"
         },
         "marker": {
          "size": 12,
          "symbol": "square"
         },
         "mode": "markers",
         "name": "SBS",
         "showlegend": false,
         "type": "scatter",
         "x": [
          "All Data Sets"
         ],
         "xaxis": "x9",
         "y": [
          6.719126118691126,
          6.719126118691126,
          6.719126118691126,
          6.719126118691126,
          6.719126118691126,
          6.719126118691126
         ],
         "yaxis": "y9"
        },
        {
         "line": {
          "color": "#00CC96"
         },
         "marker": {
          "size": 12,
          "symbol": "diamond"
         },
         "mode": "markers",
         "name": "Hash map",
         "type": "scatter",
         "x": [
          "Human to Human",
          "Human to Turkey",
          "Human to Corn",
          "Turkey to Turkey",
          "Turkey to Corn",
          "Corn to Corn"
         ],
         "xaxis": "x",
         "y": [
          7.805691153708774,
          8.014270700813096,
          7.83981998499875,
          7.738310982239942,
          5.639688407710589,
          6.759499136442141
         ],
         "yaxis": "y"
        },
        {
         "line": {
          "color": "#00CC96"
         },
         "marker": {
          "size": 12,
          "symbol": "diamond"
         },
         "mode": "markers",
         "name": "Hash map",
         "showlegend": false,
         "type": "scatter",
         "x": [
          "Human to Human",
          "Human to Turkey",
          "Human to Corn",
          "Turkey to Turkey",
          "Turkey to Corn",
          "Corn to Corn"
         ],
         "xaxis": "x4",
         "y": [
          4.497800586510264,
          4.089619335760559,
          5.0794705989001026,
          3.9502638392188962,
          4.363254129758199,
          4.382474731733381
         ],
         "yaxis": "y4"
        },
        {
         "line": {
          "color": "#00CC96"
         },
         "marker": {
          "size": 12,
          "symbol": "diamond"
         },
         "mode": "markers",
         "name": "Hash map",
         "showlegend": false,
         "type": "scatter",
         "x": [
          "Human to Human",
          "Human to Turkey",
          "Human to Corn",
          "Turkey to Turkey",
          "Turkey to Corn",
          "Corn to Corn"
         ],
         "xaxis": "x7",
         "y": [
          3.692958082607436,
          3.8798674454138364,
          4.347956259534366,
          3.4015602924012533,
          4.001641479472585,
          3.9106634418682455
         ],
         "yaxis": "y7"
        },
        {
         "line": {
          "color": "#00CC96"
         },
         "marker": {
          "size": 12,
          "symbol": "diamond"
         },
         "mode": "markers",
         "name": "Hash map",
         "showlegend": false,
         "type": "scatter",
         "x": [
          "Virus to Virus"
         ],
         "xaxis": "x2",
         "y": [
          16.268666948503785
         ],
         "yaxis": "y2"
        },
        {
         "line": {
          "color": "#00CC96"
         },
         "marker": {
          "size": 12,
          "symbol": "diamond"
         },
         "mode": "markers",
         "name": "Hash map",
         "showlegend": false,
         "type": "scatter",
         "x": [
          "Virus to Virus"
         ],
         "xaxis": "x5",
         "y": [
          16.809093571200304
         ],
         "yaxis": "y5"
        },
        {
         "line": {
          "color": "#00CC96"
         },
         "marker": {
          "size": 12,
          "symbol": "diamond"
         },
         "mode": "markers",
         "name": "Hash map",
         "showlegend": false,
         "type": "scatter",
         "x": [
          "Virus to Virus"
         ],
         "xaxis": "x8",
         "y": [
          15.862035436473636
         ],
         "yaxis": "y8"
        },
        {
         "line": {
          "color": "#00CC96"
         },
         "marker": {
          "size": 12,
          "symbol": "diamond"
         },
         "mode": "markers",
         "name": "Hash map",
         "showlegend": false,
         "type": "scatter",
         "x": [
          "All Data Sets"
         ],
         "xaxis": "x3",
         "y": [
          8.580849616345297,
          8.580849616345297,
          8.580849616345297,
          8.580849616345297,
          8.580849616345297,
          8.580849616345297
         ],
         "yaxis": "y3"
        },
        {
         "line": {
          "color": "#00CC96"
         },
         "marker": {
          "size": 12,
          "symbol": "diamond"
         },
         "mode": "markers",
         "name": "Hash map",
         "showlegend": false,
         "type": "scatter",
         "x": [
          "All Data Sets"
         ],
         "xaxis": "x6",
         "y": [
          6.167425256154529,
          6.167425256154529,
          6.167425256154529,
          6.167425256154529,
          6.167425256154529,
          6.167425256154529
         ],
         "yaxis": "y6"
        },
        {
         "line": {
          "color": "#00CC96"
         },
         "marker": {
          "size": 12,
          "symbol": "diamond"
         },
         "mode": "markers",
         "name": "Hash map",
         "showlegend": false,
         "type": "scatter",
         "x": [
          "All Data Sets"
         ],
         "xaxis": "x9",
         "y": [
          5.585240348253052,
          5.585240348253052,
          5.585240348253052,
          5.585240348253052,
          5.585240348253052,
          5.585240348253052
         ],
         "yaxis": "y9"
        },
        {
         "line": {
          "color": "#AB63FA"
         },
         "marker": {
          "size": 12,
          "symbol": "cross"
         },
         "mode": "markers",
         "name": "vEB",
         "type": "scatter",
         "x": [
          "Human to Human",
          "Human to Turkey",
          "Human to Corn",
          "Turkey to Turkey",
          "Turkey to Corn",
          "Corn to Corn"
         ],
         "xaxis": "x",
         "y": [
          4.07546700649613,
          3.9587431693989066,
          4.668949771689498,
          3.2353386876799517,
          3.374945680085332,
          4.661307131159743
         ],
         "yaxis": "y"
        },
        {
         "line": {
          "color": "#AB63FA"
         },
         "marker": {
          "size": 12,
          "symbol": "cross"
         },
         "mode": "markers",
         "name": "vEB",
         "showlegend": false,
         "type": "scatter",
         "x": [
          "Human to Human",
          "Human to Turkey",
          "Human to Corn",
          "Turkey to Turkey",
          "Turkey to Corn",
          "Corn to Corn"
         ],
         "xaxis": "x4",
         "y": [
          4.430802563871085,
          3.3207261724659607,
          4.492490245336469,
          3.3162678786258524,
          3.897941451677583,
          4.326227418575007
         ],
         "yaxis": "y4"
        },
        {
         "line": {
          "color": "#AB63FA"
         },
         "marker": {
          "size": 12,
          "symbol": "cross"
         },
         "mode": "markers",
         "name": "vEB",
         "showlegend": false,
         "type": "scatter",
         "x": [
          "Human to Human",
          "Human to Turkey",
          "Human to Corn",
          "Turkey to Turkey",
          "Turkey to Corn",
          "Corn to Corn"
         ],
         "xaxis": "x7",
         "y": [
          4.0486647106094305,
          3.3245671210360754,
          4.802034373351598,
          3.2033274713069235,
          4.158492944950217,
          4.5792512290946785
         ],
         "yaxis": "y7"
        },
        {
         "line": {
          "color": "#AB63FA"
         },
         "marker": {
          "size": 12,
          "symbol": "cross"
         },
         "mode": "markers",
         "name": "vEB",
         "showlegend": false,
         "type": "scatter",
         "x": [
          "Virus to Virus"
         ],
         "xaxis": "x2",
         "y": [
          5.382972288382291
         ],
         "yaxis": "y2"
        },
        {
         "line": {
          "color": "#AB63FA"
         },
         "marker": {
          "size": 12,
          "symbol": "cross"
         },
         "mode": "markers",
         "name": "vEB",
         "showlegend": false,
         "type": "scatter",
         "x": [
          "Virus to Virus"
         ],
         "xaxis": "x5",
         "y": [
          4.8017754078510615
         ],
         "yaxis": "y5"
        },
        {
         "line": {
          "color": "#AB63FA"
         },
         "marker": {
          "size": 12,
          "symbol": "cross"
         },
         "mode": "markers",
         "name": "vEB",
         "showlegend": false,
         "type": "scatter",
         "x": [
          "Virus to Virus"
         ],
         "xaxis": "x8",
         "y": [
          4.313099933167353
         ],
         "yaxis": "y8"
        },
        {
         "line": {
          "color": "#AB63FA"
         },
         "marker": {
          "size": 12,
          "symbol": "cross"
         },
         "mode": "markers",
         "name": "vEB",
         "showlegend": false,
         "type": "scatter",
         "x": [
          "All Data Sets"
         ],
         "xaxis": "x3",
         "y": [
          4.193960533555979,
          4.193960533555979,
          4.193960533555979,
          4.193960533555979,
          4.193960533555979,
          4.193960533555979
         ],
         "yaxis": "y3"
        },
        {
         "line": {
          "color": "#AB63FA"
         },
         "marker": {
          "size": 12,
          "symbol": "cross"
         },
         "mode": "markers",
         "name": "vEB",
         "showlegend": false,
         "type": "scatter",
         "x": [
          "All Data Sets"
         ],
         "xaxis": "x6",
         "y": [
          4.0837473054861455,
          4.0837473054861455,
          4.0837473054861455,
          4.0837473054861455,
          4.0837473054861455,
          4.0837473054861455
         ],
         "yaxis": "y6"
        },
        {
         "line": {
          "color": "#AB63FA"
         },
         "marker": {
          "size": 12,
          "symbol": "cross"
         },
         "mode": "markers",
         "name": "vEB",
         "showlegend": false,
         "type": "scatter",
         "x": [
          "All Data Sets"
         ],
         "xaxis": "x9",
         "y": [
          4.061348254788039,
          4.061348254788039,
          4.061348254788039,
          4.061348254788039,
          4.061348254788039,
          4.061348254788039
         ],
         "yaxis": "y9"
        },
        {
         "line": {
          "color": "#FFA15A"
         },
         "marker": {
          "size": 12,
          "symbol": "x"
         },
         "mode": "markers",
         "name": "Eytzinger",
         "type": "scatter",
         "x": [
          "Human to Human",
          "Human to Turkey",
          "Human to Corn",
          "Turkey to Turkey",
          "Turkey to Corn",
          "Corn to Corn"
         ],
         "xaxis": "x",
         "y": [
          4.892172225953287,
          4.845981470952205,
          5.249734918243205,
          4.761070404587448,
          4.772359086084577,
          5.429165944165076
         ],
         "yaxis": "y"
        },
        {
         "line": {
          "color": "#FFA15A"
         },
         "marker": {
          "size": 12,
          "symbol": "x"
         },
         "mode": "markers",
         "name": "Eytzinger",
         "showlegend": false,
         "type": "scatter",
         "x": [
          "Human to Human",
          "Human to Turkey",
          "Human to Corn",
          "Turkey to Turkey",
          "Turkey to Corn",
          "Corn to Corn"
         ],
         "xaxis": "x4",
         "y": [
          3.489016847941992,
          3.010632943249025,
          3.9408289572393094,
          3.1661902087906477,
          3.8610393909301552,
          4.103254638913091
         ],
         "yaxis": "y4"
        },
        {
         "line": {
          "color": "#FFA15A"
         },
         "marker": {
          "size": 12,
          "symbol": "x"
         },
         "mode": "markers",
         "name": "Eytzinger",
         "showlegend": false,
         "type": "scatter",
         "x": [
          "Human to Human",
          "Human to Turkey",
          "Human to Corn",
          "Turkey to Turkey",
          "Turkey to Corn",
          "Corn to Corn"
         ],
         "xaxis": "x7",
         "y": [
          3.012487137414134,
          2.9983642590604718,
          4.021122860684054,
          2.976936723832052,
          4.017986707035239,
          4.058033252266995
         ],
         "yaxis": "y7"
        },
        {
         "line": {
          "color": "#FFA15A"
         },
         "marker": {
          "size": 12,
          "symbol": "x"
         },
         "mode": "markers",
         "name": "Eytzinger",
         "showlegend": false,
         "type": "scatter",
         "x": [
          "Virus to Virus"
         ],
         "xaxis": "x2",
         "y": [
          8.071167534616428
         ],
         "yaxis": "y2"
        },
        {
         "line": {
          "color": "#FFA15A"
         },
         "marker": {
          "size": 12,
          "symbol": "x"
         },
         "mode": "markers",
         "name": "Eytzinger",
         "showlegend": false,
         "type": "scatter",
         "x": [
          "Virus to Virus"
         ],
         "xaxis": "x5",
         "y": [
          7.6951329248361
         ],
         "yaxis": "y5"
        },
        {
         "line": {
          "color": "#FFA15A"
         },
         "marker": {
          "size": 12,
          "symbol": "x"
         },
         "mode": "markers",
         "name": "Eytzinger",
         "showlegend": false,
         "type": "scatter",
         "x": [
          "Virus to Virus"
         ],
         "xaxis": "x8",
         "y": [
          7.139786514941521
         ],
         "yaxis": "y8"
        },
        {
         "line": {
          "color": "#FFA15A"
         },
         "marker": {
          "size": 12,
          "symbol": "x"
         },
         "mode": "markers",
         "name": "Eytzinger",
         "showlegend": false,
         "type": "scatter",
         "x": [
          "All Data Sets"
         ],
         "xaxis": "x3",
         "y": [
          5.431664512086032,
          5.431664512086032,
          5.431664512086032,
          5.431664512086032,
          5.431664512086032,
          5.431664512086032
         ],
         "yaxis": "y3"
        },
        {
         "line": {
          "color": "#FFA15A"
         },
         "marker": {
          "size": 12,
          "symbol": "x"
         },
         "mode": "markers",
         "name": "Eytzinger",
         "showlegend": false,
         "type": "scatter",
         "x": [
          "All Data Sets"
         ],
         "xaxis": "x6",
         "y": [
          4.180870844557189,
          4.180870844557189,
          4.180870844557189,
          4.180870844557189,
          4.180870844557189,
          4.180870844557189
         ],
         "yaxis": "y6"
        },
        {
         "line": {
          "color": "#FFA15A"
         },
         "marker": {
          "size": 12,
          "symbol": "x"
         },
         "mode": "markers",
         "name": "Eytzinger",
         "showlegend": false,
         "type": "scatter",
         "x": [
          "All Data Sets"
         ],
         "xaxis": "x9",
         "y": [
          4.032102493604924,
          4.032102493604924,
          4.032102493604924,
          4.032102493604924,
          4.032102493604924,
          4.032102493604924
         ],
         "yaxis": "y9"
        },
        {
         "line": {
          "color": "#19D3F3"
         },
         "marker": {
          "size": 12,
          "symbol": "pentagon"
         },
         "mode": "markers",
         "name": "B-tree",
         "type": "scatter",
         "x": [
          "Human to Human",
          "Human to Turkey",
          "Human to Corn",
          "Turkey to Turkey",
          "Turkey to Corn",
          "Corn to Corn"
         ],
         "xaxis": "x",
         "y": [
          3.943458646616541,
          4.4322422759253595,
          5.05997525684471,
          4.041373715521904,
          4.039625496500851,
          3.5380529973444825
         ],
         "yaxis": "y"
        },
        {
         "line": {
          "color": "#19D3F3"
         },
         "marker": {
          "size": 12,
          "symbol": "pentagon"
         },
         "mode": "markers",
         "name": "B-tree",
         "showlegend": false,
         "type": "scatter",
         "x": [
          "Human to Human",
          "Human to Turkey",
          "Human to Corn",
          "Turkey to Turkey",
          "Turkey to Corn",
          "Corn to Corn"
         ],
         "xaxis": "x4",
         "y": [
          3.460236886632826,
          2.7092628241422263,
          3.797325381765609,
          2.905681591923262,
          3.5524760918560028,
          4.009369017067905
         ],
         "yaxis": "y4"
        },
        {
         "line": {
          "color": "#19D3F3"
         },
         "marker": {
          "size": 12,
          "symbol": "pentagon"
         },
         "mode": "markers",
         "name": "B-tree",
         "showlegend": false,
         "type": "scatter",
         "x": [
          "Human to Human",
          "Human to Turkey",
          "Human to Corn",
          "Turkey to Turkey",
          "Turkey to Corn",
          "Corn to Corn"
         ],
         "xaxis": "x7",
         "y": [
          2.95512208429955,
          2.640631154828762,
          3.8154635305892652,
          2.7808383594389507,
          3.7052701139930613,
          3.9062459206140616
         ],
         "yaxis": "y7"
        },
        {
         "line": {
          "color": "#19D3F3"
         },
         "marker": {
          "size": 12,
          "symbol": "pentagon"
         },
         "mode": "markers",
         "name": "B-tree",
         "showlegend": false,
         "type": "scatter",
         "x": [
          "Virus to Virus"
         ],
         "xaxis": "x2",
         "y": [
          6.3300790454088744
         ],
         "yaxis": "y2"
        },
        {
         "line": {
          "color": "#19D3F3"
         },
         "marker": {
          "size": 12,
          "symbol": "pentagon"
         },
         "mode": "markers",
         "name": "B-tree",
         "showlegend": false,
         "type": "scatter",
         "x": [
          "Virus to Virus"
         ],
         "xaxis": "x5",
         "y": [
          5.8692252025118465
         ],
         "yaxis": "y5"
        },
        {
         "line": {
          "color": "#19D3F3"
         },
         "marker": {
          "size": 12,
          "symbol": "pentagon"
         },
         "mode": "markers",
         "name": "B-tree",
         "showlegend": false,
         "type": "scatter",
         "x": [
          "Virus to Virus"
         ],
         "xaxis": "x8",
         "y": [
          5.35274119309119
         ],
         "yaxis": "y8"
        },
        {
         "line": {
          "color": "#19D3F3"
         },
         "marker": {
          "size": 12,
          "symbol": "pentagon"
         },
         "mode": "markers",
         "name": "B-tree",
         "showlegend": false,
         "type": "scatter",
         "x": [
          "All Data Sets"
         ],
         "xaxis": "x3",
         "y": [
          4.483543919166103,
          4.483543919166103,
          4.483543919166103,
          4.483543919166103,
          4.483543919166103,
          4.483543919166103
         ],
         "yaxis": "y3"
        },
        {
         "line": {
          "color": "#19D3F3"
         },
         "marker": {
          "size": 12,
          "symbol": "pentagon"
         },
         "mode": "markers",
         "name": "B-tree",
         "showlegend": false,
         "type": "scatter",
         "x": [
          "All Data Sets"
         ],
         "xaxis": "x6",
         "y": [
          3.757653856557097,
          3.757653856557097,
          3.757653856557097,
          3.757653856557097,
          3.757653856557097,
          3.757653856557097
         ],
         "yaxis": "y6"
        },
        {
         "line": {
          "color": "#19D3F3"
         },
         "marker": {
          "size": 12,
          "symbol": "pentagon"
         },
         "mode": "markers",
         "name": "B-tree",
         "showlegend": false,
         "type": "scatter",
         "x": [
          "All Data Sets"
         ],
         "xaxis": "x9",
         "y": [
          3.59375890812212,
          3.59375890812212,
          3.59375890812212,
          3.59375890812212,
          3.59375890812212,
          3.59375890812212
         ],
         "yaxis": "y9"
        },
        {
         "line": {
          "color": "#FF6692"
         },
         "marker": {
          "size": 12,
          "symbol": "star"
         },
         "mode": "markers",
         "name": "PstClassifierSeqan",
         "type": "scatter",
         "x": [],
         "xaxis": "x",
         "y": [],
         "yaxis": "y"
        },
        {
         "line": {
          "color": "#FF6692"
         },
         "marker": {
          "size": 12,
          "symbol": "star"
         },
         "mode": "markers",
         "name": "PstClassifierSeqan",
         "showlegend": false,
         "type": "scatter",
         "x": [],
         "xaxis": "x4",
         "y": [],
         "yaxis": "y4"
        },
        {
         "line": {
          "color": "#FF6692"
         },
         "marker": {
          "size": 12,
          "symbol": "star"
         },
         "mode": "markers",
         "name": "PstClassifierSeqan",
         "showlegend": false,
         "type": "scatter",
         "x": [],
         "xaxis": "x7",
         "y": [],
         "yaxis": "y7"
        },
        {
         "line": {
          "color": "#FF6692"
         },
         "marker": {
          "size": 12,
          "symbol": "star"
         },
         "mode": "markers",
         "name": "PstClassifierSeqan",
         "showlegend": false,
         "type": "scatter",
         "x": [],
         "xaxis": "x2",
         "y": [],
         "yaxis": "y2"
        },
        {
         "line": {
          "color": "#FF6692"
         },
         "marker": {
          "size": 12,
          "symbol": "star"
         },
         "mode": "markers",
         "name": "PstClassifierSeqan",
         "showlegend": false,
         "type": "scatter",
         "x": [],
         "xaxis": "x5",
         "y": [],
         "yaxis": "y5"
        },
        {
         "line": {
          "color": "#FF6692"
         },
         "marker": {
          "size": 12,
          "symbol": "star"
         },
         "mode": "markers",
         "name": "PstClassifierSeqan",
         "showlegend": false,
         "type": "scatter",
         "x": [],
         "xaxis": "x8",
         "y": [],
         "yaxis": "y8"
        },
        {
         "line": {
          "color": "#FF6692"
         },
         "marker": {
          "size": 12,
          "symbol": "star"
         },
         "mode": "markers",
         "name": "PstClassifierSeqan",
         "showlegend": false,
         "type": "scatter",
         "x": [
          "All Data Sets"
         ],
         "xaxis": "x3",
         "y": [],
         "yaxis": "y3"
        },
        {
         "line": {
          "color": "#FF6692"
         },
         "marker": {
          "size": 12,
          "symbol": "star"
         },
         "mode": "markers",
         "name": "PstClassifierSeqan",
         "showlegend": false,
         "type": "scatter",
         "x": [
          "All Data Sets"
         ],
         "xaxis": "x6",
         "y": [],
         "yaxis": "y6"
        },
        {
         "line": {
          "color": "#FF6692"
         },
         "marker": {
          "size": 12,
          "symbol": "star"
         },
         "mode": "markers",
         "name": "PstClassifierSeqan",
         "showlegend": false,
         "type": "scatter",
         "x": [
          "All Data Sets"
         ],
         "xaxis": "x9",
         "y": [],
         "yaxis": "y9"
        }
       ],
       "layout": {
        "annotations": [
         {
          "font": {
           "size": 24
          },
          "showarrow": false,
          "text": "Small",
          "x": 0.294,
          "xanchor": "center",
          "xref": "paper",
          "y": 1,
          "yanchor": "bottom",
          "yref": "paper"
         },
         {
          "font": {
           "size": 24
          },
          "showarrow": false,
          "text": "Small",
          "x": 0.7309999999999999,
          "xanchor": "center",
          "xref": "paper",
          "y": 1,
          "yanchor": "bottom",
          "yref": "paper"
         },
         {
          "font": {
           "size": 24
          },
          "showarrow": false,
          "text": "Small",
          "x": 0.937,
          "xanchor": "center",
          "xref": "paper",
          "y": 1,
          "yanchor": "bottom",
          "yref": "paper"
         },
         {
          "font": {
           "size": 24
          },
          "showarrow": false,
          "text": "Medium",
          "x": 0.294,
          "xanchor": "center",
          "xref": "paper",
          "y": 0.6433333333333333,
          "yanchor": "bottom",
          "yref": "paper"
         },
         {
          "font": {
           "size": 24
          },
          "showarrow": false,
          "text": "Medium",
          "x": 0.7309999999999999,
          "xanchor": "center",
          "xref": "paper",
          "y": 0.6433333333333333,
          "yanchor": "bottom",
          "yref": "paper"
         },
         {
          "font": {
           "size": 24
          },
          "showarrow": false,
          "text": "Medium",
          "x": 0.937,
          "xanchor": "center",
          "xref": "paper",
          "y": 0.6433333333333333,
          "yanchor": "bottom",
          "yref": "paper"
         },
         {
          "font": {
           "size": 24
          },
          "showarrow": false,
          "text": "Large",
          "x": 0.294,
          "xanchor": "center",
          "xref": "paper",
          "y": 0.2866666666666667,
          "yanchor": "bottom",
          "yref": "paper"
         },
         {
          "font": {
           "size": 24
          },
          "showarrow": false,
          "text": "Large",
          "x": 0.7309999999999999,
          "xanchor": "center",
          "xref": "paper",
          "y": 0.2866666666666667,
          "yanchor": "bottom",
          "yref": "paper"
         },
         {
          "font": {
           "size": 24
          },
          "showarrow": false,
          "text": "Large",
          "x": 0.937,
          "xanchor": "center",
          "xref": "paper",
          "y": 0.2866666666666667,
          "yanchor": "bottom",
          "yref": "paper"
         },
         {
          "font": {
           "size": 24
          },
          "showarrow": false,
          "text": "Speedup",
          "textangle": -90,
          "x": 0,
          "xanchor": "right",
          "xref": "paper",
          "xshift": -40,
          "y": 0.5,
          "yanchor": "middle",
          "yref": "paper"
         }
        ],
        "height": 900,
        "legend": {
         "font": {
          "size": 24
         },
         "orientation": "h",
         "y": 1.08,
         "yanchor": "bottom"
        },
        "margin": {
         "b": 80,
         "l": 100,
         "r": 60,
         "t": 60
        },
        "plot_bgcolor": "white",
        "template": {
         "data": {
          "bar": [
           {
            "error_x": {
             "color": "#2a3f5f"
            },
            "error_y": {
             "color": "#2a3f5f"
            },
            "marker": {
             "line": {
              "color": "#E5ECF6",
              "width": 0.5
             },
             "pattern": {
              "fillmode": "overlay",
              "size": 10,
              "solidity": 0.2
             }
            },
            "type": "bar"
           }
          ],
          "barpolar": [
           {
            "marker": {
             "line": {
              "color": "#E5ECF6",
              "width": 0.5
             },
             "pattern": {
              "fillmode": "overlay",
              "size": 10,
              "solidity": 0.2
             }
            },
            "type": "barpolar"
           }
          ],
          "carpet": [
           {
            "aaxis": {
             "endlinecolor": "#2a3f5f",
             "gridcolor": "white",
             "linecolor": "white",
             "minorgridcolor": "white",
             "startlinecolor": "#2a3f5f"
            },
            "baxis": {
             "endlinecolor": "#2a3f5f",
             "gridcolor": "white",
             "linecolor": "white",
             "minorgridcolor": "white",
             "startlinecolor": "#2a3f5f"
            },
            "type": "carpet"
           }
          ],
          "choropleth": [
           {
            "colorbar": {
             "outlinewidth": 0,
             "ticks": ""
            },
            "type": "choropleth"
           }
          ],
          "contour": [
           {
            "colorbar": {
             "outlinewidth": 0,
             "ticks": ""
            },
            "colorscale": [
             [
              0,
              "#0d0887"
             ],
             [
              0.1111111111111111,
              "#46039f"
             ],
             [
              0.2222222222222222,
              "#7201a8"
             ],
             [
              0.3333333333333333,
              "#9c179e"
             ],
             [
              0.4444444444444444,
              "#bd3786"
             ],
             [
              0.5555555555555556,
              "#d8576b"
             ],
             [
              0.6666666666666666,
              "#ed7953"
             ],
             [
              0.7777777777777778,
              "#fb9f3a"
             ],
             [
              0.8888888888888888,
              "#fdca26"
             ],
             [
              1,
              "#f0f921"
             ]
            ],
            "type": "contour"
           }
          ],
          "contourcarpet": [
           {
            "colorbar": {
             "outlinewidth": 0,
             "ticks": ""
            },
            "type": "contourcarpet"
           }
          ],
          "heatmap": [
           {
            "colorbar": {
             "outlinewidth": 0,
             "ticks": ""
            },
            "colorscale": [
             [
              0,
              "#0d0887"
             ],
             [
              0.1111111111111111,
              "#46039f"
             ],
             [
              0.2222222222222222,
              "#7201a8"
             ],
             [
              0.3333333333333333,
              "#9c179e"
             ],
             [
              0.4444444444444444,
              "#bd3786"
             ],
             [
              0.5555555555555556,
              "#d8576b"
             ],
             [
              0.6666666666666666,
              "#ed7953"
             ],
             [
              0.7777777777777778,
              "#fb9f3a"
             ],
             [
              0.8888888888888888,
              "#fdca26"
             ],
             [
              1,
              "#f0f921"
             ]
            ],
            "type": "heatmap"
           }
          ],
          "heatmapgl": [
           {
            "colorbar": {
             "outlinewidth": 0,
             "ticks": ""
            },
            "colorscale": [
             [
              0,
              "#0d0887"
             ],
             [
              0.1111111111111111,
              "#46039f"
             ],
             [
              0.2222222222222222,
              "#7201a8"
             ],
             [
              0.3333333333333333,
              "#9c179e"
             ],
             [
              0.4444444444444444,
              "#bd3786"
             ],
             [
              0.5555555555555556,
              "#d8576b"
             ],
             [
              0.6666666666666666,
              "#ed7953"
             ],
             [
              0.7777777777777778,
              "#fb9f3a"
             ],
             [
              0.8888888888888888,
              "#fdca26"
             ],
             [
              1,
              "#f0f921"
             ]
            ],
            "type": "heatmapgl"
           }
          ],
          "histogram": [
           {
            "marker": {
             "pattern": {
              "fillmode": "overlay",
              "size": 10,
              "solidity": 0.2
             }
            },
            "type": "histogram"
           }
          ],
          "histogram2d": [
           {
            "colorbar": {
             "outlinewidth": 0,
             "ticks": ""
            },
            "colorscale": [
             [
              0,
              "#0d0887"
             ],
             [
              0.1111111111111111,
              "#46039f"
             ],
             [
              0.2222222222222222,
              "#7201a8"
             ],
             [
              0.3333333333333333,
              "#9c179e"
             ],
             [
              0.4444444444444444,
              "#bd3786"
             ],
             [
              0.5555555555555556,
              "#d8576b"
             ],
             [
              0.6666666666666666,
              "#ed7953"
             ],
             [
              0.7777777777777778,
              "#fb9f3a"
             ],
             [
              0.8888888888888888,
              "#fdca26"
             ],
             [
              1,
              "#f0f921"
             ]
            ],
            "type": "histogram2d"
           }
          ],
          "histogram2dcontour": [
           {
            "colorbar": {
             "outlinewidth": 0,
             "ticks": ""
            },
            "colorscale": [
             [
              0,
              "#0d0887"
             ],
             [
              0.1111111111111111,
              "#46039f"
             ],
             [
              0.2222222222222222,
              "#7201a8"
             ],
             [
              0.3333333333333333,
              "#9c179e"
             ],
             [
              0.4444444444444444,
              "#bd3786"
             ],
             [
              0.5555555555555556,
              "#d8576b"
             ],
             [
              0.6666666666666666,
              "#ed7953"
             ],
             [
              0.7777777777777778,
              "#fb9f3a"
             ],
             [
              0.8888888888888888,
              "#fdca26"
             ],
             [
              1,
              "#f0f921"
             ]
            ],
            "type": "histogram2dcontour"
           }
          ],
          "mesh3d": [
           {
            "colorbar": {
             "outlinewidth": 0,
             "ticks": ""
            },
            "type": "mesh3d"
           }
          ],
          "parcoords": [
           {
            "line": {
             "colorbar": {
              "outlinewidth": 0,
              "ticks": ""
             }
            },
            "type": "parcoords"
           }
          ],
          "pie": [
           {
            "automargin": true,
            "type": "pie"
           }
          ],
          "scatter": [
           {
            "fillpattern": {
             "fillmode": "overlay",
             "size": 10,
             "solidity": 0.2
            },
            "type": "scatter"
           }
          ],
          "scatter3d": [
           {
            "line": {
             "colorbar": {
              "outlinewidth": 0,
              "ticks": ""
             }
            },
            "marker": {
             "colorbar": {
              "outlinewidth": 0,
              "ticks": ""
             }
            },
            "type": "scatter3d"
           }
          ],
          "scattercarpet": [
           {
            "marker": {
             "colorbar": {
              "outlinewidth": 0,
              "ticks": ""
             }
            },
            "type": "scattercarpet"
           }
          ],
          "scattergeo": [
           {
            "marker": {
             "colorbar": {
              "outlinewidth": 0,
              "ticks": ""
             }
            },
            "type": "scattergeo"
           }
          ],
          "scattergl": [
           {
            "marker": {
             "colorbar": {
              "outlinewidth": 0,
              "ticks": ""
             }
            },
            "type": "scattergl"
           }
          ],
          "scattermapbox": [
           {
            "marker": {
             "colorbar": {
              "outlinewidth": 0,
              "ticks": ""
             }
            },
            "type": "scattermapbox"
           }
          ],
          "scatterpolar": [
           {
            "marker": {
             "colorbar": {
              "outlinewidth": 0,
              "ticks": ""
             }
            },
            "type": "scatterpolar"
           }
          ],
          "scatterpolargl": [
           {
            "marker": {
             "colorbar": {
              "outlinewidth": 0,
              "ticks": ""
             }
            },
            "type": "scatterpolargl"
           }
          ],
          "scatterternary": [
           {
            "marker": {
             "colorbar": {
              "outlinewidth": 0,
              "ticks": ""
             }
            },
            "type": "scatterternary"
           }
          ],
          "surface": [
           {
            "colorbar": {
             "outlinewidth": 0,
             "ticks": ""
            },
            "colorscale": [
             [
              0,
              "#0d0887"
             ],
             [
              0.1111111111111111,
              "#46039f"
             ],
             [
              0.2222222222222222,
              "#7201a8"
             ],
             [
              0.3333333333333333,
              "#9c179e"
             ],
             [
              0.4444444444444444,
              "#bd3786"
             ],
             [
              0.5555555555555556,
              "#d8576b"
             ],
             [
              0.6666666666666666,
              "#ed7953"
             ],
             [
              0.7777777777777778,
              "#fb9f3a"
             ],
             [
              0.8888888888888888,
              "#fdca26"
             ],
             [
              1,
              "#f0f921"
             ]
            ],
            "type": "surface"
           }
          ],
          "table": [
           {
            "cells": {
             "fill": {
              "color": "#EBF0F8"
             },
             "line": {
              "color": "white"
             }
            },
            "header": {
             "fill": {
              "color": "#C8D4E3"
             },
             "line": {
              "color": "white"
             }
            },
            "type": "table"
           }
          ]
         },
         "layout": {
          "annotationdefaults": {
           "arrowcolor": "#2a3f5f",
           "arrowhead": 0,
           "arrowwidth": 1
          },
          "autotypenumbers": "strict",
          "coloraxis": {
           "colorbar": {
            "outlinewidth": 0,
            "ticks": ""
           }
          },
          "colorscale": {
           "diverging": [
            [
             0,
             "#8e0152"
            ],
            [
             0.1,
             "#c51b7d"
            ],
            [
             0.2,
             "#de77ae"
            ],
            [
             0.3,
             "#f1b6da"
            ],
            [
             0.4,
             "#fde0ef"
            ],
            [
             0.5,
             "#f7f7f7"
            ],
            [
             0.6,
             "#e6f5d0"
            ],
            [
             0.7,
             "#b8e186"
            ],
            [
             0.8,
             "#7fbc41"
            ],
            [
             0.9,
             "#4d9221"
            ],
            [
             1,
             "#276419"
            ]
           ],
           "sequential": [
            [
             0,
             "#0d0887"
            ],
            [
             0.1111111111111111,
             "#46039f"
            ],
            [
             0.2222222222222222,
             "#7201a8"
            ],
            [
             0.3333333333333333,
             "#9c179e"
            ],
            [
             0.4444444444444444,
             "#bd3786"
            ],
            [
             0.5555555555555556,
             "#d8576b"
            ],
            [
             0.6666666666666666,
             "#ed7953"
            ],
            [
             0.7777777777777778,
             "#fb9f3a"
            ],
            [
             0.8888888888888888,
             "#fdca26"
            ],
            [
             1,
             "#f0f921"
            ]
           ],
           "sequentialminus": [
            [
             0,
             "#0d0887"
            ],
            [
             0.1111111111111111,
             "#46039f"
            ],
            [
             0.2222222222222222,
             "#7201a8"
            ],
            [
             0.3333333333333333,
             "#9c179e"
            ],
            [
             0.4444444444444444,
             "#bd3786"
            ],
            [
             0.5555555555555556,
             "#d8576b"
            ],
            [
             0.6666666666666666,
             "#ed7953"
            ],
            [
             0.7777777777777778,
             "#fb9f3a"
            ],
            [
             0.8888888888888888,
             "#fdca26"
            ],
            [
             1,
             "#f0f921"
            ]
           ]
          },
          "colorway": [
           "#636efa",
           "#EF553B",
           "#00cc96",
           "#ab63fa",
           "#FFA15A",
           "#19d3f3",
           "#FF6692",
           "#B6E880",
           "#FF97FF",
           "#FECB52"
          ],
          "font": {
           "color": "#2a3f5f"
          },
          "geo": {
           "bgcolor": "white",
           "lakecolor": "white",
           "landcolor": "#E5ECF6",
           "showlakes": true,
           "showland": true,
           "subunitcolor": "white"
          },
          "hoverlabel": {
           "align": "left"
          },
          "hovermode": "closest",
          "mapbox": {
           "style": "light"
          },
          "paper_bgcolor": "white",
          "plot_bgcolor": "#E5ECF6",
          "polar": {
           "angularaxis": {
            "gridcolor": "white",
            "linecolor": "white",
            "ticks": ""
           },
           "bgcolor": "#E5ECF6",
           "radialaxis": {
            "gridcolor": "white",
            "linecolor": "white",
            "ticks": ""
           }
          },
          "scene": {
           "xaxis": {
            "backgroundcolor": "#E5ECF6",
            "gridcolor": "white",
            "gridwidth": 2,
            "linecolor": "white",
            "showbackground": true,
            "ticks": "",
            "zerolinecolor": "white"
           },
           "yaxis": {
            "backgroundcolor": "#E5ECF6",
            "gridcolor": "white",
            "gridwidth": 2,
            "linecolor": "white",
            "showbackground": true,
            "ticks": "",
            "zerolinecolor": "white"
           },
           "zaxis": {
            "backgroundcolor": "#E5ECF6",
            "gridcolor": "white",
            "gridwidth": 2,
            "linecolor": "white",
            "showbackground": true,
            "ticks": "",
            "zerolinecolor": "white"
           }
          },
          "shapedefaults": {
           "line": {
            "color": "#2a3f5f"
           }
          },
          "ternary": {
           "aaxis": {
            "gridcolor": "white",
            "linecolor": "white",
            "ticks": ""
           },
           "baxis": {
            "gridcolor": "white",
            "linecolor": "white",
            "ticks": ""
           },
           "bgcolor": "#E5ECF6",
           "caxis": {
            "gridcolor": "white",
            "linecolor": "white",
            "ticks": ""
           }
          },
          "title": {
           "x": 0.05
          },
          "xaxis": {
           "automargin": true,
           "gridcolor": "white",
           "linecolor": "white",
           "ticks": "",
           "title": {
            "standoff": 15
           },
           "zerolinecolor": "white",
           "zerolinewidth": 2
          },
          "yaxis": {
           "automargin": true,
           "gridcolor": "white",
           "linecolor": "white",
           "ticks": "",
           "title": {
            "standoff": 15
           },
           "zerolinecolor": "white",
           "zerolinewidth": 2
          }
         }
        },
        "width": 900,
        "xaxis": {
         "anchor": "y",
         "domain": [
          0,
          0.588
         ],
         "gridcolor": "LightGrey",
         "linecolor": "LightGrey",
         "linewidth": 1,
         "matches": "x7",
         "showline": true,
         "showticklabels": false,
         "tickfont": {
          "size": 20
         }
        },
        "xaxis2": {
         "anchor": "y2",
         "domain": [
          0.6679999999999999,
          0.7939999999999999
         ],
         "gridcolor": "LightGrey",
         "linecolor": "LightGrey",
         "linewidth": 1,
         "matches": "x8",
         "showline": true,
         "showticklabels": false,
         "tickfont": {
          "size": 20
         }
        },
        "xaxis3": {
         "anchor": "y3",
         "domain": [
          0.874,
          1
         ],
         "gridcolor": "LightGrey",
         "linecolor": "LightGrey",
         "linewidth": 1,
         "matches": "x9",
         "showline": true,
         "showticklabels": false,
         "tickfont": {
          "size": 20
         }
        },
        "xaxis4": {
         "anchor": "y4",
         "domain": [
          0,
          0.588
         ],
         "gridcolor": "LightGrey",
         "linecolor": "LightGrey",
         "linewidth": 1,
         "matches": "x7",
         "showline": true,
         "showticklabels": false,
         "tickfont": {
          "size": 20
         }
        },
        "xaxis5": {
         "anchor": "y5",
         "domain": [
          0.6679999999999999,
          0.7939999999999999
         ],
         "gridcolor": "LightGrey",
         "linecolor": "LightGrey",
         "linewidth": 1,
         "matches": "x8",
         "showline": true,
         "showticklabels": false,
         "tickfont": {
          "size": 20
         }
        },
        "xaxis6": {
         "anchor": "y6",
         "domain": [
          0.874,
          1
         ],
         "gridcolor": "LightGrey",
         "linecolor": "LightGrey",
         "linewidth": 1,
         "matches": "x9",
         "showline": true,
         "showticklabels": false,
         "tickfont": {
          "size": 20
         }
        },
        "xaxis7": {
         "anchor": "y7",
         "domain": [
          0,
          0.588
         ],
         "gridcolor": "LightGrey",
         "linecolor": "LightGrey",
         "linewidth": 1,
         "showline": true,
         "tickfont": {
          "size": 20
         }
        },
        "xaxis8": {
         "anchor": "y8",
         "domain": [
          0.6679999999999999,
          0.7939999999999999
         ],
         "gridcolor": "LightGrey",
         "linecolor": "LightGrey",
         "linewidth": 1,
         "showline": true,
         "tickfont": {
          "size": 20
         }
        },
        "xaxis9": {
         "anchor": "y9",
         "domain": [
          0.874,
          1
         ],
         "gridcolor": "LightGrey",
         "linecolor": "LightGrey",
         "linewidth": 1,
         "showline": true,
         "tickfont": {
          "size": 20
         }
        },
        "yaxis": {
         "anchor": "x",
         "domain": [
          0.7133333333333334,
          1
         ],
         "gridcolor": "LightGrey",
         "linecolor": "LightGrey",
         "linewidth": 1,
         "showline": true,
         "tickfont": {
          "size": 20
         }
        },
        "yaxis2": {
         "anchor": "x2",
         "domain": [
          0.7133333333333334,
          1
         ],
         "gridcolor": "LightGrey",
         "linecolor": "LightGrey",
         "linewidth": 1,
         "showline": true,
         "tickfont": {
          "size": 20
         }
        },
        "yaxis3": {
         "anchor": "x3",
         "domain": [
          0.7133333333333334,
          1
         ],
         "gridcolor": "LightGrey",
         "linecolor": "LightGrey",
         "linewidth": 1,
         "showline": true,
         "tickfont": {
          "size": 20
         }
        },
        "yaxis4": {
         "anchor": "x4",
         "domain": [
          0.3566666666666667,
          0.6433333333333333
         ],
         "gridcolor": "LightGrey",
         "linecolor": "LightGrey",
         "linewidth": 1,
         "showline": true,
         "tickfont": {
          "size": 20
         }
        },
        "yaxis5": {
         "anchor": "x5",
         "domain": [
          0.3566666666666667,
          0.6433333333333333
         ],
         "gridcolor": "LightGrey",
         "linecolor": "LightGrey",
         "linewidth": 1,
         "showline": true,
         "tickfont": {
          "size": 20
         }
        },
        "yaxis6": {
         "anchor": "x6",
         "domain": [
          0.3566666666666667,
          0.6433333333333333
         ],
         "gridcolor": "LightGrey",
         "linecolor": "LightGrey",
         "linewidth": 1,
         "showline": true,
         "tickfont": {
          "size": 20
         }
        },
        "yaxis7": {
         "anchor": "x7",
         "domain": [
          0,
          0.2866666666666667
         ],
         "gridcolor": "LightGrey",
         "linecolor": "LightGrey",
         "linewidth": 1,
         "showline": true,
         "tickfont": {
          "size": 20
         }
        },
        "yaxis8": {
         "anchor": "x8",
         "domain": [
          0,
          0.2866666666666667
         ],
         "gridcolor": "LightGrey",
         "linecolor": "LightGrey",
         "linewidth": 1,
         "showline": true,
         "tickfont": {
          "size": 20
         }
        },
        "yaxis9": {
         "anchor": "x9",
         "domain": [
          0,
          0.2866666666666667
         ],
         "gridcolor": "LightGrey",
         "linecolor": "LightGrey",
         "linewidth": 1,
         "showline": true,
         "tickfont": {
          "size": 20
         }
        }
       }
      }
     },
     "metadata": {},
     "output_type": "display_data"
    },
    {
     "data": {
      "application/vnd.plotly.v1+json": {
       "config": {
        "plotlyServerURL": "https://plot.ly"
       },
       "data": [
        {
         "line": {
          "color": "#636EFA"
         },
         "marker": {
          "size": 12,
          "symbol": "circle"
         },
         "mode": "markers",
         "name": "Sorted vector",
         "type": "scatter",
         "x": [
          "Human to Human",
          "Human to Turkey",
          "Human to Corn",
          "Turkey to Turkey",
          "Turkey to Corn",
          "Corn to Corn"
         ],
         "xaxis": "x",
         "y": [
          5.225530660377358,
          5.8624,
          4.5993322203672795,
          5.243032960814825,
          4.200187090739009,
          3.89607201309329
         ],
         "yaxis": "y"
        },
        {
         "line": {
          "color": "#636EFA"
         },
         "marker": {
          "size": 12,
          "symbol": "circle"
         },
         "mode": "markers",
         "name": "Sorted vector",
         "showlegend": false,
         "type": "scatter",
         "x": [
          "Human to Human",
          "Human to Turkey",
          "Human to Corn",
          "Turkey to Turkey",
          "Turkey to Corn",
          "Corn to Corn"
         ],
         "xaxis": "x4",
         "y": [
          6.716204969682559,
          5.207972564598824,
          6.290866121055626,
          4.696974847042828,
          5.993325632139649,
          6.0206429557557035
         ],
         "yaxis": "y4"
        },
        {
         "line": {
          "color": "#636EFA"
         },
         "marker": {
          "size": 12,
          "symbol": "circle"
         },
         "mode": "markers",
         "name": "Sorted vector",
         "showlegend": false,
         "type": "scatter",
         "x": [
          "Human to Human",
          "Human to Turkey",
          "Human to Corn",
          "Turkey to Turkey",
          "Turkey to Corn",
          "Corn to Corn"
         ],
         "xaxis": "x7",
         "y": [
          5.274984765386959,
          4.429106334573548,
          4.560184140452227,
          3.544255044688105,
          4.94729907773386,
          5.749586954960133
         ],
         "yaxis": "y7"
        },
        {
         "line": {
          "color": "#636EFA"
         },
         "marker": {
          "size": 12,
          "symbol": "circle"
         },
         "mode": "markers",
         "name": "Sorted vector",
         "showlegend": false,
         "type": "scatter",
         "x": [
          "Virus to Virus"
         ],
         "xaxis": "x2",
         "y": [
          15.518446142002723
         ],
         "yaxis": "y2"
        },
        {
         "line": {
          "color": "#636EFA"
         },
         "marker": {
          "size": 12,
          "symbol": "circle"
         },
         "mode": "markers",
         "name": "Sorted vector",
         "showlegend": false,
         "type": "scatter",
         "x": [
          "Virus to Virus"
         ],
         "xaxis": "x5",
         "y": [
          15.578483734480129
         ],
         "yaxis": "y5"
        },
        {
         "line": {
          "color": "#636EFA"
         },
         "marker": {
          "size": 12,
          "symbol": "circle"
         },
         "mode": "markers",
         "name": "Sorted vector",
         "showlegend": false,
         "type": "scatter",
         "x": [
          "Virus to Virus"
         ],
         "xaxis": "x8",
         "y": [
          15.634682893290162
         ],
         "yaxis": "y8"
        },
        {
         "line": {
          "color": "#636EFA"
         },
         "marker": {
          "size": 12,
          "symbol": "circle"
         },
         "mode": "markers",
         "name": "Sorted vector",
         "showlegend": false,
         "type": "scatter",
         "x": [
          "All Data Sets"
         ],
         "xaxis": "x3",
         "y": [
          6.363571583913497,
          6.363571583913497,
          6.363571583913497,
          6.363571583913497,
          6.363571583913497,
          6.363571583913497
         ],
         "yaxis": "y3"
        },
        {
         "line": {
          "color": "#636EFA"
         },
         "marker": {
          "size": 12,
          "symbol": "circle"
         },
         "mode": "markers",
         "name": "Sorted vector",
         "showlegend": false,
         "type": "scatter",
         "x": [
          "All Data Sets"
         ],
         "xaxis": "x6",
         "y": [
          7.2149244035364735,
          7.2149244035364735,
          7.2149244035364735,
          7.2149244035364735,
          7.2149244035364735,
          7.2149244035364735
         ],
         "yaxis": "y6"
        },
        {
         "line": {
          "color": "#636EFA"
         },
         "marker": {
          "size": 12,
          "symbol": "circle"
         },
         "mode": "markers",
         "name": "Sorted vector",
         "showlegend": false,
         "type": "scatter",
         "x": [
          "All Data Sets"
         ],
         "xaxis": "x9",
         "y": [
          6.305728458726428,
          6.305728458726428,
          6.305728458726428,
          6.305728458726428,
          6.305728458726428,
          6.305728458726428
         ],
         "yaxis": "y9"
        },
        {
         "line": {
          "color": "#EF553B"
         },
         "marker": {
          "size": 12,
          "symbol": "square"
         },
         "mode": "markers",
         "name": "SBS",
         "type": "scatter",
         "x": [
          "Human to Human",
          "Human to Turkey",
          "Human to Corn",
          "Turkey to Turkey",
          "Turkey to Corn",
          "Corn to Corn"
         ],
         "xaxis": "x",
         "y": [
          5.587076438140267,
          5.07760532150776,
          4.639023363502421,
          4.966233418196436,
          4.2900821708389065,
          3.839516129032259
         ],
         "yaxis": "y"
        },
        {
         "line": {
          "color": "#EF553B"
         },
         "marker": {
          "size": 12,
          "symbol": "square"
         },
         "mode": "markers",
         "name": "SBS",
         "showlegend": false,
         "type": "scatter",
         "x": [
          "Human to Human",
          "Human to Turkey",
          "Human to Corn",
          "Turkey to Turkey",
          "Turkey to Corn",
          "Corn to Corn"
         ],
         "xaxis": "x4",
         "y": [
          6.529126213592233,
          5.211865846613884,
          6.112304126889631,
          4.846640829139119,
          6.106345137835435,
          6.131186503088021
         ],
         "yaxis": "y4"
        },
        {
         "line": {
          "color": "#EF553B"
         },
         "marker": {
          "size": 12,
          "symbol": "square"
         },
         "mode": "markers",
         "name": "SBS",
         "showlegend": false,
         "type": "scatter",
         "x": [
          "Human to Human",
          "Human to Turkey",
          "Human to Corn",
          "Turkey to Turkey",
          "Turkey to Corn",
          "Corn to Corn"
         ],
         "xaxis": "x7",
         "y": [
          5.504200678785181,
          4.567940461205684,
          5.1967288998611325,
          3.8613302816760022,
          4.902379680731114,
          5.710820163390532
         ],
         "yaxis": "y7"
        },
        {
         "line": {
          "color": "#EF553B"
         },
         "marker": {
          "size": 12,
          "symbol": "square"
         },
         "mode": "markers",
         "name": "SBS",
         "showlegend": false,
         "type": "scatter",
         "x": [
          "Virus to Virus"
         ],
         "xaxis": "x2",
         "y": [
          14.967758148992194
         ],
         "yaxis": "y2"
        },
        {
         "line": {
          "color": "#EF553B"
         },
         "marker": {
          "size": 12,
          "symbol": "square"
         },
         "mode": "markers",
         "name": "SBS",
         "showlegend": false,
         "type": "scatter",
         "x": [
          "Virus to Virus"
         ],
         "xaxis": "x5",
         "y": [
          15.310337775656976
         ],
         "yaxis": "y5"
        },
        {
         "line": {
          "color": "#EF553B"
         },
         "marker": {
          "size": 12,
          "symbol": "square"
         },
         "mode": "markers",
         "name": "SBS",
         "showlegend": false,
         "type": "scatter",
         "x": [
          "Virus to Virus"
         ],
         "xaxis": "x8",
         "y": [
          16.036123917338738
         ],
         "yaxis": "y8"
        },
        {
         "line": {
          "color": "#EF553B"
         },
         "marker": {
          "size": 12,
          "symbol": "square"
         },
         "mode": "markers",
         "name": "SBS",
         "showlegend": false,
         "type": "scatter",
         "x": [
          "All Data Sets"
         ],
         "xaxis": "x3",
         "y": [
          6.19532785574432,
          6.19532785574432,
          6.19532785574432,
          6.19532785574432,
          6.19532785574432,
          6.19532785574432
         ],
         "yaxis": "y3"
        },
        {
         "line": {
          "color": "#EF553B"
         },
         "marker": {
          "size": 12,
          "symbol": "square"
         },
         "mode": "markers",
         "name": "SBS",
         "showlegend": false,
         "type": "scatter",
         "x": [
          "All Data Sets"
         ],
         "xaxis": "x6",
         "y": [
          7.178258061830756,
          7.178258061830756,
          7.178258061830756,
          7.178258061830756,
          7.178258061830756,
          7.178258061830756
         ],
         "yaxis": "y6"
        },
        {
         "line": {
          "color": "#EF553B"
         },
         "marker": {
          "size": 12,
          "symbol": "square"
         },
         "mode": "markers",
         "name": "SBS",
         "showlegend": false,
         "type": "scatter",
         "x": [
          "All Data Sets"
         ],
         "xaxis": "x9",
         "y": [
          6.539932011855484,
          6.539932011855484,
          6.539932011855484,
          6.539932011855484,
          6.539932011855484,
          6.539932011855484
         ],
         "yaxis": "y9"
        },
        {
         "line": {
          "color": "#00CC96"
         },
         "marker": {
          "size": 12,
          "symbol": "diamond"
         },
         "mode": "markers",
         "name": "Hash map",
         "type": "scatter",
         "x": [
          "Human to Human",
          "Human to Turkey",
          "Human to Corn",
          "Turkey to Turkey",
          "Turkey to Corn",
          "Corn to Corn"
         ],
         "xaxis": "x",
         "y": [
          5.646702771583306,
          5.544794188861985,
          4.650770204684533,
          5.179290106204584,
          4.31150374495871,
          3.9930109029913337
         ],
         "yaxis": "y"
        },
        {
         "line": {
          "color": "#00CC96"
         },
         "marker": {
          "size": 12,
          "symbol": "diamond"
         },
         "mode": "markers",
         "name": "Hash map",
         "showlegend": false,
         "type": "scatter",
         "x": [
          "Human to Human",
          "Human to Turkey",
          "Human to Corn",
          "Turkey to Turkey",
          "Turkey to Corn",
          "Corn to Corn"
         ],
         "xaxis": "x4",
         "y": [
          5.752077223851417,
          4.504023022258765,
          5.763894458256477,
          4.60207593250444,
          5.67363304981774,
          5.5366292338618255
         ],
         "yaxis": "y4"
        },
        {
         "line": {
          "color": "#00CC96"
         },
         "marker": {
          "size": 12,
          "symbol": "diamond"
         },
         "mode": "markers",
         "name": "Hash map",
         "showlegend": false,
         "type": "scatter",
         "x": [
          "Human to Human",
          "Human to Turkey",
          "Human to Corn",
          "Turkey to Turkey",
          "Turkey to Corn",
          "Corn to Corn"
         ],
         "xaxis": "x7",
         "y": [
          5.092660685394911,
          4.1583045945043935,
          4.491065872522002,
          3.9155883287050988,
          4.731115056411432,
          4.993605140842874
         ],
         "yaxis": "y7"
        },
        {
         "line": {
          "color": "#00CC96"
         },
         "marker": {
          "size": 12,
          "symbol": "diamond"
         },
         "mode": "markers",
         "name": "Hash map",
         "showlegend": false,
         "type": "scatter",
         "x": [
          "Virus to Virus"
         ],
         "xaxis": "x2",
         "y": [
          18.562119280351325
         ],
         "yaxis": "y2"
        },
        {
         "line": {
          "color": "#00CC96"
         },
         "marker": {
          "size": 12,
          "symbol": "diamond"
         },
         "mode": "markers",
         "name": "Hash map",
         "showlegend": false,
         "type": "scatter",
         "x": [
          "Virus to Virus"
         ],
         "xaxis": "x5",
         "y": [
          19.125047898837657
         ],
         "yaxis": "y5"
        },
        {
         "line": {
          "color": "#00CC96"
         },
         "marker": {
          "size": 12,
          "symbol": "diamond"
         },
         "mode": "markers",
         "name": "Hash map",
         "showlegend": false,
         "type": "scatter",
         "x": [
          "Virus to Virus"
         ],
         "xaxis": "x8",
         "y": [
          18.795834395368313
         ],
         "yaxis": "y8"
        },
        {
         "line": {
          "color": "#00CC96"
         },
         "marker": {
          "size": 12,
          "symbol": "diamond"
         },
         "mode": "markers",
         "name": "Hash map",
         "showlegend": false,
         "type": "scatter",
         "x": [
          "All Data Sets"
         ],
         "xaxis": "x3",
         "y": [
          6.84117017137654,
          6.84117017137654,
          6.84117017137654,
          6.84117017137654,
          6.84117017137654,
          6.84117017137654
         ],
         "yaxis": "y3"
        },
        {
         "line": {
          "color": "#00CC96"
         },
         "marker": {
          "size": 12,
          "symbol": "diamond"
         },
         "mode": "markers",
         "name": "Hash map",
         "showlegend": false,
         "type": "scatter",
         "x": [
          "All Data Sets"
         ],
         "xaxis": "x6",
         "y": [
          7.279625831341188,
          7.279625831341188,
          7.279625831341188,
          7.279625831341188,
          7.279625831341188,
          7.279625831341188
         ],
         "yaxis": "y6"
        },
        {
         "line": {
          "color": "#00CC96"
         },
         "marker": {
          "size": 12,
          "symbol": "diamond"
         },
         "mode": "markers",
         "name": "Hash map",
         "showlegend": false,
         "type": "scatter",
         "x": [
          "All Data Sets"
         ],
         "xaxis": "x9",
         "y": [
          6.596882010535575,
          6.596882010535575,
          6.596882010535575,
          6.596882010535575,
          6.596882010535575,
          6.596882010535575
         ],
         "yaxis": "y9"
        },
        {
         "line": {
          "color": "#AB63FA"
         },
         "marker": {
          "size": 12,
          "symbol": "cross"
         },
         "mode": "markers",
         "name": "vEB",
         "type": "scatter",
         "x": [
          "Human to Human",
          "Human to Turkey",
          "Human to Corn",
          "Turkey to Turkey",
          "Turkey to Corn",
          "Corn to Corn"
         ],
         "xaxis": "x",
         "y": [
          4.540215163934426,
          4.65092663112465,
          3.9704557737344626,
          4.032970620239391,
          3.629749393694422,
          3.5694114706984883
         ],
         "yaxis": "y"
        },
        {
         "line": {
          "color": "#AB63FA"
         },
         "marker": {
          "size": 12,
          "symbol": "cross"
         },
         "mode": "markers",
         "name": "vEB",
         "showlegend": false,
         "type": "scatter",
         "x": [
          "Human to Human",
          "Human to Turkey",
          "Human to Corn",
          "Turkey to Turkey",
          "Turkey to Corn",
          "Corn to Corn"
         ],
         "xaxis": "x4",
         "y": [
          5.7640504469205345,
          4.117141783432651,
          5.610679573753854,
          4.3688184677967525,
          5.257966223079019,
          5.497081288734825
         ],
         "yaxis": "y4"
        },
        {
         "line": {
          "color": "#AB63FA"
         },
         "marker": {
          "size": 12,
          "symbol": "cross"
         },
         "mode": "markers",
         "name": "vEB",
         "showlegend": false,
         "type": "scatter",
         "x": [
          "Human to Human",
          "Human to Turkey",
          "Human to Corn",
          "Turkey to Turkey",
          "Turkey to Corn",
          "Corn to Corn"
         ],
         "xaxis": "x7",
         "y": [
          5.184159305285222,
          3.7150155044923268,
          5.050484854543638,
          3.849097309640505,
          4.67610831861613,
          5.224031589596319
         ],
         "yaxis": "y7"
        },
        {
         "line": {
          "color": "#AB63FA"
         },
         "marker": {
          "size": 12,
          "symbol": "cross"
         },
         "mode": "markers",
         "name": "vEB",
         "showlegend": false,
         "type": "scatter",
         "x": [
          "Virus to Virus"
         ],
         "xaxis": "x2",
         "y": [
          6.057930141704617
         ],
         "yaxis": "y2"
        },
        {
         "line": {
          "color": "#AB63FA"
         },
         "marker": {
          "size": 12,
          "symbol": "cross"
         },
         "mode": "markers",
         "name": "vEB",
         "showlegend": false,
         "type": "scatter",
         "x": [
          "Virus to Virus"
         ],
         "xaxis": "x5",
         "y": [
          5.604506662674053
         ],
         "yaxis": "y5"
        },
        {
         "line": {
          "color": "#AB63FA"
         },
         "marker": {
          "size": 12,
          "symbol": "cross"
         },
         "mode": "markers",
         "name": "vEB",
         "showlegend": false,
         "type": "scatter",
         "x": [
          "Virus to Virus"
         ],
         "xaxis": "x8",
         "y": [
          5.292085298339143
         ],
         "yaxis": "y8"
        },
        {
         "line": {
          "color": "#AB63FA"
         },
         "marker": {
          "size": 12,
          "symbol": "cross"
         },
         "mode": "markers",
         "name": "vEB",
         "showlegend": false,
         "type": "scatter",
         "x": [
          "All Data Sets"
         ],
         "xaxis": "x3",
         "y": [
          4.35023702787578,
          4.35023702787578,
          4.35023702787578,
          4.35023702787578,
          4.35023702787578,
          4.35023702787578
         ],
         "yaxis": "y3"
        },
        {
         "line": {
          "color": "#AB63FA"
         },
         "marker": {
          "size": 12,
          "symbol": "cross"
         },
         "mode": "markers",
         "name": "vEB",
         "showlegend": false,
         "type": "scatter",
         "x": [
          "All Data Sets"
         ],
         "xaxis": "x6",
         "y": [
          5.1743206351988125,
          5.1743206351988125,
          5.1743206351988125,
          5.1743206351988125,
          5.1743206351988125,
          5.1743206351988125
         ],
         "yaxis": "y6"
        },
        {
         "line": {
          "color": "#AB63FA"
         },
         "marker": {
          "size": 12,
          "symbol": "cross"
         },
         "mode": "markers",
         "name": "vEB",
         "showlegend": false,
         "type": "scatter",
         "x": [
          "All Data Sets"
         ],
         "xaxis": "x9",
         "y": [
          4.712997454359041,
          4.712997454359041,
          4.712997454359041,
          4.712997454359041,
          4.712997454359041,
          4.712997454359041
         ],
         "yaxis": "y9"
        },
        {
         "line": {
          "color": "#FFA15A"
         },
         "marker": {
          "size": 12,
          "symbol": "x"
         },
         "mode": "markers",
         "name": "Eytzinger",
         "type": "scatter",
         "x": [
          "Human to Human",
          "Human to Turkey",
          "Human to Corn",
          "Turkey to Turkey",
          "Turkey to Corn",
          "Corn to Corn"
         ],
         "xaxis": "x",
         "y": [
          5.06863025450386,
          4.96275226872545,
          4.279611650485437,
          4.678490280232265,
          3.9545534613352125,
          3.690697674418605
         ],
         "yaxis": "y"
        },
        {
         "line": {
          "color": "#FFA15A"
         },
         "marker": {
          "size": 12,
          "symbol": "x"
         },
         "mode": "markers",
         "name": "Eytzinger",
         "showlegend": false,
         "type": "scatter",
         "x": [
          "Human to Human",
          "Human to Turkey",
          "Human to Corn",
          "Turkey to Turkey",
          "Turkey to Corn",
          "Corn to Corn"
         ],
         "xaxis": "x4",
         "y": [
          5.611626567063358,
          3.9973937972374247,
          5.460312636517313,
          4.34555412877696,
          5.244395525405454,
          5.535123373777972
         ],
         "yaxis": "y4"
        },
        {
         "line": {
          "color": "#FFA15A"
         },
         "marker": {
          "size": 12,
          "symbol": "x"
         },
         "mode": "markers",
         "name": "Eytzinger",
         "showlegend": false,
         "type": "scatter",
         "x": [
          "Human to Human",
          "Human to Turkey",
          "Human to Corn",
          "Turkey to Turkey",
          "Turkey to Corn",
          "Corn to Corn"
         ],
         "xaxis": "x7",
         "y": [
          4.929878265821883,
          3.542596646858681,
          4.867520955776087,
          3.6477761972498817,
          4.4528891763691245,
          5.1085014041358185
         ],
         "yaxis": "y7"
        },
        {
         "line": {
          "color": "#FFA15A"
         },
         "marker": {
          "size": 12,
          "symbol": "x"
         },
         "mode": "markers",
         "name": "Eytzinger",
         "showlegend": false,
         "type": "scatter",
         "x": [
          "Virus to Virus"
         ],
         "xaxis": "x2",
         "y": [
          10.54058402381144
         ],
         "yaxis": "y2"
        },
        {
         "line": {
          "color": "#FFA15A"
         },
         "marker": {
          "size": 12,
          "symbol": "x"
         },
         "mode": "markers",
         "name": "Eytzinger",
         "showlegend": false,
         "type": "scatter",
         "x": [
          "Virus to Virus"
         ],
         "xaxis": "x5",
         "y": [
          9.971363878529568
         ],
         "yaxis": "y5"
        },
        {
         "line": {
          "color": "#FFA15A"
         },
         "marker": {
          "size": 12,
          "symbol": "x"
         },
         "mode": "markers",
         "name": "Eytzinger",
         "showlegend": false,
         "type": "scatter",
         "x": [
          "Virus to Virus"
         ],
         "xaxis": "x8",
         "y": [
          9.24260058371681
         ],
         "yaxis": "y8"
        },
        {
         "line": {
          "color": "#FFA15A"
         },
         "marker": {
          "size": 12,
          "symbol": "x"
         },
         "mode": "markers",
         "name": "Eytzinger",
         "showlegend": false,
         "type": "scatter",
         "x": [
          "All Data Sets"
         ],
         "xaxis": "x3",
         "y": [
          5.310759944787468,
          5.310759944787468,
          5.310759944787468,
          5.310759944787468,
          5.310759944787468,
          5.310759944787468
         ],
         "yaxis": "y3"
        },
        {
         "line": {
          "color": "#FFA15A"
         },
         "marker": {
          "size": 12,
          "symbol": "x"
         },
         "mode": "markers",
         "name": "Eytzinger",
         "showlegend": false,
         "type": "scatter",
         "x": [
          "All Data Sets"
         ],
         "xaxis": "x6",
         "y": [
          5.737967129615435,
          5.737967129615435,
          5.737967129615435,
          5.737967129615435,
          5.737967129615435,
          5.737967129615435
         ],
         "yaxis": "y6"
        },
        {
         "line": {
          "color": "#FFA15A"
         },
         "marker": {
          "size": 12,
          "symbol": "x"
         },
         "mode": "markers",
         "name": "Eytzinger",
         "showlegend": false,
         "type": "scatter",
         "x": [
          "All Data Sets"
         ],
         "xaxis": "x9",
         "y": [
          5.113109032846898,
          5.113109032846898,
          5.113109032846898,
          5.113109032846898,
          5.113109032846898,
          5.113109032846898
         ],
         "yaxis": "y9"
        },
        {
         "line": {
          "color": "#19D3F3"
         },
         "marker": {
          "size": 12,
          "symbol": "pentagon"
         },
         "mode": "markers",
         "name": "B-tree",
         "type": "scatter",
         "x": [
          "Human to Human",
          "Human to Turkey",
          "Human to Corn",
          "Turkey to Turkey",
          "Turkey to Corn",
          "Corn to Corn"
         ],
         "xaxis": "x",
         "y": [
          5.042674253200569,
          4.4628501827040195,
          4.175033150217844,
          4.257178957041122,
          3.9650300247262455,
          3.564512103818318
         ],
         "yaxis": "y"
        },
        {
         "line": {
          "color": "#19D3F3"
         },
         "marker": {
          "size": 12,
          "symbol": "pentagon"
         },
         "mode": "markers",
         "name": "B-tree",
         "showlegend": false,
         "type": "scatter",
         "x": [
          "Human to Human",
          "Human to Turkey",
          "Human to Corn",
          "Turkey to Turkey",
          "Turkey to Corn",
          "Corn to Corn"
         ],
         "xaxis": "x4",
         "y": [
          5.300940262372615,
          3.563661710037174,
          5.244645528514614,
          4.043965584516934,
          4.8164957811565206,
          5.252276148827873
         ],
         "yaxis": "y4"
        },
        {
         "line": {
          "color": "#19D3F3"
         },
         "marker": {
          "size": 12,
          "symbol": "pentagon"
         },
         "mode": "markers",
         "name": "B-tree",
         "showlegend": false,
         "type": "scatter",
         "x": [
          "Human to Human",
          "Human to Turkey",
          "Human to Corn",
          "Turkey to Turkey",
          "Turkey to Corn",
          "Corn to Corn"
         ],
         "xaxis": "x7",
         "y": [
          4.759450171821306,
          3.3095162204278226,
          4.738789695102219,
          3.578080815597559,
          4.280532670086533,
          4.867576854076079
         ],
         "yaxis": "y7"
        },
        {
         "line": {
          "color": "#19D3F3"
         },
         "marker": {
          "size": 12,
          "symbol": "pentagon"
         },
         "mode": "markers",
         "name": "B-tree",
         "showlegend": false,
         "type": "scatter",
         "x": [
          "Virus to Virus"
         ],
         "xaxis": "x2",
         "y": [
          7.100934832678499
         ],
         "yaxis": "y2"
        },
        {
         "line": {
          "color": "#19D3F3"
         },
         "marker": {
          "size": 12,
          "symbol": "pentagon"
         },
         "mode": "markers",
         "name": "B-tree",
         "showlegend": false,
         "type": "scatter",
         "x": [
          "Virus to Virus"
         ],
         "xaxis": "x5",
         "y": [
          6.374292241978743
         ],
         "yaxis": "y5"
        },
        {
         "line": {
          "color": "#19D3F3"
         },
         "marker": {
          "size": 12,
          "symbol": "pentagon"
         },
         "mode": "markers",
         "name": "B-tree",
         "showlegend": false,
         "type": "scatter",
         "x": [
          "Virus to Virus"
         ],
         "xaxis": "x8",
         "y": [
          5.651333760311804
         ],
         "yaxis": "y8"
        },
        {
         "line": {
          "color": "#19D3F3"
         },
         "marker": {
          "size": 12,
          "symbol": "pentagon"
         },
         "mode": "markers",
         "name": "B-tree",
         "showlegend": false,
         "type": "scatter",
         "x": [
          "All Data Sets"
         ],
         "xaxis": "x3",
         "y": [
          4.652601929198089,
          4.652601929198089,
          4.652601929198089,
          4.652601929198089,
          4.652601929198089,
          4.652601929198089
         ],
         "yaxis": "y3"
        },
        {
         "line": {
          "color": "#19D3F3"
         },
         "marker": {
          "size": 12,
          "symbol": "pentagon"
         },
         "mode": "markers",
         "name": "B-tree",
         "showlegend": false,
         "type": "scatter",
         "x": [
          "All Data Sets"
         ],
         "xaxis": "x6",
         "y": [
          4.9423253224863535,
          4.9423253224863535,
          4.9423253224863535,
          4.9423253224863535,
          4.9423253224863535,
          4.9423253224863535
         ],
         "yaxis": "y6"
        },
        {
         "line": {
          "color": "#19D3F3"
         },
         "marker": {
          "size": 12,
          "symbol": "pentagon"
         },
         "mode": "markers",
         "name": "B-tree",
         "showlegend": false,
         "type": "scatter",
         "x": [
          "All Data Sets"
         ],
         "xaxis": "x9",
         "y": [
          4.4550400267747605,
          4.4550400267747605,
          4.4550400267747605,
          4.4550400267747605,
          4.4550400267747605,
          4.4550400267747605
         ],
         "yaxis": "y9"
        },
        {
         "line": {
          "color": "#FF6692"
         },
         "marker": {
          "size": 12,
          "symbol": "star"
         },
         "mode": "markers",
         "name": "PstClassifierSeqan",
         "type": "scatter",
         "x": [],
         "xaxis": "x",
         "y": [],
         "yaxis": "y"
        },
        {
         "line": {
          "color": "#FF6692"
         },
         "marker": {
          "size": 12,
          "symbol": "star"
         },
         "mode": "markers",
         "name": "PstClassifierSeqan",
         "showlegend": false,
         "type": "scatter",
         "x": [],
         "xaxis": "x4",
         "y": [],
         "yaxis": "y4"
        },
        {
         "line": {
          "color": "#FF6692"
         },
         "marker": {
          "size": 12,
          "symbol": "star"
         },
         "mode": "markers",
         "name": "PstClassifierSeqan",
         "showlegend": false,
         "type": "scatter",
         "x": [],
         "xaxis": "x7",
         "y": [],
         "yaxis": "y7"
        },
        {
         "line": {
          "color": "#FF6692"
         },
         "marker": {
          "size": 12,
          "symbol": "star"
         },
         "mode": "markers",
         "name": "PstClassifierSeqan",
         "showlegend": false,
         "type": "scatter",
         "x": [],
         "xaxis": "x2",
         "y": [],
         "yaxis": "y2"
        },
        {
         "line": {
          "color": "#FF6692"
         },
         "marker": {
          "size": 12,
          "symbol": "star"
         },
         "mode": "markers",
         "name": "PstClassifierSeqan",
         "showlegend": false,
         "type": "scatter",
         "x": [],
         "xaxis": "x5",
         "y": [],
         "yaxis": "y5"
        },
        {
         "line": {
          "color": "#FF6692"
         },
         "marker": {
          "size": 12,
          "symbol": "star"
         },
         "mode": "markers",
         "name": "PstClassifierSeqan",
         "showlegend": false,
         "type": "scatter",
         "x": [],
         "xaxis": "x8",
         "y": [],
         "yaxis": "y8"
        },
        {
         "line": {
          "color": "#FF6692"
         },
         "marker": {
          "size": 12,
          "symbol": "star"
         },
         "mode": "markers",
         "name": "PstClassifierSeqan",
         "showlegend": false,
         "type": "scatter",
         "x": [
          "All Data Sets"
         ],
         "xaxis": "x3",
         "y": [],
         "yaxis": "y3"
        },
        {
         "line": {
          "color": "#FF6692"
         },
         "marker": {
          "size": 12,
          "symbol": "star"
         },
         "mode": "markers",
         "name": "PstClassifierSeqan",
         "showlegend": false,
         "type": "scatter",
         "x": [
          "All Data Sets"
         ],
         "xaxis": "x6",
         "y": [],
         "yaxis": "y6"
        },
        {
         "line": {
          "color": "#FF6692"
         },
         "marker": {
          "size": 12,
          "symbol": "star"
         },
         "mode": "markers",
         "name": "PstClassifierSeqan",
         "showlegend": false,
         "type": "scatter",
         "x": [
          "All Data Sets"
         ],
         "xaxis": "x9",
         "y": [],
         "yaxis": "y9"
        }
       ],
       "layout": {
        "annotations": [
         {
          "font": {
           "size": 24
          },
          "showarrow": false,
          "text": "Small",
          "x": 0.294,
          "xanchor": "center",
          "xref": "paper",
          "y": 1,
          "yanchor": "bottom",
          "yref": "paper"
         },
         {
          "font": {
           "size": 24
          },
          "showarrow": false,
          "text": "Small",
          "x": 0.7309999999999999,
          "xanchor": "center",
          "xref": "paper",
          "y": 1,
          "yanchor": "bottom",
          "yref": "paper"
         },
         {
          "font": {
           "size": 24
          },
          "showarrow": false,
          "text": "Small",
          "x": 0.937,
          "xanchor": "center",
          "xref": "paper",
          "y": 1,
          "yanchor": "bottom",
          "yref": "paper"
         },
         {
          "font": {
           "size": 24
          },
          "showarrow": false,
          "text": "Medium",
          "x": 0.294,
          "xanchor": "center",
          "xref": "paper",
          "y": 0.6433333333333333,
          "yanchor": "bottom",
          "yref": "paper"
         },
         {
          "font": {
           "size": 24
          },
          "showarrow": false,
          "text": "Medium",
          "x": 0.7309999999999999,
          "xanchor": "center",
          "xref": "paper",
          "y": 0.6433333333333333,
          "yanchor": "bottom",
          "yref": "paper"
         },
         {
          "font": {
           "size": 24
          },
          "showarrow": false,
          "text": "Medium",
          "x": 0.937,
          "xanchor": "center",
          "xref": "paper",
          "y": 0.6433333333333333,
          "yanchor": "bottom",
          "yref": "paper"
         },
         {
          "font": {
           "size": 24
          },
          "showarrow": false,
          "text": "Large",
          "x": 0.294,
          "xanchor": "center",
          "xref": "paper",
          "y": 0.2866666666666667,
          "yanchor": "bottom",
          "yref": "paper"
         },
         {
          "font": {
           "size": 24
          },
          "showarrow": false,
          "text": "Large",
          "x": 0.7309999999999999,
          "xanchor": "center",
          "xref": "paper",
          "y": 0.2866666666666667,
          "yanchor": "bottom",
          "yref": "paper"
         },
         {
          "font": {
           "size": 24
          },
          "showarrow": false,
          "text": "Large",
          "x": 0.937,
          "xanchor": "center",
          "xref": "paper",
          "y": 0.2866666666666667,
          "yanchor": "bottom",
          "yref": "paper"
         },
         {
          "font": {
           "size": 24
          },
          "showarrow": false,
          "text": "Speedup",
          "textangle": -90,
          "x": 0,
          "xanchor": "right",
          "xref": "paper",
          "xshift": -40,
          "y": 0.5,
          "yanchor": "middle",
          "yref": "paper"
         }
        ],
        "height": 900,
        "legend": {
         "font": {
          "size": 24
         },
         "orientation": "h",
         "y": 1.08,
         "yanchor": "bottom"
        },
        "margin": {
         "b": 80,
         "l": 100,
         "r": 60,
         "t": 60
        },
        "plot_bgcolor": "white",
        "template": {
         "data": {
          "bar": [
           {
            "error_x": {
             "color": "#2a3f5f"
            },
            "error_y": {
             "color": "#2a3f5f"
            },
            "marker": {
             "line": {
              "color": "#E5ECF6",
              "width": 0.5
             },
             "pattern": {
              "fillmode": "overlay",
              "size": 10,
              "solidity": 0.2
             }
            },
            "type": "bar"
           }
          ],
          "barpolar": [
           {
            "marker": {
             "line": {
              "color": "#E5ECF6",
              "width": 0.5
             },
             "pattern": {
              "fillmode": "overlay",
              "size": 10,
              "solidity": 0.2
             }
            },
            "type": "barpolar"
           }
          ],
          "carpet": [
           {
            "aaxis": {
             "endlinecolor": "#2a3f5f",
             "gridcolor": "white",
             "linecolor": "white",
             "minorgridcolor": "white",
             "startlinecolor": "#2a3f5f"
            },
            "baxis": {
             "endlinecolor": "#2a3f5f",
             "gridcolor": "white",
             "linecolor": "white",
             "minorgridcolor": "white",
             "startlinecolor": "#2a3f5f"
            },
            "type": "carpet"
           }
          ],
          "choropleth": [
           {
            "colorbar": {
             "outlinewidth": 0,
             "ticks": ""
            },
            "type": "choropleth"
           }
          ],
          "contour": [
           {
            "colorbar": {
             "outlinewidth": 0,
             "ticks": ""
            },
            "colorscale": [
             [
              0,
              "#0d0887"
             ],
             [
              0.1111111111111111,
              "#46039f"
             ],
             [
              0.2222222222222222,
              "#7201a8"
             ],
             [
              0.3333333333333333,
              "#9c179e"
             ],
             [
              0.4444444444444444,
              "#bd3786"
             ],
             [
              0.5555555555555556,
              "#d8576b"
             ],
             [
              0.6666666666666666,
              "#ed7953"
             ],
             [
              0.7777777777777778,
              "#fb9f3a"
             ],
             [
              0.8888888888888888,
              "#fdca26"
             ],
             [
              1,
              "#f0f921"
             ]
            ],
            "type": "contour"
           }
          ],
          "contourcarpet": [
           {
            "colorbar": {
             "outlinewidth": 0,
             "ticks": ""
            },
            "type": "contourcarpet"
           }
          ],
          "heatmap": [
           {
            "colorbar": {
             "outlinewidth": 0,
             "ticks": ""
            },
            "colorscale": [
             [
              0,
              "#0d0887"
             ],
             [
              0.1111111111111111,
              "#46039f"
             ],
             [
              0.2222222222222222,
              "#7201a8"
             ],
             [
              0.3333333333333333,
              "#9c179e"
             ],
             [
              0.4444444444444444,
              "#bd3786"
             ],
             [
              0.5555555555555556,
              "#d8576b"
             ],
             [
              0.6666666666666666,
              "#ed7953"
             ],
             [
              0.7777777777777778,
              "#fb9f3a"
             ],
             [
              0.8888888888888888,
              "#fdca26"
             ],
             [
              1,
              "#f0f921"
             ]
            ],
            "type": "heatmap"
           }
          ],
          "heatmapgl": [
           {
            "colorbar": {
             "outlinewidth": 0,
             "ticks": ""
            },
            "colorscale": [
             [
              0,
              "#0d0887"
             ],
             [
              0.1111111111111111,
              "#46039f"
             ],
             [
              0.2222222222222222,
              "#7201a8"
             ],
             [
              0.3333333333333333,
              "#9c179e"
             ],
             [
              0.4444444444444444,
              "#bd3786"
             ],
             [
              0.5555555555555556,
              "#d8576b"
             ],
             [
              0.6666666666666666,
              "#ed7953"
             ],
             [
              0.7777777777777778,
              "#fb9f3a"
             ],
             [
              0.8888888888888888,
              "#fdca26"
             ],
             [
              1,
              "#f0f921"
             ]
            ],
            "type": "heatmapgl"
           }
          ],
          "histogram": [
           {
            "marker": {
             "pattern": {
              "fillmode": "overlay",
              "size": 10,
              "solidity": 0.2
             }
            },
            "type": "histogram"
           }
          ],
          "histogram2d": [
           {
            "colorbar": {
             "outlinewidth": 0,
             "ticks": ""
            },
            "colorscale": [
             [
              0,
              "#0d0887"
             ],
             [
              0.1111111111111111,
              "#46039f"
             ],
             [
              0.2222222222222222,
              "#7201a8"
             ],
             [
              0.3333333333333333,
              "#9c179e"
             ],
             [
              0.4444444444444444,
              "#bd3786"
             ],
             [
              0.5555555555555556,
              "#d8576b"
             ],
             [
              0.6666666666666666,
              "#ed7953"
             ],
             [
              0.7777777777777778,
              "#fb9f3a"
             ],
             [
              0.8888888888888888,
              "#fdca26"
             ],
             [
              1,
              "#f0f921"
             ]
            ],
            "type": "histogram2d"
           }
          ],
          "histogram2dcontour": [
           {
            "colorbar": {
             "outlinewidth": 0,
             "ticks": ""
            },
            "colorscale": [
             [
              0,
              "#0d0887"
             ],
             [
              0.1111111111111111,
              "#46039f"
             ],
             [
              0.2222222222222222,
              "#7201a8"
             ],
             [
              0.3333333333333333,
              "#9c179e"
             ],
             [
              0.4444444444444444,
              "#bd3786"
             ],
             [
              0.5555555555555556,
              "#d8576b"
             ],
             [
              0.6666666666666666,
              "#ed7953"
             ],
             [
              0.7777777777777778,
              "#fb9f3a"
             ],
             [
              0.8888888888888888,
              "#fdca26"
             ],
             [
              1,
              "#f0f921"
             ]
            ],
            "type": "histogram2dcontour"
           }
          ],
          "mesh3d": [
           {
            "colorbar": {
             "outlinewidth": 0,
             "ticks": ""
            },
            "type": "mesh3d"
           }
          ],
          "parcoords": [
           {
            "line": {
             "colorbar": {
              "outlinewidth": 0,
              "ticks": ""
             }
            },
            "type": "parcoords"
           }
          ],
          "pie": [
           {
            "automargin": true,
            "type": "pie"
           }
          ],
          "scatter": [
           {
            "fillpattern": {
             "fillmode": "overlay",
             "size": 10,
             "solidity": 0.2
            },
            "type": "scatter"
           }
          ],
          "scatter3d": [
           {
            "line": {
             "colorbar": {
              "outlinewidth": 0,
              "ticks": ""
             }
            },
            "marker": {
             "colorbar": {
              "outlinewidth": 0,
              "ticks": ""
             }
            },
            "type": "scatter3d"
           }
          ],
          "scattercarpet": [
           {
            "marker": {
             "colorbar": {
              "outlinewidth": 0,
              "ticks": ""
             }
            },
            "type": "scattercarpet"
           }
          ],
          "scattergeo": [
           {
            "marker": {
             "colorbar": {
              "outlinewidth": 0,
              "ticks": ""
             }
            },
            "type": "scattergeo"
           }
          ],
          "scattergl": [
           {
            "marker": {
             "colorbar": {
              "outlinewidth": 0,
              "ticks": ""
             }
            },
            "type": "scattergl"
           }
          ],
          "scattermapbox": [
           {
            "marker": {
             "colorbar": {
              "outlinewidth": 0,
              "ticks": ""
             }
            },
            "type": "scattermapbox"
           }
          ],
          "scatterpolar": [
           {
            "marker": {
             "colorbar": {
              "outlinewidth": 0,
              "ticks": ""
             }
            },
            "type": "scatterpolar"
           }
          ],
          "scatterpolargl": [
           {
            "marker": {
             "colorbar": {
              "outlinewidth": 0,
              "ticks": ""
             }
            },
            "type": "scatterpolargl"
           }
          ],
          "scatterternary": [
           {
            "marker": {
             "colorbar": {
              "outlinewidth": 0,
              "ticks": ""
             }
            },
            "type": "scatterternary"
           }
          ],
          "surface": [
           {
            "colorbar": {
             "outlinewidth": 0,
             "ticks": ""
            },
            "colorscale": [
             [
              0,
              "#0d0887"
             ],
             [
              0.1111111111111111,
              "#46039f"
             ],
             [
              0.2222222222222222,
              "#7201a8"
             ],
             [
              0.3333333333333333,
              "#9c179e"
             ],
             [
              0.4444444444444444,
              "#bd3786"
             ],
             [
              0.5555555555555556,
              "#d8576b"
             ],
             [
              0.6666666666666666,
              "#ed7953"
             ],
             [
              0.7777777777777778,
              "#fb9f3a"
             ],
             [
              0.8888888888888888,
              "#fdca26"
             ],
             [
              1,
              "#f0f921"
             ]
            ],
            "type": "surface"
           }
          ],
          "table": [
           {
            "cells": {
             "fill": {
              "color": "#EBF0F8"
             },
             "line": {
              "color": "white"
             }
            },
            "header": {
             "fill": {
              "color": "#C8D4E3"
             },
             "line": {
              "color": "white"
             }
            },
            "type": "table"
           }
          ]
         },
         "layout": {
          "annotationdefaults": {
           "arrowcolor": "#2a3f5f",
           "arrowhead": 0,
           "arrowwidth": 1
          },
          "autotypenumbers": "strict",
          "coloraxis": {
           "colorbar": {
            "outlinewidth": 0,
            "ticks": ""
           }
          },
          "colorscale": {
           "diverging": [
            [
             0,
             "#8e0152"
            ],
            [
             0.1,
             "#c51b7d"
            ],
            [
             0.2,
             "#de77ae"
            ],
            [
             0.3,
             "#f1b6da"
            ],
            [
             0.4,
             "#fde0ef"
            ],
            [
             0.5,
             "#f7f7f7"
            ],
            [
             0.6,
             "#e6f5d0"
            ],
            [
             0.7,
             "#b8e186"
            ],
            [
             0.8,
             "#7fbc41"
            ],
            [
             0.9,
             "#4d9221"
            ],
            [
             1,
             "#276419"
            ]
           ],
           "sequential": [
            [
             0,
             "#0d0887"
            ],
            [
             0.1111111111111111,
             "#46039f"
            ],
            [
             0.2222222222222222,
             "#7201a8"
            ],
            [
             0.3333333333333333,
             "#9c179e"
            ],
            [
             0.4444444444444444,
             "#bd3786"
            ],
            [
             0.5555555555555556,
             "#d8576b"
            ],
            [
             0.6666666666666666,
             "#ed7953"
            ],
            [
             0.7777777777777778,
             "#fb9f3a"
            ],
            [
             0.8888888888888888,
             "#fdca26"
            ],
            [
             1,
             "#f0f921"
            ]
           ],
           "sequentialminus": [
            [
             0,
             "#0d0887"
            ],
            [
             0.1111111111111111,
             "#46039f"
            ],
            [
             0.2222222222222222,
             "#7201a8"
            ],
            [
             0.3333333333333333,
             "#9c179e"
            ],
            [
             0.4444444444444444,
             "#bd3786"
            ],
            [
             0.5555555555555556,
             "#d8576b"
            ],
            [
             0.6666666666666666,
             "#ed7953"
            ],
            [
             0.7777777777777778,
             "#fb9f3a"
            ],
            [
             0.8888888888888888,
             "#fdca26"
            ],
            [
             1,
             "#f0f921"
            ]
           ]
          },
          "colorway": [
           "#636efa",
           "#EF553B",
           "#00cc96",
           "#ab63fa",
           "#FFA15A",
           "#19d3f3",
           "#FF6692",
           "#B6E880",
           "#FF97FF",
           "#FECB52"
          ],
          "font": {
           "color": "#2a3f5f"
          },
          "geo": {
           "bgcolor": "white",
           "lakecolor": "white",
           "landcolor": "#E5ECF6",
           "showlakes": true,
           "showland": true,
           "subunitcolor": "white"
          },
          "hoverlabel": {
           "align": "left"
          },
          "hovermode": "closest",
          "mapbox": {
           "style": "light"
          },
          "paper_bgcolor": "white",
          "plot_bgcolor": "#E5ECF6",
          "polar": {
           "angularaxis": {
            "gridcolor": "white",
            "linecolor": "white",
            "ticks": ""
           },
           "bgcolor": "#E5ECF6",
           "radialaxis": {
            "gridcolor": "white",
            "linecolor": "white",
            "ticks": ""
           }
          },
          "scene": {
           "xaxis": {
            "backgroundcolor": "#E5ECF6",
            "gridcolor": "white",
            "gridwidth": 2,
            "linecolor": "white",
            "showbackground": true,
            "ticks": "",
            "zerolinecolor": "white"
           },
           "yaxis": {
            "backgroundcolor": "#E5ECF6",
            "gridcolor": "white",
            "gridwidth": 2,
            "linecolor": "white",
            "showbackground": true,
            "ticks": "",
            "zerolinecolor": "white"
           },
           "zaxis": {
            "backgroundcolor": "#E5ECF6",
            "gridcolor": "white",
            "gridwidth": 2,
            "linecolor": "white",
            "showbackground": true,
            "ticks": "",
            "zerolinecolor": "white"
           }
          },
          "shapedefaults": {
           "line": {
            "color": "#2a3f5f"
           }
          },
          "ternary": {
           "aaxis": {
            "gridcolor": "white",
            "linecolor": "white",
            "ticks": ""
           },
           "baxis": {
            "gridcolor": "white",
            "linecolor": "white",
            "ticks": ""
           },
           "bgcolor": "#E5ECF6",
           "caxis": {
            "gridcolor": "white",
            "linecolor": "white",
            "ticks": ""
           }
          },
          "title": {
           "x": 0.05
          },
          "xaxis": {
           "automargin": true,
           "gridcolor": "white",
           "linecolor": "white",
           "ticks": "",
           "title": {
            "standoff": 15
           },
           "zerolinecolor": "white",
           "zerolinewidth": 2
          },
          "yaxis": {
           "automargin": true,
           "gridcolor": "white",
           "linecolor": "white",
           "ticks": "",
           "title": {
            "standoff": 15
           },
           "zerolinecolor": "white",
           "zerolinewidth": 2
          }
         }
        },
        "width": 900,
        "xaxis": {
         "anchor": "y",
         "domain": [
          0,
          0.588
         ],
         "gridcolor": "LightGrey",
         "linecolor": "LightGrey",
         "linewidth": 1,
         "matches": "x7",
         "showline": true,
         "showticklabels": false,
         "tickfont": {
          "size": 20
         }
        },
        "xaxis2": {
         "anchor": "y2",
         "domain": [
          0.6679999999999999,
          0.7939999999999999
         ],
         "gridcolor": "LightGrey",
         "linecolor": "LightGrey",
         "linewidth": 1,
         "matches": "x8",
         "showline": true,
         "showticklabels": false,
         "tickfont": {
          "size": 20
         }
        },
        "xaxis3": {
         "anchor": "y3",
         "domain": [
          0.874,
          1
         ],
         "gridcolor": "LightGrey",
         "linecolor": "LightGrey",
         "linewidth": 1,
         "matches": "x9",
         "showline": true,
         "showticklabels": false,
         "tickfont": {
          "size": 20
         }
        },
        "xaxis4": {
         "anchor": "y4",
         "domain": [
          0,
          0.588
         ],
         "gridcolor": "LightGrey",
         "linecolor": "LightGrey",
         "linewidth": 1,
         "matches": "x7",
         "showline": true,
         "showticklabels": false,
         "tickfont": {
          "size": 20
         }
        },
        "xaxis5": {
         "anchor": "y5",
         "domain": [
          0.6679999999999999,
          0.7939999999999999
         ],
         "gridcolor": "LightGrey",
         "linecolor": "LightGrey",
         "linewidth": 1,
         "matches": "x8",
         "showline": true,
         "showticklabels": false,
         "tickfont": {
          "size": 20
         }
        },
        "xaxis6": {
         "anchor": "y6",
         "domain": [
          0.874,
          1
         ],
         "gridcolor": "LightGrey",
         "linecolor": "LightGrey",
         "linewidth": 1,
         "matches": "x9",
         "showline": true,
         "showticklabels": false,
         "tickfont": {
          "size": 20
         }
        },
        "xaxis7": {
         "anchor": "y7",
         "domain": [
          0,
          0.588
         ],
         "gridcolor": "LightGrey",
         "linecolor": "LightGrey",
         "linewidth": 1,
         "showline": true,
         "tickfont": {
          "size": 20
         }
        },
        "xaxis8": {
         "anchor": "y8",
         "domain": [
          0.6679999999999999,
          0.7939999999999999
         ],
         "gridcolor": "LightGrey",
         "linecolor": "LightGrey",
         "linewidth": 1,
         "showline": true,
         "tickfont": {
          "size": 20
         }
        },
        "xaxis9": {
         "anchor": "y9",
         "domain": [
          0.874,
          1
         ],
         "gridcolor": "LightGrey",
         "linecolor": "LightGrey",
         "linewidth": 1,
         "showline": true,
         "tickfont": {
          "size": 20
         }
        },
        "yaxis": {
         "anchor": "x",
         "domain": [
          0.7133333333333334,
          1
         ],
         "gridcolor": "LightGrey",
         "linecolor": "LightGrey",
         "linewidth": 1,
         "showline": true,
         "tickfont": {
          "size": 20
         }
        },
        "yaxis2": {
         "anchor": "x2",
         "domain": [
          0.7133333333333334,
          1
         ],
         "gridcolor": "LightGrey",
         "linecolor": "LightGrey",
         "linewidth": 1,
         "showline": true,
         "tickfont": {
          "size": 20
         }
        },
        "yaxis3": {
         "anchor": "x3",
         "domain": [
          0.7133333333333334,
          1
         ],
         "gridcolor": "LightGrey",
         "linecolor": "LightGrey",
         "linewidth": 1,
         "showline": true,
         "tickfont": {
          "size": 20
         }
        },
        "yaxis4": {
         "anchor": "x4",
         "domain": [
          0.3566666666666667,
          0.6433333333333333
         ],
         "gridcolor": "LightGrey",
         "linecolor": "LightGrey",
         "linewidth": 1,
         "showline": true,
         "tickfont": {
          "size": 20
         }
        },
        "yaxis5": {
         "anchor": "x5",
         "domain": [
          0.3566666666666667,
          0.6433333333333333
         ],
         "gridcolor": "LightGrey",
         "linecolor": "LightGrey",
         "linewidth": 1,
         "showline": true,
         "tickfont": {
          "size": 20
         }
        },
        "yaxis6": {
         "anchor": "x6",
         "domain": [
          0.3566666666666667,
          0.6433333333333333
         ],
         "gridcolor": "LightGrey",
         "linecolor": "LightGrey",
         "linewidth": 1,
         "showline": true,
         "tickfont": {
          "size": 20
         }
        },
        "yaxis7": {
         "anchor": "x7",
         "domain": [
          0,
          0.2866666666666667
         ],
         "gridcolor": "LightGrey",
         "linecolor": "LightGrey",
         "linewidth": 1,
         "showline": true,
         "tickfont": {
          "size": 20
         }
        },
        "yaxis8": {
         "anchor": "x8",
         "domain": [
          0,
          0.2866666666666667
         ],
         "gridcolor": "LightGrey",
         "linecolor": "LightGrey",
         "linewidth": 1,
         "showline": true,
         "tickfont": {
          "size": 20
         }
        },
        "yaxis9": {
         "anchor": "x9",
         "domain": [
          0,
          0.2866666666666667
         ],
         "gridcolor": "LightGrey",
         "linecolor": "LightGrey",
         "linewidth": 1,
         "showline": true,
         "tickfont": {
          "size": 20
         }
        }
       }
      }
     },
     "metadata": {},
     "output_type": "display_data"
    }
   ],
   "source": [
    "# Results in paper:\n",
    "vis_bench_speedup_single_run([(\"06_01\", \"13_53\")], False)\n",
    "#vis_bench_cache_misses_single_run([(\"06_01\", \"11_02\")], False)\n",
    "vis_bench_speedup_single_run([(\"06_01\", \"17_20\")], True)\n",
    "#vis_bench_cache_misses_single_run([(\"06_01\", \"11_02\")], False)"
   ]
  },
  {
   "cell_type": "code",
   "execution_count": null,
   "metadata": {},
   "outputs": [],
   "source": [
    "def find_color(line_color_map, imp):\n",
    "    for i, c in line_color_map:\n",
    "        if i == imp:\n",
    "            return c \n",
    "\n",
    "def vis_bench_cache_misses_single_run(datetime, save_pdf: bool = False):\n",
    "    datasets = [(\"human\", \"human\"), (\"human\", \"turkey\") , (\"human\", \"corn\"), (\"turkey\", \"turkey\"), (\"turkey\", \"corn\"), (\"corn\", \"corn\"), (\"ecoli\", \"ecoli\")]\n",
    "\n",
    "    df_list = []\n",
    "    for primary, secondary in datasets:\n",
    "        for date, time in datetime: \n",
    "            try:\n",
    "                df_tmp = pd.read_csv(\"csv_results/\" + date + \"/\" + primary + \"_\" + secondary + \"_\" + date + \"_\" + time + \".csv\")\n",
    "                df_tmp['datasets'] = primary.title() + \" to \" + secondary.title() \n",
    "                df_list.append(df_tmp)\n",
    "            except:\n",
    "                print(\"Couldn't read \" + primary + \" to \" + secondary + \" for \" + date + \" \" + time)\n",
    "\n",
    "    df = pd.concat(df_list)\n",
    "\n",
    "    df['cache_references_count'] = df.groupby(['datasets', 'implementation', 'vlmc_size'])['cache_references_count'].transform('mean')\n",
    "\n",
    "    df['datasets'] = df.datasets.apply(lambda x : x.replace(\"Ecoli\", \"Virus\"))\n",
    "    df['implementation'] = df.implementation.apply(lambda x : x.replace(\"sorted-search\", \"SBS\"))\n",
    "    df['implementation'] = df.implementation.apply(lambda x : x.replace(\"ey\", \"Eytzinger\"))\n",
    "    df['implementation'] = df.implementation.apply(lambda x : x.replace(\"alt-btree\", \"B-tree\"))\n",
    "    df['implementation'] = df.implementation.apply(lambda x : x.replace(\"sorted-vector\", \"Sorted vector\"))\n",
    "    df['implementation'] = df.implementation.apply(lambda x : x.replace(\"hashmap\", \"Hash map\"))\n",
    "    df['implementation'] = df.implementation.apply(lambda x : x.replace(\"veb\", \"vEB\"))\n",
    "\n",
    "    fig = make_subplots(rows=3, \n",
    "                        cols=2, shared_yaxes=False, shared_xaxes=True,\n",
    "                        column_widths=[0.8, 0.2],\n",
    "                        x_title=\"\",\n",
    "                        y_title=\"Speedup\",\n",
    "                        subplot_titles=(\"Small\", \"Small\", \"Medium\", \"Medium\", \"Large\", \"Large\"), \n",
    "                        horizontal_spacing= 0.08, vertical_spacing= 0.07) # specs=[[{}, {}],[{\"colspan\": 2}, None]])\n",
    "\n",
    "    marker_size = 12\n",
    "\n",
    "    marker_symbols = ['circle', 'square', 'diamond', 'cross', 'x', 'pentagon', 'star', 'diamond-wide']\n",
    "    implementations = [\"Sorted vector\", \"SBS\", \"Hash map\", \"vEB\", \"Eytzinger\", \"B-tree\", \"PstClassifierSeqan\"] # ,\"sorted-search-ey\"]\n",
    "    line_color_map = list(zip(implementations, px.colors.qualitative.Plotly))\n",
    "    iterate_on = list(zip(implementations, marker_symbols))\n",
    "\n",
    "    print(df.columns)\n",
    "\n",
    "    for imp, marker_symbol in iterate_on:\n",
    "        df_imp = df[df.implementation==imp]\n",
    "        df_eco = df_imp[df_imp.datasets==\"Virus to Virus\"]\n",
    "        df_imp = df_imp[df_imp.datasets!=\"Virus to Virus\"]\n",
    "        line_color = find_color(line_color_map, imp)\n",
    "        fig.add_trace(go.Scatter(x=df_imp[df_imp.vlmc_size=='small']['datasets'], y=df_imp[df_imp.vlmc_size=='small']['cache_references_count'], line_color=line_color, name=imp, marker_symbol=marker_symbol, mode='markers', marker_size=marker_size), 1, 1)\n",
    "        fig.add_trace(go.Scatter(x=df_imp[df_imp.vlmc_size=='medium']['datasets'], y=df_imp[df_imp.vlmc_size=='medium']['cache_references_count'], line_color=line_color, name=imp, marker_symbol=marker_symbol, showlegend = False, mode='markers', marker_size=marker_size), 2, 1)\n",
    "        fig.add_trace(go.Scatter(x=df_imp[df_imp.vlmc_size=='large']['datasets'], y=df_imp[df_imp.vlmc_size=='large']['cache_references_count'], line_color=line_color, name=imp, marker_symbol=marker_symbol, showlegend = False, mode='markers', marker_size=marker_size), 3, 1)\n",
    "\n",
    "        fig.add_trace(go.Scatter(x=df_eco[df_eco.vlmc_size=='small']['datasets'], y=df_eco[df_eco.vlmc_size=='small']['cache_references_count'], line_color=line_color, name=imp, marker_symbol=marker_symbol, showlegend = False, mode='markers', marker_size=marker_size), 1, 2)\n",
    "        fig.add_trace(go.Scatter(x=df_eco[df_eco.vlmc_size=='medium']['datasets'], y=df_eco[df_eco.vlmc_size=='medium']['cache_references_count'], line_color=line_color, name=imp, marker_symbol=marker_symbol, showlegend = False, mode='markers', marker_size=marker_size), 2, 2)\n",
    "        fig.add_trace(go.Scatter(x=df_eco[df_eco.vlmc_size=='large']['datasets'], y=df_eco[df_eco.vlmc_size=='large']['cache_references_count'], line_color=line_color, name=imp, marker_symbol=marker_symbol, showlegend = False, mode='markers', marker_size=marker_size), 3, 2)\n",
    "\n",
    "    fig.update_layout(legend=dict(\n",
    "        orientation=\"h\",\n",
    "        yanchor=\"bottom\",\n",
    "        font_size=24,\n",
    "        y=1.08),\n",
    "        margin=dict(l=100, r=60, t=60, b=80),\n",
    "        height=900,\n",
    "        width=900,\n",
    "        plot_bgcolor=\"white\")\n",
    "    fig.update_xaxes(gridcolor='LightGrey', tickfont_size=20, showline=True, linewidth=1, linecolor='LightGrey')\n",
    "    fig.update_yaxes(gridcolor='LightGrey', tickfont_size=20, showline=True, linewidth=1, linecolor='LightGrey')\n",
    "    for i in range(0, len(fig.layout.annotations)):\n",
    "        fig.layout.annotations[i][\"font\"] = {'size': 24}\n",
    "\n",
    "    if save_pdf:\n",
    "        fig.write_image(\"images/Single_run_\" + date + \"_\" + time + \"_cache_misses.pdf\") \n",
    "    fig.show()\n",
    "\n",
    "vis_bench_cache_misses_single_run([(\"05_11\", \"11_02\"), (\"05_11\", \"13_38\"), (\"05_11\", \"20_45\"), (\"05_21\", \"14_16\")], False)"
   ]
  }
 ],
 "metadata": {
  "kernelspec": {
   "display_name": "pytenv",
   "language": "python",
   "name": "python3"
  },
  "language_info": {
   "codemirror_mode": {
    "name": "ipython",
    "version": 3
   },
   "file_extension": ".py",
   "mimetype": "text/x-python",
   "name": "python",
   "nbconvert_exporter": "python",
   "pygments_lexer": "ipython3",
   "version": "3.10.11"
  },
  "orig_nbformat": 4
 },
 "nbformat": 4,
 "nbformat_minor": 2
}
