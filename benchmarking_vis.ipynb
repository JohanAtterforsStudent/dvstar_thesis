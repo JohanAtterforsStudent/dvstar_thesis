{
 "cells": [
  {
   "cell_type": "code",
   "execution_count": null,
   "metadata": {},
   "outputs": [],
   "source": [
    "import plotly.express as px \n",
    "import plotly.graph_objects as go\n",
    "from plotly.subplots import make_subplots\n",
    "import pandas as pd \n",
    "import os \n",
    "import plotly.io as pio\n",
    "pio.kaleido.scope.mathjax = None \n",
    "from math import log"
   ]
  },
  {
   "attachments": {},
   "cell_type": "markdown",
   "metadata": {},
   "source": [
    "# <b>Functions for visualizing benchmarking results</b>"
   ]
  },
  {
   "attachments": {},
   "cell_type": "markdown",
   "metadata": {},
   "source": [
    "## Speedup Visualization"
   ]
  },
  {
   "cell_type": "code",
   "execution_count": null,
   "metadata": {},
   "outputs": [],
   "source": [
    "def find_color(line_color_map, imp):\n",
    "    for i, c in line_color_map:\n",
    "        if i == imp:\n",
    "            return c \n",
    "\n",
    "def vis_bench_speedup(primary: str, secondary: str, date: str, time: str, save_pdf: bool = False):\n",
    "    df = pd.read_csv(\"csv_results/\" + date + \"/\" + primary + \"_\" + secondary + \"_\" + date + \"_\" + time + \".csv\")\n",
    "    df.sort_values('set_size', inplace=True)\n",
    "\n",
    "    exponentials = []\n",
    "    i = 1\n",
    "    for _ in df.set_size.unique():\n",
    "        exponentials.append(\"2^\" + str(i))\n",
    "        i += 1\n",
    "\n",
    "    fig = make_subplots(rows=3, \n",
    "                        cols=1, shared_yaxes=False, shared_xaxes=True,\n",
    "                        x_title=\"Number of VLMCs\",\n",
    "                        y_title=\"Speedup\",\n",
    "                        subplot_titles=(\"Small\", \"Medium\", \"Large\"), \n",
    "                        horizontal_spacing= 0.02, vertical_spacing= 0.05) # specs=[[{}, {}],[{\"colspan\": 2}, None]])\n",
    "    \n",
    "    df_pst = df[df.implementation==\"PstClassifierSeqan\"]\n",
    "    df = df[df.implementation!=\"PstClassifierSeqan\"]\n",
    "\n",
    "    marker_symbols = ['circle', 'square', 'diamond', 'cross', 'x', 'pentagon', 'star', 'diamond-wide']\n",
    "    line_dashes = ['solid', 'dot', 'dash', 'longdash', 'dashdot', 'longdashdot']\n",
    "    implementations = [\"PstClassifierSeqan\", \"sorted-vector\", \"sorted-search\", \"hashmap\", \"veb\", \"ey\", \"alt-btree\" ,\"sorted-search-ey\"]\n",
    "    line_color_map = list(zip(implementations, px.colors.qualitative.Plotly))\n",
    "    iterate_on = list(zip(list(df.implementation.unique()), marker_symbols, line_dashes))\n",
    "    for imp, marker_symbol, line_dash in iterate_on:\n",
    "        df_imp = df[df.implementation==imp]\n",
    "        line_color = find_color(line_color_map, imp)\n",
    "        fig.add_trace(go.Scatter(x=exponentials, y=list(df_pst[df_pst.vlmc_size=='small']['elapsed_time']) / df_imp[df_imp.vlmc_size=='small']['elapsed_time'], line_color=line_color, name=imp, marker_symbol=marker_symbol, line_dash=line_dash), 1, 1)\n",
    "        fig.add_trace(go.Scatter(x=exponentials, y=list(df_pst[df_pst.vlmc_size=='medium']['elapsed_time']) / df_imp[df_imp.vlmc_size=='medium']['elapsed_time'], line_color=line_color, name=imp, marker_symbol=marker_symbol, line_dash=line_dash, showlegend = False), 2, 1)\n",
    "        fig.add_trace(go.Scatter(x=exponentials, y=list(df_pst[df_pst.vlmc_size=='large']['elapsed_time']) / df_imp[df_imp.vlmc_size=='large']['elapsed_time'], line_color=line_color, name=imp, marker_symbol=marker_symbol, line_dash=line_dash, showlegend = False), 3, 1)\n",
    "    \n",
    "    fig.update_layout(legend=dict(\n",
    "        orientation=\"h\",\n",
    "        yanchor=\"bottom\",\n",
    "        font_size=24,\n",
    "        y=1.08),\n",
    "        margin=dict(l=100, r=60, t=60, b=80),\n",
    "        height=900,\n",
    "        width=900,\n",
    "        plot_bgcolor=\"white\")\n",
    "    fig.update_layout(xaxis_range=[0, i - 1.5])\n",
    "\n",
    "    fig.update_xaxes(gridcolor='LightGrey', tickfont_size=20, showline=True, linewidth=1, linecolor='LightGrey')\n",
    "    fig.update_yaxes(gridcolor='LightGrey', tickfont_size=20, showline=True, linewidth=1, linecolor='LightGrey')\n",
    "\n",
    "    for i in range(0, len(fig.layout.annotations)):\n",
    "        fig.layout.annotations[i][\"font\"] = {'size': 24}\n",
    "    \n",
    "    if save_pdf:\n",
    "        fig.write_image(\"images/\" + primary + \"_to_\" + secondary + \"_elapsed_time.pdf\") \n",
    "    fig.show()"
   ]
  },
  {
   "attachments": {},
   "cell_type": "markdown",
   "metadata": {},
   "source": [
    "## Cache-misses Visualization"
   ]
  },
  {
   "cell_type": "code",
   "execution_count": null,
   "metadata": {},
   "outputs": [],
   "source": [
    "def find_color(line_color_map, imp):\n",
    "    for i, c in line_color_map:\n",
    "        if i == imp:\n",
    "            return c \n",
    "\n",
    "def vis_bench_cache_misses(primary: str, secondary: str, date: str, time: str, save_pdf: bool = False):\n",
    "    df = pd.read_csv(\"csv_results/\" + date + \"/\" + primary + \"_\" + secondary + \"_\" + date + \"_\" + time + \".csv\")\n",
    "    df.sort_values('set_size', inplace=True)\n",
    "\n",
    "    exponentials = []\n",
    "    i = 1\n",
    "    for _ in df.set_size.unique():\n",
    "        exponentials.append(\"2^\" + str(i))\n",
    "        i += 1\n",
    "\n",
    "    fig = make_subplots(rows=3, \n",
    "                        cols=1, shared_yaxes=False, shared_xaxes=True,\n",
    "                        x_title=\"Number of VLMCs\",\n",
    "                        y_title=\"Cache misses (%)\",\n",
    "                        subplot_titles=(\"Small\", \"Medium\", \"Large\"), \n",
    "                        horizontal_spacing= 0.02, vertical_spacing= 0.05) # specs=[[{}, {}],[{\"colspan\": 2}, None]])\n",
    "    \n",
    "    marker_symbols = ['circle', 'square', 'diamond', 'cross', 'x', 'pentagon', 'star', 'diamond-wide']\n",
    "    line_dashes = ['solid', 'dot', 'dash', 'longdash', 'dashdot', 'longdashdot']\n",
    "    implementations = [\"PstClassifierSeqan\", \"sorted-vector\", \"sorted-search\", \"hashmap\", \"veb\", \"ey\", \"alt-btree\" ,\"sorted-search-ey\"]\n",
    "    line_color_map = list(zip(implementations, px.colors.qualitative.Plotly))\n",
    "    iterate_on = list(zip(list(df.implementation.unique()), marker_symbols, line_dashes))\n",
    "    for imp, marker_symbol, line_dash in iterate_on:\n",
    "        df_imp = df[df.implementation==imp]\n",
    "        line_color = find_color(line_color_map, imp)\n",
    "        fig.add_trace(go.Scatter(x=exponentials, y=df_imp[df_imp.vlmc_size=='small']['cache_misses'], line_color=line_color, name=imp, marker_symbol=marker_symbol, line_dash=line_dash), 1, 1)\n",
    "        fig.add_trace(go.Scatter(x=exponentials, y=df_imp[df_imp.vlmc_size=='medium']['cache_misses'], line_color=line_color, name=imp, marker_symbol=marker_symbol, line_dash=line_dash, showlegend = False), 2, 1)\n",
    "        fig.add_trace(go.Scatter(x=exponentials, y=df_imp[df_imp.vlmc_size=='large']['cache_misses'], line_color=line_color, name=imp, marker_symbol=marker_symbol, line_dash=line_dash, showlegend = False), 3, 1)\n",
    "    \n",
    "    fig.update_layout(legend=dict(\n",
    "        orientation=\"h\",\n",
    "        yanchor=\"bottom\",\n",
    "        font_size=24,\n",
    "        y=1.08),\n",
    "        margin=dict(l=100, r=60, t=60, b=80),\n",
    "        height=900,\n",
    "        width=900,\n",
    "        plot_bgcolor=\"white\")\n",
    "    fig.update_layout(xaxis_range=[0, i - 1.5])\n",
    "\n",
    "    fig.update_xaxes(gridcolor='LightGrey', tickfont_size=20, showline=True, linewidth=1, linecolor='LightGrey')\n",
    "    fig.update_yaxes(gridcolor='LightGrey', tickfont_size=20, showline=True, linewidth=1, linecolor='LightGrey')\n",
    "\n",
    "    for i in range(0, len(fig.layout.annotations)):\n",
    "        fig.layout.annotations[i][\"font\"] = {'size': 24}\n",
    "    \n",
    "    if save_pdf:\n",
    "        fig.write_image(\"images/\" + primary + \"_to_\" + secondary + \"_elapsed_time.pdf\") \n",
    "    fig.show()"
   ]
  },
  {
   "attachments": {},
   "cell_type": "markdown",
   "metadata": {},
   "source": [
    "# <b>PLOTS</b>"
   ]
  },
  {
   "cell_type": "code",
   "execution_count": null,
   "metadata": {},
   "outputs": [],
   "source": [
    "print(\"Speedup Human to Human\")\n",
    "vis_bench_speedup(\"human\", \"human\", \"04_28\", \"16_04\")\n",
    "print(\"Cache-misses Human to Human\")\n",
    "vis_bench_cache_misses(\"human\", \"human\", \"04_28\", \"16_04\")"
   ]
  },
  {
   "cell_type": "code",
   "execution_count": null,
   "metadata": {},
   "outputs": [],
   "source": [
    "print(\"Speedup Human to Turkey\")\n",
    "vis_bench_speedup(\"human\", \"turkey\", \"04_28\", \"16_04\")\n",
    "print(\"Cache-misses Human to Turkey\")\n",
    "vis_bench_cache_misses(\"human\", \"turkey\", \"04_28\", \"16_04\")"
   ]
  }
 ],
 "metadata": {
  "kernelspec": {
   "display_name": "pytenv",
   "language": "python",
   "name": "python3"
  },
  "language_info": {
   "codemirror_mode": {
    "name": "ipython",
    "version": 3
   },
   "file_extension": ".py",
   "mimetype": "text/x-python",
   "name": "python",
   "nbconvert_exporter": "python",
   "pygments_lexer": "ipython3",
   "version": "3.10.6"
  },
  "orig_nbformat": 4
 },
 "nbformat": 4,
 "nbformat_minor": 2
}
