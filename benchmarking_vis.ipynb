{
 "cells": [
  {
   "cell_type": "code",
   "execution_count": null,
   "metadata": {},
   "outputs": [],
   "source": [
    "import plotly.express as px \n",
    "import plotly.graph_objects as go\n",
    "from plotly.subplots import make_subplots\n",
    "import pandas as pd \n",
    "import os \n",
    "import plotly.io as pio\n",
    "pio.kaleido.scope.mathjax = None \n",
    "from math import log"
   ]
  },
  {
   "attachments": {},
   "cell_type": "markdown",
   "metadata": {},
   "source": [
    "# <b>Functions for visualizing benchmarking results</b>"
   ]
  },
  {
   "attachments": {},
   "cell_type": "markdown",
   "metadata": {},
   "source": [
    "## Speedup Visualization"
   ]
  },
  {
   "cell_type": "code",
   "execution_count": null,
   "metadata": {},
   "outputs": [],
   "source": [
    "def find_color(line_color_map, imp):\n",
    "    for i, c in line_color_map:\n",
    "        if i == imp:\n",
    "            return c \n",
    "\n",
    "def vis_bench_speedup(primary: str, secondary: str, date: str, time: str, save_pdf: bool = False):\n",
    "    df = pd.read_csv(\"csv_results/\" + date + \"/\" + primary + \"_\" + secondary + \"_\" + date + \"_\" + time + \".csv\")\n",
    "    df.sort_values('set_size', inplace=True)\n",
    "\n",
    "    exponentials = []\n",
    "    i = 5\n",
    "    for _ in df.set_size.unique():\n",
    "        exponentials.append(\"2<sup>\" + str(i) + \"</sup>\")\n",
    "        i += 1\n",
    "\n",
    "    fig = make_subplots(rows=3, \n",
    "                        cols=1, shared_yaxes=False, shared_xaxes=True,\n",
    "                        x_title=\"Number of VLMCs\",\n",
    "                        y_title=\"Speedup\",\n",
    "                        subplot_titles=(\"Small\", \"Medium\", \"Large\"), \n",
    "                        horizontal_spacing= 0.02, vertical_spacing= 0.05) # specs=[[{}, {}],[{\"colspan\": 2}, None]])\n",
    "    \n",
    "    df_pst = df[df.implementation==\"PstClassifierSeqan\"]\n",
    "    df = df[df.implementation!=\"PstClassifierSeqan\"]\n",
    "\n",
    "    marker_symbols = ['circle', 'square', 'diamond', 'cross', 'x', 'pentagon', 'star', 'diamond-wide']\n",
    "    line_dashes = ['solid', 'dot', 'dash', 'longdash', 'dashdot', 'longdashdot']\n",
    "    implementations = [\"PstClassifierSeqan\", \"sorted-vector\", \"sorted-search\", \"hashmap\", \"veb\", \"ey\", \"alt-btree\" ,\"sorted-search-ey\"]\n",
    "    line_color_map = list(zip(implementations, px.colors.qualitative.Plotly))\n",
    "    iterate_on = list(zip(list(df.implementation.unique()), marker_symbols, line_dashes))\n",
    "    for imp, marker_symbol, line_dash in iterate_on:\n",
    "        df_imp = df[df.implementation==imp]\n",
    "        line_color = find_color(line_color_map, imp)\n",
    "        fig.add_trace(go.Scatter(x=exponentials, y=list(df_pst[df_pst.vlmc_size=='small']['elapsed_time']) / df_imp[df_imp.vlmc_size=='small']['elapsed_time'], line_color=line_color, name=imp, marker_symbol=marker_symbol, line_dash=line_dash), 1, 1)\n",
    "        fig.add_trace(go.Scatter(x=exponentials, y=list(df_pst[df_pst.vlmc_size=='medium']['elapsed_time']) / df_imp[df_imp.vlmc_size=='medium']['elapsed_time'], line_color=line_color, name=imp, marker_symbol=marker_symbol, line_dash=line_dash, showlegend = False), 2, 1)\n",
    "        fig.add_trace(go.Scatter(x=exponentials, y=list(df_pst[df_pst.vlmc_size=='large']['elapsed_time']) / df_imp[df_imp.vlmc_size=='large']['elapsed_time'], line_color=line_color, name=imp, marker_symbol=marker_symbol, line_dash=line_dash, showlegend = False), 3, 1)\n",
    "    \n",
    "    fig.update_layout(legend=dict(\n",
    "        orientation=\"h\",\n",
    "        yanchor=\"bottom\",\n",
    "        font_size=24,\n",
    "        y=1.08),\n",
    "        margin=dict(l=100, r=60, t=60, b=80),\n",
    "        height=900,\n",
    "        width=900,\n",
    "        plot_bgcolor=\"white\")\n",
    "    fig.update_layout(xaxis_range=[0, i - 5.5])\n",
    "\n",
    "    fig.update_xaxes(gridcolor='LightGrey', tickfont_size=20, showline=True, linewidth=1, linecolor='LightGrey')\n",
    "    fig.update_yaxes(gridcolor='LightGrey', tickfont_size=20, showline=True, linewidth=1, linecolor='LightGrey')\n",
    "\n",
    "    for i in range(0, len(fig.layout.annotations)):\n",
    "        fig.layout.annotations[i][\"font\"] = {'size': 24}\n",
    "    \n",
    "    if save_pdf:\n",
    "        fig.write_image(\"images/\" + primary + \"_to_\" + secondary + \"_elapsed_time.pdf\") \n",
    "    fig.show()"
   ]
  },
  {
   "attachments": {},
   "cell_type": "markdown",
   "metadata": {},
   "source": [
    "## Cache-misses Visualization"
   ]
  },
  {
   "cell_type": "code",
   "execution_count": null,
   "metadata": {},
   "outputs": [],
   "source": [
    "def find_color(line_color_map, imp):\n",
    "    for i, c in line_color_map:\n",
    "        if i == imp:\n",
    "            return c \n",
    "\n",
    "def vis_bench_cache_misses(primary: str, secondary: str, date: str, time: str, save_pdf: bool = False):\n",
    "    df = pd.read_csv(\"csv_results/\" + date + \"/\" + primary + \"_\" + secondary + \"_\" + date + \"_\" + time + \".csv\")\n",
    "    df.sort_values('set_size', inplace=True)\n",
    "\n",
    "    exponentials = []\n",
    "    i = 5\n",
    "    for _ in df.set_size.unique():\n",
    "        exponentials.append(\"2<sup>\" + str(i) + \"</sup>\")\n",
    "        i += 1\n",
    "\n",
    "    fig = make_subplots(rows=3, \n",
    "                        cols=1, shared_yaxes=False, shared_xaxes=True,\n",
    "                        x_title=\"Number of VLMCs\",\n",
    "                        y_title=\"Cache misses (%)\",\n",
    "                        subplot_titles=(\"Small\", \"Medium\", \"Large\"), \n",
    "                        horizontal_spacing= 0.02, vertical_spacing= 0.05) # specs=[[{}, {}],[{\"colspan\": 2}, None]])\n",
    "    \n",
    "    marker_symbols = ['circle', 'square', 'diamond', 'cross', 'x', 'pentagon', 'star']#, 'diamond-wide']\n",
    "    line_dashes = ['solid', 'dot', 'dash', 'longdash', 'dashdot', 'longdashdot', 'dot']\n",
    "    implementations = [\"PstClassifierSeqan\", \"sorted-vector\", \"sorted-search\", \"hashmap\", \"veb\", \"ey\", \"alt-btree\"]\n",
    "    line_color_map = list(zip(implementations, px.colors.qualitative.Plotly))\n",
    "    iterate_on = list(zip(list(df.implementation.unique()), marker_symbols, line_dashes))\n",
    "    for imp, marker_symbol, line_dash in iterate_on:\n",
    "        df_imp = df[df.implementation==imp]\n",
    "        line_color = find_color(line_color_map, imp)\n",
    "        fig.add_trace(go.Scatter(x=exponentials, y=df_imp[df_imp.vlmc_size=='small']['cache_misses'], line_color=line_color, name=imp, marker_symbol=marker_symbol, line_dash=line_dash), 1, 1)\n",
    "        fig.add_trace(go.Scatter(x=exponentials, y=df_imp[df_imp.vlmc_size=='medium']['cache_misses'], line_color=line_color, name=imp, marker_symbol=marker_symbol, line_dash=line_dash, showlegend = False), 2, 1)\n",
    "        fig.add_trace(go.Scatter(x=exponentials, y=df_imp[df_imp.vlmc_size=='large']['cache_misses'], line_color=line_color, name=imp, marker_symbol=marker_symbol, line_dash=line_dash, showlegend = False), 3, 1)\n",
    "    \n",
    "    fig.update_layout(legend=dict(\n",
    "        orientation=\"h\",\n",
    "        yanchor=\"bottom\",\n",
    "        font_size=24,\n",
    "        y=1.08),\n",
    "        margin=dict(l=100, r=60, t=60, b=80),\n",
    "        height=900,\n",
    "        width=900,\n",
    "        plot_bgcolor=\"white\")\n",
    "    fig.update_layout(xaxis_range=[0, i - 5.5])\n",
    "\n",
    "    fig.update_xaxes(gridcolor='LightGrey', tickfont_size=20, showline=True, linewidth=1, linecolor='LightGrey')\n",
    "    fig.update_yaxes(gridcolor='LightGrey', tickfont_size=20, showline=True, linewidth=1, linecolor='LightGrey')\n",
    "\n",
    "    for i in range(0, len(fig.layout.annotations)):\n",
    "        fig.layout.annotations[i][\"font\"] = {'size': 24}\n",
    "    \n",
    "    if save_pdf:\n",
    "        fig.write_image(\"images/\" + primary + \"_to_\" + secondary + \"_cache_misses.pdf\") \n",
    "    fig.show()"
   ]
  },
  {
   "attachments": {},
   "cell_type": "markdown",
   "metadata": {},
   "source": [
    "# Single Run Visualization"
   ]
  },
  {
   "cell_type": "code",
   "execution_count": 16,
   "metadata": {},
   "outputs": [],
   "source": [
    "def find_color(line_color_map, imp):\n",
    "    for i, c in line_color_map:\n",
    "        if i == imp:\n",
    "            return c \n",
    "\n",
    "def vis_bench_speedup_single_run(datetime, save_pdf: bool = False):\n",
    "    datasets = [(\"human\", \"human\"), (\"human\", \"turkey\") , (\"human\", \"corn\"), (\"turkey\", \"turkey\"), (\"turkey\", \"corn\"), (\"corn\", \"corn\"), (\"ecoli\", \"ecoli\")]\n",
    "\n",
    "    df_list = []\n",
    "    for primary, secondary in datasets:\n",
    "        for date, time in datetime: \n",
    "            try:\n",
    "                df_tmp = pd.read_csv(\"csv_results/\" + date + \"/\" + primary + \"_\" + secondary + \"_\" + date + \"_\" + time + \".csv\")\n",
    "                df_tmp['datasets'] = primary.title() + \" to \" + secondary.title() \n",
    "                df_list.append(df_tmp)\n",
    "            except:\n",
    "                print(\"Couldn't read \" + primary + \" to \" + secondary + \" for \" + date + \" \" + time)\n",
    "\n",
    "    df = pd.concat(df_list)\n",
    "\n",
    "    df['elapsed_time_mean'] = df.groupby(['datasets', 'implementation', 'vlmc_size'])['elapsed_time'].transform('mean')\n",
    "    for dataset in df.datasets.unique():\n",
    "        for s in [\"small\", \"medium\", \"large\"]:\n",
    "            df_pst_time = df[(df.datasets==dataset) & (df.vlmc_size==s) & (df.implementation==\"PstClassifierSeqan\")]['elapsed_time_mean'].iloc[0]\n",
    "            df.loc[(df.datasets==dataset) & (df.vlmc_size==s), 'speedup'] = df_pst_time / df[(df.datasets==dataset) & (df.vlmc_size==s)].elapsed_time_mean \n",
    "\n",
    "    df['datasets'] = df.datasets.apply(lambda x : x.replace(\"ecoli\", \"virus\"))\n",
    "    df['implementation'] = df.implementation.apply(lambda x : x.replace(\"sorted-search\", \"SBS\"))\n",
    "    df['implementation'] = df.implementation.apply(lambda x : x.replace(\"ey\", \"Eytzinger\"))\n",
    "    df['implementation'] = df.implementation.apply(lambda x : x.replace(\"alt-btree\", \"B-tree\"))\n",
    "    df['implementation'] = df.implementation.apply(lambda x : x.replace(\"sorted-vector\", \"Sorted vector\"))\n",
    "    df['implementation'] = df.implementation.apply(lambda x : x.replace(\"hashmap\", \"Hash map\"))\n",
    "    df['implementation'] = df.implementation.apply(lambda x : x.replace(\"veb\", \"vEB\"))\n",
    "\n",
    "    fig = make_subplots(rows=3, \n",
    "                        cols=2, shared_yaxes=False, shared_xaxes=True,\n",
    "                        column_widths=[0.8, 0.2],\n",
    "                        x_title=\"\",\n",
    "                        y_title=\"Speedup\",\n",
    "                        subplot_titles=(\"Small\", \"Small\", \"Medium\", \"Medium\", \"Large\", \"Large\"), \n",
    "                        horizontal_spacing= 0.08, vertical_spacing= 0.07) # specs=[[{}, {}],[{\"colspan\": 2}, None]])\n",
    "\n",
    "    marker_size = 12\n",
    "\n",
    "    df = df[df.implementation!=\"PstClassifierSeqan\"]\n",
    "    marker_symbols = ['circle', 'square', 'diamond', 'cross', 'x', 'pentagon', 'star', 'diamond-wide']\n",
    "    implementations = [\"Sorted vector\", \"SBS\", \"Hash map\", \"vEB\", \"Eytzinger\", \"B-tree\", \"PstClassifierSeqan\"] # ,\"sorted-search-ey\"]\n",
    "    line_color_map = list(zip(implementations, px.colors.qualitative.Plotly))\n",
    "    iterate_on = list(zip(implementations, marker_symbols))\n",
    "\n",
    "    for imp, marker_symbol in iterate_on:\n",
    "        df_imp = df[df.implementation==imp]\n",
    "        df_eco = df_imp[df_imp.datasets==\"virus to virus\"]\n",
    "        df_imp = df_imp[df_imp.datasets!=\"virus to virus\"]\n",
    "        line_color = find_color(line_color_map, imp)\n",
    "        fig.add_trace(go.Scatter(x=df_imp[df_imp.vlmc_size=='small']['datasets'], y=df_imp[df_imp.vlmc_size=='small']['speedup'], line_color=line_color, name=imp, marker_symbol=marker_symbol, mode='markers', marker_size=marker_size), 1, 1)\n",
    "        fig.add_trace(go.Scatter(x=df_imp[df_imp.vlmc_size=='medium']['datasets'], y=df_imp[df_imp.vlmc_size=='medium']['speedup'], line_color=line_color, name=imp, marker_symbol=marker_symbol, showlegend = False, mode='markers', marker_size=marker_size), 2, 1)\n",
    "        fig.add_trace(go.Scatter(x=df_imp[df_imp.vlmc_size=='large']['datasets'], y=df_imp[df_imp.vlmc_size=='large']['speedup'], line_color=line_color, name=imp, marker_symbol=marker_symbol, showlegend = False, mode='markers', marker_size=marker_size), 3, 1)\n",
    "\n",
    "        fig.add_trace(go.Scatter(x=df_eco[df_eco.vlmc_size=='small']['datasets'], y=df_eco[df_eco.vlmc_size=='small']['speedup'], line_color=line_color, name=imp, marker_symbol=marker_symbol, showlegend = False, mode='markers', marker_size=marker_size), 1, 2)\n",
    "        fig.add_trace(go.Scatter(x=df_eco[df_eco.vlmc_size=='medium']['datasets'], y=df_eco[df_eco.vlmc_size=='medium']['speedup'], line_color=line_color, name=imp, marker_symbol=marker_symbol, showlegend = False, mode='markers', marker_size=marker_size), 2, 2)\n",
    "        fig.add_trace(go.Scatter(x=df_eco[df_eco.vlmc_size=='large']['datasets'], y=df_eco[df_eco.vlmc_size=='large']['speedup'], line_color=line_color, name=imp, marker_symbol=marker_symbol, showlegend = False, mode='markers', marker_size=marker_size), 3, 2)\n",
    "\n",
    "    fig.update_layout(legend=dict(\n",
    "        orientation=\"h\",\n",
    "        yanchor=\"bottom\",\n",
    "        font_size=24,\n",
    "        y=1.08),\n",
    "        margin=dict(l=100, r=60, t=60, b=80),\n",
    "        height=900,\n",
    "        width=900,\n",
    "        plot_bgcolor=\"white\")\n",
    "    fig.update_xaxes(gridcolor='LightGrey', tickfont_size=20, showline=True, linewidth=1, linecolor='LightGrey')\n",
    "    fig.update_yaxes(gridcolor='LightGrey', tickfont_size=20, showline=True, linewidth=1, linecolor='LightGrey')\n",
    "    for i in range(0, len(fig.layout.annotations)):\n",
    "        fig.layout.annotations[i][\"font\"] = {'size': 24}\n",
    "\n",
    "    if save_pdf:\n",
    "        fig.write_image(\"images/Single_run_\" + date + \"_\" + time + \"_elapsed_time.pdf\") \n",
    "    fig.show()"
   ]
  },
  {
   "cell_type": "code",
   "execution_count": null,
   "metadata": {},
   "outputs": [],
   "source": [
    "def find_color(line_color_map, imp):\n",
    "    for i, c in line_color_map:\n",
    "        if i == imp:\n",
    "            return c \n",
    "\n",
    "def vis_bench_cache_misses_single_run(datetime, save_pdf: bool = False):\n",
    "    datasets = [(\"human\", \"human\"), (\"human\", \"turkey\") , (\"human\", \"corn\"), (\"turkey\", \"turkey\"), (\"turkey\", \"corn\"), (\"corn\", \"corn\"), (\"ecoli\", \"ecoli\")]\n",
    "\n",
    "    df_list = []\n",
    "    for primary, secondary in datasets:\n",
    "        for date, time in datetime: \n",
    "            try:\n",
    "                df_tmp = pd.read_csv(\"csv_results/\" + date + \"/\" + primary + \"_\" + secondary + \"_\" + date + \"_\" + time + \".csv\")\n",
    "                df_tmp['datasets'] = primary.title() + \" to \" + secondary.title() \n",
    "                df_list.append(df_tmp)\n",
    "            except:\n",
    "                print(\"Couldn't read \" + primary + \" to \" + secondary + \" for \" + date + \" \" + time)\n",
    "\n",
    "    df = pd.concat(df_list)\n",
    "\n",
    "    df['cache_misses'] = df.groupby(['datasets', 'implementation', 'vlmc_size'])['cache_misses'].transform('mean')\n",
    "\n",
    "    df['datasets'] = df.datasets.apply(lambda x : x.replace(\"ecoli\", \"virus\"))\n",
    "    df['implementation'] = df.implementation.apply(lambda x : x.replace(\"sorted-search\", \"SBS\"))\n",
    "    df['implementation'] = df.implementation.apply(lambda x : x.replace(\"ey\", \"Eytzinger\"))\n",
    "    df['implementation'] = df.implementation.apply(lambda x : x.replace(\"alt-btree\", \"B-tree\"))\n",
    "    df['implementation'] = df.implementation.apply(lambda x : x.replace(\"sorted-vector\", \"Sorted vector\"))\n",
    "    df['implementation'] = df.implementation.apply(lambda x : x.replace(\"hashmap\", \"Hash map\"))\n",
    "    df['implementation'] = df.implementation.apply(lambda x : x.replace(\"veb\", \"vEB\"))\n",
    "\n",
    "    fig = make_subplots(rows=3, \n",
    "                        cols=1, shared_yaxes=False, shared_xaxes=True,\n",
    "                        x_title=\"\",\n",
    "                        y_title=\"Cache misses (%)\",\n",
    "                        subplot_titles=(\"Small\", \"Medium\", \"Large\"), \n",
    "                        horizontal_spacing= 0.02, vertical_spacing= 0.05) # specs=[[{}, {}],[{\"colspan\": 2}, None]])\n",
    "\n",
    "    marker_size = 12\n",
    "\n",
    "    marker_symbols = ['circle', 'square', 'diamond', 'cross', 'x', 'pentagon', 'star', 'diamond-wide']\n",
    "    implementations = [\"Sorted vector\", \"SBS\", \"Hash map\", \"vEB\", \"Eytzinger\", \"B-tree\", \"PstClassifierSeqan\"] # ,\"sorted-search-ey\"]\n",
    "    line_color_map = list(zip(implementations, px.colors.qualitative.Plotly))\n",
    "    iterate_on = list(zip(implementations, marker_symbols))\n",
    "\n",
    "    for imp, marker_symbol in iterate_on:\n",
    "        df_imp = df[df.implementation==imp]\n",
    "        line_color = find_color(line_color_map, imp)\n",
    "        fig.add_trace(go.Scatter(x=df_imp[df_imp.vlmc_size=='small']['datasets'], y=df_imp[df_imp.vlmc_size=='small']['cache_misses'], line_color=line_color, name=imp, marker_symbol=marker_symbol, mode='markers', marker_size=marker_size), 1, 1)\n",
    "        fig.add_trace(go.Scatter(x=df_imp[df_imp.vlmc_size=='medium']['datasets'], y=df_imp[df_imp.vlmc_size=='medium']['cache_misses'], line_color=line_color, name=imp, marker_symbol=marker_symbol, showlegend = False, mode='markers', marker_size=marker_size), 2, 1)\n",
    "        fig.add_trace(go.Scatter(x=df_imp[df_imp.vlmc_size=='large']['datasets'], y=df_imp[df_imp.vlmc_size=='large']['cache_misses'], line_color=line_color, name=imp, marker_symbol=marker_symbol, showlegend = False, mode='markers', marker_size=marker_size), 3, 1)\n",
    "\n",
    "    fig.update_layout(legend=dict(\n",
    "        orientation=\"h\",\n",
    "        yanchor=\"bottom\",\n",
    "        font_size=24,\n",
    "        y=1.08),\n",
    "        margin=dict(l=100, r=60, t=60, b=80),\n",
    "        height=900,\n",
    "        width=900,\n",
    "        plot_bgcolor=\"white\")\n",
    "    fig.update_xaxes(gridcolor='LightGrey', tickfont_size=20, showline=True, linewidth=1, linecolor='LightGrey')\n",
    "    fig.update_yaxes(gridcolor='LightGrey', tickfont_size=20, showline=True, linewidth=1, linecolor='LightGrey')\n",
    "    for i in range(0, len(fig.layout.annotations)):\n",
    "        fig.layout.annotations[i][\"font\"] = {'size': 24}\n",
    "\n",
    "    if save_pdf:\n",
    "        fig.write_image(\"images/Single_run_\" + date + \"_\" + time + \"_cache_misses.pdf\") \n",
    "    fig.show()"
   ]
  },
  {
   "cell_type": "code",
   "execution_count": null,
   "metadata": {},
   "outputs": [],
   "source": [
    "def find_color(line_color_map, imp):\n",
    "    for i, c in line_color_map:\n",
    "        if i == imp:\n",
    "            return c \n",
    "        \n",
    "def ahmdals(date, time, species, to_pdf: bool = False):\n",
    "    df = pd.read_csv(f'csv_results/{date}/{species}_parallelization_{date}_{time}.csv')\n",
    "    df['implementation'] = df.implementation.apply(lambda x : x.replace(\"sorted-search\", \"SBS\"))\n",
    "    df['implementation'] = df.implementation.apply(lambda x : x.replace(\"ey\", \"Eytzinger\"))\n",
    "    df['implementation'] = df.implementation.apply(lambda x : x.replace(\"alt-btree\", \"B-tree\"))\n",
    "    df['implementation'] = df.implementation.apply(lambda x : x.replace(\"sorted-vector\", \"Sorted vector\"))\n",
    "    df['implementation'] = df.implementation.apply(lambda x : x.replace(\"hashmap\", \"Hashmap\"))\n",
    "    df['implementation'] = df.implementation.apply(lambda x : x.replace(\"veb\", \"vEB\"))\n",
    "    \n",
    "    size_vlmc = \"large\"\n",
    "    containers = [\"Sorted vector\", \"SBS\", \"Hashmap\"]#, \"vEB\", \"Eytzinger\", \"B-tree\", \"PstClassifierSeqan\"]\n",
    "    p=0.99\n",
    "\n",
    "    line_color_map = list(zip(containers, px.colors.qualitative.Plotly))\n",
    "    line_dashes = ['solid', 'dot', 'dash', 'longdash', 'dashdot', 'longdashdot']\n",
    "    iterate_on = zip(containers, line_dashes)\n",
    "\n",
    "    fig = go.Figure()\n",
    "    for container, line_dash in iterate_on:\n",
    "        time = df[(df.implementation==container) & (df.vlmc_size==size_vlmc)]['elapsed_time']\n",
    "        cores = df[(df.implementation==container) & (df.vlmc_size==size_vlmc)]['nr_cores_used']\n",
    "        cores = [str(x) for x in cores]\n",
    "        single_core_time = time.iloc[0]\n",
    "        speedup = single_core_time / time\n",
    "        line_color = find_color(line_color_map, container)\n",
    "        fig.add_trace(go.Scatter(mode='lines', x=cores, y=speedup, name=container, line_color=line_color, line_dash=line_dash))\n",
    "\n",
    "    cores = df[(df.implementation==container) & (df.vlmc_size==size_vlmc)]['nr_cores_used']\n",
    "    th_speedups = [1 / ( (1 - p) + (p / s)) for s in cores]\n",
    "    cores = [str(x) for x in cores]\n",
    "    fig.add_trace(go.Scatter(mode='lines', x=cores, y=th_speedups, line_color='#636EFA', name=\"Theoretical\"))\n",
    "    fig.update_layout(yaxis_tick0=0, yaxis_dtick=2, yaxis_title=\"Parallel speedup\", xaxis_title=\"Number of cores used\", yaxis_range=[0,25], xaxis_range=[0,len(cores)], font={'size': 20}, plot_bgcolor=\"white\", yaxis_gridcolor='LightGrey'\n",
    "    ,xaxis_gridcolor='LightGrey')\n",
    "    fig.update_layout(\n",
    "        autosize=False,\n",
    "        width=1000,\n",
    "        height=600)\n",
    "    fig.show()\n",
    "    if to_pdf:\n",
    "        fig.write_image(\"images/virus-parallel-to-ahmdals.pdf\")"
   ]
  },
  {
   "attachments": {},
   "cell_type": "markdown",
   "metadata": {},
   "source": [
    "# Speedup to cache misses"
   ]
  },
  {
   "cell_type": "code",
   "execution_count": null,
   "metadata": {},
   "outputs": [],
   "source": [
    "def find_color(line_color_map, imp):\n",
    "    for i, c in line_color_map:\n",
    "        if i == imp:\n",
    "            return c \n",
    "\n",
    "def vis_bench_speedup_to_cache_miss_single_run(datetime, save_pdf: bool = False):\n",
    "    datasets = [(\"human\", \"human\"), (\"human\", \"turkey\") , (\"human\", \"corn\"), (\"turkey\", \"turkey\"), (\"turkey\", \"corn\"), (\"corn\", \"corn\"), (\"ecoli\", \"ecoli\")]\n",
    "\n",
    "    df_list = []\n",
    "    for primary, secondary in datasets:\n",
    "        for date, time in datetime: \n",
    "            df_tmp = pd.read_csv(\"csv_results/\" + date + \"/\" + primary + \"_\" + secondary + \"_\" + date + \"_\" + time + \".csv\")\n",
    "            df_tmp['datasets'] = primary + \" to \" + secondary \n",
    "            df_list.append(df_tmp)\n",
    "\n",
    "    df = pd.concat(df_list)\n",
    "\n",
    "    df['elapsed_time_mean'] = df.groupby(['datasets', 'implementation', 'vlmc_size'])['elapsed_time'].transform('mean')\n",
    "    for dataset in df.datasets.unique():\n",
    "        for s in [\"small\", \"medium\", \"large\"]:\n",
    "            df_pst_time = df[(df.datasets==dataset) & (df.vlmc_size==s) & (df.implementation==\"PstClassifierSeqan\")]['elapsed_time_mean'].iloc[0]\n",
    "            df.loc[(df.datasets==dataset) & (df.vlmc_size==s), 'speedup'] = df_pst_time / df[(df.datasets==dataset) & (df.vlmc_size==s)].elapsed_time_mean \n",
    "\n",
    "    df['datasets'] = df.datasets.apply(lambda x : x.replace(\"ecoli\", \"virus\"))\n",
    "    df['implementation'] = df.implementation.apply(lambda x : x.replace(\"sorted-search\", \"SBS\"))\n",
    "    df['implementation'] = df.implementation.apply(lambda x : x.replace(\"ey\", \"Eytzinger\"))\n",
    "    df['implementation'] = df.implementation.apply(lambda x : x.replace(\"alt-btree\", \"B-tree\"))\n",
    "    df['implementation'] = df.implementation.apply(lambda x : x.replace(\"sorted-vector\", \"Sorted vector\"))\n",
    "    df['implementation'] = df.implementation.apply(lambda x : x.replace(\"hashmap\", \"Hashmap\"))\n",
    "    df['implementation'] = df.implementation.apply(lambda x : x.replace(\"veb\", \"vEB\"))\n",
    "\n",
    "    df.loc[(df.datasets!=\"virus to virus\") & (df.vlmc_size==\"medium\"), \"max_depth\"] = 10\n",
    "    df.loc[(df.datasets!=\"virus to virus\") & (df.vlmc_size==\"large\"), \"max_depth\"] = 15\n",
    "\n",
    "    fig = make_subplots(rows=1, \n",
    "                        cols=1, shared_yaxes=False, shared_xaxes=True,\n",
    "                        x_title=\"Cache misses (%)\",\n",
    "                        y_title=\"Speedup\", \n",
    "                        horizontal_spacing= 0.08, vertical_spacing= 0.07) # specs=[[{}, {}],[{\"colspan\": 2}, None]])\n",
    "\n",
    "    marker_size = 12\n",
    "\n",
    "    df = df[df.implementation!=\"PstClassifierSeqan\"]\n",
    "    marker_symbols = ['circle', 'square', 'diamond', 'cross', 'x', 'pentagon', 'star', 'diamond-wide']\n",
    "    implementations = [\"Sorted vector\", \"SBS\", \"Hashmap\"] # , \"vEB\", \"Eytzinger\", \"B-tree\", \"PstClassifierSeqan\"] # ,\"sorted-search-ey\"]\n",
    "    line_color_map = list(zip(implementations, px.colors.qualitative.Plotly))\n",
    "    iterate_on = list(zip(implementations, marker_symbols))\n",
    "\n",
    "    for imp, marker_symbol in iterate_on:\n",
    "        df_imp = df[df.implementation==imp]\n",
    "        line_color = find_color(line_color_map, imp)\n",
    "        fig.add_trace(go.Scatter(x=df_imp['cache_misses'], y=df_imp['speedup'], line_color=line_color, name=imp, marker_symbol=marker_symbol, mode='markers', marker_size=marker_size), 1, 1)\n",
    "        # fig.add_trace(go.Scatter(x=df_imp[df_imp.vlmc_size=='medium']['cache_misses'], y=df_imp[df_imp.vlmc_size=='medium']['speedup'], line_color=line_color, name=imp, marker_symbol=marker_symbol, showlegend = False, mode='markers', marker_size=marker_size), 2, 1)\n",
    "        # fig.add_trace(go.Scatter(x=df_imp[df_imp.vlmc_size=='large']['cache_misses'], y=df_imp[df_imp.vlmc_size=='large']['speedup'], line_color=line_color, name=imp, marker_symbol=marker_symbol, showlegend = False, mode='markers', marker_size=marker_size), 3, 1)\n",
    "\n",
    "    fig.update_layout(legend=dict(\n",
    "        orientation=\"h\",\n",
    "        yanchor=\"bottom\",\n",
    "        font_size=24,\n",
    "        y=1.08),\n",
    "        margin=dict(l=100, r=60, t=60, b=80),\n",
    "        height=600,\n",
    "        width=900,\n",
    "        plot_bgcolor=\"white\")\n",
    "    fig.update_xaxes(gridcolor='LightGrey', tickfont_size=20, showline=True, linewidth=1, linecolor='LightGrey')\n",
    "    fig.update_yaxes(gridcolor='LightGrey', tickfont_size=20, showline=True, linewidth=1, linecolor='LightGrey')\n",
    "    for i in range(0, len(fig.layout.annotations)):\n",
    "        fig.layout.annotations[i][\"font\"] = {'size': 24}\n",
    "\n",
    "    if save_pdf:\n",
    "        fig.write_image(\"images/Single_run_\" + date + \"_\" + time + \"_elapsed_time.pdf\") \n",
    "    fig.show()"
   ]
  },
  {
   "attachments": {},
   "cell_type": "markdown",
   "metadata": {},
   "source": [
    "# <b>PLOTS</b>"
   ]
  },
  {
   "cell_type": "code",
   "execution_count": null,
   "metadata": {},
   "outputs": [],
   "source": [
    "vis_bench_speedup_to_cache_miss_single_run([(\"05_11\", \"11_02\"), (\"05_11\", \"13_38\"), (\"05_11\", \"20_45\")], False)"
   ]
  },
  {
   "cell_type": "code",
   "execution_count": 17,
   "metadata": {},
   "outputs": [
    {
     "name": "stdout",
     "output_type": "stream",
     "text": [
      "Couldn't read ecoli to ecoli for 05_21 14_16\n"
     ]
    },
    {
     "data": {
      "application/vnd.plotly.v1+json": {
       "config": {
        "plotlyServerURL": "https://plot.ly"
       },
       "data": [
        {
         "line": {
          "color": "#636EFA"
         },
         "marker": {
          "size": 12,
          "symbol": "circle"
         },
         "mode": "markers",
         "name": "Sorted vector",
         "type": "scatter",
         "x": [
          "Human to Human",
          "Human to Human",
          "Human to Human",
          "Human to Human",
          "Human to Turkey",
          "Human to Turkey",
          "Human to Turkey",
          "Human to Turkey",
          "Human to Corn",
          "Human to Corn",
          "Human to Corn",
          "Human to Corn",
          "Turkey to Turkey",
          "Turkey to Turkey",
          "Turkey to Turkey",
          "Turkey to Turkey",
          "Turkey to Corn",
          "Turkey to Corn",
          "Turkey to Corn",
          "Turkey to Corn",
          "Corn to Corn",
          "Corn to Corn",
          "Corn to Corn",
          "Corn to Corn",
          "Ecoli to Ecoli",
          "Ecoli to Ecoli",
          "Ecoli to Ecoli"
         ],
         "xaxis": "x",
         "y": [
          21.12097631209077,
          21.12097631209077,
          21.12097631209077,
          21.12097631209077,
          8.379894559468793,
          8.379894559468793,
          8.379894559468793,
          8.379894559468793,
          15.534877493640384,
          15.534877493640384,
          15.534877493640384,
          15.534877493640384,
          12.883950374485797,
          12.883950374485797,
          12.883950374485797,
          12.883950374485797,
          9.072518568534774,
          9.072518568534774,
          9.072518568534774,
          9.072518568534774,
          7.551050075249692,
          7.551050075249692,
          7.551050075249692,
          7.551050075249692,
          27.986797255900246,
          27.986797255900246,
          27.986797255900246
         ],
         "yaxis": "y"
        },
        {
         "line": {
          "color": "#636EFA"
         },
         "marker": {
          "size": 12,
          "symbol": "circle"
         },
         "mode": "markers",
         "name": "Sorted vector",
         "showlegend": false,
         "type": "scatter",
         "x": [
          "Human to Human",
          "Human to Human",
          "Human to Human",
          "Human to Human",
          "Human to Turkey",
          "Human to Turkey",
          "Human to Turkey",
          "Human to Turkey",
          "Human to Corn",
          "Human to Corn",
          "Human to Corn",
          "Human to Corn",
          "Turkey to Turkey",
          "Turkey to Turkey",
          "Turkey to Turkey",
          "Turkey to Turkey",
          "Turkey to Corn",
          "Turkey to Corn",
          "Turkey to Corn",
          "Turkey to Corn",
          "Corn to Corn",
          "Corn to Corn",
          "Corn to Corn",
          "Corn to Corn",
          "Ecoli to Ecoli",
          "Ecoli to Ecoli",
          "Ecoli to Ecoli"
         ],
         "xaxis": "x3",
         "y": [
          11.157027150052437,
          11.157027150052437,
          11.157027150052437,
          11.157027150052437,
          5.081946913392488,
          5.081946913392488,
          5.081946913392488,
          5.081946913392488,
          6.31723030837257,
          6.31723030837257,
          6.31723030837257,
          6.31723030837257,
          3.6199498414501248,
          3.6199498414501248,
          3.6199498414501248,
          3.6199498414501248,
          4.311524960832214,
          4.311524960832214,
          4.311524960832214,
          4.311524960832214,
          7.813628513110379,
          7.813628513110379,
          7.813628513110379,
          7.813628513110379,
          21.327669663143336,
          21.327669663143336,
          21.327669663143336
         ],
         "yaxis": "y3"
        },
        {
         "line": {
          "color": "#636EFA"
         },
         "marker": {
          "size": 12,
          "symbol": "circle"
         },
         "mode": "markers",
         "name": "Sorted vector",
         "showlegend": false,
         "type": "scatter",
         "x": [
          "Human to Human",
          "Human to Human",
          "Human to Human",
          "Human to Human",
          "Human to Turkey",
          "Human to Turkey",
          "Human to Turkey",
          "Human to Turkey",
          "Human to Corn",
          "Human to Corn",
          "Human to Corn",
          "Human to Corn",
          "Turkey to Turkey",
          "Turkey to Turkey",
          "Turkey to Turkey",
          "Turkey to Turkey",
          "Turkey to Corn",
          "Turkey to Corn",
          "Turkey to Corn",
          "Turkey to Corn",
          "Corn to Corn",
          "Corn to Corn",
          "Corn to Corn",
          "Corn to Corn",
          "Ecoli to Ecoli",
          "Ecoli to Ecoli",
          "Ecoli to Ecoli"
         ],
         "xaxis": "x5",
         "y": [
          6.825847531790127,
          6.825847531790127,
          6.825847531790127,
          6.825847531790127,
          4.787093826336045,
          4.787093826336045,
          4.787093826336045,
          4.787093826336045,
          4.140747873535548,
          4.140747873535548,
          4.140747873535548,
          4.140747873535548,
          4.9978794785241165,
          4.9978794785241165,
          4.9978794785241165,
          4.9978794785241165,
          3.9597832659497527,
          3.9597832659497527,
          3.9597832659497527,
          3.9597832659497527,
          5.485298128176522,
          5.485298128176522,
          5.485298128176522,
          5.485298128176522,
          18.91204917291874,
          18.91204917291874,
          18.91204917291874
         ],
         "yaxis": "y5"
        },
        {
         "line": {
          "color": "#636EFA"
         },
         "marker": {
          "size": 12,
          "symbol": "circle"
         },
         "mode": "markers",
         "name": "Sorted vector",
         "showlegend": false,
         "type": "scatter",
         "x": [],
         "xaxis": "x2",
         "y": [],
         "yaxis": "y2"
        },
        {
         "line": {
          "color": "#636EFA"
         },
         "marker": {
          "size": 12,
          "symbol": "circle"
         },
         "mode": "markers",
         "name": "Sorted vector",
         "showlegend": false,
         "type": "scatter",
         "x": [],
         "xaxis": "x4",
         "y": [],
         "yaxis": "y4"
        },
        {
         "line": {
          "color": "#636EFA"
         },
         "marker": {
          "size": 12,
          "symbol": "circle"
         },
         "mode": "markers",
         "name": "Sorted vector",
         "showlegend": false,
         "type": "scatter",
         "x": [],
         "xaxis": "x6",
         "y": [],
         "yaxis": "y6"
        },
        {
         "line": {
          "color": "#EF553B"
         },
         "marker": {
          "size": 12,
          "symbol": "square"
         },
         "mode": "markers",
         "name": "SBS",
         "type": "scatter",
         "x": [
          "Human to Human",
          "Human to Human",
          "Human to Human",
          "Human to Human",
          "Human to Turkey",
          "Human to Turkey",
          "Human to Turkey",
          "Human to Turkey",
          "Human to Corn",
          "Human to Corn",
          "Human to Corn",
          "Human to Corn",
          "Turkey to Turkey",
          "Turkey to Turkey",
          "Turkey to Turkey",
          "Turkey to Turkey",
          "Turkey to Corn",
          "Turkey to Corn",
          "Turkey to Corn",
          "Turkey to Corn",
          "Corn to Corn",
          "Corn to Corn",
          "Corn to Corn",
          "Corn to Corn",
          "Ecoli to Ecoli",
          "Ecoli to Ecoli",
          "Ecoli to Ecoli"
         ],
         "xaxis": "x",
         "y": [
          8.22829974914806,
          8.22829974914806,
          8.22829974914806,
          8.22829974914806,
          7.868887515480221,
          7.868887515480221,
          7.868887515480221,
          7.868887515480221,
          9.003367630398683,
          9.003367630398683,
          9.003367630398683,
          9.003367630398683,
          21.570980399330484,
          21.570980399330484,
          21.570980399330484,
          21.570980399330484,
          9.226015545606856,
          9.226015545606856,
          9.226015545606856,
          9.226015545606856,
          4.7093538577717,
          4.7093538577717,
          4.7093538577717,
          4.7093538577717,
          13.806571770653186,
          13.806571770653186,
          13.806571770653186
         ],
         "yaxis": "y"
        },
        {
         "line": {
          "color": "#EF553B"
         },
         "marker": {
          "size": 12,
          "symbol": "square"
         },
         "mode": "markers",
         "name": "SBS",
         "showlegend": false,
         "type": "scatter",
         "x": [
          "Human to Human",
          "Human to Human",
          "Human to Human",
          "Human to Human",
          "Human to Turkey",
          "Human to Turkey",
          "Human to Turkey",
          "Human to Turkey",
          "Human to Corn",
          "Human to Corn",
          "Human to Corn",
          "Human to Corn",
          "Turkey to Turkey",
          "Turkey to Turkey",
          "Turkey to Turkey",
          "Turkey to Turkey",
          "Turkey to Corn",
          "Turkey to Corn",
          "Turkey to Corn",
          "Turkey to Corn",
          "Corn to Corn",
          "Corn to Corn",
          "Corn to Corn",
          "Corn to Corn",
          "Ecoli to Ecoli",
          "Ecoli to Ecoli",
          "Ecoli to Ecoli"
         ],
         "xaxis": "x3",
         "y": [
          5.017638171215891,
          5.017638171215891,
          5.017638171215891,
          5.017638171215891,
          5.0408544145189795,
          5.0408544145189795,
          5.0408544145189795,
          5.0408544145189795,
          5.289290911000106,
          5.289290911000106,
          5.289290911000106,
          5.289290911000106,
          6.507952351483383,
          6.507952351483383,
          6.507952351483383,
          6.507952351483383,
          4.969464628879308,
          4.969464628879308,
          4.969464628879308,
          4.969464628879308,
          6.02086766310726,
          6.02086766310726,
          6.02086766310726,
          6.02086766310726,
          16.28481454243744,
          16.28481454243744,
          16.28481454243744
         ],
         "yaxis": "y3"
        },
        {
         "line": {
          "color": "#EF553B"
         },
         "marker": {
          "size": 12,
          "symbol": "square"
         },
         "mode": "markers",
         "name": "SBS",
         "showlegend": false,
         "type": "scatter",
         "x": [
          "Human to Human",
          "Human to Human",
          "Human to Human",
          "Human to Human",
          "Human to Turkey",
          "Human to Turkey",
          "Human to Turkey",
          "Human to Turkey",
          "Human to Corn",
          "Human to Corn",
          "Human to Corn",
          "Human to Corn",
          "Turkey to Turkey",
          "Turkey to Turkey",
          "Turkey to Turkey",
          "Turkey to Turkey",
          "Turkey to Corn",
          "Turkey to Corn",
          "Turkey to Corn",
          "Turkey to Corn",
          "Corn to Corn",
          "Corn to Corn",
          "Corn to Corn",
          "Corn to Corn",
          "Ecoli to Ecoli",
          "Ecoli to Ecoli",
          "Ecoli to Ecoli"
         ],
         "xaxis": "x5",
         "y": [
          6.24869733837263,
          6.24869733837263,
          6.24869733837263,
          6.24869733837263,
          6.64353785462993,
          6.64353785462993,
          6.64353785462993,
          6.64353785462993,
          5.134680637232952,
          5.134680637232952,
          5.134680637232952,
          5.134680637232952,
          7.2150682681347345,
          7.2150682681347345,
          7.2150682681347345,
          7.2150682681347345,
          3.9814505746030227,
          3.9814505746030227,
          3.9814505746030227,
          3.9814505746030227,
          6.5916728735289745,
          6.5916728735289745,
          6.5916728735289745,
          6.5916728735289745,
          13.995852565388986,
          13.995852565388986,
          13.995852565388986
         ],
         "yaxis": "y5"
        },
        {
         "line": {
          "color": "#EF553B"
         },
         "marker": {
          "size": 12,
          "symbol": "square"
         },
         "mode": "markers",
         "name": "SBS",
         "showlegend": false,
         "type": "scatter",
         "x": [],
         "xaxis": "x2",
         "y": [],
         "yaxis": "y2"
        },
        {
         "line": {
          "color": "#EF553B"
         },
         "marker": {
          "size": 12,
          "symbol": "square"
         },
         "mode": "markers",
         "name": "SBS",
         "showlegend": false,
         "type": "scatter",
         "x": [],
         "xaxis": "x4",
         "y": [],
         "yaxis": "y4"
        },
        {
         "line": {
          "color": "#EF553B"
         },
         "marker": {
          "size": 12,
          "symbol": "square"
         },
         "mode": "markers",
         "name": "SBS",
         "showlegend": false,
         "type": "scatter",
         "x": [],
         "xaxis": "x6",
         "y": [],
         "yaxis": "y6"
        },
        {
         "line": {
          "color": "#00CC96"
         },
         "marker": {
          "size": 12,
          "symbol": "diamond"
         },
         "mode": "markers",
         "name": "Hash map",
         "type": "scatter",
         "x": [
          "Human to Human",
          "Human to Human",
          "Human to Human",
          "Human to Human",
          "Human to Turkey",
          "Human to Turkey",
          "Human to Turkey",
          "Human to Turkey",
          "Human to Corn",
          "Human to Corn",
          "Human to Corn",
          "Human to Corn",
          "Turkey to Turkey",
          "Turkey to Turkey",
          "Turkey to Turkey",
          "Turkey to Turkey",
          "Turkey to Corn",
          "Turkey to Corn",
          "Turkey to Corn",
          "Turkey to Corn",
          "Corn to Corn",
          "Corn to Corn",
          "Corn to Corn",
          "Corn to Corn",
          "Ecoli to Ecoli",
          "Ecoli to Ecoli",
          "Ecoli to Ecoli"
         ],
         "xaxis": "x",
         "y": [
          16.63046705595494,
          16.63046705595494,
          16.63046705595494,
          16.63046705595494,
          16.842683253973576,
          16.842683253973576,
          16.842683253973576,
          16.842683253973576,
          14.217620389658132,
          14.217620389658132,
          14.217620389658132,
          14.217620389658132,
          17.015771778185016,
          17.015771778185016,
          17.015771778185016,
          17.015771778185016,
          4.865017524548851,
          4.865017524548851,
          4.865017524548851,
          4.865017524548851,
          5.636542129330572,
          5.636542129330572,
          5.636542129330572,
          5.636542129330572,
          18.693756979718287,
          18.693756979718287,
          18.693756979718287
         ],
         "yaxis": "y"
        },
        {
         "line": {
          "color": "#00CC96"
         },
         "marker": {
          "size": 12,
          "symbol": "diamond"
         },
         "mode": "markers",
         "name": "Hash map",
         "showlegend": false,
         "type": "scatter",
         "x": [
          "Human to Human",
          "Human to Human",
          "Human to Human",
          "Human to Human",
          "Human to Turkey",
          "Human to Turkey",
          "Human to Turkey",
          "Human to Turkey",
          "Human to Corn",
          "Human to Corn",
          "Human to Corn",
          "Human to Corn",
          "Turkey to Turkey",
          "Turkey to Turkey",
          "Turkey to Turkey",
          "Turkey to Turkey",
          "Turkey to Corn",
          "Turkey to Corn",
          "Turkey to Corn",
          "Turkey to Corn",
          "Corn to Corn",
          "Corn to Corn",
          "Corn to Corn",
          "Corn to Corn",
          "Ecoli to Ecoli",
          "Ecoli to Ecoli",
          "Ecoli to Ecoli"
         ],
         "xaxis": "x3",
         "y": [
          5.194636218799788,
          5.194636218799788,
          5.194636218799788,
          5.194636218799788,
          6.628352656544021,
          6.628352656544021,
          6.628352656544021,
          6.628352656544021,
          5.490778419839308,
          5.490778419839308,
          5.490778419839308,
          5.490778419839308,
          3.714702899624138,
          3.714702899624138,
          3.714702899624138,
          3.714702899624138,
          4.138757742629671,
          4.138757742629671,
          4.138757742629671,
          4.138757742629671,
          4.625902824900771,
          4.625902824900771,
          4.625902824900771,
          4.625902824900771,
          23.554890039903665,
          23.554890039903665,
          23.554890039903665
         ],
         "yaxis": "y3"
        },
        {
         "line": {
          "color": "#00CC96"
         },
         "marker": {
          "size": 12,
          "symbol": "diamond"
         },
         "mode": "markers",
         "name": "Hash map",
         "showlegend": false,
         "type": "scatter",
         "x": [
          "Human to Human",
          "Human to Human",
          "Human to Human",
          "Human to Human",
          "Human to Turkey",
          "Human to Turkey",
          "Human to Turkey",
          "Human to Turkey",
          "Human to Corn",
          "Human to Corn",
          "Human to Corn",
          "Human to Corn",
          "Turkey to Turkey",
          "Turkey to Turkey",
          "Turkey to Turkey",
          "Turkey to Turkey",
          "Turkey to Corn",
          "Turkey to Corn",
          "Turkey to Corn",
          "Turkey to Corn",
          "Corn to Corn",
          "Corn to Corn",
          "Corn to Corn",
          "Corn to Corn",
          "Ecoli to Ecoli",
          "Ecoli to Ecoli",
          "Ecoli to Ecoli"
         ],
         "xaxis": "x5",
         "y": [
          4.5785268012815825,
          4.5785268012815825,
          4.5785268012815825,
          4.5785268012815825,
          4.678362573099416,
          4.678362573099416,
          4.678362573099416,
          4.678362573099416,
          3.2947260886221423,
          3.2947260886221423,
          3.2947260886221423,
          3.2947260886221423,
          5.3843725042254045,
          5.3843725042254045,
          5.3843725042254045,
          5.3843725042254045,
          3.189449357297019,
          3.189449357297019,
          3.189449357297019,
          3.189449357297019,
          4.179644847454425,
          4.179644847454425,
          4.179644847454425,
          4.179644847454425,
          15.227365356622997,
          15.227365356622997,
          15.227365356622997
         ],
         "yaxis": "y5"
        },
        {
         "line": {
          "color": "#00CC96"
         },
         "marker": {
          "size": 12,
          "symbol": "diamond"
         },
         "mode": "markers",
         "name": "Hash map",
         "showlegend": false,
         "type": "scatter",
         "x": [],
         "xaxis": "x2",
         "y": [],
         "yaxis": "y2"
        },
        {
         "line": {
          "color": "#00CC96"
         },
         "marker": {
          "size": 12,
          "symbol": "diamond"
         },
         "mode": "markers",
         "name": "Hash map",
         "showlegend": false,
         "type": "scatter",
         "x": [],
         "xaxis": "x4",
         "y": [],
         "yaxis": "y4"
        },
        {
         "line": {
          "color": "#00CC96"
         },
         "marker": {
          "size": 12,
          "symbol": "diamond"
         },
         "mode": "markers",
         "name": "Hash map",
         "showlegend": false,
         "type": "scatter",
         "x": [],
         "xaxis": "x6",
         "y": [],
         "yaxis": "y6"
        },
        {
         "line": {
          "color": "#AB63FA"
         },
         "marker": {
          "size": 12,
          "symbol": "cross"
         },
         "mode": "markers",
         "name": "vEB",
         "type": "scatter",
         "x": [
          "Human to Human",
          "Human to Human",
          "Human to Human",
          "Human to Human",
          "Human to Turkey",
          "Human to Turkey",
          "Human to Turkey",
          "Human to Turkey",
          "Human to Corn",
          "Human to Corn",
          "Human to Corn",
          "Human to Corn",
          "Turkey to Turkey",
          "Turkey to Turkey",
          "Turkey to Turkey",
          "Turkey to Turkey",
          "Turkey to Corn",
          "Turkey to Corn",
          "Turkey to Corn",
          "Turkey to Corn",
          "Corn to Corn",
          "Corn to Corn",
          "Corn to Corn",
          "Corn to Corn",
          "Ecoli to Ecoli",
          "Ecoli to Ecoli",
          "Ecoli to Ecoli"
         ],
         "xaxis": "x",
         "y": [
          3.3911751215484816,
          3.3911751215484816,
          3.3911751215484816,
          3.3911751215484816,
          4.993451024349265,
          4.993451024349265,
          4.993451024349265,
          4.993451024349265,
          8.956387495175608,
          8.956387495175608,
          8.956387495175608,
          8.956387495175608,
          8.490549735392591,
          8.490549735392591,
          8.490549735392591,
          8.490549735392591,
          5.240720386481871,
          5.240720386481871,
          5.240720386481871,
          5.240720386481871,
          2.896784521614759,
          2.896784521614759,
          2.896784521614759,
          2.896784521614759,
          5.157737799423516,
          5.157737799423516,
          5.157737799423516
         ],
         "yaxis": "y"
        },
        {
         "line": {
          "color": "#AB63FA"
         },
         "marker": {
          "size": 12,
          "symbol": "cross"
         },
         "mode": "markers",
         "name": "vEB",
         "showlegend": false,
         "type": "scatter",
         "x": [
          "Human to Human",
          "Human to Human",
          "Human to Human",
          "Human to Human",
          "Human to Turkey",
          "Human to Turkey",
          "Human to Turkey",
          "Human to Turkey",
          "Human to Corn",
          "Human to Corn",
          "Human to Corn",
          "Human to Corn",
          "Turkey to Turkey",
          "Turkey to Turkey",
          "Turkey to Turkey",
          "Turkey to Turkey",
          "Turkey to Corn",
          "Turkey to Corn",
          "Turkey to Corn",
          "Turkey to Corn",
          "Corn to Corn",
          "Corn to Corn",
          "Corn to Corn",
          "Corn to Corn",
          "Ecoli to Ecoli",
          "Ecoli to Ecoli",
          "Ecoli to Ecoli"
         ],
         "xaxis": "x3",
         "y": [
          2.620655609194604,
          2.620655609194604,
          2.620655609194604,
          2.620655609194604,
          3.407112312128261,
          3.407112312128261,
          3.407112312128261,
          3.407112312128261,
          4.594735470419599,
          4.594735470419599,
          4.594735470419599,
          4.594735470419599,
          4.487183520658167,
          4.487183520658167,
          4.487183520658167,
          4.487183520658167,
          4.925783600912293,
          4.925783600912293,
          4.925783600912293,
          4.925783600912293,
          3.382486380675002,
          3.382486380675002,
          3.382486380675002,
          3.382486380675002,
          4.696796649806929,
          4.696796649806929,
          4.696796649806929
         ],
         "yaxis": "y3"
        },
        {
         "line": {
          "color": "#AB63FA"
         },
         "marker": {
          "size": 12,
          "symbol": "cross"
         },
         "mode": "markers",
         "name": "vEB",
         "showlegend": false,
         "type": "scatter",
         "x": [
          "Human to Human",
          "Human to Human",
          "Human to Human",
          "Human to Human",
          "Human to Turkey",
          "Human to Turkey",
          "Human to Turkey",
          "Human to Turkey",
          "Human to Corn",
          "Human to Corn",
          "Human to Corn",
          "Human to Corn",
          "Turkey to Turkey",
          "Turkey to Turkey",
          "Turkey to Turkey",
          "Turkey to Turkey",
          "Turkey to Corn",
          "Turkey to Corn",
          "Turkey to Corn",
          "Turkey to Corn",
          "Corn to Corn",
          "Corn to Corn",
          "Corn to Corn",
          "Corn to Corn",
          "Ecoli to Ecoli",
          "Ecoli to Ecoli",
          "Ecoli to Ecoli"
         ],
         "xaxis": "x5",
         "y": [
          3.187167364581926,
          3.187167364581926,
          3.187167364581926,
          3.187167364581926,
          3.2506664820962743,
          3.2506664820962743,
          3.2506664820962743,
          3.2506664820962743,
          3.473946411740945,
          3.473946411740945,
          3.473946411740945,
          3.473946411740945,
          4.255872009677375,
          4.255872009677375,
          4.255872009677375,
          4.255872009677375,
          3.150576382468917,
          3.150576382468917,
          3.150576382468917,
          3.150576382468917,
          3.470580392156863,
          3.470580392156863,
          3.470580392156863,
          3.470580392156863,
          4.442123142250531,
          4.442123142250531,
          4.442123142250531
         ],
         "yaxis": "y5"
        },
        {
         "line": {
          "color": "#AB63FA"
         },
         "marker": {
          "size": 12,
          "symbol": "cross"
         },
         "mode": "markers",
         "name": "vEB",
         "showlegend": false,
         "type": "scatter",
         "x": [],
         "xaxis": "x2",
         "y": [],
         "yaxis": "y2"
        },
        {
         "line": {
          "color": "#AB63FA"
         },
         "marker": {
          "size": 12,
          "symbol": "cross"
         },
         "mode": "markers",
         "name": "vEB",
         "showlegend": false,
         "type": "scatter",
         "x": [],
         "xaxis": "x4",
         "y": [],
         "yaxis": "y4"
        },
        {
         "line": {
          "color": "#AB63FA"
         },
         "marker": {
          "size": 12,
          "symbol": "cross"
         },
         "mode": "markers",
         "name": "vEB",
         "showlegend": false,
         "type": "scatter",
         "x": [],
         "xaxis": "x6",
         "y": [],
         "yaxis": "y6"
        },
        {
         "line": {
          "color": "#FFA15A"
         },
         "marker": {
          "size": 12,
          "symbol": "x"
         },
         "mode": "markers",
         "name": "Eytzinger",
         "type": "scatter",
         "x": [
          "Human to Human",
          "Human to Human",
          "Human to Human",
          "Human to Human",
          "Human to Turkey",
          "Human to Turkey",
          "Human to Turkey",
          "Human to Turkey",
          "Human to Corn",
          "Human to Corn",
          "Human to Corn",
          "Human to Corn",
          "Turkey to Turkey",
          "Turkey to Turkey",
          "Turkey to Turkey",
          "Turkey to Turkey",
          "Turkey to Corn",
          "Turkey to Corn",
          "Turkey to Corn",
          "Turkey to Corn",
          "Corn to Corn",
          "Corn to Corn",
          "Corn to Corn",
          "Corn to Corn",
          "Ecoli to Ecoli",
          "Ecoli to Ecoli",
          "Ecoli to Ecoli"
         ],
         "xaxis": "x",
         "y": [
          6.471101028242535,
          6.471101028242535,
          6.471101028242535,
          6.471101028242535,
          4.288367089499196,
          4.288367089499196,
          4.288367089499196,
          4.288367089499196,
          3.385888580541428,
          3.385888580541428,
          3.385888580541428,
          3.385888580541428,
          6.305227755171878,
          6.305227755171878,
          6.305227755171878,
          6.305227755171878,
          6.2386939806474375,
          6.2386939806474375,
          6.2386939806474375,
          6.2386939806474375,
          6.847960617537852,
          6.847960617537852,
          6.847960617537852,
          6.847960617537852,
          10.45893379018442,
          10.45893379018442,
          10.45893379018442
         ],
         "yaxis": "y"
        },
        {
         "line": {
          "color": "#FFA15A"
         },
         "marker": {
          "size": 12,
          "symbol": "x"
         },
         "mode": "markers",
         "name": "Eytzinger",
         "showlegend": false,
         "type": "scatter",
         "x": [
          "Human to Human",
          "Human to Human",
          "Human to Human",
          "Human to Human",
          "Human to Turkey",
          "Human to Turkey",
          "Human to Turkey",
          "Human to Turkey",
          "Human to Corn",
          "Human to Corn",
          "Human to Corn",
          "Human to Corn",
          "Turkey to Turkey",
          "Turkey to Turkey",
          "Turkey to Turkey",
          "Turkey to Turkey",
          "Turkey to Corn",
          "Turkey to Corn",
          "Turkey to Corn",
          "Turkey to Corn",
          "Corn to Corn",
          "Corn to Corn",
          "Corn to Corn",
          "Corn to Corn",
          "Ecoli to Ecoli",
          "Ecoli to Ecoli",
          "Ecoli to Ecoli"
         ],
         "xaxis": "x3",
         "y": [
          3.3405991121056005,
          3.3405991121056005,
          3.3405991121056005,
          3.3405991121056005,
          4.292255199314361,
          4.292255199314361,
          4.292255199314361,
          4.292255199314361,
          2.4320595944268177,
          2.4320595944268177,
          2.4320595944268177,
          2.4320595944268177,
          1.9875920298432324,
          1.9875920298432324,
          1.9875920298432324,
          1.9875920298432324,
          4.738866273486576,
          4.738866273486576,
          4.738866273486576,
          4.738866273486576,
          3.774751301801853,
          3.774751301801853,
          3.774751301801853,
          3.774751301801853,
          9.128964059196617,
          9.128964059196617,
          9.128964059196617
         ],
         "yaxis": "y3"
        },
        {
         "line": {
          "color": "#FFA15A"
         },
         "marker": {
          "size": 12,
          "symbol": "x"
         },
         "mode": "markers",
         "name": "Eytzinger",
         "showlegend": false,
         "type": "scatter",
         "x": [
          "Human to Human",
          "Human to Human",
          "Human to Human",
          "Human to Human",
          "Human to Turkey",
          "Human to Turkey",
          "Human to Turkey",
          "Human to Turkey",
          "Human to Corn",
          "Human to Corn",
          "Human to Corn",
          "Human to Corn",
          "Turkey to Turkey",
          "Turkey to Turkey",
          "Turkey to Turkey",
          "Turkey to Turkey",
          "Turkey to Corn",
          "Turkey to Corn",
          "Turkey to Corn",
          "Turkey to Corn",
          "Corn to Corn",
          "Corn to Corn",
          "Corn to Corn",
          "Corn to Corn",
          "Ecoli to Ecoli",
          "Ecoli to Ecoli",
          "Ecoli to Ecoli"
         ],
         "xaxis": "x5",
         "y": [
          3.266366719734201,
          3.266366719734201,
          3.266366719734201,
          3.266366719734201,
          4.041363144073706,
          4.041363144073706,
          4.041363144073706,
          4.041363144073706,
          3.6723220131515273,
          3.6723220131515273,
          3.6723220131515273,
          3.6723220131515273,
          4.777009713857283,
          4.777009713857283,
          4.777009713857283,
          4.777009713857283,
          3.246306376360809,
          3.246306376360809,
          3.246306376360809,
          3.246306376360809,
          3.6181439084219136,
          3.6181439084219136,
          3.6181439084219136,
          3.6181439084219136,
          7.381258974150918,
          7.381258974150918,
          7.381258974150918
         ],
         "yaxis": "y5"
        },
        {
         "line": {
          "color": "#FFA15A"
         },
         "marker": {
          "size": 12,
          "symbol": "x"
         },
         "mode": "markers",
         "name": "Eytzinger",
         "showlegend": false,
         "type": "scatter",
         "x": [],
         "xaxis": "x2",
         "y": [],
         "yaxis": "y2"
        },
        {
         "line": {
          "color": "#FFA15A"
         },
         "marker": {
          "size": 12,
          "symbol": "x"
         },
         "mode": "markers",
         "name": "Eytzinger",
         "showlegend": false,
         "type": "scatter",
         "x": [],
         "xaxis": "x4",
         "y": [],
         "yaxis": "y4"
        },
        {
         "line": {
          "color": "#FFA15A"
         },
         "marker": {
          "size": 12,
          "symbol": "x"
         },
         "mode": "markers",
         "name": "Eytzinger",
         "showlegend": false,
         "type": "scatter",
         "x": [],
         "xaxis": "x6",
         "y": [],
         "yaxis": "y6"
        },
        {
         "line": {
          "color": "#19D3F3"
         },
         "marker": {
          "size": 12,
          "symbol": "pentagon"
         },
         "mode": "markers",
         "name": "B-tree",
         "type": "scatter",
         "x": [
          "Human to Human",
          "Human to Human",
          "Human to Human",
          "Human to Human",
          "Human to Turkey",
          "Human to Turkey",
          "Human to Turkey",
          "Human to Turkey",
          "Human to Corn",
          "Human to Corn",
          "Human to Corn",
          "Human to Corn",
          "Turkey to Turkey",
          "Turkey to Turkey",
          "Turkey to Turkey",
          "Turkey to Turkey",
          "Turkey to Corn",
          "Turkey to Corn",
          "Turkey to Corn",
          "Turkey to Corn",
          "Corn to Corn",
          "Corn to Corn",
          "Corn to Corn",
          "Corn to Corn",
          "Ecoli to Ecoli",
          "Ecoli to Ecoli",
          "Ecoli to Ecoli"
         ],
         "xaxis": "x",
         "y": [
          10.837198121449134,
          10.837198121449134,
          10.837198121449134,
          10.837198121449134,
          9.746056231445369,
          9.746056231445369,
          9.746056231445369,
          9.746056231445369,
          6.20116509005398,
          6.20116509005398,
          6.20116509005398,
          6.20116509005398,
          8.250348950699124,
          8.250348950699124,
          8.250348950699124,
          8.250348950699124,
          5.8596959468299445,
          5.8596959468299445,
          5.8596959468299445,
          5.8596959468299445,
          6.574029957416396,
          6.574029957416396,
          6.574029957416396,
          6.574029957416396,
          8.478392288211747,
          8.478392288211747,
          8.478392288211747
         ],
         "yaxis": "y"
        },
        {
         "line": {
          "color": "#19D3F3"
         },
         "marker": {
          "size": 12,
          "symbol": "pentagon"
         },
         "mode": "markers",
         "name": "B-tree",
         "showlegend": false,
         "type": "scatter",
         "x": [
          "Human to Human",
          "Human to Human",
          "Human to Human",
          "Human to Human",
          "Human to Turkey",
          "Human to Turkey",
          "Human to Turkey",
          "Human to Turkey",
          "Human to Corn",
          "Human to Corn",
          "Human to Corn",
          "Human to Corn",
          "Turkey to Turkey",
          "Turkey to Turkey",
          "Turkey to Turkey",
          "Turkey to Turkey",
          "Turkey to Corn",
          "Turkey to Corn",
          "Turkey to Corn",
          "Turkey to Corn",
          "Corn to Corn",
          "Corn to Corn",
          "Corn to Corn",
          "Corn to Corn",
          "Ecoli to Ecoli",
          "Ecoli to Ecoli",
          "Ecoli to Ecoli"
         ],
         "xaxis": "x3",
         "y": [
          2.3500144595466375,
          2.3500144595466375,
          2.3500144595466375,
          2.3500144595466375,
          3.8026005683690793,
          3.8026005683690793,
          3.8026005683690793,
          3.8026005683690793,
          3.1786498581056475,
          3.1786498581056475,
          3.1786498581056475,
          3.1786498581056475,
          2.3908791170797583,
          2.3908791170797583,
          2.3908791170797583,
          2.3908791170797583,
          2.5180085325846164,
          2.5180085325846164,
          2.5180085325846164,
          2.5180085325846164,
          3.08984229479697,
          3.08984229479697,
          3.08984229479697,
          3.08984229479697,
          6.451034585792186,
          6.451034585792186,
          6.451034585792186
         ],
         "yaxis": "y3"
        },
        {
         "line": {
          "color": "#19D3F3"
         },
         "marker": {
          "size": 12,
          "symbol": "pentagon"
         },
         "mode": "markers",
         "name": "B-tree",
         "showlegend": false,
         "type": "scatter",
         "x": [
          "Human to Human",
          "Human to Human",
          "Human to Human",
          "Human to Human",
          "Human to Turkey",
          "Human to Turkey",
          "Human to Turkey",
          "Human to Turkey",
          "Human to Corn",
          "Human to Corn",
          "Human to Corn",
          "Human to Corn",
          "Turkey to Turkey",
          "Turkey to Turkey",
          "Turkey to Turkey",
          "Turkey to Turkey",
          "Turkey to Corn",
          "Turkey to Corn",
          "Turkey to Corn",
          "Turkey to Corn",
          "Corn to Corn",
          "Corn to Corn",
          "Corn to Corn",
          "Corn to Corn",
          "Ecoli to Ecoli",
          "Ecoli to Ecoli",
          "Ecoli to Ecoli"
         ],
         "xaxis": "x5",
         "y": [
          3.2415953398271666,
          3.2415953398271666,
          3.2415953398271666,
          3.2415953398271666,
          3.091818145703633,
          3.091818145703633,
          3.091818145703633,
          3.091818145703633,
          2.8817629450922575,
          2.8817629450922575,
          2.8817629450922575,
          2.8817629450922575,
          2.738019511812727,
          2.738019511812727,
          2.738019511812727,
          2.738019511812727,
          3.099927602145947,
          3.099927602145947,
          3.099927602145947,
          3.099927602145947,
          3.4738498979431625,
          3.4738498979431625,
          3.4738498979431625,
          3.4738498979431625,
          5.690878231351728,
          5.690878231351728,
          5.690878231351728
         ],
         "yaxis": "y5"
        },
        {
         "line": {
          "color": "#19D3F3"
         },
         "marker": {
          "size": 12,
          "symbol": "pentagon"
         },
         "mode": "markers",
         "name": "B-tree",
         "showlegend": false,
         "type": "scatter",
         "x": [],
         "xaxis": "x2",
         "y": [],
         "yaxis": "y2"
        },
        {
         "line": {
          "color": "#19D3F3"
         },
         "marker": {
          "size": 12,
          "symbol": "pentagon"
         },
         "mode": "markers",
         "name": "B-tree",
         "showlegend": false,
         "type": "scatter",
         "x": [],
         "xaxis": "x4",
         "y": [],
         "yaxis": "y4"
        },
        {
         "line": {
          "color": "#19D3F3"
         },
         "marker": {
          "size": 12,
          "symbol": "pentagon"
         },
         "mode": "markers",
         "name": "B-tree",
         "showlegend": false,
         "type": "scatter",
         "x": [],
         "xaxis": "x6",
         "y": [],
         "yaxis": "y6"
        },
        {
         "line": {
          "color": "#FF6692"
         },
         "marker": {
          "size": 12,
          "symbol": "star"
         },
         "mode": "markers",
         "name": "PstClassifierSeqan",
         "type": "scatter",
         "x": [],
         "xaxis": "x",
         "y": [],
         "yaxis": "y"
        },
        {
         "line": {
          "color": "#FF6692"
         },
         "marker": {
          "size": 12,
          "symbol": "star"
         },
         "mode": "markers",
         "name": "PstClassifierSeqan",
         "showlegend": false,
         "type": "scatter",
         "x": [],
         "xaxis": "x3",
         "y": [],
         "yaxis": "y3"
        },
        {
         "line": {
          "color": "#FF6692"
         },
         "marker": {
          "size": 12,
          "symbol": "star"
         },
         "mode": "markers",
         "name": "PstClassifierSeqan",
         "showlegend": false,
         "type": "scatter",
         "x": [],
         "xaxis": "x5",
         "y": [],
         "yaxis": "y5"
        },
        {
         "line": {
          "color": "#FF6692"
         },
         "marker": {
          "size": 12,
          "symbol": "star"
         },
         "mode": "markers",
         "name": "PstClassifierSeqan",
         "showlegend": false,
         "type": "scatter",
         "x": [],
         "xaxis": "x2",
         "y": [],
         "yaxis": "y2"
        },
        {
         "line": {
          "color": "#FF6692"
         },
         "marker": {
          "size": 12,
          "symbol": "star"
         },
         "mode": "markers",
         "name": "PstClassifierSeqan",
         "showlegend": false,
         "type": "scatter",
         "x": [],
         "xaxis": "x4",
         "y": [],
         "yaxis": "y4"
        },
        {
         "line": {
          "color": "#FF6692"
         },
         "marker": {
          "size": 12,
          "symbol": "star"
         },
         "mode": "markers",
         "name": "PstClassifierSeqan",
         "showlegend": false,
         "type": "scatter",
         "x": [],
         "xaxis": "x6",
         "y": [],
         "yaxis": "y6"
        }
       ],
       "layout": {
        "annotations": [
         {
          "font": {
           "size": 24
          },
          "showarrow": false,
          "text": "Small",
          "x": 0.36800000000000005,
          "xanchor": "center",
          "xref": "paper",
          "y": 1,
          "yanchor": "bottom",
          "yref": "paper"
         },
         {
          "font": {
           "size": 24
          },
          "showarrow": false,
          "text": "Small",
          "x": 0.908,
          "xanchor": "center",
          "xref": "paper",
          "y": 1,
          "yanchor": "bottom",
          "yref": "paper"
         },
         {
          "font": {
           "size": 24
          },
          "showarrow": false,
          "text": "Medium",
          "x": 0.36800000000000005,
          "xanchor": "center",
          "xref": "paper",
          "y": 0.6433333333333333,
          "yanchor": "bottom",
          "yref": "paper"
         },
         {
          "font": {
           "size": 24
          },
          "showarrow": false,
          "text": "Medium",
          "x": 0.908,
          "xanchor": "center",
          "xref": "paper",
          "y": 0.6433333333333333,
          "yanchor": "bottom",
          "yref": "paper"
         },
         {
          "font": {
           "size": 24
          },
          "showarrow": false,
          "text": "Large",
          "x": 0.36800000000000005,
          "xanchor": "center",
          "xref": "paper",
          "y": 0.2866666666666667,
          "yanchor": "bottom",
          "yref": "paper"
         },
         {
          "font": {
           "size": 24
          },
          "showarrow": false,
          "text": "Large",
          "x": 0.908,
          "xanchor": "center",
          "xref": "paper",
          "y": 0.2866666666666667,
          "yanchor": "bottom",
          "yref": "paper"
         },
         {
          "font": {
           "size": 24
          },
          "showarrow": false,
          "text": "Speedup",
          "textangle": -90,
          "x": 0,
          "xanchor": "right",
          "xref": "paper",
          "xshift": -40,
          "y": 0.5,
          "yanchor": "middle",
          "yref": "paper"
         }
        ],
        "height": 900,
        "legend": {
         "font": {
          "size": 24
         },
         "orientation": "h",
         "y": 1.08,
         "yanchor": "bottom"
        },
        "margin": {
         "b": 80,
         "l": 100,
         "r": 60,
         "t": 60
        },
        "plot_bgcolor": "white",
        "template": {
         "data": {
          "bar": [
           {
            "error_x": {
             "color": "#2a3f5f"
            },
            "error_y": {
             "color": "#2a3f5f"
            },
            "marker": {
             "line": {
              "color": "#E5ECF6",
              "width": 0.5
             },
             "pattern": {
              "fillmode": "overlay",
              "size": 10,
              "solidity": 0.2
             }
            },
            "type": "bar"
           }
          ],
          "barpolar": [
           {
            "marker": {
             "line": {
              "color": "#E5ECF6",
              "width": 0.5
             },
             "pattern": {
              "fillmode": "overlay",
              "size": 10,
              "solidity": 0.2
             }
            },
            "type": "barpolar"
           }
          ],
          "carpet": [
           {
            "aaxis": {
             "endlinecolor": "#2a3f5f",
             "gridcolor": "white",
             "linecolor": "white",
             "minorgridcolor": "white",
             "startlinecolor": "#2a3f5f"
            },
            "baxis": {
             "endlinecolor": "#2a3f5f",
             "gridcolor": "white",
             "linecolor": "white",
             "minorgridcolor": "white",
             "startlinecolor": "#2a3f5f"
            },
            "type": "carpet"
           }
          ],
          "choropleth": [
           {
            "colorbar": {
             "outlinewidth": 0,
             "ticks": ""
            },
            "type": "choropleth"
           }
          ],
          "contour": [
           {
            "colorbar": {
             "outlinewidth": 0,
             "ticks": ""
            },
            "colorscale": [
             [
              0,
              "#0d0887"
             ],
             [
              0.1111111111111111,
              "#46039f"
             ],
             [
              0.2222222222222222,
              "#7201a8"
             ],
             [
              0.3333333333333333,
              "#9c179e"
             ],
             [
              0.4444444444444444,
              "#bd3786"
             ],
             [
              0.5555555555555556,
              "#d8576b"
             ],
             [
              0.6666666666666666,
              "#ed7953"
             ],
             [
              0.7777777777777778,
              "#fb9f3a"
             ],
             [
              0.8888888888888888,
              "#fdca26"
             ],
             [
              1,
              "#f0f921"
             ]
            ],
            "type": "contour"
           }
          ],
          "contourcarpet": [
           {
            "colorbar": {
             "outlinewidth": 0,
             "ticks": ""
            },
            "type": "contourcarpet"
           }
          ],
          "heatmap": [
           {
            "colorbar": {
             "outlinewidth": 0,
             "ticks": ""
            },
            "colorscale": [
             [
              0,
              "#0d0887"
             ],
             [
              0.1111111111111111,
              "#46039f"
             ],
             [
              0.2222222222222222,
              "#7201a8"
             ],
             [
              0.3333333333333333,
              "#9c179e"
             ],
             [
              0.4444444444444444,
              "#bd3786"
             ],
             [
              0.5555555555555556,
              "#d8576b"
             ],
             [
              0.6666666666666666,
              "#ed7953"
             ],
             [
              0.7777777777777778,
              "#fb9f3a"
             ],
             [
              0.8888888888888888,
              "#fdca26"
             ],
             [
              1,
              "#f0f921"
             ]
            ],
            "type": "heatmap"
           }
          ],
          "heatmapgl": [
           {
            "colorbar": {
             "outlinewidth": 0,
             "ticks": ""
            },
            "colorscale": [
             [
              0,
              "#0d0887"
             ],
             [
              0.1111111111111111,
              "#46039f"
             ],
             [
              0.2222222222222222,
              "#7201a8"
             ],
             [
              0.3333333333333333,
              "#9c179e"
             ],
             [
              0.4444444444444444,
              "#bd3786"
             ],
             [
              0.5555555555555556,
              "#d8576b"
             ],
             [
              0.6666666666666666,
              "#ed7953"
             ],
             [
              0.7777777777777778,
              "#fb9f3a"
             ],
             [
              0.8888888888888888,
              "#fdca26"
             ],
             [
              1,
              "#f0f921"
             ]
            ],
            "type": "heatmapgl"
           }
          ],
          "histogram": [
           {
            "marker": {
             "pattern": {
              "fillmode": "overlay",
              "size": 10,
              "solidity": 0.2
             }
            },
            "type": "histogram"
           }
          ],
          "histogram2d": [
           {
            "colorbar": {
             "outlinewidth": 0,
             "ticks": ""
            },
            "colorscale": [
             [
              0,
              "#0d0887"
             ],
             [
              0.1111111111111111,
              "#46039f"
             ],
             [
              0.2222222222222222,
              "#7201a8"
             ],
             [
              0.3333333333333333,
              "#9c179e"
             ],
             [
              0.4444444444444444,
              "#bd3786"
             ],
             [
              0.5555555555555556,
              "#d8576b"
             ],
             [
              0.6666666666666666,
              "#ed7953"
             ],
             [
              0.7777777777777778,
              "#fb9f3a"
             ],
             [
              0.8888888888888888,
              "#fdca26"
             ],
             [
              1,
              "#f0f921"
             ]
            ],
            "type": "histogram2d"
           }
          ],
          "histogram2dcontour": [
           {
            "colorbar": {
             "outlinewidth": 0,
             "ticks": ""
            },
            "colorscale": [
             [
              0,
              "#0d0887"
             ],
             [
              0.1111111111111111,
              "#46039f"
             ],
             [
              0.2222222222222222,
              "#7201a8"
             ],
             [
              0.3333333333333333,
              "#9c179e"
             ],
             [
              0.4444444444444444,
              "#bd3786"
             ],
             [
              0.5555555555555556,
              "#d8576b"
             ],
             [
              0.6666666666666666,
              "#ed7953"
             ],
             [
              0.7777777777777778,
              "#fb9f3a"
             ],
             [
              0.8888888888888888,
              "#fdca26"
             ],
             [
              1,
              "#f0f921"
             ]
            ],
            "type": "histogram2dcontour"
           }
          ],
          "mesh3d": [
           {
            "colorbar": {
             "outlinewidth": 0,
             "ticks": ""
            },
            "type": "mesh3d"
           }
          ],
          "parcoords": [
           {
            "line": {
             "colorbar": {
              "outlinewidth": 0,
              "ticks": ""
             }
            },
            "type": "parcoords"
           }
          ],
          "pie": [
           {
            "automargin": true,
            "type": "pie"
           }
          ],
          "scatter": [
           {
            "fillpattern": {
             "fillmode": "overlay",
             "size": 10,
             "solidity": 0.2
            },
            "type": "scatter"
           }
          ],
          "scatter3d": [
           {
            "line": {
             "colorbar": {
              "outlinewidth": 0,
              "ticks": ""
             }
            },
            "marker": {
             "colorbar": {
              "outlinewidth": 0,
              "ticks": ""
             }
            },
            "type": "scatter3d"
           }
          ],
          "scattercarpet": [
           {
            "marker": {
             "colorbar": {
              "outlinewidth": 0,
              "ticks": ""
             }
            },
            "type": "scattercarpet"
           }
          ],
          "scattergeo": [
           {
            "marker": {
             "colorbar": {
              "outlinewidth": 0,
              "ticks": ""
             }
            },
            "type": "scattergeo"
           }
          ],
          "scattergl": [
           {
            "marker": {
             "colorbar": {
              "outlinewidth": 0,
              "ticks": ""
             }
            },
            "type": "scattergl"
           }
          ],
          "scattermapbox": [
           {
            "marker": {
             "colorbar": {
              "outlinewidth": 0,
              "ticks": ""
             }
            },
            "type": "scattermapbox"
           }
          ],
          "scatterpolar": [
           {
            "marker": {
             "colorbar": {
              "outlinewidth": 0,
              "ticks": ""
             }
            },
            "type": "scatterpolar"
           }
          ],
          "scatterpolargl": [
           {
            "marker": {
             "colorbar": {
              "outlinewidth": 0,
              "ticks": ""
             }
            },
            "type": "scatterpolargl"
           }
          ],
          "scatterternary": [
           {
            "marker": {
             "colorbar": {
              "outlinewidth": 0,
              "ticks": ""
             }
            },
            "type": "scatterternary"
           }
          ],
          "surface": [
           {
            "colorbar": {
             "outlinewidth": 0,
             "ticks": ""
            },
            "colorscale": [
             [
              0,
              "#0d0887"
             ],
             [
              0.1111111111111111,
              "#46039f"
             ],
             [
              0.2222222222222222,
              "#7201a8"
             ],
             [
              0.3333333333333333,
              "#9c179e"
             ],
             [
              0.4444444444444444,
              "#bd3786"
             ],
             [
              0.5555555555555556,
              "#d8576b"
             ],
             [
              0.6666666666666666,
              "#ed7953"
             ],
             [
              0.7777777777777778,
              "#fb9f3a"
             ],
             [
              0.8888888888888888,
              "#fdca26"
             ],
             [
              1,
              "#f0f921"
             ]
            ],
            "type": "surface"
           }
          ],
          "table": [
           {
            "cells": {
             "fill": {
              "color": "#EBF0F8"
             },
             "line": {
              "color": "white"
             }
            },
            "header": {
             "fill": {
              "color": "#C8D4E3"
             },
             "line": {
              "color": "white"
             }
            },
            "type": "table"
           }
          ]
         },
         "layout": {
          "annotationdefaults": {
           "arrowcolor": "#2a3f5f",
           "arrowhead": 0,
           "arrowwidth": 1
          },
          "autotypenumbers": "strict",
          "coloraxis": {
           "colorbar": {
            "outlinewidth": 0,
            "ticks": ""
           }
          },
          "colorscale": {
           "diverging": [
            [
             0,
             "#8e0152"
            ],
            [
             0.1,
             "#c51b7d"
            ],
            [
             0.2,
             "#de77ae"
            ],
            [
             0.3,
             "#f1b6da"
            ],
            [
             0.4,
             "#fde0ef"
            ],
            [
             0.5,
             "#f7f7f7"
            ],
            [
             0.6,
             "#e6f5d0"
            ],
            [
             0.7,
             "#b8e186"
            ],
            [
             0.8,
             "#7fbc41"
            ],
            [
             0.9,
             "#4d9221"
            ],
            [
             1,
             "#276419"
            ]
           ],
           "sequential": [
            [
             0,
             "#0d0887"
            ],
            [
             0.1111111111111111,
             "#46039f"
            ],
            [
             0.2222222222222222,
             "#7201a8"
            ],
            [
             0.3333333333333333,
             "#9c179e"
            ],
            [
             0.4444444444444444,
             "#bd3786"
            ],
            [
             0.5555555555555556,
             "#d8576b"
            ],
            [
             0.6666666666666666,
             "#ed7953"
            ],
            [
             0.7777777777777778,
             "#fb9f3a"
            ],
            [
             0.8888888888888888,
             "#fdca26"
            ],
            [
             1,
             "#f0f921"
            ]
           ],
           "sequentialminus": [
            [
             0,
             "#0d0887"
            ],
            [
             0.1111111111111111,
             "#46039f"
            ],
            [
             0.2222222222222222,
             "#7201a8"
            ],
            [
             0.3333333333333333,
             "#9c179e"
            ],
            [
             0.4444444444444444,
             "#bd3786"
            ],
            [
             0.5555555555555556,
             "#d8576b"
            ],
            [
             0.6666666666666666,
             "#ed7953"
            ],
            [
             0.7777777777777778,
             "#fb9f3a"
            ],
            [
             0.8888888888888888,
             "#fdca26"
            ],
            [
             1,
             "#f0f921"
            ]
           ]
          },
          "colorway": [
           "#636efa",
           "#EF553B",
           "#00cc96",
           "#ab63fa",
           "#FFA15A",
           "#19d3f3",
           "#FF6692",
           "#B6E880",
           "#FF97FF",
           "#FECB52"
          ],
          "font": {
           "color": "#2a3f5f"
          },
          "geo": {
           "bgcolor": "white",
           "lakecolor": "white",
           "landcolor": "#E5ECF6",
           "showlakes": true,
           "showland": true,
           "subunitcolor": "white"
          },
          "hoverlabel": {
           "align": "left"
          },
          "hovermode": "closest",
          "mapbox": {
           "style": "light"
          },
          "paper_bgcolor": "white",
          "plot_bgcolor": "#E5ECF6",
          "polar": {
           "angularaxis": {
            "gridcolor": "white",
            "linecolor": "white",
            "ticks": ""
           },
           "bgcolor": "#E5ECF6",
           "radialaxis": {
            "gridcolor": "white",
            "linecolor": "white",
            "ticks": ""
           }
          },
          "scene": {
           "xaxis": {
            "backgroundcolor": "#E5ECF6",
            "gridcolor": "white",
            "gridwidth": 2,
            "linecolor": "white",
            "showbackground": true,
            "ticks": "",
            "zerolinecolor": "white"
           },
           "yaxis": {
            "backgroundcolor": "#E5ECF6",
            "gridcolor": "white",
            "gridwidth": 2,
            "linecolor": "white",
            "showbackground": true,
            "ticks": "",
            "zerolinecolor": "white"
           },
           "zaxis": {
            "backgroundcolor": "#E5ECF6",
            "gridcolor": "white",
            "gridwidth": 2,
            "linecolor": "white",
            "showbackground": true,
            "ticks": "",
            "zerolinecolor": "white"
           }
          },
          "shapedefaults": {
           "line": {
            "color": "#2a3f5f"
           }
          },
          "ternary": {
           "aaxis": {
            "gridcolor": "white",
            "linecolor": "white",
            "ticks": ""
           },
           "baxis": {
            "gridcolor": "white",
            "linecolor": "white",
            "ticks": ""
           },
           "bgcolor": "#E5ECF6",
           "caxis": {
            "gridcolor": "white",
            "linecolor": "white",
            "ticks": ""
           }
          },
          "title": {
           "x": 0.05
          },
          "xaxis": {
           "automargin": true,
           "gridcolor": "white",
           "linecolor": "white",
           "ticks": "",
           "title": {
            "standoff": 15
           },
           "zerolinecolor": "white",
           "zerolinewidth": 2
          },
          "yaxis": {
           "automargin": true,
           "gridcolor": "white",
           "linecolor": "white",
           "ticks": "",
           "title": {
            "standoff": 15
           },
           "zerolinecolor": "white",
           "zerolinewidth": 2
          }
         }
        },
        "width": 900,
        "xaxis": {
         "anchor": "y",
         "domain": [
          0,
          0.7360000000000001
         ],
         "gridcolor": "LightGrey",
         "linecolor": "LightGrey",
         "linewidth": 1,
         "matches": "x5",
         "showline": true,
         "showticklabels": false,
         "tickfont": {
          "size": 20
         }
        },
        "xaxis2": {
         "anchor": "y2",
         "domain": [
          0.8160000000000001,
          1
         ],
         "gridcolor": "LightGrey",
         "linecolor": "LightGrey",
         "linewidth": 1,
         "matches": "x6",
         "showline": true,
         "showticklabels": false,
         "tickfont": {
          "size": 20
         }
        },
        "xaxis3": {
         "anchor": "y3",
         "domain": [
          0,
          0.7360000000000001
         ],
         "gridcolor": "LightGrey",
         "linecolor": "LightGrey",
         "linewidth": 1,
         "matches": "x5",
         "showline": true,
         "showticklabels": false,
         "tickfont": {
          "size": 20
         }
        },
        "xaxis4": {
         "anchor": "y4",
         "domain": [
          0.8160000000000001,
          1
         ],
         "gridcolor": "LightGrey",
         "linecolor": "LightGrey",
         "linewidth": 1,
         "matches": "x6",
         "showline": true,
         "showticklabels": false,
         "tickfont": {
          "size": 20
         }
        },
        "xaxis5": {
         "anchor": "y5",
         "domain": [
          0,
          0.7360000000000001
         ],
         "gridcolor": "LightGrey",
         "linecolor": "LightGrey",
         "linewidth": 1,
         "showline": true,
         "tickfont": {
          "size": 20
         }
        },
        "xaxis6": {
         "anchor": "y6",
         "domain": [
          0.8160000000000001,
          1
         ],
         "gridcolor": "LightGrey",
         "linecolor": "LightGrey",
         "linewidth": 1,
         "showline": true,
         "tickfont": {
          "size": 20
         }
        },
        "yaxis": {
         "anchor": "x",
         "domain": [
          0.7133333333333334,
          1
         ],
         "gridcolor": "LightGrey",
         "linecolor": "LightGrey",
         "linewidth": 1,
         "showline": true,
         "tickfont": {
          "size": 20
         }
        },
        "yaxis2": {
         "anchor": "x2",
         "domain": [
          0.7133333333333334,
          1
         ],
         "gridcolor": "LightGrey",
         "linecolor": "LightGrey",
         "linewidth": 1,
         "showline": true,
         "tickfont": {
          "size": 20
         }
        },
        "yaxis3": {
         "anchor": "x3",
         "domain": [
          0.3566666666666667,
          0.6433333333333333
         ],
         "gridcolor": "LightGrey",
         "linecolor": "LightGrey",
         "linewidth": 1,
         "showline": true,
         "tickfont": {
          "size": 20
         }
        },
        "yaxis4": {
         "anchor": "x4",
         "domain": [
          0.3566666666666667,
          0.6433333333333333
         ],
         "gridcolor": "LightGrey",
         "linecolor": "LightGrey",
         "linewidth": 1,
         "showline": true,
         "tickfont": {
          "size": 20
         }
        },
        "yaxis5": {
         "anchor": "x5",
         "domain": [
          0,
          0.2866666666666667
         ],
         "gridcolor": "LightGrey",
         "linecolor": "LightGrey",
         "linewidth": 1,
         "showline": true,
         "tickfont": {
          "size": 20
         }
        },
        "yaxis6": {
         "anchor": "x6",
         "domain": [
          0,
          0.2866666666666667
         ],
         "gridcolor": "LightGrey",
         "linecolor": "LightGrey",
         "linewidth": 1,
         "showline": true,
         "tickfont": {
          "size": 20
         }
        }
       }
      }
     },
     "metadata": {},
     "output_type": "display_data"
    },
    {
     "name": "stdout",
     "output_type": "stream",
     "text": [
      "Couldn't read ecoli to ecoli for 05_21 14_16\n"
     ]
    },
    {
     "data": {
      "application/vnd.plotly.v1+json": {
       "config": {
        "plotlyServerURL": "https://plot.ly"
       },
       "data": [
        {
         "line": {
          "color": "#636EFA"
         },
         "marker": {
          "size": 12,
          "symbol": "circle"
         },
         "mode": "markers",
         "name": "Sorted vector",
         "type": "scatter",
         "x": [
          "human to human",
          "human to human",
          "human to human",
          "human to human",
          "human to turkey",
          "human to turkey",
          "human to turkey",
          "human to turkey",
          "human to corn",
          "human to corn",
          "human to corn",
          "human to corn",
          "turkey to turkey",
          "turkey to turkey",
          "turkey to turkey",
          "turkey to turkey",
          "turkey to corn",
          "turkey to corn",
          "turkey to corn",
          "turkey to corn",
          "corn to corn",
          "corn to corn",
          "corn to corn",
          "corn to corn",
          "virus to virus",
          "virus to virus",
          "virus to virus"
         ],
         "xaxis": "x",
         "y": [
          16.183,
          16.183,
          16.183,
          16.183,
          15.81375,
          15.81375,
          15.81375,
          15.81375,
          14.909,
          14.909,
          14.909,
          14.909,
          14.499,
          14.499,
          14.499,
          14.499,
          15.58075,
          15.58075,
          15.58075,
          15.58075,
          14.109499999999999,
          14.109499999999999,
          14.109499999999999,
          14.109499999999999,
          5.270666666666667,
          5.270666666666667,
          5.270666666666667
         ],
         "yaxis": "y"
        },
        {
         "line": {
          "color": "#636EFA"
         },
         "marker": {
          "size": 12,
          "symbol": "circle"
         },
         "mode": "markers",
         "name": "Sorted vector",
         "showlegend": false,
         "type": "scatter",
         "x": [
          "human to human",
          "human to human",
          "human to human",
          "human to human",
          "human to turkey",
          "human to turkey",
          "human to turkey",
          "human to turkey",
          "human to corn",
          "human to corn",
          "human to corn",
          "human to corn",
          "turkey to turkey",
          "turkey to turkey",
          "turkey to turkey",
          "turkey to turkey",
          "turkey to corn",
          "turkey to corn",
          "turkey to corn",
          "turkey to corn",
          "corn to corn",
          "corn to corn",
          "corn to corn",
          "corn to corn",
          "virus to virus",
          "virus to virus",
          "virus to virus"
         ],
         "xaxis": "x2",
         "y": [
          67.80925,
          67.80925,
          67.80925,
          67.80925,
          68.835,
          68.835,
          68.835,
          68.835,
          54.08025,
          54.08025,
          54.08025,
          54.08025,
          64.017,
          64.017,
          64.017,
          64.017,
          58.3345,
          58.3345,
          58.3345,
          58.3345,
          61.15175,
          61.15175,
          61.15175,
          61.15175,
          6.799333333333333,
          6.799333333333333,
          6.799333333333333
         ],
         "yaxis": "y2"
        },
        {
         "line": {
          "color": "#636EFA"
         },
         "marker": {
          "size": 12,
          "symbol": "circle"
         },
         "mode": "markers",
         "name": "Sorted vector",
         "showlegend": false,
         "type": "scatter",
         "x": [
          "human to human",
          "human to human",
          "human to human",
          "human to human",
          "human to turkey",
          "human to turkey",
          "human to turkey",
          "human to turkey",
          "human to corn",
          "human to corn",
          "human to corn",
          "human to corn",
          "turkey to turkey",
          "turkey to turkey",
          "turkey to turkey",
          "turkey to turkey",
          "turkey to corn",
          "turkey to corn",
          "turkey to corn",
          "turkey to corn",
          "corn to corn",
          "corn to corn",
          "corn to corn",
          "corn to corn",
          "virus to virus",
          "virus to virus",
          "virus to virus"
         ],
         "xaxis": "x3",
         "y": [
          72.464,
          72.464,
          72.464,
          72.464,
          73.36875,
          73.36875,
          73.36875,
          73.36875,
          58.2585,
          58.2585,
          58.2585,
          58.2585,
          64.88475,
          64.88475,
          64.88475,
          64.88475,
          70.495,
          70.495,
          70.495,
          70.495,
          64.29975,
          64.29975,
          64.29975,
          64.29975,
          10.13,
          10.13,
          10.13
         ],
         "yaxis": "y3"
        },
        {
         "line": {
          "color": "#EF553B"
         },
         "marker": {
          "size": 12,
          "symbol": "square"
         },
         "mode": "markers",
         "name": "SBS",
         "type": "scatter",
         "x": [
          "human to human",
          "human to human",
          "human to human",
          "human to human",
          "human to turkey",
          "human to turkey",
          "human to turkey",
          "human to turkey",
          "human to corn",
          "human to corn",
          "human to corn",
          "human to corn",
          "turkey to turkey",
          "turkey to turkey",
          "turkey to turkey",
          "turkey to turkey",
          "turkey to corn",
          "turkey to corn",
          "turkey to corn",
          "turkey to corn",
          "corn to corn",
          "corn to corn",
          "corn to corn",
          "corn to corn",
          "virus to virus",
          "virus to virus",
          "virus to virus"
         ],
         "xaxis": "x",
         "y": [
          16.59275,
          16.59275,
          16.59275,
          16.59275,
          16.29825,
          16.29825,
          16.29825,
          16.29825,
          18.46725,
          18.46725,
          18.46725,
          18.46725,
          14.474,
          14.474,
          14.474,
          14.474,
          15.764,
          15.764,
          15.764,
          15.764,
          14.65775,
          14.65775,
          14.65775,
          14.65775,
          6.626,
          6.626,
          6.626
         ],
         "yaxis": "y"
        },
        {
         "line": {
          "color": "#EF553B"
         },
         "marker": {
          "size": 12,
          "symbol": "square"
         },
         "mode": "markers",
         "name": "SBS",
         "showlegend": false,
         "type": "scatter",
         "x": [
          "human to human",
          "human to human",
          "human to human",
          "human to human",
          "human to turkey",
          "human to turkey",
          "human to turkey",
          "human to turkey",
          "human to corn",
          "human to corn",
          "human to corn",
          "human to corn",
          "turkey to turkey",
          "turkey to turkey",
          "turkey to turkey",
          "turkey to turkey",
          "turkey to corn",
          "turkey to corn",
          "turkey to corn",
          "turkey to corn",
          "corn to corn",
          "corn to corn",
          "corn to corn",
          "corn to corn",
          "virus to virus",
          "virus to virus",
          "virus to virus"
         ],
         "xaxis": "x2",
         "y": [
          64.51575,
          64.51575,
          64.51575,
          64.51575,
          64.04325,
          64.04325,
          64.04325,
          64.04325,
          56.726,
          56.726,
          56.726,
          56.726,
          63.272,
          63.272,
          63.272,
          63.272,
          66.8515,
          66.8515,
          66.8515,
          66.8515,
          61.03175,
          61.03175,
          61.03175,
          61.03175,
          9.487333333333334,
          9.487333333333334,
          9.487333333333334
         ],
         "yaxis": "y2"
        },
        {
         "line": {
          "color": "#EF553B"
         },
         "marker": {
          "size": 12,
          "symbol": "square"
         },
         "mode": "markers",
         "name": "SBS",
         "showlegend": false,
         "type": "scatter",
         "x": [
          "human to human",
          "human to human",
          "human to human",
          "human to human",
          "human to turkey",
          "human to turkey",
          "human to turkey",
          "human to turkey",
          "human to corn",
          "human to corn",
          "human to corn",
          "human to corn",
          "turkey to turkey",
          "turkey to turkey",
          "turkey to turkey",
          "turkey to turkey",
          "turkey to corn",
          "turkey to corn",
          "turkey to corn",
          "turkey to corn",
          "corn to corn",
          "corn to corn",
          "corn to corn",
          "corn to corn",
          "virus to virus",
          "virus to virus",
          "virus to virus"
         ],
         "xaxis": "x3",
         "y": [
          70.07849999999999,
          70.07849999999999,
          70.07849999999999,
          70.07849999999999,
          66.08575,
          66.08575,
          66.08575,
          66.08575,
          66.69525,
          66.69525,
          66.69525,
          66.69525,
          62.66925,
          62.66925,
          62.66925,
          62.66925,
          64.97475,
          64.97475,
          64.97475,
          64.97475,
          64.57075,
          64.57075,
          64.57075,
          64.57075,
          14.646333333333333,
          14.646333333333333,
          14.646333333333333
         ],
         "yaxis": "y3"
        },
        {
         "line": {
          "color": "#00CC96"
         },
         "marker": {
          "size": 12,
          "symbol": "diamond"
         },
         "mode": "markers",
         "name": "Hash map",
         "type": "scatter",
         "x": [
          "human to human",
          "human to human",
          "human to human",
          "human to human",
          "human to turkey",
          "human to turkey",
          "human to turkey",
          "human to turkey",
          "human to corn",
          "human to corn",
          "human to corn",
          "human to corn",
          "turkey to turkey",
          "turkey to turkey",
          "turkey to turkey",
          "turkey to turkey",
          "turkey to corn",
          "turkey to corn",
          "turkey to corn",
          "turkey to corn",
          "corn to corn",
          "corn to corn",
          "corn to corn",
          "corn to corn",
          "virus to virus",
          "virus to virus",
          "virus to virus"
         ],
         "xaxis": "x",
         "y": [
          22.436999999999998,
          22.436999999999998,
          22.436999999999998,
          22.436999999999998,
          25.4665,
          25.4665,
          25.4665,
          25.4665,
          21.677500000000002,
          21.677500000000002,
          21.677500000000002,
          21.677500000000002,
          26.75475,
          26.75475,
          26.75475,
          26.75475,
          16.447000000000003,
          16.447000000000003,
          16.447000000000003,
          16.447000000000003,
          18.19525,
          18.19525,
          18.19525,
          18.19525,
          10.432666666666668,
          10.432666666666668,
          10.432666666666668
         ],
         "yaxis": "y"
        },
        {
         "line": {
          "color": "#00CC96"
         },
         "marker": {
          "size": 12,
          "symbol": "diamond"
         },
         "mode": "markers",
         "name": "Hash map",
         "showlegend": false,
         "type": "scatter",
         "x": [
          "human to human",
          "human to human",
          "human to human",
          "human to human",
          "human to turkey",
          "human to turkey",
          "human to turkey",
          "human to turkey",
          "human to corn",
          "human to corn",
          "human to corn",
          "human to corn",
          "turkey to turkey",
          "turkey to turkey",
          "turkey to turkey",
          "turkey to turkey",
          "turkey to corn",
          "turkey to corn",
          "turkey to corn",
          "turkey to corn",
          "corn to corn",
          "corn to corn",
          "corn to corn",
          "corn to corn",
          "virus to virus",
          "virus to virus",
          "virus to virus"
         ],
         "xaxis": "x2",
         "y": [
          78.16825,
          78.16825,
          78.16825,
          78.16825,
          72.85225,
          72.85225,
          72.85225,
          72.85225,
          74.708,
          74.708,
          74.708,
          74.708,
          71.0755,
          71.0755,
          71.0755,
          71.0755,
          73.01325,
          73.01325,
          73.01325,
          73.01325,
          74.78,
          74.78,
          74.78,
          74.78,
          16.758333333333333,
          16.758333333333333,
          16.758333333333333
         ],
         "yaxis": "y2"
        },
        {
         "line": {
          "color": "#00CC96"
         },
         "marker": {
          "size": 12,
          "symbol": "diamond"
         },
         "mode": "markers",
         "name": "Hash map",
         "showlegend": false,
         "type": "scatter",
         "x": [
          "human to human",
          "human to human",
          "human to human",
          "human to human",
          "human to turkey",
          "human to turkey",
          "human to turkey",
          "human to turkey",
          "human to corn",
          "human to corn",
          "human to corn",
          "human to corn",
          "turkey to turkey",
          "turkey to turkey",
          "turkey to turkey",
          "turkey to turkey",
          "turkey to corn",
          "turkey to corn",
          "turkey to corn",
          "turkey to corn",
          "corn to corn",
          "corn to corn",
          "corn to corn",
          "corn to corn",
          "virus to virus",
          "virus to virus",
          "virus to virus"
         ],
         "xaxis": "x3",
         "y": [
          85.88900000000001,
          85.88900000000001,
          85.88900000000001,
          85.88900000000001,
          75.6345,
          75.6345,
          75.6345,
          75.6345,
          73.5875,
          73.5875,
          73.5875,
          73.5875,
          70.30475,
          70.30475,
          70.30475,
          70.30475,
          72.346,
          72.346,
          72.346,
          72.346,
          74.72425,
          74.72425,
          74.72425,
          74.72425,
          27.34466666666667,
          27.34466666666667,
          27.34466666666667
         ],
         "yaxis": "y3"
        },
        {
         "line": {
          "color": "#AB63FA"
         },
         "marker": {
          "size": 12,
          "symbol": "cross"
         },
         "mode": "markers",
         "name": "vEB",
         "type": "scatter",
         "x": [
          "human to human",
          "human to human",
          "human to human",
          "human to human",
          "human to turkey",
          "human to turkey",
          "human to turkey",
          "human to turkey",
          "human to corn",
          "human to corn",
          "human to corn",
          "human to corn",
          "turkey to turkey",
          "turkey to turkey",
          "turkey to turkey",
          "turkey to turkey",
          "turkey to corn",
          "turkey to corn",
          "turkey to corn",
          "turkey to corn",
          "corn to corn",
          "corn to corn",
          "corn to corn",
          "corn to corn",
          "virus to virus",
          "virus to virus",
          "virus to virus"
         ],
         "xaxis": "x",
         "y": [
          18.0005,
          18.0005,
          18.0005,
          18.0005,
          17.40675,
          17.40675,
          17.40675,
          17.40675,
          16.35875,
          16.35875,
          16.35875,
          16.35875,
          16.83575,
          16.83575,
          16.83575,
          16.83575,
          15.3835,
          15.3835,
          15.3835,
          15.3835,
          13.93075,
          13.93075,
          13.93075,
          13.93075,
          7.215,
          7.215,
          7.215
         ],
         "yaxis": "y"
        },
        {
         "line": {
          "color": "#AB63FA"
         },
         "marker": {
          "size": 12,
          "symbol": "cross"
         },
         "mode": "markers",
         "name": "vEB",
         "showlegend": false,
         "type": "scatter",
         "x": [
          "human to human",
          "human to human",
          "human to human",
          "human to human",
          "human to turkey",
          "human to turkey",
          "human to turkey",
          "human to turkey",
          "human to corn",
          "human to corn",
          "human to corn",
          "human to corn",
          "turkey to turkey",
          "turkey to turkey",
          "turkey to turkey",
          "turkey to turkey",
          "turkey to corn",
          "turkey to corn",
          "turkey to corn",
          "turkey to corn",
          "corn to corn",
          "corn to corn",
          "corn to corn",
          "corn to corn",
          "virus to virus",
          "virus to virus",
          "virus to virus"
         ],
         "xaxis": "x2",
         "y": [
          65.91275,
          65.91275,
          65.91275,
          65.91275,
          66.6125,
          66.6125,
          66.6125,
          66.6125,
          66.009,
          66.009,
          66.009,
          66.009,
          63.323,
          63.323,
          63.323,
          63.323,
          65.68825,
          65.68825,
          65.68825,
          65.68825,
          61.37575,
          61.37575,
          61.37575,
          61.37575,
          10.673333333333334,
          10.673333333333334,
          10.673333333333334
         ],
         "yaxis": "y2"
        },
        {
         "line": {
          "color": "#AB63FA"
         },
         "marker": {
          "size": 12,
          "symbol": "cross"
         },
         "mode": "markers",
         "name": "vEB",
         "showlegend": false,
         "type": "scatter",
         "x": [
          "human to human",
          "human to human",
          "human to human",
          "human to human",
          "human to turkey",
          "human to turkey",
          "human to turkey",
          "human to turkey",
          "human to corn",
          "human to corn",
          "human to corn",
          "human to corn",
          "turkey to turkey",
          "turkey to turkey",
          "turkey to turkey",
          "turkey to turkey",
          "turkey to corn",
          "turkey to corn",
          "turkey to corn",
          "turkey to corn",
          "corn to corn",
          "corn to corn",
          "corn to corn",
          "corn to corn",
          "virus to virus",
          "virus to virus",
          "virus to virus"
         ],
         "xaxis": "x3",
         "y": [
          66.5775,
          66.5775,
          66.5775,
          66.5775,
          66.74375,
          66.74375,
          66.74375,
          66.74375,
          68.64075,
          68.64075,
          68.64075,
          68.64075,
          62.46275,
          62.46275,
          62.46275,
          62.46275,
          64.70575,
          64.70575,
          64.70575,
          64.70575,
          63.56425,
          63.56425,
          63.56425,
          63.56425,
          16.18733333333333,
          16.18733333333333,
          16.18733333333333
         ],
         "yaxis": "y3"
        },
        {
         "line": {
          "color": "#FFA15A"
         },
         "marker": {
          "size": 12,
          "symbol": "x"
         },
         "mode": "markers",
         "name": "Eytzinger",
         "type": "scatter",
         "x": [
          "human to human",
          "human to human",
          "human to human",
          "human to human",
          "human to turkey",
          "human to turkey",
          "human to turkey",
          "human to turkey",
          "human to corn",
          "human to corn",
          "human to corn",
          "human to corn",
          "turkey to turkey",
          "turkey to turkey",
          "turkey to turkey",
          "turkey to turkey",
          "turkey to corn",
          "turkey to corn",
          "turkey to corn",
          "turkey to corn",
          "corn to corn",
          "corn to corn",
          "corn to corn",
          "corn to corn",
          "virus to virus",
          "virus to virus",
          "virus to virus"
         ],
         "xaxis": "x",
         "y": [
          9.62425,
          9.62425,
          9.62425,
          9.62425,
          10.92,
          10.92,
          10.92,
          10.92,
          9.431000000000001,
          9.431000000000001,
          9.431000000000001,
          9.431000000000001,
          10.1525,
          10.1525,
          10.1525,
          10.1525,
          7.7002500000000005,
          7.7002500000000005,
          7.7002500000000005,
          7.7002500000000005,
          8.10075,
          8.10075,
          8.10075,
          8.10075,
          4.999666666666666,
          4.999666666666666,
          4.999666666666666
         ],
         "yaxis": "y"
        },
        {
         "line": {
          "color": "#FFA15A"
         },
         "marker": {
          "size": 12,
          "symbol": "x"
         },
         "mode": "markers",
         "name": "Eytzinger",
         "showlegend": false,
         "type": "scatter",
         "x": [
          "human to human",
          "human to human",
          "human to human",
          "human to human",
          "human to turkey",
          "human to turkey",
          "human to turkey",
          "human to turkey",
          "human to corn",
          "human to corn",
          "human to corn",
          "human to corn",
          "turkey to turkey",
          "turkey to turkey",
          "turkey to turkey",
          "turkey to turkey",
          "turkey to corn",
          "turkey to corn",
          "turkey to corn",
          "turkey to corn",
          "corn to corn",
          "corn to corn",
          "corn to corn",
          "corn to corn",
          "virus to virus",
          "virus to virus",
          "virus to virus"
         ],
         "xaxis": "x2",
         "y": [
          74.05799999999999,
          74.05799999999999,
          74.05799999999999,
          74.05799999999999,
          74.14625000000001,
          74.14625000000001,
          74.14625000000001,
          74.14625000000001,
          72.9065,
          72.9065,
          72.9065,
          72.9065,
          67.91624999999999,
          67.91624999999999,
          67.91624999999999,
          67.91624999999999,
          70.253,
          70.253,
          70.253,
          70.253,
          73.73775,
          73.73775,
          73.73775,
          73.73775,
          6.702333333333333,
          6.702333333333333,
          6.702333333333333
         ],
         "yaxis": "y2"
        },
        {
         "line": {
          "color": "#FFA15A"
         },
         "marker": {
          "size": 12,
          "symbol": "x"
         },
         "mode": "markers",
         "name": "Eytzinger",
         "showlegend": false,
         "type": "scatter",
         "x": [
          "human to human",
          "human to human",
          "human to human",
          "human to human",
          "human to turkey",
          "human to turkey",
          "human to turkey",
          "human to turkey",
          "human to corn",
          "human to corn",
          "human to corn",
          "human to corn",
          "turkey to turkey",
          "turkey to turkey",
          "turkey to turkey",
          "turkey to turkey",
          "turkey to corn",
          "turkey to corn",
          "turkey to corn",
          "turkey to corn",
          "corn to corn",
          "corn to corn",
          "corn to corn",
          "corn to corn",
          "virus to virus",
          "virus to virus",
          "virus to virus"
         ],
         "xaxis": "x3",
         "y": [
          78.233,
          78.233,
          78.233,
          78.233,
          75.132,
          75.132,
          75.132,
          75.132,
          77.643,
          77.643,
          77.643,
          77.643,
          67.48275,
          67.48275,
          67.48275,
          67.48275,
          68.28175,
          68.28175,
          68.28175,
          68.28175,
          74.44875,
          74.44875,
          74.44875,
          74.44875,
          10.505333333333333,
          10.505333333333333,
          10.505333333333333
         ],
         "yaxis": "y3"
        },
        {
         "line": {
          "color": "#19D3F3"
         },
         "marker": {
          "size": 12,
          "symbol": "pentagon"
         },
         "mode": "markers",
         "name": "B-tree",
         "type": "scatter",
         "x": [
          "human to human",
          "human to human",
          "human to human",
          "human to human",
          "human to turkey",
          "human to turkey",
          "human to turkey",
          "human to turkey",
          "human to corn",
          "human to corn",
          "human to corn",
          "human to corn",
          "turkey to turkey",
          "turkey to turkey",
          "turkey to turkey",
          "turkey to turkey",
          "turkey to corn",
          "turkey to corn",
          "turkey to corn",
          "turkey to corn",
          "corn to corn",
          "corn to corn",
          "corn to corn",
          "corn to corn",
          "virus to virus",
          "virus to virus",
          "virus to virus"
         ],
         "xaxis": "x",
         "y": [
          13.13925,
          13.13925,
          13.13925,
          13.13925,
          12.55275,
          12.55275,
          12.55275,
          12.55275,
          13.4405,
          13.4405,
          13.4405,
          13.4405,
          13.392,
          13.392,
          13.392,
          13.392,
          11.674,
          11.674,
          11.674,
          11.674,
          10.7295,
          10.7295,
          10.7295,
          10.7295,
          4.283,
          4.283,
          4.283
         ],
         "yaxis": "y"
        },
        {
         "line": {
          "color": "#19D3F3"
         },
         "marker": {
          "size": 12,
          "symbol": "pentagon"
         },
         "mode": "markers",
         "name": "B-tree",
         "showlegend": false,
         "type": "scatter",
         "x": [
          "human to human",
          "human to human",
          "human to human",
          "human to human",
          "human to turkey",
          "human to turkey",
          "human to turkey",
          "human to turkey",
          "human to corn",
          "human to corn",
          "human to corn",
          "human to corn",
          "turkey to turkey",
          "turkey to turkey",
          "turkey to turkey",
          "turkey to turkey",
          "turkey to corn",
          "turkey to corn",
          "turkey to corn",
          "turkey to corn",
          "corn to corn",
          "corn to corn",
          "corn to corn",
          "corn to corn",
          "virus to virus",
          "virus to virus",
          "virus to virus"
         ],
         "xaxis": "x2",
         "y": [
          77.8485,
          77.8485,
          77.8485,
          77.8485,
          76.9385,
          76.9385,
          76.9385,
          76.9385,
          76.68549999999999,
          76.68549999999999,
          76.68549999999999,
          76.68549999999999,
          68.727,
          68.727,
          68.727,
          68.727,
          70.4565,
          70.4565,
          70.4565,
          70.4565,
          73.02925,
          73.02925,
          73.02925,
          73.02925,
          6.991666666666667,
          6.991666666666667,
          6.991666666666667
         ],
         "yaxis": "y2"
        },
        {
         "line": {
          "color": "#19D3F3"
         },
         "marker": {
          "size": 12,
          "symbol": "pentagon"
         },
         "mode": "markers",
         "name": "B-tree",
         "showlegend": false,
         "type": "scatter",
         "x": [
          "human to human",
          "human to human",
          "human to human",
          "human to human",
          "human to turkey",
          "human to turkey",
          "human to turkey",
          "human to turkey",
          "human to corn",
          "human to corn",
          "human to corn",
          "human to corn",
          "turkey to turkey",
          "turkey to turkey",
          "turkey to turkey",
          "turkey to turkey",
          "turkey to corn",
          "turkey to corn",
          "turkey to corn",
          "turkey to corn",
          "corn to corn",
          "corn to corn",
          "corn to corn",
          "corn to corn",
          "virus to virus",
          "virus to virus",
          "virus to virus"
         ],
         "xaxis": "x3",
         "y": [
          79.98925,
          79.98925,
          79.98925,
          79.98925,
          75.0865,
          75.0865,
          75.0865,
          75.0865,
          75.76650000000001,
          75.76650000000001,
          75.76650000000001,
          75.76650000000001,
          68.30525,
          68.30525,
          68.30525,
          68.30525,
          68.27175,
          68.27175,
          68.27175,
          68.27175,
          73.718,
          73.718,
          73.718,
          73.718,
          12.682,
          12.682,
          12.682
         ],
         "yaxis": "y3"
        },
        {
         "line": {
          "color": "#FF6692"
         },
         "marker": {
          "size": 12,
          "symbol": "star"
         },
         "mode": "markers",
         "name": "PstClassifierSeqan",
         "type": "scatter",
         "x": [
          "human to human",
          "human to human",
          "human to human",
          "human to human",
          "human to turkey",
          "human to turkey",
          "human to turkey",
          "human to turkey",
          "human to corn",
          "human to corn",
          "human to corn",
          "human to corn",
          "turkey to turkey",
          "turkey to turkey",
          "turkey to turkey",
          "turkey to turkey",
          "turkey to corn",
          "turkey to corn",
          "turkey to corn",
          "turkey to corn",
          "corn to corn",
          "corn to corn",
          "corn to corn",
          "corn to corn",
          "virus to virus",
          "virus to virus",
          "virus to virus"
         ],
         "xaxis": "x",
         "y": [
          17.68425,
          17.68425,
          17.68425,
          17.68425,
          17.4825,
          17.4825,
          17.4825,
          17.4825,
          21.99275,
          21.99275,
          21.99275,
          21.99275,
          27.4745,
          27.4745,
          27.4745,
          27.4745,
          25.445,
          25.445,
          25.445,
          25.445,
          23.6095,
          23.6095,
          23.6095,
          23.6095,
          68.84866666666666,
          68.84866666666666,
          68.84866666666666
         ],
         "yaxis": "y"
        },
        {
         "line": {
          "color": "#FF6692"
         },
         "marker": {
          "size": 12,
          "symbol": "star"
         },
         "mode": "markers",
         "name": "PstClassifierSeqan",
         "showlegend": false,
         "type": "scatter",
         "x": [
          "human to human",
          "human to human",
          "human to human",
          "human to human",
          "human to turkey",
          "human to turkey",
          "human to turkey",
          "human to turkey",
          "human to corn",
          "human to corn",
          "human to corn",
          "human to corn",
          "turkey to turkey",
          "turkey to turkey",
          "turkey to turkey",
          "turkey to turkey",
          "turkey to corn",
          "turkey to corn",
          "turkey to corn",
          "turkey to corn",
          "corn to corn",
          "corn to corn",
          "corn to corn",
          "corn to corn",
          "virus to virus",
          "virus to virus",
          "virus to virus"
         ],
         "xaxis": "x2",
         "y": [
          66.7285,
          66.7285,
          66.7285,
          66.7285,
          66.07925,
          66.07925,
          66.07925,
          66.07925,
          69.512,
          69.512,
          69.512,
          69.512,
          64.52074999999999,
          64.52074999999999,
          64.52074999999999,
          64.52074999999999,
          63.5165,
          63.5165,
          63.5165,
          63.5165,
          61.08,
          61.08,
          61.08,
          61.08,
          52.657999999999994,
          52.657999999999994,
          52.657999999999994
         ],
         "yaxis": "y2"
        },
        {
         "line": {
          "color": "#FF6692"
         },
         "marker": {
          "size": 12,
          "symbol": "star"
         },
         "mode": "markers",
         "name": "PstClassifierSeqan",
         "showlegend": false,
         "type": "scatter",
         "x": [
          "human to human",
          "human to human",
          "human to human",
          "human to human",
          "human to turkey",
          "human to turkey",
          "human to turkey",
          "human to turkey",
          "human to corn",
          "human to corn",
          "human to corn",
          "human to corn",
          "turkey to turkey",
          "turkey to turkey",
          "turkey to turkey",
          "turkey to turkey",
          "turkey to corn",
          "turkey to corn",
          "turkey to corn",
          "turkey to corn",
          "corn to corn",
          "corn to corn",
          "corn to corn",
          "corn to corn",
          "virus to virus",
          "virus to virus",
          "virus to virus"
         ],
         "xaxis": "x3",
         "y": [
          68.63025,
          68.63025,
          68.63025,
          68.63025,
          67.09425,
          67.09425,
          67.09425,
          67.09425,
          68.94775,
          68.94775,
          68.94775,
          68.94775,
          64.74725,
          64.74725,
          64.74725,
          64.74725,
          64.051,
          64.051,
          64.051,
          64.051,
          63.75575,
          63.75575,
          63.75575,
          63.75575,
          36.278666666666666,
          36.278666666666666,
          36.278666666666666
         ],
         "yaxis": "y3"
        }
       ],
       "layout": {
        "annotations": [
         {
          "font": {
           "size": 24
          },
          "showarrow": false,
          "text": "Small",
          "x": 0.5,
          "xanchor": "center",
          "xref": "paper",
          "y": 1,
          "yanchor": "bottom",
          "yref": "paper"
         },
         {
          "font": {
           "size": 24
          },
          "showarrow": false,
          "text": "Medium",
          "x": 0.5,
          "xanchor": "center",
          "xref": "paper",
          "y": 0.6499999999999999,
          "yanchor": "bottom",
          "yref": "paper"
         },
         {
          "font": {
           "size": 24
          },
          "showarrow": false,
          "text": "Large",
          "x": 0.5,
          "xanchor": "center",
          "xref": "paper",
          "y": 0.3,
          "yanchor": "bottom",
          "yref": "paper"
         },
         {
          "font": {
           "size": 24
          },
          "showarrow": false,
          "text": "Cache misses (%)",
          "textangle": -90,
          "x": 0,
          "xanchor": "right",
          "xref": "paper",
          "xshift": -40,
          "y": 0.5,
          "yanchor": "middle",
          "yref": "paper"
         }
        ],
        "height": 900,
        "legend": {
         "font": {
          "size": 24
         },
         "orientation": "h",
         "y": 1.08,
         "yanchor": "bottom"
        },
        "margin": {
         "b": 80,
         "l": 100,
         "r": 60,
         "t": 60
        },
        "plot_bgcolor": "white",
        "template": {
         "data": {
          "bar": [
           {
            "error_x": {
             "color": "#2a3f5f"
            },
            "error_y": {
             "color": "#2a3f5f"
            },
            "marker": {
             "line": {
              "color": "#E5ECF6",
              "width": 0.5
             },
             "pattern": {
              "fillmode": "overlay",
              "size": 10,
              "solidity": 0.2
             }
            },
            "type": "bar"
           }
          ],
          "barpolar": [
           {
            "marker": {
             "line": {
              "color": "#E5ECF6",
              "width": 0.5
             },
             "pattern": {
              "fillmode": "overlay",
              "size": 10,
              "solidity": 0.2
             }
            },
            "type": "barpolar"
           }
          ],
          "carpet": [
           {
            "aaxis": {
             "endlinecolor": "#2a3f5f",
             "gridcolor": "white",
             "linecolor": "white",
             "minorgridcolor": "white",
             "startlinecolor": "#2a3f5f"
            },
            "baxis": {
             "endlinecolor": "#2a3f5f",
             "gridcolor": "white",
             "linecolor": "white",
             "minorgridcolor": "white",
             "startlinecolor": "#2a3f5f"
            },
            "type": "carpet"
           }
          ],
          "choropleth": [
           {
            "colorbar": {
             "outlinewidth": 0,
             "ticks": ""
            },
            "type": "choropleth"
           }
          ],
          "contour": [
           {
            "colorbar": {
             "outlinewidth": 0,
             "ticks": ""
            },
            "colorscale": [
             [
              0,
              "#0d0887"
             ],
             [
              0.1111111111111111,
              "#46039f"
             ],
             [
              0.2222222222222222,
              "#7201a8"
             ],
             [
              0.3333333333333333,
              "#9c179e"
             ],
             [
              0.4444444444444444,
              "#bd3786"
             ],
             [
              0.5555555555555556,
              "#d8576b"
             ],
             [
              0.6666666666666666,
              "#ed7953"
             ],
             [
              0.7777777777777778,
              "#fb9f3a"
             ],
             [
              0.8888888888888888,
              "#fdca26"
             ],
             [
              1,
              "#f0f921"
             ]
            ],
            "type": "contour"
           }
          ],
          "contourcarpet": [
           {
            "colorbar": {
             "outlinewidth": 0,
             "ticks": ""
            },
            "type": "contourcarpet"
           }
          ],
          "heatmap": [
           {
            "colorbar": {
             "outlinewidth": 0,
             "ticks": ""
            },
            "colorscale": [
             [
              0,
              "#0d0887"
             ],
             [
              0.1111111111111111,
              "#46039f"
             ],
             [
              0.2222222222222222,
              "#7201a8"
             ],
             [
              0.3333333333333333,
              "#9c179e"
             ],
             [
              0.4444444444444444,
              "#bd3786"
             ],
             [
              0.5555555555555556,
              "#d8576b"
             ],
             [
              0.6666666666666666,
              "#ed7953"
             ],
             [
              0.7777777777777778,
              "#fb9f3a"
             ],
             [
              0.8888888888888888,
              "#fdca26"
             ],
             [
              1,
              "#f0f921"
             ]
            ],
            "type": "heatmap"
           }
          ],
          "heatmapgl": [
           {
            "colorbar": {
             "outlinewidth": 0,
             "ticks": ""
            },
            "colorscale": [
             [
              0,
              "#0d0887"
             ],
             [
              0.1111111111111111,
              "#46039f"
             ],
             [
              0.2222222222222222,
              "#7201a8"
             ],
             [
              0.3333333333333333,
              "#9c179e"
             ],
             [
              0.4444444444444444,
              "#bd3786"
             ],
             [
              0.5555555555555556,
              "#d8576b"
             ],
             [
              0.6666666666666666,
              "#ed7953"
             ],
             [
              0.7777777777777778,
              "#fb9f3a"
             ],
             [
              0.8888888888888888,
              "#fdca26"
             ],
             [
              1,
              "#f0f921"
             ]
            ],
            "type": "heatmapgl"
           }
          ],
          "histogram": [
           {
            "marker": {
             "pattern": {
              "fillmode": "overlay",
              "size": 10,
              "solidity": 0.2
             }
            },
            "type": "histogram"
           }
          ],
          "histogram2d": [
           {
            "colorbar": {
             "outlinewidth": 0,
             "ticks": ""
            },
            "colorscale": [
             [
              0,
              "#0d0887"
             ],
             [
              0.1111111111111111,
              "#46039f"
             ],
             [
              0.2222222222222222,
              "#7201a8"
             ],
             [
              0.3333333333333333,
              "#9c179e"
             ],
             [
              0.4444444444444444,
              "#bd3786"
             ],
             [
              0.5555555555555556,
              "#d8576b"
             ],
             [
              0.6666666666666666,
              "#ed7953"
             ],
             [
              0.7777777777777778,
              "#fb9f3a"
             ],
             [
              0.8888888888888888,
              "#fdca26"
             ],
             [
              1,
              "#f0f921"
             ]
            ],
            "type": "histogram2d"
           }
          ],
          "histogram2dcontour": [
           {
            "colorbar": {
             "outlinewidth": 0,
             "ticks": ""
            },
            "colorscale": [
             [
              0,
              "#0d0887"
             ],
             [
              0.1111111111111111,
              "#46039f"
             ],
             [
              0.2222222222222222,
              "#7201a8"
             ],
             [
              0.3333333333333333,
              "#9c179e"
             ],
             [
              0.4444444444444444,
              "#bd3786"
             ],
             [
              0.5555555555555556,
              "#d8576b"
             ],
             [
              0.6666666666666666,
              "#ed7953"
             ],
             [
              0.7777777777777778,
              "#fb9f3a"
             ],
             [
              0.8888888888888888,
              "#fdca26"
             ],
             [
              1,
              "#f0f921"
             ]
            ],
            "type": "histogram2dcontour"
           }
          ],
          "mesh3d": [
           {
            "colorbar": {
             "outlinewidth": 0,
             "ticks": ""
            },
            "type": "mesh3d"
           }
          ],
          "parcoords": [
           {
            "line": {
             "colorbar": {
              "outlinewidth": 0,
              "ticks": ""
             }
            },
            "type": "parcoords"
           }
          ],
          "pie": [
           {
            "automargin": true,
            "type": "pie"
           }
          ],
          "scatter": [
           {
            "fillpattern": {
             "fillmode": "overlay",
             "size": 10,
             "solidity": 0.2
            },
            "type": "scatter"
           }
          ],
          "scatter3d": [
           {
            "line": {
             "colorbar": {
              "outlinewidth": 0,
              "ticks": ""
             }
            },
            "marker": {
             "colorbar": {
              "outlinewidth": 0,
              "ticks": ""
             }
            },
            "type": "scatter3d"
           }
          ],
          "scattercarpet": [
           {
            "marker": {
             "colorbar": {
              "outlinewidth": 0,
              "ticks": ""
             }
            },
            "type": "scattercarpet"
           }
          ],
          "scattergeo": [
           {
            "marker": {
             "colorbar": {
              "outlinewidth": 0,
              "ticks": ""
             }
            },
            "type": "scattergeo"
           }
          ],
          "scattergl": [
           {
            "marker": {
             "colorbar": {
              "outlinewidth": 0,
              "ticks": ""
             }
            },
            "type": "scattergl"
           }
          ],
          "scattermapbox": [
           {
            "marker": {
             "colorbar": {
              "outlinewidth": 0,
              "ticks": ""
             }
            },
            "type": "scattermapbox"
           }
          ],
          "scatterpolar": [
           {
            "marker": {
             "colorbar": {
              "outlinewidth": 0,
              "ticks": ""
             }
            },
            "type": "scatterpolar"
           }
          ],
          "scatterpolargl": [
           {
            "marker": {
             "colorbar": {
              "outlinewidth": 0,
              "ticks": ""
             }
            },
            "type": "scatterpolargl"
           }
          ],
          "scatterternary": [
           {
            "marker": {
             "colorbar": {
              "outlinewidth": 0,
              "ticks": ""
             }
            },
            "type": "scatterternary"
           }
          ],
          "surface": [
           {
            "colorbar": {
             "outlinewidth": 0,
             "ticks": ""
            },
            "colorscale": [
             [
              0,
              "#0d0887"
             ],
             [
              0.1111111111111111,
              "#46039f"
             ],
             [
              0.2222222222222222,
              "#7201a8"
             ],
             [
              0.3333333333333333,
              "#9c179e"
             ],
             [
              0.4444444444444444,
              "#bd3786"
             ],
             [
              0.5555555555555556,
              "#d8576b"
             ],
             [
              0.6666666666666666,
              "#ed7953"
             ],
             [
              0.7777777777777778,
              "#fb9f3a"
             ],
             [
              0.8888888888888888,
              "#fdca26"
             ],
             [
              1,
              "#f0f921"
             ]
            ],
            "type": "surface"
           }
          ],
          "table": [
           {
            "cells": {
             "fill": {
              "color": "#EBF0F8"
             },
             "line": {
              "color": "white"
             }
            },
            "header": {
             "fill": {
              "color": "#C8D4E3"
             },
             "line": {
              "color": "white"
             }
            },
            "type": "table"
           }
          ]
         },
         "layout": {
          "annotationdefaults": {
           "arrowcolor": "#2a3f5f",
           "arrowhead": 0,
           "arrowwidth": 1
          },
          "autotypenumbers": "strict",
          "coloraxis": {
           "colorbar": {
            "outlinewidth": 0,
            "ticks": ""
           }
          },
          "colorscale": {
           "diverging": [
            [
             0,
             "#8e0152"
            ],
            [
             0.1,
             "#c51b7d"
            ],
            [
             0.2,
             "#de77ae"
            ],
            [
             0.3,
             "#f1b6da"
            ],
            [
             0.4,
             "#fde0ef"
            ],
            [
             0.5,
             "#f7f7f7"
            ],
            [
             0.6,
             "#e6f5d0"
            ],
            [
             0.7,
             "#b8e186"
            ],
            [
             0.8,
             "#7fbc41"
            ],
            [
             0.9,
             "#4d9221"
            ],
            [
             1,
             "#276419"
            ]
           ],
           "sequential": [
            [
             0,
             "#0d0887"
            ],
            [
             0.1111111111111111,
             "#46039f"
            ],
            [
             0.2222222222222222,
             "#7201a8"
            ],
            [
             0.3333333333333333,
             "#9c179e"
            ],
            [
             0.4444444444444444,
             "#bd3786"
            ],
            [
             0.5555555555555556,
             "#d8576b"
            ],
            [
             0.6666666666666666,
             "#ed7953"
            ],
            [
             0.7777777777777778,
             "#fb9f3a"
            ],
            [
             0.8888888888888888,
             "#fdca26"
            ],
            [
             1,
             "#f0f921"
            ]
           ],
           "sequentialminus": [
            [
             0,
             "#0d0887"
            ],
            [
             0.1111111111111111,
             "#46039f"
            ],
            [
             0.2222222222222222,
             "#7201a8"
            ],
            [
             0.3333333333333333,
             "#9c179e"
            ],
            [
             0.4444444444444444,
             "#bd3786"
            ],
            [
             0.5555555555555556,
             "#d8576b"
            ],
            [
             0.6666666666666666,
             "#ed7953"
            ],
            [
             0.7777777777777778,
             "#fb9f3a"
            ],
            [
             0.8888888888888888,
             "#fdca26"
            ],
            [
             1,
             "#f0f921"
            ]
           ]
          },
          "colorway": [
           "#636efa",
           "#EF553B",
           "#00cc96",
           "#ab63fa",
           "#FFA15A",
           "#19d3f3",
           "#FF6692",
           "#B6E880",
           "#FF97FF",
           "#FECB52"
          ],
          "font": {
           "color": "#2a3f5f"
          },
          "geo": {
           "bgcolor": "white",
           "lakecolor": "white",
           "landcolor": "#E5ECF6",
           "showlakes": true,
           "showland": true,
           "subunitcolor": "white"
          },
          "hoverlabel": {
           "align": "left"
          },
          "hovermode": "closest",
          "mapbox": {
           "style": "light"
          },
          "paper_bgcolor": "white",
          "plot_bgcolor": "#E5ECF6",
          "polar": {
           "angularaxis": {
            "gridcolor": "white",
            "linecolor": "white",
            "ticks": ""
           },
           "bgcolor": "#E5ECF6",
           "radialaxis": {
            "gridcolor": "white",
            "linecolor": "white",
            "ticks": ""
           }
          },
          "scene": {
           "xaxis": {
            "backgroundcolor": "#E5ECF6",
            "gridcolor": "white",
            "gridwidth": 2,
            "linecolor": "white",
            "showbackground": true,
            "ticks": "",
            "zerolinecolor": "white"
           },
           "yaxis": {
            "backgroundcolor": "#E5ECF6",
            "gridcolor": "white",
            "gridwidth": 2,
            "linecolor": "white",
            "showbackground": true,
            "ticks": "",
            "zerolinecolor": "white"
           },
           "zaxis": {
            "backgroundcolor": "#E5ECF6",
            "gridcolor": "white",
            "gridwidth": 2,
            "linecolor": "white",
            "showbackground": true,
            "ticks": "",
            "zerolinecolor": "white"
           }
          },
          "shapedefaults": {
           "line": {
            "color": "#2a3f5f"
           }
          },
          "ternary": {
           "aaxis": {
            "gridcolor": "white",
            "linecolor": "white",
            "ticks": ""
           },
           "baxis": {
            "gridcolor": "white",
            "linecolor": "white",
            "ticks": ""
           },
           "bgcolor": "#E5ECF6",
           "caxis": {
            "gridcolor": "white",
            "linecolor": "white",
            "ticks": ""
           }
          },
          "title": {
           "x": 0.05
          },
          "xaxis": {
           "automargin": true,
           "gridcolor": "white",
           "linecolor": "white",
           "ticks": "",
           "title": {
            "standoff": 15
           },
           "zerolinecolor": "white",
           "zerolinewidth": 2
          },
          "yaxis": {
           "automargin": true,
           "gridcolor": "white",
           "linecolor": "white",
           "ticks": "",
           "title": {
            "standoff": 15
           },
           "zerolinecolor": "white",
           "zerolinewidth": 2
          }
         }
        },
        "width": 900,
        "xaxis": {
         "anchor": "y",
         "domain": [
          0,
          1
         ],
         "gridcolor": "LightGrey",
         "linecolor": "LightGrey",
         "linewidth": 1,
         "matches": "x3",
         "showline": true,
         "showticklabels": false,
         "tickfont": {
          "size": 20
         }
        },
        "xaxis2": {
         "anchor": "y2",
         "domain": [
          0,
          1
         ],
         "gridcolor": "LightGrey",
         "linecolor": "LightGrey",
         "linewidth": 1,
         "matches": "x3",
         "showline": true,
         "showticklabels": false,
         "tickfont": {
          "size": 20
         }
        },
        "xaxis3": {
         "anchor": "y3",
         "domain": [
          0,
          1
         ],
         "gridcolor": "LightGrey",
         "linecolor": "LightGrey",
         "linewidth": 1,
         "showline": true,
         "tickfont": {
          "size": 20
         }
        },
        "yaxis": {
         "anchor": "x",
         "domain": [
          0.7,
          1
         ],
         "gridcolor": "LightGrey",
         "linecolor": "LightGrey",
         "linewidth": 1,
         "showline": true,
         "tickfont": {
          "size": 20
         }
        },
        "yaxis2": {
         "anchor": "x2",
         "domain": [
          0.35,
          0.6499999999999999
         ],
         "gridcolor": "LightGrey",
         "linecolor": "LightGrey",
         "linewidth": 1,
         "showline": true,
         "tickfont": {
          "size": 20
         }
        },
        "yaxis3": {
         "anchor": "x3",
         "domain": [
          0,
          0.3
         ],
         "gridcolor": "LightGrey",
         "linecolor": "LightGrey",
         "linewidth": 1,
         "showline": true,
         "tickfont": {
          "size": 20
         }
        }
       }
      }
     },
     "metadata": {},
     "output_type": "display_data"
    }
   ],
   "source": [
    "vis_bench_speedup_single_run([(\"05_11\", \"11_02\"), (\"05_11\", \"13_38\"), (\"05_11\", \"20_45\"), (\"05_21\", \"14_16\")], True)\n",
    "vis_bench_cache_misses_single_run([(\"05_11\", \"11_02\"), (\"05_11\", \"13_38\"), (\"05_11\", \"20_45\"), (\"05_21\", \"14_16\")], True)"
   ]
  },
  {
   "cell_type": "code",
   "execution_count": null,
   "metadata": {},
   "outputs": [],
   "source": [
    "vis_bench_speedup_single_run([(\"05_11\", \"11_02\"), (\"05_11\", \"13_38\")], True)\n",
    "vis_bench_cache_misses_single_run([(\"05_11\", \"11_02\"), (\"05_11\", \"13_38\")], True)"
   ]
  },
  {
   "cell_type": "code",
   "execution_count": null,
   "metadata": {},
   "outputs": [],
   "source": [
    "ahmdals(\"05_15\", \"21_28\", \"ecoli\", False)"
   ]
  }
 ],
 "metadata": {
  "kernelspec": {
   "display_name": "pytenv",
   "language": "python",
   "name": "python3"
  },
  "language_info": {
   "codemirror_mode": {
    "name": "ipython",
    "version": 3
   },
   "file_extension": ".py",
   "mimetype": "text/x-python",
   "name": "python",
   "nbconvert_exporter": "python",
   "pygments_lexer": "ipython3",
   "version": "3.10.6"
  },
  "orig_nbformat": 4
 },
 "nbformat": 4,
 "nbformat_minor": 2
}
