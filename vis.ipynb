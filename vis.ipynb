{
 "cells": [
  {
   "cell_type": "code",
   "execution_count": 35,
   "metadata": {},
   "outputs": [],
   "source": [
    "import plotly.express as px \n",
    "import plotly.graph_objects as go\n",
    "from plotly.subplots import make_subplots\n",
    "import pandas as pd \n",
    "import os \n",
    "import plotly.io as pio\n",
    "pio.kaleido.scope.mathjax = None \n",
    "from math import log"
   ]
  },
  {
   "cell_type": "code",
   "execution_count": null,
   "metadata": {},
   "outputs": [],
   "source": [
    "cwd = os.getcwd()\n",
    "csv_path = cwd + \"/tmp/benchmarks/test.csv\""
   ]
  },
  {
   "cell_type": "code",
   "execution_count": null,
   "metadata": {},
   "outputs": [],
   "source": [
    "df = pd.read_csv(csv_path)\n",
    "\n",
    "fig = px.line(df, x='Set size', y='cache-misses', title=\"Cache misses relative to amount of sequences compared <b>Repo : \" + df['Repo Version'].iloc[0] + \"</b>\")\n",
    "fig.update_layout(yaxis_title='cache misses (%)', xaxis_title='Number of unique sequences compared')\n",
    "fig.show()\n",
    "\n",
    "fig = px.line(df, x='Set size', y='elapsed time', title=\"Cache misses relative to amount of sequences compared <b>Repo : \" + df['Repo Version'].iloc[0] + \"</b>\")\n",
    "fig.update_layout(yaxis_title='cache misses (%)', xaxis_title='Number of unique sequences compared')\n",
    "fig.show()"
   ]
  },
  {
   "attachments": {},
   "cell_type": "markdown",
   "metadata": {},
   "source": [
    "# The following section analysises the relation of file size to input parameters"
   ]
  },
  {
   "cell_type": "code",
   "execution_count": null,
   "metadata": {},
   "outputs": [],
   "source": [
    "sequence = []\n",
    "threshold = []\n",
    "min_count = []\n",
    "max_depth = []\n",
    "size = []\n",
    "\n",
    "directory = \"data/benchmarking/parameter_test\"\n",
    "\n",
    "for filename in os.listdir(\"data/benchmarking/parameter_test\"):\n",
    "    f = os.path.join(directory, filename)\n",
    "    file_stats = os.stat(f)\n",
    "    parameters = filename.split(\"_\")\n",
    "    sequence.append(parameters[1])\n",
    "    threshold.append(float(parameters[2]))\n",
    "    min_count.append(int(parameters[3]))\n",
    "    max_depth.append(int(parameters[4].split(\".\")[0]))\n",
    "    size.append(file_stats.st_size)\n",
    "\n",
    "data = {\n",
    "    \"sequence\" : sequence, \n",
    "    \"threshold\" : threshold,\n",
    "    \"min_count\" : min_count,\n",
    "    \"max_depth\" : max_depth,\n",
    "    \"size\" : size\n",
    "}\n",
    "\n",
    "df = pd.DataFrame(data)\n",
    "df.columns"
   ]
  },
  {
   "cell_type": "code",
   "execution_count": null,
   "metadata": {},
   "outputs": [],
   "source": [
    "df['avg_size_threshold'] = df.groupby(['threshold'])['size'].transform('mean')\n",
    "df['avg_size_min_count'] = df.groupby(['min_count'])['size'].transform('mean')\n",
    "df['avg_size_max_depth'] = df.groupby(['max_depth'])['size'].transform('mean')\n",
    "\n",
    "df_threshold = df[['threshold', 'avg_size_threshold']]\n",
    "df_threshold.drop_duplicates(inplace=True)\n",
    "df_threshold.sort_values('threshold', inplace=True)\n",
    "\n",
    "df_min_count = df[['min_count', 'avg_size_min_count']]\n",
    "df_min_count.drop_duplicates(inplace=True)\n",
    "df_min_count.sort_values('min_count', inplace=True)\n",
    "\n",
    "df_max_depth = df[['max_depth', 'avg_size_max_depth']]\n",
    "df_max_depth.drop_duplicates(inplace=True)\n",
    "df_max_depth.sort_values('max_depth', inplace=True)"
   ]
  },
  {
   "cell_type": "code",
   "execution_count": null,
   "metadata": {},
   "outputs": [],
   "source": [
    "fig = go.Figure()\n",
    "\n",
    "fig.add_trace(go.Scatter(x=df_threshold['threshold'], y=df_threshold['avg_size_threshold'], name='threshold'))\n",
    "fig.add_trace(go.Scatter(x=df_min_count['min_count'], y=df_min_count['avg_size_min_count'], name='min_count'))\n",
    "fig.add_trace(go.Scatter(x=df_max_depth['max_depth'], y=df_max_depth['avg_size_max_depth'], name='max_depth'))\n",
    "\n",
    "fig.update_layout(yaxis_title='Size (Bytes)', xaxis_title='Parameter', title='File size change in relation to parameter tuning')\n",
    "\n",
    "fig.show()"
   ]
  },
  {
   "attachments": {},
   "cell_type": "markdown",
   "metadata": {},
   "source": [
    "# <b>Visualizing Benchmarking on Human Dataset</b>"
   ]
  },
  {
   "attachments": {},
   "cell_type": "markdown",
   "metadata": {},
   "source": [
    "## Visualize time elapsed compared to amount of VLMCs compared"
   ]
  },
  {
   "cell_type": "code",
   "execution_count": 43,
   "metadata": {},
   "outputs": [
    {
     "data": {
      "application/vnd.plotly.v1+json": {
       "config": {
        "plotlyServerURL": "https://plot.ly"
       },
       "data": [
        {
         "line": {
          "color": "#EF553B"
         },
         "marker": {
          "symbol": "x"
         },
         "name": "Pst",
         "type": "scatter",
         "x": [
          24,
          12,
          6,
          3
         ],
         "xaxis": "x",
         "y": [
          0.485253499,
          0.114175506,
          0.0446014,
          0.019887101
         ],
         "yaxis": "y"
        },
        {
         "line": {
          "color": "#FECB52"
         },
         "marker": {
          "symbol": "square"
         },
         "name": "hashmap",
         "type": "scatter",
         "x": [
          24,
          12,
          6,
          3
         ],
         "xaxis": "x",
         "y": [
          0.056953211,
          0.068529697,
          0.019673899,
          0.013906799
         ],
         "yaxis": "y"
        },
        {
         "line": {
          "color": "#00CC96"
         },
         "marker": {
          "symbol": "diamond"
         },
         "name": "combo",
         "type": "scatter",
         "x": [
          24,
          12,
          6,
          3
         ],
         "xaxis": "x",
         "y": [
          0.043112598,
          0.028886897,
          0.0224225,
          0.010587799
         ],
         "yaxis": "y"
        },
        {
         "line": {
          "color": "#636EFA"
         },
         "name": "sorted-vector",
         "type": "scatter",
         "x": [
          24,
          12,
          6,
          3
         ],
         "xaxis": "x",
         "y": [
          0.1201944,
          0.035741507,
          0.019598204,
          0.010194502
         ],
         "yaxis": "y"
        },
        {
         "line": {
          "color": "#EF553B"
         },
         "marker": {
          "symbol": "x"
         },
         "name": "Pst",
         "showlegend": false,
         "type": "scatter",
         "x": [
          24,
          12,
          6,
          3
         ],
         "xaxis": "x2",
         "y": [
          4.548532001,
          0.944180145,
          0.538431109,
          0.223892103
         ],
         "yaxis": "y2"
        },
        {
         "line": {
          "color": "#FECB52"
         },
         "marker": {
          "symbol": "square"
         },
         "name": "hashmap",
         "showlegend": false,
         "type": "scatter",
         "x": [
          24,
          12,
          6,
          3
         ],
         "xaxis": "x2",
         "y": [
          1.043098801,
          0.391747484,
          0.122533096,
          0.080469197
         ],
         "yaxis": "y2"
        },
        {
         "line": {
          "color": "#00CC96"
         },
         "marker": {
          "symbol": "diamond"
         },
         "name": "combo",
         "showlegend": false,
         "type": "scatter",
         "x": [
          24,
          12,
          6,
          3
         ],
         "xaxis": "x2",
         "y": [
          0.731322668,
          0.239272772,
          0.133373098,
          0.0617077
         ],
         "yaxis": "y2"
        },
        {
         "line": {
          "color": "#636EFA"
         },
         "name": "sorted-vector",
         "showlegend": false,
         "type": "scatter",
         "x": [
          24,
          12,
          6,
          3
         ],
         "xaxis": "x2",
         "y": [
          0.704025198,
          0.276588553,
          0.10577352,
          0.068065913
         ],
         "yaxis": "y2"
        },
        {
         "line": {
          "color": "#EF553B"
         },
         "marker": {
          "symbol": "x"
         },
         "name": "Pst",
         "showlegend": false,
         "type": "scatter",
         "x": [
          24,
          12,
          6,
          3
         ],
         "xaxis": "x3",
         "y": [
          33.207906679,
          10.136397168,
          5.050396365,
          2.168589698
         ],
         "yaxis": "y3"
        },
        {
         "line": {
          "color": "#FECB52"
         },
         "marker": {
          "symbol": "square"
         },
         "name": "hashmap",
         "showlegend": false,
         "type": "scatter",
         "x": [
          24,
          12,
          6,
          3
         ],
         "xaxis": "x3",
         "y": [
          9.537478785,
          3.524424458,
          1.235946951,
          0.614440976
         ],
         "yaxis": "y3"
        },
        {
         "line": {
          "color": "#00CC96"
         },
         "marker": {
          "symbol": "diamond"
         },
         "name": "combo",
         "showlegend": false,
         "type": "scatter",
         "x": [
          24,
          12,
          6,
          3
         ],
         "xaxis": "x3",
         "y": [
          6.082265986,
          2.437585511,
          0.960111092,
          0.539206295
         ],
         "yaxis": "y3"
        },
        {
         "line": {
          "color": "#636EFA"
         },
         "name": "sorted-vector",
         "showlegend": false,
         "type": "scatter",
         "x": [
          24,
          12,
          6,
          3
         ],
         "xaxis": "x3",
         "y": [
          6.678323296,
          2.545795491,
          1.099955212,
          0.512672599
         ],
         "yaxis": "y3"
        }
       ],
       "layout": {
        "annotations": [
         {
          "font": {
           "size": 24
          },
          "showarrow": false,
          "text": "Small",
          "x": 0.5,
          "xanchor": "center",
          "xref": "paper",
          "y": 1,
          "yanchor": "bottom",
          "yref": "paper"
         },
         {
          "font": {
           "size": 24
          },
          "showarrow": false,
          "text": "Medium",
          "x": 0.5,
          "xanchor": "center",
          "xref": "paper",
          "y": 0.6399999999999999,
          "yanchor": "bottom",
          "yref": "paper"
         },
         {
          "font": {
           "size": 24
          },
          "showarrow": false,
          "text": "Large",
          "x": 0.5,
          "xanchor": "center",
          "xref": "paper",
          "y": 0.27999999999999997,
          "yanchor": "bottom",
          "yref": "paper"
         },
         {
          "font": {
           "size": 28
          },
          "showarrow": false,
          "text": "Amount of VLMCs",
          "x": 0.5,
          "xanchor": "center",
          "xref": "paper",
          "y": 0,
          "yanchor": "top",
          "yref": "paper",
          "yshift": -30
         },
         {
          "font": {
           "size": 28
          },
          "showarrow": false,
          "text": "Elapsed Time (s)",
          "textangle": -90,
          "x": 0,
          "xanchor": "right",
          "xref": "paper",
          "xshift": -40,
          "y": 0.5,
          "yanchor": "middle",
          "yref": "paper"
         }
        ],
        "height": 800,
        "legend": {
         "orientation": "h",
         "y": 1.08,
         "yanchor": "bottom"
        },
        "margin": {
         "b": 80,
         "l": 100,
         "r": 60,
         "t": 60
        },
        "plot_bgcolor": "white",
        "template": {
         "data": {
          "bar": [
           {
            "error_x": {
             "color": "#2a3f5f"
            },
            "error_y": {
             "color": "#2a3f5f"
            },
            "marker": {
             "line": {
              "color": "#E5ECF6",
              "width": 0.5
             },
             "pattern": {
              "fillmode": "overlay",
              "size": 10,
              "solidity": 0.2
             }
            },
            "type": "bar"
           }
          ],
          "barpolar": [
           {
            "marker": {
             "line": {
              "color": "#E5ECF6",
              "width": 0.5
             },
             "pattern": {
              "fillmode": "overlay",
              "size": 10,
              "solidity": 0.2
             }
            },
            "type": "barpolar"
           }
          ],
          "carpet": [
           {
            "aaxis": {
             "endlinecolor": "#2a3f5f",
             "gridcolor": "white",
             "linecolor": "white",
             "minorgridcolor": "white",
             "startlinecolor": "#2a3f5f"
            },
            "baxis": {
             "endlinecolor": "#2a3f5f",
             "gridcolor": "white",
             "linecolor": "white",
             "minorgridcolor": "white",
             "startlinecolor": "#2a3f5f"
            },
            "type": "carpet"
           }
          ],
          "choropleth": [
           {
            "colorbar": {
             "outlinewidth": 0,
             "ticks": ""
            },
            "type": "choropleth"
           }
          ],
          "contour": [
           {
            "colorbar": {
             "outlinewidth": 0,
             "ticks": ""
            },
            "colorscale": [
             [
              0,
              "#0d0887"
             ],
             [
              0.1111111111111111,
              "#46039f"
             ],
             [
              0.2222222222222222,
              "#7201a8"
             ],
             [
              0.3333333333333333,
              "#9c179e"
             ],
             [
              0.4444444444444444,
              "#bd3786"
             ],
             [
              0.5555555555555556,
              "#d8576b"
             ],
             [
              0.6666666666666666,
              "#ed7953"
             ],
             [
              0.7777777777777778,
              "#fb9f3a"
             ],
             [
              0.8888888888888888,
              "#fdca26"
             ],
             [
              1,
              "#f0f921"
             ]
            ],
            "type": "contour"
           }
          ],
          "contourcarpet": [
           {
            "colorbar": {
             "outlinewidth": 0,
             "ticks": ""
            },
            "type": "contourcarpet"
           }
          ],
          "heatmap": [
           {
            "colorbar": {
             "outlinewidth": 0,
             "ticks": ""
            },
            "colorscale": [
             [
              0,
              "#0d0887"
             ],
             [
              0.1111111111111111,
              "#46039f"
             ],
             [
              0.2222222222222222,
              "#7201a8"
             ],
             [
              0.3333333333333333,
              "#9c179e"
             ],
             [
              0.4444444444444444,
              "#bd3786"
             ],
             [
              0.5555555555555556,
              "#d8576b"
             ],
             [
              0.6666666666666666,
              "#ed7953"
             ],
             [
              0.7777777777777778,
              "#fb9f3a"
             ],
             [
              0.8888888888888888,
              "#fdca26"
             ],
             [
              1,
              "#f0f921"
             ]
            ],
            "type": "heatmap"
           }
          ],
          "heatmapgl": [
           {
            "colorbar": {
             "outlinewidth": 0,
             "ticks": ""
            },
            "colorscale": [
             [
              0,
              "#0d0887"
             ],
             [
              0.1111111111111111,
              "#46039f"
             ],
             [
              0.2222222222222222,
              "#7201a8"
             ],
             [
              0.3333333333333333,
              "#9c179e"
             ],
             [
              0.4444444444444444,
              "#bd3786"
             ],
             [
              0.5555555555555556,
              "#d8576b"
             ],
             [
              0.6666666666666666,
              "#ed7953"
             ],
             [
              0.7777777777777778,
              "#fb9f3a"
             ],
             [
              0.8888888888888888,
              "#fdca26"
             ],
             [
              1,
              "#f0f921"
             ]
            ],
            "type": "heatmapgl"
           }
          ],
          "histogram": [
           {
            "marker": {
             "pattern": {
              "fillmode": "overlay",
              "size": 10,
              "solidity": 0.2
             }
            },
            "type": "histogram"
           }
          ],
          "histogram2d": [
           {
            "colorbar": {
             "outlinewidth": 0,
             "ticks": ""
            },
            "colorscale": [
             [
              0,
              "#0d0887"
             ],
             [
              0.1111111111111111,
              "#46039f"
             ],
             [
              0.2222222222222222,
              "#7201a8"
             ],
             [
              0.3333333333333333,
              "#9c179e"
             ],
             [
              0.4444444444444444,
              "#bd3786"
             ],
             [
              0.5555555555555556,
              "#d8576b"
             ],
             [
              0.6666666666666666,
              "#ed7953"
             ],
             [
              0.7777777777777778,
              "#fb9f3a"
             ],
             [
              0.8888888888888888,
              "#fdca26"
             ],
             [
              1,
              "#f0f921"
             ]
            ],
            "type": "histogram2d"
           }
          ],
          "histogram2dcontour": [
           {
            "colorbar": {
             "outlinewidth": 0,
             "ticks": ""
            },
            "colorscale": [
             [
              0,
              "#0d0887"
             ],
             [
              0.1111111111111111,
              "#46039f"
             ],
             [
              0.2222222222222222,
              "#7201a8"
             ],
             [
              0.3333333333333333,
              "#9c179e"
             ],
             [
              0.4444444444444444,
              "#bd3786"
             ],
             [
              0.5555555555555556,
              "#d8576b"
             ],
             [
              0.6666666666666666,
              "#ed7953"
             ],
             [
              0.7777777777777778,
              "#fb9f3a"
             ],
             [
              0.8888888888888888,
              "#fdca26"
             ],
             [
              1,
              "#f0f921"
             ]
            ],
            "type": "histogram2dcontour"
           }
          ],
          "mesh3d": [
           {
            "colorbar": {
             "outlinewidth": 0,
             "ticks": ""
            },
            "type": "mesh3d"
           }
          ],
          "parcoords": [
           {
            "line": {
             "colorbar": {
              "outlinewidth": 0,
              "ticks": ""
             }
            },
            "type": "parcoords"
           }
          ],
          "pie": [
           {
            "automargin": true,
            "type": "pie"
           }
          ],
          "scatter": [
           {
            "fillpattern": {
             "fillmode": "overlay",
             "size": 10,
             "solidity": 0.2
            },
            "type": "scatter"
           }
          ],
          "scatter3d": [
           {
            "line": {
             "colorbar": {
              "outlinewidth": 0,
              "ticks": ""
             }
            },
            "marker": {
             "colorbar": {
              "outlinewidth": 0,
              "ticks": ""
             }
            },
            "type": "scatter3d"
           }
          ],
          "scattercarpet": [
           {
            "marker": {
             "colorbar": {
              "outlinewidth": 0,
              "ticks": ""
             }
            },
            "type": "scattercarpet"
           }
          ],
          "scattergeo": [
           {
            "marker": {
             "colorbar": {
              "outlinewidth": 0,
              "ticks": ""
             }
            },
            "type": "scattergeo"
           }
          ],
          "scattergl": [
           {
            "marker": {
             "colorbar": {
              "outlinewidth": 0,
              "ticks": ""
             }
            },
            "type": "scattergl"
           }
          ],
          "scattermapbox": [
           {
            "marker": {
             "colorbar": {
              "outlinewidth": 0,
              "ticks": ""
             }
            },
            "type": "scattermapbox"
           }
          ],
          "scatterpolar": [
           {
            "marker": {
             "colorbar": {
              "outlinewidth": 0,
              "ticks": ""
             }
            },
            "type": "scatterpolar"
           }
          ],
          "scatterpolargl": [
           {
            "marker": {
             "colorbar": {
              "outlinewidth": 0,
              "ticks": ""
             }
            },
            "type": "scatterpolargl"
           }
          ],
          "scatterternary": [
           {
            "marker": {
             "colorbar": {
              "outlinewidth": 0,
              "ticks": ""
             }
            },
            "type": "scatterternary"
           }
          ],
          "surface": [
           {
            "colorbar": {
             "outlinewidth": 0,
             "ticks": ""
            },
            "colorscale": [
             [
              0,
              "#0d0887"
             ],
             [
              0.1111111111111111,
              "#46039f"
             ],
             [
              0.2222222222222222,
              "#7201a8"
             ],
             [
              0.3333333333333333,
              "#9c179e"
             ],
             [
              0.4444444444444444,
              "#bd3786"
             ],
             [
              0.5555555555555556,
              "#d8576b"
             ],
             [
              0.6666666666666666,
              "#ed7953"
             ],
             [
              0.7777777777777778,
              "#fb9f3a"
             ],
             [
              0.8888888888888888,
              "#fdca26"
             ],
             [
              1,
              "#f0f921"
             ]
            ],
            "type": "surface"
           }
          ],
          "table": [
           {
            "cells": {
             "fill": {
              "color": "#EBF0F8"
             },
             "line": {
              "color": "white"
             }
            },
            "header": {
             "fill": {
              "color": "#C8D4E3"
             },
             "line": {
              "color": "white"
             }
            },
            "type": "table"
           }
          ]
         },
         "layout": {
          "annotationdefaults": {
           "arrowcolor": "#2a3f5f",
           "arrowhead": 0,
           "arrowwidth": 1
          },
          "autotypenumbers": "strict",
          "coloraxis": {
           "colorbar": {
            "outlinewidth": 0,
            "ticks": ""
           }
          },
          "colorscale": {
           "diverging": [
            [
             0,
             "#8e0152"
            ],
            [
             0.1,
             "#c51b7d"
            ],
            [
             0.2,
             "#de77ae"
            ],
            [
             0.3,
             "#f1b6da"
            ],
            [
             0.4,
             "#fde0ef"
            ],
            [
             0.5,
             "#f7f7f7"
            ],
            [
             0.6,
             "#e6f5d0"
            ],
            [
             0.7,
             "#b8e186"
            ],
            [
             0.8,
             "#7fbc41"
            ],
            [
             0.9,
             "#4d9221"
            ],
            [
             1,
             "#276419"
            ]
           ],
           "sequential": [
            [
             0,
             "#0d0887"
            ],
            [
             0.1111111111111111,
             "#46039f"
            ],
            [
             0.2222222222222222,
             "#7201a8"
            ],
            [
             0.3333333333333333,
             "#9c179e"
            ],
            [
             0.4444444444444444,
             "#bd3786"
            ],
            [
             0.5555555555555556,
             "#d8576b"
            ],
            [
             0.6666666666666666,
             "#ed7953"
            ],
            [
             0.7777777777777778,
             "#fb9f3a"
            ],
            [
             0.8888888888888888,
             "#fdca26"
            ],
            [
             1,
             "#f0f921"
            ]
           ],
           "sequentialminus": [
            [
             0,
             "#0d0887"
            ],
            [
             0.1111111111111111,
             "#46039f"
            ],
            [
             0.2222222222222222,
             "#7201a8"
            ],
            [
             0.3333333333333333,
             "#9c179e"
            ],
            [
             0.4444444444444444,
             "#bd3786"
            ],
            [
             0.5555555555555556,
             "#d8576b"
            ],
            [
             0.6666666666666666,
             "#ed7953"
            ],
            [
             0.7777777777777778,
             "#fb9f3a"
            ],
            [
             0.8888888888888888,
             "#fdca26"
            ],
            [
             1,
             "#f0f921"
            ]
           ]
          },
          "colorway": [
           "#636efa",
           "#EF553B",
           "#00cc96",
           "#ab63fa",
           "#FFA15A",
           "#19d3f3",
           "#FF6692",
           "#B6E880",
           "#FF97FF",
           "#FECB52"
          ],
          "font": {
           "color": "#2a3f5f"
          },
          "geo": {
           "bgcolor": "white",
           "lakecolor": "white",
           "landcolor": "#E5ECF6",
           "showlakes": true,
           "showland": true,
           "subunitcolor": "white"
          },
          "hoverlabel": {
           "align": "left"
          },
          "hovermode": "closest",
          "mapbox": {
           "style": "light"
          },
          "paper_bgcolor": "white",
          "plot_bgcolor": "#E5ECF6",
          "polar": {
           "angularaxis": {
            "gridcolor": "white",
            "linecolor": "white",
            "ticks": ""
           },
           "bgcolor": "#E5ECF6",
           "radialaxis": {
            "gridcolor": "white",
            "linecolor": "white",
            "ticks": ""
           }
          },
          "scene": {
           "xaxis": {
            "backgroundcolor": "#E5ECF6",
            "gridcolor": "white",
            "gridwidth": 2,
            "linecolor": "white",
            "showbackground": true,
            "ticks": "",
            "zerolinecolor": "white"
           },
           "yaxis": {
            "backgroundcolor": "#E5ECF6",
            "gridcolor": "white",
            "gridwidth": 2,
            "linecolor": "white",
            "showbackground": true,
            "ticks": "",
            "zerolinecolor": "white"
           },
           "zaxis": {
            "backgroundcolor": "#E5ECF6",
            "gridcolor": "white",
            "gridwidth": 2,
            "linecolor": "white",
            "showbackground": true,
            "ticks": "",
            "zerolinecolor": "white"
           }
          },
          "shapedefaults": {
           "line": {
            "color": "#2a3f5f"
           }
          },
          "ternary": {
           "aaxis": {
            "gridcolor": "white",
            "linecolor": "white",
            "ticks": ""
           },
           "baxis": {
            "gridcolor": "white",
            "linecolor": "white",
            "ticks": ""
           },
           "bgcolor": "#E5ECF6",
           "caxis": {
            "gridcolor": "white",
            "linecolor": "white",
            "ticks": ""
           }
          },
          "title": {
           "x": 0.05
          },
          "xaxis": {
           "automargin": true,
           "gridcolor": "white",
           "linecolor": "white",
           "ticks": "",
           "title": {
            "standoff": 15
           },
           "zerolinecolor": "white",
           "zerolinewidth": 2
          },
          "yaxis": {
           "automargin": true,
           "gridcolor": "white",
           "linecolor": "white",
           "ticks": "",
           "title": {
            "standoff": 15
           },
           "zerolinecolor": "white",
           "zerolinewidth": 2
          }
         }
        },
        "xaxis": {
         "anchor": "y",
         "domain": [
          0,
          1
         ],
         "gridcolor": "LightGrey",
         "linecolor": "LightGrey",
         "linewidth": 1,
         "showline": true,
         "tickvals": [
          3,
          6,
          12,
          24
         ]
        },
        "xaxis2": {
         "anchor": "y2",
         "domain": [
          0,
          1
         ],
         "gridcolor": "LightGrey",
         "linecolor": "LightGrey",
         "linewidth": 1,
         "showline": true,
         "tickvals": [
          3,
          6,
          12,
          24
         ]
        },
        "xaxis3": {
         "anchor": "y3",
         "domain": [
          0,
          1
         ],
         "gridcolor": "LightGrey",
         "linecolor": "LightGrey",
         "linewidth": 1,
         "showline": true,
         "tickvals": [
          3,
          6,
          12,
          24
         ]
        },
        "yaxis": {
         "anchor": "x",
         "domain": [
          0.72,
          1
         ],
         "gridcolor": "LightGrey",
         "linecolor": "LightGrey",
         "linewidth": 1,
         "showline": true,
         "tickvals": [
          0,
          0.1,
          0.2,
          0.3,
          0.4,
          0.5
         ]
        },
        "yaxis2": {
         "anchor": "x2",
         "domain": [
          0.36,
          0.6399999999999999
         ],
         "gridcolor": "LightGrey",
         "linecolor": "LightGrey",
         "linewidth": 1,
         "showline": true,
         "tickvals": [
          0,
          1,
          2,
          3,
          4,
          5
         ]
        },
        "yaxis3": {
         "anchor": "x3",
         "domain": [
          0,
          0.27999999999999997
         ],
         "gridcolor": "LightGrey",
         "linecolor": "LightGrey",
         "linewidth": 1,
         "showline": true,
         "tickvals": [
          0,
          5,
          10,
          15,
          20,
          25,
          30
         ]
        }
       }
      }
     },
     "metadata": {},
     "output_type": "display_data"
    }
   ],
   "source": [
    "df = pd.read_csv('csv_results/03_15_11_44.csv')\n",
    "df_sv = pd.read_csv('csv_results/sorted-vector_human_03_20_12_09.csv')\n",
    "df_hm = pd.read_csv('csv_results/hashmap_human_03_20_12_10.csv')\n",
    "df_co = pd.read_csv('csv_results/combo_human_03_20_12_10.csv')\n",
    "df_pst = df[df.implementation=='PstClassifierSeqan']\n",
    "\n",
    "fig = make_subplots(rows=3, cols=1, shared_yaxes=False, \n",
    "                    x_title=\"Amount of VLMCs\",\n",
    "                    y_title=\"Elapsed Time (s)\",\n",
    "                    subplot_titles=(\"Small\", \"Medium\", \"Large\"), \n",
    "                    horizontal_spacing= 0.02, vertical_spacing= 0.08) # specs=[[{}, {}],[{\"colspan\": 2}, None]])\n",
    "\n",
    "fig.add_trace(go.Scatter(x=df_pst[df_pst.vlmc_size=='small']['set_size'], y=df_pst[df_pst.vlmc_size=='small']['elapsed_time'], line_color='#EF553B', name=\"Pst\", marker_symbol='x'), 1, 1)\n",
    "fig.add_trace(go.Scatter(x=df_hm[df_hm.vlmc_size=='small']['set_size'], y=df_hm[df_hm.vlmc_size=='small']['elapsed_time'], line_color='#FECB52', name=\"hashmap\", marker_symbol='square'), 1, 1)\n",
    "fig.add_trace(go.Scatter(x=df_co[df_co.vlmc_size=='small']['set_size'], y=df_co[df_co.vlmc_size=='small']['elapsed_time'], line_color='#00CC96', name=\"combo\", marker_symbol='diamond'), 1, 1)\n",
    "fig.add_trace(go.Scatter(x=df_sv[df_sv.vlmc_size=='small']['set_size'], y=df_sv[df_sv.vlmc_size=='small']['elapsed_time'], line_color='#636EFA', name=\"sorted-vector\"), 1, 1)\n",
    "\n",
    "fig.add_trace(go.Scatter(x=df_pst[df_pst.vlmc_size=='medium']['set_size'], y=df_pst[df_pst.vlmc_size=='medium']['elapsed_time'], line_color='#EF553B', name=\"Pst\", marker_symbol='x', showlegend = False), 2, 1)\n",
    "fig.add_trace(go.Scatter(x=df_hm[df_hm.vlmc_size=='medium']['set_size'], y=df_hm[df_hm.vlmc_size=='medium']['elapsed_time'], line_color='#FECB52', name=\"hashmap\", marker_symbol='square', showlegend = False), 2, 1)\n",
    "fig.add_trace(go.Scatter(x=df_co[df_co.vlmc_size=='medium']['set_size'], y=df_co[df_co.vlmc_size=='medium']['elapsed_time'], line_color='#00CC96', name=\"combo\", marker_symbol='diamond', showlegend = False), 2, 1)\n",
    "fig.add_trace(go.Scatter(x=df_sv[df_sv.vlmc_size=='medium']['set_size'], y=df_sv[df_sv.vlmc_size=='medium']['elapsed_time'], line_color='#636EFA', name=\"sorted-vector\", showlegend = False), 2, 1)\n",
    "\n",
    "fig.add_trace(go.Scatter(x=df_pst[df_pst.vlmc_size=='large']['set_size'], y=df_pst[df_pst.vlmc_size=='large']['elapsed_time'], line_color='#EF553B', name=\"Pst\", marker_symbol='x', showlegend = False), 3, 1)\n",
    "fig.add_trace(go.Scatter(x=df_hm[df_hm.vlmc_size=='large']['set_size'], y=df_hm[df_hm.vlmc_size=='large']['elapsed_time'], line_color='#FECB52', name=\"hashmap\", marker_symbol='square', showlegend = False), 3, 1)\n",
    "fig.add_trace(go.Scatter(x=df_co[df_co.vlmc_size=='large']['set_size'], y=df_co[df_co.vlmc_size=='large']['elapsed_time'], line_color='#00CC96', name=\"combo\", marker_symbol='diamond', showlegend = False), 3, 1)\n",
    "fig.add_trace(go.Scatter(x=df_sv[df_sv.vlmc_size=='large']['set_size'], y=df_sv[df_sv.vlmc_size=='large']['elapsed_time'], line_color='#636EFA', name=\"sorted-vector\", showlegend = False), 3, 1)\n",
    "\n",
    "\n",
    "fig.update_layout(legend=dict(\n",
    "    orientation=\"h\",\n",
    "    yanchor=\"bottom\",\n",
    "    y=1.08),\n",
    "    margin=dict(l=100, r=60, t=60, b=80),\n",
    "    height=800,\n",
    "    plot_bgcolor=\"white\")\n",
    "\n",
    "fig.update_xaxes(gridcolor='LightGrey', row=1, col=1)\n",
    "fig.update_yaxes(gridcolor='LightGrey', row=1, col=1)\n",
    "fig.update_yaxes(tickvals=[0, 0.1, 0.2, 0.3, 0.4, 0.5], row=1, col=1)\n",
    "fig.update_xaxes(tickvals=[3, 6, 12, 24], row=1, col=1)\n",
    "fig.update_xaxes(showline=True, linewidth=1, linecolor='LightGrey', row=1, col=1)\n",
    "fig.update_yaxes(showline=True, linewidth=1, linecolor='LightGrey', row=1, col=1)\n",
    "\n",
    "fig.update_xaxes(gridcolor='LightGrey', row=2, col=1)\n",
    "fig.update_yaxes(gridcolor='LightGrey', row=2, col=1)\n",
    "fig.update_yaxes(tickvals=[0, 1, 2, 3, 4, 5], row=2, col=1)\n",
    "fig.update_xaxes(tickvals=[3, 6, 12, 24], row=2, col=1)\n",
    "fig.update_xaxes(showline=True, linewidth=1, linecolor='LightGrey', row=2, col=1)\n",
    "fig.update_yaxes(showline=True, linewidth=1, linecolor='LightGrey', row=2, col=1)\n",
    "\n",
    "fig.update_xaxes(gridcolor='LightGrey', row=3, col=1)\n",
    "fig.update_yaxes(gridcolor='LightGrey', row=3, col=1)\n",
    "fig.update_yaxes(tickvals=[0, 5, 10, 15, 20, 25, 30], row=3, col=1)\n",
    "fig.update_xaxes(tickvals=[3, 6, 12, 24], row=3, col=1)\n",
    "fig.update_xaxes(showline=True, linewidth=1, linecolor='LightGrey', row=3, col=1)\n",
    "fig.update_yaxes(showline=True, linewidth=1, linecolor='LightGrey', row=3, col=1)\n",
    "\n",
    "fig.layout.annotations[0][\"font\"] = {'size': 24}\n",
    "fig.layout.annotations[1][\"font\"] = {'size': 24}\n",
    "fig.layout.annotations[2][\"font\"] = {'size': 24}\n",
    "\n",
    "fig.layout.annotations[3][\"font\"] = {'size': 28}\n",
    "fig.layout.annotations[4][\"font\"] = {'size': 28}\n",
    "fig.show()\n",
    "fig.write_image(\"images/human_elapsed_time.pdf\")"
   ]
  },
  {
   "cell_type": "code",
   "execution_count": 27,
   "metadata": {},
   "outputs": [
    {
     "data": {
      "text/html": [
       "<div>\n",
       "<style scoped>\n",
       "    .dataframe tbody tr th:only-of-type {\n",
       "        vertical-align: middle;\n",
       "    }\n",
       "\n",
       "    .dataframe tbody tr th {\n",
       "        vertical-align: top;\n",
       "    }\n",
       "\n",
       "    .dataframe thead th {\n",
       "        text-align: right;\n",
       "    }\n",
       "</style>\n",
       "<table border=\"1\" class=\"dataframe\">\n",
       "  <thead>\n",
       "    <tr style=\"text-align: right;\">\n",
       "      <th></th>\n",
       "      <th>repo_version</th>\n",
       "      <th>implementation</th>\n",
       "      <th>vlmc_size</th>\n",
       "      <th>set_size</th>\n",
       "      <th>threshold</th>\n",
       "      <th>min_count</th>\n",
       "      <th>max_depth</th>\n",
       "      <th>nr_cores_used</th>\n",
       "      <th>branch_misses</th>\n",
       "      <th>branch_misses_count</th>\n",
       "      <th>...</th>\n",
       "      <th>cycles_count</th>\n",
       "      <th>instructions</th>\n",
       "      <th>instructions_count</th>\n",
       "      <th>cache_references</th>\n",
       "      <th>cache_references_count</th>\n",
       "      <th>cache_misses</th>\n",
       "      <th>cache_misses_count</th>\n",
       "      <th>elapsed_time</th>\n",
       "      <th>user</th>\n",
       "      <th>sys</th>\n",
       "    </tr>\n",
       "  </thead>\n",
       "  <tbody>\n",
       "    <tr>\n",
       "      <th>0</th>\n",
       "      <td>ffb2fb1</td>\n",
       "      <td>PstClassifierSeqan</td>\n",
       "      <td>small</td>\n",
       "      <td>24</td>\n",
       "      <td>3.9075</td>\n",
       "      <td>9</td>\n",
       "      <td>6</td>\n",
       "      <td>8</td>\n",
       "      <td>0.42</td>\n",
       "      <td>5751422</td>\n",
       "      <td>...</td>\n",
       "      <td>4833400970</td>\n",
       "      <td>1.51</td>\n",
       "      <td>7304501229</td>\n",
       "      <td>23.500</td>\n",
       "      <td>32109065</td>\n",
       "      <td>21.085</td>\n",
       "      <td>6770062</td>\n",
       "      <td>0.485253</td>\n",
       "      <td>1.117658</td>\n",
       "      <td>0.189433</td>\n",
       "    </tr>\n",
       "    <tr>\n",
       "      <th>1</th>\n",
       "      <td>ffb2fb1</td>\n",
       "      <td>PstClassifierSeqan</td>\n",
       "      <td>medium</td>\n",
       "      <td>24</td>\n",
       "      <td>3.0000</td>\n",
       "      <td>6</td>\n",
       "      <td>8</td>\n",
       "      <td>8</td>\n",
       "      <td>0.51</td>\n",
       "      <td>84771752</td>\n",
       "      <td>...</td>\n",
       "      <td>59654976493</td>\n",
       "      <td>1.48</td>\n",
       "      <td>88298984823</td>\n",
       "      <td>26.540</td>\n",
       "      <td>448829552</td>\n",
       "      <td>57.420</td>\n",
       "      <td>257719405</td>\n",
       "      <td>4.548532</td>\n",
       "      <td>14.890683</td>\n",
       "      <td>1.983431</td>\n",
       "    </tr>\n",
       "    <tr>\n",
       "      <th>2</th>\n",
       "      <td>ffb2fb1</td>\n",
       "      <td>PstClassifierSeqan</td>\n",
       "      <td>large</td>\n",
       "      <td>24</td>\n",
       "      <td>2.0000</td>\n",
       "      <td>3</td>\n",
       "      <td>10</td>\n",
       "      <td>8</td>\n",
       "      <td>0.72</td>\n",
       "      <td>887558266</td>\n",
       "      <td>...</td>\n",
       "      <td>455877695513</td>\n",
       "      <td>1.43</td>\n",
       "      <td>652929352791</td>\n",
       "      <td>31.791</td>\n",
       "      <td>4043921570</td>\n",
       "      <td>65.288</td>\n",
       "      <td>2640188228</td>\n",
       "      <td>33.207907</td>\n",
       "      <td>117.425658</td>\n",
       "      <td>9.743831</td>\n",
       "    </tr>\n",
       "    <tr>\n",
       "      <th>3</th>\n",
       "      <td>ffb2fb1</td>\n",
       "      <td>sorted-vector</td>\n",
       "      <td>small</td>\n",
       "      <td>24</td>\n",
       "      <td>3.9075</td>\n",
       "      <td>9</td>\n",
       "      <td>6</td>\n",
       "      <td>8</td>\n",
       "      <td>1.68</td>\n",
       "      <td>1519426</td>\n",
       "      <td>...</td>\n",
       "      <td>530690568</td>\n",
       "      <td>1.06</td>\n",
       "      <td>565072979</td>\n",
       "      <td>148.590</td>\n",
       "      <td>24767974</td>\n",
       "      <td>27.574</td>\n",
       "      <td>6829476</td>\n",
       "      <td>0.039223</td>\n",
       "      <td>0.116043</td>\n",
       "      <td>0.034130</td>\n",
       "    </tr>\n",
       "    <tr>\n",
       "      <th>4</th>\n",
       "      <td>ffb2fb1</td>\n",
       "      <td>sorted-vector</td>\n",
       "      <td>medium</td>\n",
       "      <td>24</td>\n",
       "      <td>3.0000</td>\n",
       "      <td>6</td>\n",
       "      <td>8</td>\n",
       "      <td>8</td>\n",
       "      <td>2.99</td>\n",
       "      <td>37202042</td>\n",
       "      <td>...</td>\n",
       "      <td>11715782422</td>\n",
       "      <td>0.66</td>\n",
       "      <td>7680225735</td>\n",
       "      <td>100.130</td>\n",
       "      <td>316107529</td>\n",
       "      <td>63.827</td>\n",
       "      <td>201763458</td>\n",
       "      <td>0.495033</td>\n",
       "      <td>2.809867</td>\n",
       "      <td>0.236520</td>\n",
       "    </tr>\n",
       "  </tbody>\n",
       "</table>\n",
       "<p>5 rows × 25 columns</p>\n",
       "</div>"
      ],
      "text/plain": [
       "  repo_version      implementation vlmc_size  set_size  threshold  min_count  \\\n",
       "0      ffb2fb1  PstClassifierSeqan     small        24     3.9075          9   \n",
       "1      ffb2fb1  PstClassifierSeqan    medium        24     3.0000          6   \n",
       "2      ffb2fb1  PstClassifierSeqan     large        24     2.0000          3   \n",
       "3      ffb2fb1       sorted-vector     small        24     3.9075          9   \n",
       "4      ffb2fb1       sorted-vector    medium        24     3.0000          6   \n",
       "\n",
       "   max_depth  nr_cores_used  branch_misses  branch_misses_count  ...  \\\n",
       "0          6              8           0.42              5751422  ...   \n",
       "1          8              8           0.51             84771752  ...   \n",
       "2         10              8           0.72            887558266  ...   \n",
       "3          6              8           1.68              1519426  ...   \n",
       "4          8              8           2.99             37202042  ...   \n",
       "\n",
       "   cycles_count  instructions  instructions_count  cache_references  \\\n",
       "0    4833400970          1.51          7304501229            23.500   \n",
       "1   59654976493          1.48         88298984823            26.540   \n",
       "2  455877695513          1.43        652929352791            31.791   \n",
       "3     530690568          1.06           565072979           148.590   \n",
       "4   11715782422          0.66          7680225735           100.130   \n",
       "\n",
       "   cache_references_count  cache_misses  cache_misses_count  elapsed_time  \\\n",
       "0                32109065        21.085             6770062      0.485253   \n",
       "1               448829552        57.420           257719405      4.548532   \n",
       "2              4043921570        65.288          2640188228     33.207907   \n",
       "3                24767974        27.574             6829476      0.039223   \n",
       "4               316107529        63.827           201763458      0.495033   \n",
       "\n",
       "         user       sys  \n",
       "0    1.117658  0.189433  \n",
       "1   14.890683  1.983431  \n",
       "2  117.425658  9.743831  \n",
       "3    0.116043  0.034130  \n",
       "4    2.809867  0.236520  \n",
       "\n",
       "[5 rows x 25 columns]"
      ]
     },
     "execution_count": 27,
     "metadata": {},
     "output_type": "execute_result"
    }
   ],
   "source": [
    "df.head()"
   ]
  },
  {
   "attachments": {},
   "cell_type": "markdown",
   "metadata": {},
   "source": [
    "## Visualizing cache-misses in relation to amount of VLMCs compared"
   ]
  },
  {
   "cell_type": "code",
   "execution_count": 30,
   "metadata": {},
   "outputs": [
    {
     "data": {
      "application/vnd.plotly.v1+json": {
       "config": {
        "plotlyServerURL": "https://plot.ly"
       },
       "data": [
        {
         "line": {
          "color": "#EF553B"
         },
         "marker": {
          "symbol": "x"
         },
         "name": "Pst",
         "type": "scatter",
         "x": [
          24,
          12,
          6,
          3
         ],
         "xaxis": "x",
         "y": [
          21.085,
          21.815,
          17.773,
          27.745
         ],
         "yaxis": "y"
        },
        {
         "line": {
          "color": "#FECB52"
         },
         "marker": {
          "symbol": "square"
         },
         "name": "hashmap",
         "type": "scatter",
         "x": [
          24,
          12,
          6,
          3
         ],
         "xaxis": "x",
         "y": [
          37.244,
          33.705,
          16.678,
          24.514
         ],
         "yaxis": "y"
        },
        {
         "line": {
          "color": "#00CC96"
         },
         "marker": {
          "symbol": "diamond"
         },
         "name": "combo",
         "type": "scatter",
         "x": [
          24,
          12,
          6,
          3
         ],
         "xaxis": "x",
         "y": [
          26.018,
          21.986,
          15.865,
          12.51
         ],
         "yaxis": "y"
        },
        {
         "line": {
          "color": "#636EFA"
         },
         "name": "sorted-vector",
         "type": "scatter",
         "x": [
          24,
          12,
          6,
          3
         ],
         "xaxis": "x",
         "y": [
          24.571,
          22.576,
          15.09,
          11.502
         ],
         "yaxis": "y"
        },
        {
         "line": {
          "color": "#EF553B"
         },
         "marker": {
          "symbol": "x"
         },
         "name": "Pst",
         "showlegend": false,
         "type": "scatter",
         "x": [
          24,
          12,
          6,
          3
         ],
         "xaxis": "x2",
         "y": [
          57.42,
          51.956,
          48.34,
          53.447
         ],
         "yaxis": "y2"
        },
        {
         "line": {
          "color": "#FECB52"
         },
         "marker": {
          "symbol": "square"
         },
         "name": "hashmap",
         "showlegend": false,
         "type": "scatter",
         "x": [
          24,
          12,
          6,
          3
         ],
         "xaxis": "x2",
         "y": [
          78.051,
          70.235,
          55.543,
          48.569
         ],
         "yaxis": "y2"
        },
        {
         "line": {
          "color": "#00CC96"
         },
         "marker": {
          "symbol": "diamond"
         },
         "name": "combo",
         "showlegend": false,
         "type": "scatter",
         "x": [
          24,
          12,
          6,
          3
         ],
         "xaxis": "x2",
         "y": [
          73.555,
          60.609,
          55.518,
          41.757
         ],
         "yaxis": "y2"
        },
        {
         "line": {
          "color": "#636EFA"
         },
         "name": "sorted-vector",
         "showlegend": false,
         "type": "scatter",
         "x": [
          24,
          12,
          6,
          3
         ],
         "xaxis": "x2",
         "y": [
          69.236,
          60.498,
          54.206,
          51.088
         ],
         "yaxis": "y2"
        },
        {
         "line": {
          "color": "#EF553B"
         },
         "marker": {
          "symbol": "x"
         },
         "name": "Pst",
         "showlegend": false,
         "type": "scatter",
         "x": [
          24,
          12,
          6,
          3
         ],
         "xaxis": "x3",
         "y": [
          65.288,
          64.315,
          61.729,
          57.194
         ],
         "yaxis": "y3"
        },
        {
         "line": {
          "color": "#FECB52"
         },
         "marker": {
          "symbol": "square"
         },
         "name": "hashmap",
         "showlegend": false,
         "type": "scatter",
         "x": [
          24,
          12,
          6,
          3
         ],
         "xaxis": "x3",
         "y": [
          82.343,
          76.109,
          71.752,
          57.127
         ],
         "yaxis": "y3"
        },
        {
         "line": {
          "color": "#00CC96"
         },
         "marker": {
          "symbol": "diamond"
         },
         "name": "combo",
         "showlegend": false,
         "type": "scatter",
         "x": [
          24,
          12,
          6,
          3
         ],
         "xaxis": "x3",
         "y": [
          79.739,
          72.278,
          66.011,
          52.651
         ],
         "yaxis": "y3"
        },
        {
         "line": {
          "color": "#636EFA"
         },
         "name": "sorted-vector",
         "showlegend": false,
         "type": "scatter",
         "x": [
          24,
          12,
          6,
          3
         ],
         "xaxis": "x3",
         "y": [
          66.632,
          70.811,
          69.626,
          50.811
         ],
         "yaxis": "y3"
        }
       ],
       "layout": {
        "annotations": [
         {
          "font": {
           "size": 24
          },
          "showarrow": false,
          "text": "Small",
          "x": 0.5,
          "xanchor": "center",
          "xref": "paper",
          "y": 1,
          "yanchor": "bottom",
          "yref": "paper"
         },
         {
          "font": {
           "size": 24
          },
          "showarrow": false,
          "text": "Medium",
          "x": 0.5,
          "xanchor": "center",
          "xref": "paper",
          "y": 0.6399999999999999,
          "yanchor": "bottom",
          "yref": "paper"
         },
         {
          "font": {
           "size": 24
          },
          "showarrow": false,
          "text": "Large",
          "x": 0.5,
          "xanchor": "center",
          "xref": "paper",
          "y": 0.27999999999999997,
          "yanchor": "bottom",
          "yref": "paper"
         },
         {
          "font": {
           "size": 28
          },
          "showarrow": false,
          "text": "Amount of VLMCs",
          "x": 0.5,
          "xanchor": "center",
          "xref": "paper",
          "y": 0,
          "yanchor": "top",
          "yref": "paper",
          "yshift": -30
         },
         {
          "font": {
           "size": 28
          },
          "showarrow": false,
          "text": "Cache misses (%)",
          "textangle": -90,
          "x": 0,
          "xanchor": "right",
          "xref": "paper",
          "xshift": -40,
          "y": 0.5,
          "yanchor": "middle",
          "yref": "paper"
         }
        ],
        "height": 800,
        "legend": {
         "orientation": "h",
         "y": 1.08,
         "yanchor": "bottom"
        },
        "margin": {
         "b": 80,
         "l": 100,
         "r": 60,
         "t": 60
        },
        "plot_bgcolor": "white",
        "template": {
         "data": {
          "bar": [
           {
            "error_x": {
             "color": "#2a3f5f"
            },
            "error_y": {
             "color": "#2a3f5f"
            },
            "marker": {
             "line": {
              "color": "#E5ECF6",
              "width": 0.5
             },
             "pattern": {
              "fillmode": "overlay",
              "size": 10,
              "solidity": 0.2
             }
            },
            "type": "bar"
           }
          ],
          "barpolar": [
           {
            "marker": {
             "line": {
              "color": "#E5ECF6",
              "width": 0.5
             },
             "pattern": {
              "fillmode": "overlay",
              "size": 10,
              "solidity": 0.2
             }
            },
            "type": "barpolar"
           }
          ],
          "carpet": [
           {
            "aaxis": {
             "endlinecolor": "#2a3f5f",
             "gridcolor": "white",
             "linecolor": "white",
             "minorgridcolor": "white",
             "startlinecolor": "#2a3f5f"
            },
            "baxis": {
             "endlinecolor": "#2a3f5f",
             "gridcolor": "white",
             "linecolor": "white",
             "minorgridcolor": "white",
             "startlinecolor": "#2a3f5f"
            },
            "type": "carpet"
           }
          ],
          "choropleth": [
           {
            "colorbar": {
             "outlinewidth": 0,
             "ticks": ""
            },
            "type": "choropleth"
           }
          ],
          "contour": [
           {
            "colorbar": {
             "outlinewidth": 0,
             "ticks": ""
            },
            "colorscale": [
             [
              0,
              "#0d0887"
             ],
             [
              0.1111111111111111,
              "#46039f"
             ],
             [
              0.2222222222222222,
              "#7201a8"
             ],
             [
              0.3333333333333333,
              "#9c179e"
             ],
             [
              0.4444444444444444,
              "#bd3786"
             ],
             [
              0.5555555555555556,
              "#d8576b"
             ],
             [
              0.6666666666666666,
              "#ed7953"
             ],
             [
              0.7777777777777778,
              "#fb9f3a"
             ],
             [
              0.8888888888888888,
              "#fdca26"
             ],
             [
              1,
              "#f0f921"
             ]
            ],
            "type": "contour"
           }
          ],
          "contourcarpet": [
           {
            "colorbar": {
             "outlinewidth": 0,
             "ticks": ""
            },
            "type": "contourcarpet"
           }
          ],
          "heatmap": [
           {
            "colorbar": {
             "outlinewidth": 0,
             "ticks": ""
            },
            "colorscale": [
             [
              0,
              "#0d0887"
             ],
             [
              0.1111111111111111,
              "#46039f"
             ],
             [
              0.2222222222222222,
              "#7201a8"
             ],
             [
              0.3333333333333333,
              "#9c179e"
             ],
             [
              0.4444444444444444,
              "#bd3786"
             ],
             [
              0.5555555555555556,
              "#d8576b"
             ],
             [
              0.6666666666666666,
              "#ed7953"
             ],
             [
              0.7777777777777778,
              "#fb9f3a"
             ],
             [
              0.8888888888888888,
              "#fdca26"
             ],
             [
              1,
              "#f0f921"
             ]
            ],
            "type": "heatmap"
           }
          ],
          "heatmapgl": [
           {
            "colorbar": {
             "outlinewidth": 0,
             "ticks": ""
            },
            "colorscale": [
             [
              0,
              "#0d0887"
             ],
             [
              0.1111111111111111,
              "#46039f"
             ],
             [
              0.2222222222222222,
              "#7201a8"
             ],
             [
              0.3333333333333333,
              "#9c179e"
             ],
             [
              0.4444444444444444,
              "#bd3786"
             ],
             [
              0.5555555555555556,
              "#d8576b"
             ],
             [
              0.6666666666666666,
              "#ed7953"
             ],
             [
              0.7777777777777778,
              "#fb9f3a"
             ],
             [
              0.8888888888888888,
              "#fdca26"
             ],
             [
              1,
              "#f0f921"
             ]
            ],
            "type": "heatmapgl"
           }
          ],
          "histogram": [
           {
            "marker": {
             "pattern": {
              "fillmode": "overlay",
              "size": 10,
              "solidity": 0.2
             }
            },
            "type": "histogram"
           }
          ],
          "histogram2d": [
           {
            "colorbar": {
             "outlinewidth": 0,
             "ticks": ""
            },
            "colorscale": [
             [
              0,
              "#0d0887"
             ],
             [
              0.1111111111111111,
              "#46039f"
             ],
             [
              0.2222222222222222,
              "#7201a8"
             ],
             [
              0.3333333333333333,
              "#9c179e"
             ],
             [
              0.4444444444444444,
              "#bd3786"
             ],
             [
              0.5555555555555556,
              "#d8576b"
             ],
             [
              0.6666666666666666,
              "#ed7953"
             ],
             [
              0.7777777777777778,
              "#fb9f3a"
             ],
             [
              0.8888888888888888,
              "#fdca26"
             ],
             [
              1,
              "#f0f921"
             ]
            ],
            "type": "histogram2d"
           }
          ],
          "histogram2dcontour": [
           {
            "colorbar": {
             "outlinewidth": 0,
             "ticks": ""
            },
            "colorscale": [
             [
              0,
              "#0d0887"
             ],
             [
              0.1111111111111111,
              "#46039f"
             ],
             [
              0.2222222222222222,
              "#7201a8"
             ],
             [
              0.3333333333333333,
              "#9c179e"
             ],
             [
              0.4444444444444444,
              "#bd3786"
             ],
             [
              0.5555555555555556,
              "#d8576b"
             ],
             [
              0.6666666666666666,
              "#ed7953"
             ],
             [
              0.7777777777777778,
              "#fb9f3a"
             ],
             [
              0.8888888888888888,
              "#fdca26"
             ],
             [
              1,
              "#f0f921"
             ]
            ],
            "type": "histogram2dcontour"
           }
          ],
          "mesh3d": [
           {
            "colorbar": {
             "outlinewidth": 0,
             "ticks": ""
            },
            "type": "mesh3d"
           }
          ],
          "parcoords": [
           {
            "line": {
             "colorbar": {
              "outlinewidth": 0,
              "ticks": ""
             }
            },
            "type": "parcoords"
           }
          ],
          "pie": [
           {
            "automargin": true,
            "type": "pie"
           }
          ],
          "scatter": [
           {
            "fillpattern": {
             "fillmode": "overlay",
             "size": 10,
             "solidity": 0.2
            },
            "type": "scatter"
           }
          ],
          "scatter3d": [
           {
            "line": {
             "colorbar": {
              "outlinewidth": 0,
              "ticks": ""
             }
            },
            "marker": {
             "colorbar": {
              "outlinewidth": 0,
              "ticks": ""
             }
            },
            "type": "scatter3d"
           }
          ],
          "scattercarpet": [
           {
            "marker": {
             "colorbar": {
              "outlinewidth": 0,
              "ticks": ""
             }
            },
            "type": "scattercarpet"
           }
          ],
          "scattergeo": [
           {
            "marker": {
             "colorbar": {
              "outlinewidth": 0,
              "ticks": ""
             }
            },
            "type": "scattergeo"
           }
          ],
          "scattergl": [
           {
            "marker": {
             "colorbar": {
              "outlinewidth": 0,
              "ticks": ""
             }
            },
            "type": "scattergl"
           }
          ],
          "scattermapbox": [
           {
            "marker": {
             "colorbar": {
              "outlinewidth": 0,
              "ticks": ""
             }
            },
            "type": "scattermapbox"
           }
          ],
          "scatterpolar": [
           {
            "marker": {
             "colorbar": {
              "outlinewidth": 0,
              "ticks": ""
             }
            },
            "type": "scatterpolar"
           }
          ],
          "scatterpolargl": [
           {
            "marker": {
             "colorbar": {
              "outlinewidth": 0,
              "ticks": ""
             }
            },
            "type": "scatterpolargl"
           }
          ],
          "scatterternary": [
           {
            "marker": {
             "colorbar": {
              "outlinewidth": 0,
              "ticks": ""
             }
            },
            "type": "scatterternary"
           }
          ],
          "surface": [
           {
            "colorbar": {
             "outlinewidth": 0,
             "ticks": ""
            },
            "colorscale": [
             [
              0,
              "#0d0887"
             ],
             [
              0.1111111111111111,
              "#46039f"
             ],
             [
              0.2222222222222222,
              "#7201a8"
             ],
             [
              0.3333333333333333,
              "#9c179e"
             ],
             [
              0.4444444444444444,
              "#bd3786"
             ],
             [
              0.5555555555555556,
              "#d8576b"
             ],
             [
              0.6666666666666666,
              "#ed7953"
             ],
             [
              0.7777777777777778,
              "#fb9f3a"
             ],
             [
              0.8888888888888888,
              "#fdca26"
             ],
             [
              1,
              "#f0f921"
             ]
            ],
            "type": "surface"
           }
          ],
          "table": [
           {
            "cells": {
             "fill": {
              "color": "#EBF0F8"
             },
             "line": {
              "color": "white"
             }
            },
            "header": {
             "fill": {
              "color": "#C8D4E3"
             },
             "line": {
              "color": "white"
             }
            },
            "type": "table"
           }
          ]
         },
         "layout": {
          "annotationdefaults": {
           "arrowcolor": "#2a3f5f",
           "arrowhead": 0,
           "arrowwidth": 1
          },
          "autotypenumbers": "strict",
          "coloraxis": {
           "colorbar": {
            "outlinewidth": 0,
            "ticks": ""
           }
          },
          "colorscale": {
           "diverging": [
            [
             0,
             "#8e0152"
            ],
            [
             0.1,
             "#c51b7d"
            ],
            [
             0.2,
             "#de77ae"
            ],
            [
             0.3,
             "#f1b6da"
            ],
            [
             0.4,
             "#fde0ef"
            ],
            [
             0.5,
             "#f7f7f7"
            ],
            [
             0.6,
             "#e6f5d0"
            ],
            [
             0.7,
             "#b8e186"
            ],
            [
             0.8,
             "#7fbc41"
            ],
            [
             0.9,
             "#4d9221"
            ],
            [
             1,
             "#276419"
            ]
           ],
           "sequential": [
            [
             0,
             "#0d0887"
            ],
            [
             0.1111111111111111,
             "#46039f"
            ],
            [
             0.2222222222222222,
             "#7201a8"
            ],
            [
             0.3333333333333333,
             "#9c179e"
            ],
            [
             0.4444444444444444,
             "#bd3786"
            ],
            [
             0.5555555555555556,
             "#d8576b"
            ],
            [
             0.6666666666666666,
             "#ed7953"
            ],
            [
             0.7777777777777778,
             "#fb9f3a"
            ],
            [
             0.8888888888888888,
             "#fdca26"
            ],
            [
             1,
             "#f0f921"
            ]
           ],
           "sequentialminus": [
            [
             0,
             "#0d0887"
            ],
            [
             0.1111111111111111,
             "#46039f"
            ],
            [
             0.2222222222222222,
             "#7201a8"
            ],
            [
             0.3333333333333333,
             "#9c179e"
            ],
            [
             0.4444444444444444,
             "#bd3786"
            ],
            [
             0.5555555555555556,
             "#d8576b"
            ],
            [
             0.6666666666666666,
             "#ed7953"
            ],
            [
             0.7777777777777778,
             "#fb9f3a"
            ],
            [
             0.8888888888888888,
             "#fdca26"
            ],
            [
             1,
             "#f0f921"
            ]
           ]
          },
          "colorway": [
           "#636efa",
           "#EF553B",
           "#00cc96",
           "#ab63fa",
           "#FFA15A",
           "#19d3f3",
           "#FF6692",
           "#B6E880",
           "#FF97FF",
           "#FECB52"
          ],
          "font": {
           "color": "#2a3f5f"
          },
          "geo": {
           "bgcolor": "white",
           "lakecolor": "white",
           "landcolor": "#E5ECF6",
           "showlakes": true,
           "showland": true,
           "subunitcolor": "white"
          },
          "hoverlabel": {
           "align": "left"
          },
          "hovermode": "closest",
          "mapbox": {
           "style": "light"
          },
          "paper_bgcolor": "white",
          "plot_bgcolor": "#E5ECF6",
          "polar": {
           "angularaxis": {
            "gridcolor": "white",
            "linecolor": "white",
            "ticks": ""
           },
           "bgcolor": "#E5ECF6",
           "radialaxis": {
            "gridcolor": "white",
            "linecolor": "white",
            "ticks": ""
           }
          },
          "scene": {
           "xaxis": {
            "backgroundcolor": "#E5ECF6",
            "gridcolor": "white",
            "gridwidth": 2,
            "linecolor": "white",
            "showbackground": true,
            "ticks": "",
            "zerolinecolor": "white"
           },
           "yaxis": {
            "backgroundcolor": "#E5ECF6",
            "gridcolor": "white",
            "gridwidth": 2,
            "linecolor": "white",
            "showbackground": true,
            "ticks": "",
            "zerolinecolor": "white"
           },
           "zaxis": {
            "backgroundcolor": "#E5ECF6",
            "gridcolor": "white",
            "gridwidth": 2,
            "linecolor": "white",
            "showbackground": true,
            "ticks": "",
            "zerolinecolor": "white"
           }
          },
          "shapedefaults": {
           "line": {
            "color": "#2a3f5f"
           }
          },
          "ternary": {
           "aaxis": {
            "gridcolor": "white",
            "linecolor": "white",
            "ticks": ""
           },
           "baxis": {
            "gridcolor": "white",
            "linecolor": "white",
            "ticks": ""
           },
           "bgcolor": "#E5ECF6",
           "caxis": {
            "gridcolor": "white",
            "linecolor": "white",
            "ticks": ""
           }
          },
          "title": {
           "x": 0.05
          },
          "xaxis": {
           "automargin": true,
           "gridcolor": "white",
           "linecolor": "white",
           "ticks": "",
           "title": {
            "standoff": 15
           },
           "zerolinecolor": "white",
           "zerolinewidth": 2
          },
          "yaxis": {
           "automargin": true,
           "gridcolor": "white",
           "linecolor": "white",
           "ticks": "",
           "title": {
            "standoff": 15
           },
           "zerolinecolor": "white",
           "zerolinewidth": 2
          }
         }
        },
        "xaxis": {
         "anchor": "y",
         "domain": [
          0,
          1
         ],
         "gridcolor": "LightGrey",
         "linecolor": "LightGrey",
         "linewidth": 1,
         "showline": true,
         "tickvals": [
          3,
          6,
          12,
          24
         ]
        },
        "xaxis2": {
         "anchor": "y2",
         "domain": [
          0,
          1
         ],
         "gridcolor": "LightGrey",
         "linecolor": "LightGrey",
         "linewidth": 1,
         "showline": true,
         "tickvals": [
          3,
          6,
          12,
          24
         ]
        },
        "xaxis3": {
         "anchor": "y3",
         "domain": [
          0,
          1
         ],
         "gridcolor": "LightGrey",
         "linecolor": "LightGrey",
         "linewidth": 1,
         "showline": true,
         "tickvals": [
          3,
          6,
          12,
          24
         ]
        },
        "yaxis": {
         "anchor": "x",
         "domain": [
          0.72,
          1
         ],
         "gridcolor": "LightGrey",
         "linecolor": "LightGrey",
         "linewidth": 1,
         "showline": true
        },
        "yaxis2": {
         "anchor": "x2",
         "domain": [
          0.36,
          0.6399999999999999
         ],
         "gridcolor": "LightGrey",
         "linecolor": "LightGrey",
         "linewidth": 1,
         "showline": true
        },
        "yaxis3": {
         "anchor": "x3",
         "domain": [
          0,
          0.27999999999999997
         ],
         "gridcolor": "LightGrey",
         "linecolor": "LightGrey",
         "linewidth": 1,
         "showline": true
        }
       }
      }
     },
     "metadata": {},
     "output_type": "display_data"
    }
   ],
   "source": [
    "df = pd.read_csv('csv_results/03_15_11_44.csv')\n",
    "df_sv = pd.read_csv('csv_results/sorted-vector_human_03_20_12_09.csv')\n",
    "df_hm = pd.read_csv('csv_results/hashmap_human_03_20_12_10.csv')\n",
    "df_co = pd.read_csv('csv_results/combo_human_03_20_12_10.csv')\n",
    "df_pst = df[df.implementation=='PstClassifierSeqan']\n",
    "\n",
    "fig = make_subplots(rows=3, cols=1, shared_yaxes=False, \n",
    "                    x_title=\"Amount of VLMCs\",\n",
    "                    y_title=\"Cache misses (%)\",\n",
    "                    subplot_titles=(\"Small\", \"Medium\", \"Large\"), \n",
    "                    horizontal_spacing= 0.02, vertical_spacing= 0.08) # specs=[[{}, {}],[{\"colspan\": 2}, None]])\n",
    "\n",
    "fig.add_trace(go.Scatter(x=df_pst[df_pst.vlmc_size=='small']['set_size'], y=df_pst[df_pst.vlmc_size=='small']['cache_misses'], line_color='#EF553B', name=\"Pst\", marker_symbol='x'), 1, 1)\n",
    "fig.add_trace(go.Scatter(x=df_hm[df_hm.vlmc_size=='small']['set_size'], y=df_hm[df_hm.vlmc_size=='small']['cache_misses'], line_color='#FECB52', name=\"hashmap\", marker_symbol='square'), 1, 1)\n",
    "fig.add_trace(go.Scatter(x=df_co[df_co.vlmc_size=='small']['set_size'], y=df_co[df_co.vlmc_size=='small']['cache_misses'], line_color='#00CC96', name=\"combo\", marker_symbol='diamond'), 1, 1)\n",
    "fig.add_trace(go.Scatter(x=df_sv[df_sv.vlmc_size=='small']['set_size'], y=df_sv[df_sv.vlmc_size=='small']['cache_misses'], line_color='#636EFA', name=\"sorted-vector\"), 1, 1)\n",
    "\n",
    "fig.add_trace(go.Scatter(x=df_pst[df_pst.vlmc_size=='medium']['set_size'], y=df_pst[df_pst.vlmc_size=='medium']['cache_misses'], line_color='#EF553B', name=\"Pst\", marker_symbol='x', showlegend = False), 2, 1)\n",
    "fig.add_trace(go.Scatter(x=df_hm[df_hm.vlmc_size=='medium']['set_size'], y=df_hm[df_hm.vlmc_size=='medium']['cache_misses'], line_color='#FECB52', name=\"hashmap\", marker_symbol='square', showlegend = False), 2, 1)\n",
    "fig.add_trace(go.Scatter(x=df_co[df_co.vlmc_size=='medium']['set_size'], y=df_co[df_co.vlmc_size=='medium']['cache_misses'], line_color='#00CC96', name=\"combo\", marker_symbol='diamond', showlegend = False), 2, 1)\n",
    "fig.add_trace(go.Scatter(x=df_sv[df_sv.vlmc_size=='medium']['set_size'], y=df_sv[df_sv.vlmc_size=='medium']['cache_misses'], line_color='#636EFA', name=\"sorted-vector\", showlegend = False), 2, 1)\n",
    "\n",
    "fig.add_trace(go.Scatter(x=df_pst[df_pst.vlmc_size=='large']['set_size'], y=df_pst[df_pst.vlmc_size=='large']['cache_misses'], line_color='#EF553B', name=\"Pst\", marker_symbol='x', showlegend = False), 3, 1)\n",
    "fig.add_trace(go.Scatter(x=df_hm[df_hm.vlmc_size=='large']['set_size'], y=df_hm[df_hm.vlmc_size=='large']['cache_misses'], line_color='#FECB52', name=\"hashmap\", marker_symbol='square', showlegend = False), 3, 1)\n",
    "fig.add_trace(go.Scatter(x=df_co[df_co.vlmc_size=='large']['set_size'], y=df_co[df_co.vlmc_size=='large']['cache_misses'], line_color='#00CC96', name=\"combo\", marker_symbol='diamond', showlegend = False), 3, 1)\n",
    "fig.add_trace(go.Scatter(x=df_sv[df_sv.vlmc_size=='large']['set_size'], y=df_sv[df_sv.vlmc_size=='large']['cache_misses'], line_color='#636EFA', name=\"sorted-vector\", showlegend = False), 3, 1)\n",
    "\n",
    "\n",
    "fig.update_layout(legend=dict(\n",
    "    orientation=\"h\",\n",
    "    yanchor=\"bottom\",\n",
    "    y=1.08),\n",
    "    margin=dict(l=100, r=60, t=60, b=80),\n",
    "    height=800,\n",
    "    plot_bgcolor=\"white\")\n",
    "\n",
    "fig.update_xaxes(gridcolor='LightGrey', row=1, col=1)\n",
    "fig.update_yaxes(gridcolor='LightGrey', row=1, col=1)\n",
    "# fig.update_yaxes(tickvals=[0, 0.1, 0.2, 0.3, 0.4, 0.5], row=1, col=1)\n",
    "fig.update_xaxes(tickvals=[3, 6, 12, 24], row=1, col=1)\n",
    "fig.update_xaxes(showline=True, linewidth=1, linecolor='LightGrey', row=1, col=1)\n",
    "fig.update_yaxes(showline=True, linewidth=1, linecolor='LightGrey', row=1, col=1)\n",
    "\n",
    "fig.update_xaxes(gridcolor='LightGrey', row=2, col=1)\n",
    "fig.update_yaxes(gridcolor='LightGrey', row=2, col=1)\n",
    "# fig.update_yaxes(tickvals=[0, 1, 2, 3, 4, 5], row=2, col=1)\n",
    "fig.update_xaxes(tickvals=[3, 6, 12, 24], row=2, col=1)\n",
    "fig.update_xaxes(showline=True, linewidth=1, linecolor='LightGrey', row=2, col=1)\n",
    "fig.update_yaxes(showline=True, linewidth=1, linecolor='LightGrey', row=2, col=1)\n",
    "\n",
    "fig.update_xaxes(gridcolor='LightGrey', row=3, col=1)\n",
    "fig.update_yaxes(gridcolor='LightGrey', row=3, col=1)\n",
    "# fig.update_yaxes(tickvals=[0, 5, 10, 15, 20, 25, 30], row=3, col=1)\n",
    "fig.update_xaxes(tickvals=[3, 6, 12, 24], row=3, col=1)\n",
    "fig.update_xaxes(showline=True, linewidth=1, linecolor='LightGrey', row=3, col=1)\n",
    "fig.update_yaxes(showline=True, linewidth=1, linecolor='LightGrey', row=3, col=1)\n",
    "\n",
    "fig.layout.annotations[0][\"font\"] = {'size': 24}\n",
    "fig.layout.annotations[1][\"font\"] = {'size': 24}\n",
    "fig.layout.annotations[2][\"font\"] = {'size': 24}\n",
    "\n",
    "fig.layout.annotations[3][\"font\"] = {'size': 28}\n",
    "fig.layout.annotations[4][\"font\"] = {'size': 28}\n",
    "fig.show()\n",
    "fig.write_image(\"images/human_cache_misses.pdf\")"
   ]
  },
  {
   "attachments": {},
   "cell_type": "markdown",
   "metadata": {},
   "source": [
    "## Visualizing degree of parallelization"
   ]
  },
  {
   "cell_type": "code",
   "execution_count": null,
   "metadata": {},
   "outputs": [],
   "source": [
    "df = pd.read_csv('csv_results/parallelization_human_03_15_13_45.csv')\n",
    "df_small = df[df.vlmc_size==\"small\"]\n",
    "\n",
    "fig = px.line(df, x='nr_cores_used', y='elapsed_time', color='vlmc_size')\n",
    "\n",
    "fig.update_layout(title=\"Elapsed time compared to amount of cores used\", yaxis_title=\"Elapsed time (sec)\", xaxis_title=\"Amount of cores used\")\n",
    "\n",
    "fig.show()\n",
    "\n",
    "\n",
    "fig = px.line(df, x='nr_cores_used', y='task_clock', color='vlmc_size')\n",
    "\n",
    "fig.update_layout(title=\"Degree of parallelization compared to amount of cores used (Human dataset)\", yaxis_title=\"Degree of parallelization\", xaxis_title=\"Amount of cores used\")\n",
    "\n",
    "fig.show()\n",
    "\n",
    "fig = px.line(df, x='nr_cores_used', y='cache_misses', color='vlmc_size')\n",
    "\n",
    "fig.update_layout(title=\"Cache-misses compared to amount of cores used (Human dataset)\", yaxis_title=\"Degree of parallelization\", xaxis_title=\"Amount of cores used\")\n",
    "\n",
    "fig.show()\n",
    "\n"
   ]
  },
  {
   "attachments": {},
   "cell_type": "markdown",
   "metadata": {},
   "source": [
    "# <b>Visualizing Benchmarking on E-coli Dataset</b>"
   ]
  },
  {
   "attachments": {},
   "cell_type": "markdown",
   "metadata": {},
   "source": [
    "## Visualize time elapsed compared to amount of VLMCs compared"
   ]
  },
  {
   "cell_type": "code",
   "execution_count": 45,
   "metadata": {},
   "outputs": [
    {
     "data": {
      "application/vnd.plotly.v1+json": {
       "config": {
        "plotlyServerURL": "https://plot.ly"
       },
       "data": [
        {
         "line": {
          "color": "#EF553B"
         },
         "marker": {
          "symbol": "x"
         },
         "name": "Pst",
         "type": "scatter",
         "x": [
          7430,
          3715,
          1857,
          928,
          464,
          232,
          116,
          58,
          29,
          14,
          7,
          3
         ],
         "xaxis": "x",
         "y": [
          95.71105259,
          24.99593152,
          6.137830379,
          1.540966,
          0.393036001,
          0.1112172,
          0.0393846,
          0.015500201,
          0.0101032,
          0.0066102,
          0.0059653,
          0.0056034
         ],
         "yaxis": "y"
        },
        {
         "line": {
          "color": "#FECB52"
         },
         "marker": {
          "symbol": "square"
         },
         "name": "hashmap",
         "type": "scatter",
         "x": [
          7430,
          3715,
          1857,
          928,
          464,
          232,
          116,
          58,
          29,
          14,
          7,
          3
         ],
         "xaxis": "x",
         "y": [
          25.12491064,
          6.777677295,
          1.679949905,
          0.418841301,
          0.163820001,
          0.0878297,
          0.055264001,
          0.045943,
          0.0430283,
          0.0459749,
          0.0413668,
          0.0402071
         ],
         "yaxis": "y"
        },
        {
         "line": {
          "color": "#00CC96"
         },
         "marker": {
          "symbol": "diamond"
         },
         "name": "combo",
         "type": "scatter",
         "x": [
          7430,
          3715,
          1857,
          928,
          464,
          232,
          116,
          58,
          29,
          14,
          7,
          3
         ],
         "xaxis": "x",
         "y": [
          24.793057805,
          6.601938492,
          1.602691666,
          0.478104173,
          0.183336363,
          0.079981484,
          0.055425289,
          0.05106229,
          0.043230091,
          0.041803091,
          0.042269591,
          0.039384792
         ],
         "yaxis": "y"
        },
        {
         "line": {
          "color": "#636EFA"
         },
         "name": "sorted-vector",
         "type": "scatter",
         "x": [
          7430,
          3715,
          1857,
          928,
          464,
          232,
          116,
          58,
          29,
          14,
          7,
          3
         ],
         "xaxis": "x",
         "y": [
          25.210577116,
          6.776640303,
          1.623982101,
          0.4657336,
          0.1528856,
          0.0755604,
          0.0545087,
          0.0457046,
          0.0438192,
          0.0412839,
          0.0410471,
          0.0450509
         ],
         "yaxis": "y"
        },
        {
         "line": {
          "color": "#EF553B"
         },
         "marker": {
          "symbol": "x"
         },
         "name": "Pst",
         "showlegend": false,
         "type": "scatter",
         "x": [
          7430,
          3715,
          1857,
          928,
          464,
          232,
          116,
          58,
          29,
          14,
          7,
          3
         ],
         "xaxis": "x2",
         "y": [
          156.124755586,
          41.512992088,
          10.15460797,
          2.951313699,
          0.676779604,
          0.187374801,
          0.051384901,
          0.0151101,
          0.0093704,
          0.0071402,
          0.0071603,
          0.0049218
         ],
         "yaxis": "y2"
        },
        {
         "line": {
          "color": "#FECB52"
         },
         "marker": {
          "symbol": "square"
         },
         "name": "hashmap",
         "showlegend": false,
         "type": "scatter",
         "x": [
          7430,
          3715,
          1857,
          928,
          464,
          232,
          116,
          58,
          29,
          14,
          7,
          3
         ],
         "xaxis": "x2",
         "y": [
          30.94050054,
          8.232126439,
          2.274950306,
          0.564189201,
          0.1975612,
          0.0843366,
          0.0543354,
          0.0438476,
          0.042146701,
          0.0420206,
          0.0400673,
          0.0389649
         ],
         "yaxis": "y2"
        },
        {
         "line": {
          "color": "#00CC96"
         },
         "marker": {
          "symbol": "diamond"
         },
         "name": "combo",
         "showlegend": false,
         "type": "scatter",
         "x": [
          7430,
          3715,
          1857,
          928,
          464,
          232,
          116,
          58,
          29,
          14,
          7,
          3
         ],
         "xaxis": "x2",
         "y": [
          29.805192255,
          8.533753466,
          2.17901018,
          0.553405306,
          0.186542761,
          0.081930983,
          0.060289988,
          0.051446589,
          0.043094591,
          0.041400692,
          0.041914892,
          0.039830992
         ],
         "yaxis": "y2"
        },
        {
         "line": {
          "color": "#636EFA"
         },
         "name": "sorted-vector",
         "showlegend": false,
         "type": "scatter",
         "x": [
          7430,
          3715,
          1857,
          928,
          464,
          232,
          116,
          58,
          29,
          14,
          7,
          3
         ],
         "xaxis": "x2",
         "y": [
          32.176732813,
          9.122843406,
          2.208257401,
          0.644016101,
          0.1849826,
          0.0827826,
          0.0540856,
          0.0440921,
          0.0409397,
          0.0426154,
          0.0396248,
          0.0399703
         ],
         "yaxis": "y2"
        },
        {
         "line": {
          "color": "#EF553B"
         },
         "marker": {
          "symbol": "x"
         },
         "name": "Pst",
         "showlegend": false,
         "type": "scatter",
         "x": [
          7430,
          3715,
          1857,
          928,
          464,
          232,
          116,
          58,
          29,
          14,
          7,
          3
         ],
         "xaxis": "x3",
         "y": [
          386.472046983,
          90.84601513,
          23.93967365,
          6.221134115,
          1.753857908,
          0.374521602,
          0.101981,
          0.0377826,
          0.0114585,
          0.0092638,
          0.0077241,
          0.0067242
         ],
         "yaxis": "y3"
        },
        {
         "line": {
          "color": "#FECB52"
         },
         "marker": {
          "symbol": "square"
         },
         "name": "hashmap",
         "showlegend": false,
         "type": "scatter",
         "x": [
          7430,
          3715,
          1857,
          928,
          464,
          232,
          116,
          58,
          29,
          14,
          7,
          3
         ],
         "xaxis": "x3",
         "y": [
          54.81978713,
          14.929751205,
          3.957852809,
          1.017183802,
          0.287235801,
          0.1011411,
          0.0622869,
          0.0514617,
          0.045987,
          0.0433343,
          0.043333,
          0.0401826
         ],
         "yaxis": "y3"
        },
        {
         "line": {
          "color": "#00CC96"
         },
         "marker": {
          "symbol": "diamond"
         },
         "name": "combo",
         "showlegend": false,
         "type": "scatter",
         "x": [
          7430,
          3715,
          1857,
          928,
          464,
          232,
          116,
          58,
          29,
          14,
          7,
          3
         ],
         "xaxis": "x3",
         "y": [
          50.357738179,
          13.634102224,
          3.948781082,
          1.041930288,
          0.273654245,
          0.09937788,
          0.065807287,
          0.059643688,
          0.042827791,
          0.04885339,
          0.041339192,
          0.039692292
         ],
         "yaxis": "y3"
        },
        {
         "line": {
          "color": "#636EFA"
         },
         "name": "sorted-vector",
         "showlegend": false,
         "type": "scatter",
         "x": [
          7430,
          3715,
          1857,
          928,
          464,
          232,
          116,
          58,
          29,
          14,
          7,
          3
         ],
         "xaxis": "x3",
         "y": [
          54.463700628,
          14.61603651,
          3.873774901,
          1.1057055,
          0.343362201,
          0.1047213,
          0.0625149,
          0.0505369,
          0.0435455,
          0.0433768,
          0.0418676,
          0.0410008
         ],
         "yaxis": "y3"
        }
       ],
       "layout": {
        "annotations": [
         {
          "font": {
           "size": 24
          },
          "showarrow": false,
          "text": "Small",
          "x": 0.5,
          "xanchor": "center",
          "xref": "paper",
          "y": 1,
          "yanchor": "bottom",
          "yref": "paper"
         },
         {
          "font": {
           "size": 24
          },
          "showarrow": false,
          "text": "Medium",
          "x": 0.5,
          "xanchor": "center",
          "xref": "paper",
          "y": 0.6399999999999999,
          "yanchor": "bottom",
          "yref": "paper"
         },
         {
          "font": {
           "size": 24
          },
          "showarrow": false,
          "text": "Large",
          "x": 0.5,
          "xanchor": "center",
          "xref": "paper",
          "y": 0.27999999999999997,
          "yanchor": "bottom",
          "yref": "paper"
         },
         {
          "font": {
           "size": 28
          },
          "showarrow": false,
          "text": "Amount of VLMCs",
          "x": 0.5,
          "xanchor": "center",
          "xref": "paper",
          "y": 0,
          "yanchor": "top",
          "yref": "paper",
          "yshift": -30
         },
         {
          "font": {
           "size": 28
          },
          "showarrow": false,
          "text": "Elapsed Time (s)",
          "textangle": -90,
          "x": 0,
          "xanchor": "right",
          "xref": "paper",
          "xshift": -40,
          "y": 0.5,
          "yanchor": "middle",
          "yref": "paper"
         }
        ],
        "height": 800,
        "legend": {
         "orientation": "h",
         "y": 1.08,
         "yanchor": "bottom"
        },
        "margin": {
         "b": 80,
         "l": 100,
         "r": 60,
         "t": 60
        },
        "plot_bgcolor": "white",
        "template": {
         "data": {
          "bar": [
           {
            "error_x": {
             "color": "#2a3f5f"
            },
            "error_y": {
             "color": "#2a3f5f"
            },
            "marker": {
             "line": {
              "color": "#E5ECF6",
              "width": 0.5
             },
             "pattern": {
              "fillmode": "overlay",
              "size": 10,
              "solidity": 0.2
             }
            },
            "type": "bar"
           }
          ],
          "barpolar": [
           {
            "marker": {
             "line": {
              "color": "#E5ECF6",
              "width": 0.5
             },
             "pattern": {
              "fillmode": "overlay",
              "size": 10,
              "solidity": 0.2
             }
            },
            "type": "barpolar"
           }
          ],
          "carpet": [
           {
            "aaxis": {
             "endlinecolor": "#2a3f5f",
             "gridcolor": "white",
             "linecolor": "white",
             "minorgridcolor": "white",
             "startlinecolor": "#2a3f5f"
            },
            "baxis": {
             "endlinecolor": "#2a3f5f",
             "gridcolor": "white",
             "linecolor": "white",
             "minorgridcolor": "white",
             "startlinecolor": "#2a3f5f"
            },
            "type": "carpet"
           }
          ],
          "choropleth": [
           {
            "colorbar": {
             "outlinewidth": 0,
             "ticks": ""
            },
            "type": "choropleth"
           }
          ],
          "contour": [
           {
            "colorbar": {
             "outlinewidth": 0,
             "ticks": ""
            },
            "colorscale": [
             [
              0,
              "#0d0887"
             ],
             [
              0.1111111111111111,
              "#46039f"
             ],
             [
              0.2222222222222222,
              "#7201a8"
             ],
             [
              0.3333333333333333,
              "#9c179e"
             ],
             [
              0.4444444444444444,
              "#bd3786"
             ],
             [
              0.5555555555555556,
              "#d8576b"
             ],
             [
              0.6666666666666666,
              "#ed7953"
             ],
             [
              0.7777777777777778,
              "#fb9f3a"
             ],
             [
              0.8888888888888888,
              "#fdca26"
             ],
             [
              1,
              "#f0f921"
             ]
            ],
            "type": "contour"
           }
          ],
          "contourcarpet": [
           {
            "colorbar": {
             "outlinewidth": 0,
             "ticks": ""
            },
            "type": "contourcarpet"
           }
          ],
          "heatmap": [
           {
            "colorbar": {
             "outlinewidth": 0,
             "ticks": ""
            },
            "colorscale": [
             [
              0,
              "#0d0887"
             ],
             [
              0.1111111111111111,
              "#46039f"
             ],
             [
              0.2222222222222222,
              "#7201a8"
             ],
             [
              0.3333333333333333,
              "#9c179e"
             ],
             [
              0.4444444444444444,
              "#bd3786"
             ],
             [
              0.5555555555555556,
              "#d8576b"
             ],
             [
              0.6666666666666666,
              "#ed7953"
             ],
             [
              0.7777777777777778,
              "#fb9f3a"
             ],
             [
              0.8888888888888888,
              "#fdca26"
             ],
             [
              1,
              "#f0f921"
             ]
            ],
            "type": "heatmap"
           }
          ],
          "heatmapgl": [
           {
            "colorbar": {
             "outlinewidth": 0,
             "ticks": ""
            },
            "colorscale": [
             [
              0,
              "#0d0887"
             ],
             [
              0.1111111111111111,
              "#46039f"
             ],
             [
              0.2222222222222222,
              "#7201a8"
             ],
             [
              0.3333333333333333,
              "#9c179e"
             ],
             [
              0.4444444444444444,
              "#bd3786"
             ],
             [
              0.5555555555555556,
              "#d8576b"
             ],
             [
              0.6666666666666666,
              "#ed7953"
             ],
             [
              0.7777777777777778,
              "#fb9f3a"
             ],
             [
              0.8888888888888888,
              "#fdca26"
             ],
             [
              1,
              "#f0f921"
             ]
            ],
            "type": "heatmapgl"
           }
          ],
          "histogram": [
           {
            "marker": {
             "pattern": {
              "fillmode": "overlay",
              "size": 10,
              "solidity": 0.2
             }
            },
            "type": "histogram"
           }
          ],
          "histogram2d": [
           {
            "colorbar": {
             "outlinewidth": 0,
             "ticks": ""
            },
            "colorscale": [
             [
              0,
              "#0d0887"
             ],
             [
              0.1111111111111111,
              "#46039f"
             ],
             [
              0.2222222222222222,
              "#7201a8"
             ],
             [
              0.3333333333333333,
              "#9c179e"
             ],
             [
              0.4444444444444444,
              "#bd3786"
             ],
             [
              0.5555555555555556,
              "#d8576b"
             ],
             [
              0.6666666666666666,
              "#ed7953"
             ],
             [
              0.7777777777777778,
              "#fb9f3a"
             ],
             [
              0.8888888888888888,
              "#fdca26"
             ],
             [
              1,
              "#f0f921"
             ]
            ],
            "type": "histogram2d"
           }
          ],
          "histogram2dcontour": [
           {
            "colorbar": {
             "outlinewidth": 0,
             "ticks": ""
            },
            "colorscale": [
             [
              0,
              "#0d0887"
             ],
             [
              0.1111111111111111,
              "#46039f"
             ],
             [
              0.2222222222222222,
              "#7201a8"
             ],
             [
              0.3333333333333333,
              "#9c179e"
             ],
             [
              0.4444444444444444,
              "#bd3786"
             ],
             [
              0.5555555555555556,
              "#d8576b"
             ],
             [
              0.6666666666666666,
              "#ed7953"
             ],
             [
              0.7777777777777778,
              "#fb9f3a"
             ],
             [
              0.8888888888888888,
              "#fdca26"
             ],
             [
              1,
              "#f0f921"
             ]
            ],
            "type": "histogram2dcontour"
           }
          ],
          "mesh3d": [
           {
            "colorbar": {
             "outlinewidth": 0,
             "ticks": ""
            },
            "type": "mesh3d"
           }
          ],
          "parcoords": [
           {
            "line": {
             "colorbar": {
              "outlinewidth": 0,
              "ticks": ""
             }
            },
            "type": "parcoords"
           }
          ],
          "pie": [
           {
            "automargin": true,
            "type": "pie"
           }
          ],
          "scatter": [
           {
            "fillpattern": {
             "fillmode": "overlay",
             "size": 10,
             "solidity": 0.2
            },
            "type": "scatter"
           }
          ],
          "scatter3d": [
           {
            "line": {
             "colorbar": {
              "outlinewidth": 0,
              "ticks": ""
             }
            },
            "marker": {
             "colorbar": {
              "outlinewidth": 0,
              "ticks": ""
             }
            },
            "type": "scatter3d"
           }
          ],
          "scattercarpet": [
           {
            "marker": {
             "colorbar": {
              "outlinewidth": 0,
              "ticks": ""
             }
            },
            "type": "scattercarpet"
           }
          ],
          "scattergeo": [
           {
            "marker": {
             "colorbar": {
              "outlinewidth": 0,
              "ticks": ""
             }
            },
            "type": "scattergeo"
           }
          ],
          "scattergl": [
           {
            "marker": {
             "colorbar": {
              "outlinewidth": 0,
              "ticks": ""
             }
            },
            "type": "scattergl"
           }
          ],
          "scattermapbox": [
           {
            "marker": {
             "colorbar": {
              "outlinewidth": 0,
              "ticks": ""
             }
            },
            "type": "scattermapbox"
           }
          ],
          "scatterpolar": [
           {
            "marker": {
             "colorbar": {
              "outlinewidth": 0,
              "ticks": ""
             }
            },
            "type": "scatterpolar"
           }
          ],
          "scatterpolargl": [
           {
            "marker": {
             "colorbar": {
              "outlinewidth": 0,
              "ticks": ""
             }
            },
            "type": "scatterpolargl"
           }
          ],
          "scatterternary": [
           {
            "marker": {
             "colorbar": {
              "outlinewidth": 0,
              "ticks": ""
             }
            },
            "type": "scatterternary"
           }
          ],
          "surface": [
           {
            "colorbar": {
             "outlinewidth": 0,
             "ticks": ""
            },
            "colorscale": [
             [
              0,
              "#0d0887"
             ],
             [
              0.1111111111111111,
              "#46039f"
             ],
             [
              0.2222222222222222,
              "#7201a8"
             ],
             [
              0.3333333333333333,
              "#9c179e"
             ],
             [
              0.4444444444444444,
              "#bd3786"
             ],
             [
              0.5555555555555556,
              "#d8576b"
             ],
             [
              0.6666666666666666,
              "#ed7953"
             ],
             [
              0.7777777777777778,
              "#fb9f3a"
             ],
             [
              0.8888888888888888,
              "#fdca26"
             ],
             [
              1,
              "#f0f921"
             ]
            ],
            "type": "surface"
           }
          ],
          "table": [
           {
            "cells": {
             "fill": {
              "color": "#EBF0F8"
             },
             "line": {
              "color": "white"
             }
            },
            "header": {
             "fill": {
              "color": "#C8D4E3"
             },
             "line": {
              "color": "white"
             }
            },
            "type": "table"
           }
          ]
         },
         "layout": {
          "annotationdefaults": {
           "arrowcolor": "#2a3f5f",
           "arrowhead": 0,
           "arrowwidth": 1
          },
          "autotypenumbers": "strict",
          "coloraxis": {
           "colorbar": {
            "outlinewidth": 0,
            "ticks": ""
           }
          },
          "colorscale": {
           "diverging": [
            [
             0,
             "#8e0152"
            ],
            [
             0.1,
             "#c51b7d"
            ],
            [
             0.2,
             "#de77ae"
            ],
            [
             0.3,
             "#f1b6da"
            ],
            [
             0.4,
             "#fde0ef"
            ],
            [
             0.5,
             "#f7f7f7"
            ],
            [
             0.6,
             "#e6f5d0"
            ],
            [
             0.7,
             "#b8e186"
            ],
            [
             0.8,
             "#7fbc41"
            ],
            [
             0.9,
             "#4d9221"
            ],
            [
             1,
             "#276419"
            ]
           ],
           "sequential": [
            [
             0,
             "#0d0887"
            ],
            [
             0.1111111111111111,
             "#46039f"
            ],
            [
             0.2222222222222222,
             "#7201a8"
            ],
            [
             0.3333333333333333,
             "#9c179e"
            ],
            [
             0.4444444444444444,
             "#bd3786"
            ],
            [
             0.5555555555555556,
             "#d8576b"
            ],
            [
             0.6666666666666666,
             "#ed7953"
            ],
            [
             0.7777777777777778,
             "#fb9f3a"
            ],
            [
             0.8888888888888888,
             "#fdca26"
            ],
            [
             1,
             "#f0f921"
            ]
           ],
           "sequentialminus": [
            [
             0,
             "#0d0887"
            ],
            [
             0.1111111111111111,
             "#46039f"
            ],
            [
             0.2222222222222222,
             "#7201a8"
            ],
            [
             0.3333333333333333,
             "#9c179e"
            ],
            [
             0.4444444444444444,
             "#bd3786"
            ],
            [
             0.5555555555555556,
             "#d8576b"
            ],
            [
             0.6666666666666666,
             "#ed7953"
            ],
            [
             0.7777777777777778,
             "#fb9f3a"
            ],
            [
             0.8888888888888888,
             "#fdca26"
            ],
            [
             1,
             "#f0f921"
            ]
           ]
          },
          "colorway": [
           "#636efa",
           "#EF553B",
           "#00cc96",
           "#ab63fa",
           "#FFA15A",
           "#19d3f3",
           "#FF6692",
           "#B6E880",
           "#FF97FF",
           "#FECB52"
          ],
          "font": {
           "color": "#2a3f5f"
          },
          "geo": {
           "bgcolor": "white",
           "lakecolor": "white",
           "landcolor": "#E5ECF6",
           "showlakes": true,
           "showland": true,
           "subunitcolor": "white"
          },
          "hoverlabel": {
           "align": "left"
          },
          "hovermode": "closest",
          "mapbox": {
           "style": "light"
          },
          "paper_bgcolor": "white",
          "plot_bgcolor": "#E5ECF6",
          "polar": {
           "angularaxis": {
            "gridcolor": "white",
            "linecolor": "white",
            "ticks": ""
           },
           "bgcolor": "#E5ECF6",
           "radialaxis": {
            "gridcolor": "white",
            "linecolor": "white",
            "ticks": ""
           }
          },
          "scene": {
           "xaxis": {
            "backgroundcolor": "#E5ECF6",
            "gridcolor": "white",
            "gridwidth": 2,
            "linecolor": "white",
            "showbackground": true,
            "ticks": "",
            "zerolinecolor": "white"
           },
           "yaxis": {
            "backgroundcolor": "#E5ECF6",
            "gridcolor": "white",
            "gridwidth": 2,
            "linecolor": "white",
            "showbackground": true,
            "ticks": "",
            "zerolinecolor": "white"
           },
           "zaxis": {
            "backgroundcolor": "#E5ECF6",
            "gridcolor": "white",
            "gridwidth": 2,
            "linecolor": "white",
            "showbackground": true,
            "ticks": "",
            "zerolinecolor": "white"
           }
          },
          "shapedefaults": {
           "line": {
            "color": "#2a3f5f"
           }
          },
          "ternary": {
           "aaxis": {
            "gridcolor": "white",
            "linecolor": "white",
            "ticks": ""
           },
           "baxis": {
            "gridcolor": "white",
            "linecolor": "white",
            "ticks": ""
           },
           "bgcolor": "#E5ECF6",
           "caxis": {
            "gridcolor": "white",
            "linecolor": "white",
            "ticks": ""
           }
          },
          "title": {
           "x": 0.05
          },
          "xaxis": {
           "automargin": true,
           "gridcolor": "white",
           "linecolor": "white",
           "ticks": "",
           "title": {
            "standoff": 15
           },
           "zerolinecolor": "white",
           "zerolinewidth": 2
          },
          "yaxis": {
           "automargin": true,
           "gridcolor": "white",
           "linecolor": "white",
           "ticks": "",
           "title": {
            "standoff": 15
           },
           "zerolinecolor": "white",
           "zerolinewidth": 2
          }
         }
        },
        "xaxis": {
         "anchor": "y",
         "domain": [
          0,
          1
         ],
         "gridcolor": "LightGrey",
         "linecolor": "LightGrey",
         "linewidth": 1,
         "showline": true,
         "tickvals": [
          7430,
          3715,
          1857,
          928,
          464,
          232,
          116,
          58,
          29,
          14,
          7,
          3
         ]
        },
        "xaxis2": {
         "anchor": "y2",
         "domain": [
          0,
          1
         ],
         "gridcolor": "LightGrey",
         "linecolor": "LightGrey",
         "linewidth": 1,
         "showline": true,
         "tickvals": [
          7430,
          3715,
          1857,
          928,
          464,
          232,
          116,
          58,
          29,
          14,
          7,
          3
         ]
        },
        "xaxis3": {
         "anchor": "y3",
         "domain": [
          0,
          1
         ],
         "gridcolor": "LightGrey",
         "linecolor": "LightGrey",
         "linewidth": 1,
         "showline": true,
         "tickvals": [
          7430,
          3715,
          1857,
          928,
          464,
          232,
          116,
          58,
          29,
          14,
          7,
          3
         ]
        },
        "yaxis": {
         "anchor": "x",
         "domain": [
          0.72,
          1
         ],
         "gridcolor": "LightGrey",
         "linecolor": "LightGrey",
         "linewidth": 1,
         "showline": true
        },
        "yaxis2": {
         "anchor": "x2",
         "domain": [
          0.36,
          0.6399999999999999
         ],
         "gridcolor": "LightGrey",
         "linecolor": "LightGrey",
         "linewidth": 1,
         "showline": true
        },
        "yaxis3": {
         "anchor": "x3",
         "domain": [
          0,
          0.27999999999999997
         ],
         "gridcolor": "LightGrey",
         "linecolor": "LightGrey",
         "linewidth": 1,
         "showline": true
        }
       }
      }
     },
     "metadata": {},
     "output_type": "display_data"
    }
   ],
   "source": [
    "df_sv = pd.read_csv('csv_results/sorted-vector_ecoli_03_20_12_30.csv')\n",
    "df_hm = pd.read_csv('csv_results/hashmap_ecoli_03_20_12_32.csv')\n",
    "df_co = pd.read_csv('csv_results/combo_ecoli_03_20_12_51.csv')\n",
    "df_pst = pd.read_csv('csv_results/ecoli_03_16_09_44.csv')\n",
    "\n",
    "\n",
    "fig = make_subplots(rows=3, cols=1, shared_yaxes=False, \n",
    "                    x_title=\"Amount of VLMCs\",\n",
    "                    y_title=\"Elapsed Time (s)\",\n",
    "                    subplot_titles=(\"Small\", \"Medium\", \"Large\"), \n",
    "                    horizontal_spacing= 0.02, vertical_spacing= 0.08) # specs=[[{}, {}],[{\"colspan\": 2}, None]])\n",
    "\n",
    "fig.add_trace(go.Scatter(x=df_pst[df_pst.vlmc_size=='small']['set_size'], y=df_pst[df_pst.vlmc_size=='small']['elapsed_time'], line_color='#EF553B', name=\"Pst\", marker_symbol='x'), 1, 1)\n",
    "fig.add_trace(go.Scatter(x=df_hm[df_hm.vlmc_size=='small']['set_size'], y=df_hm[df_hm.vlmc_size=='small']['elapsed_time'], line_color='#FECB52', name=\"hashmap\", marker_symbol='square'), 1, 1)\n",
    "fig.add_trace(go.Scatter(x=df_co[df_co.vlmc_size=='small']['set_size'], y=df_co[df_co.vlmc_size=='small']['elapsed_time'], line_color='#00CC96', name=\"combo\", marker_symbol='diamond'), 1, 1)\n",
    "fig.add_trace(go.Scatter(x=df_sv[df_sv.vlmc_size=='small']['set_size'], y=df_sv[df_sv.vlmc_size=='small']['elapsed_time'], line_color='#636EFA', name=\"sorted-vector\"), 1, 1)\n",
    "\n",
    "fig.add_trace(go.Scatter(x=df_pst[df_pst.vlmc_size=='medium']['set_size'], y=df_pst[df_pst.vlmc_size=='medium']['elapsed_time'], line_color='#EF553B', name=\"Pst\", marker_symbol='x', showlegend = False), 2, 1)\n",
    "fig.add_trace(go.Scatter(x=df_hm[df_hm.vlmc_size=='medium']['set_size'], y=df_hm[df_hm.vlmc_size=='medium']['elapsed_time'], line_color='#FECB52', name=\"hashmap\", marker_symbol='square', showlegend = False), 2, 1)\n",
    "fig.add_trace(go.Scatter(x=df_co[df_co.vlmc_size=='medium']['set_size'], y=df_co[df_co.vlmc_size=='medium']['elapsed_time'], line_color='#00CC96', name=\"combo\", marker_symbol='diamond', showlegend = False), 2, 1)\n",
    "fig.add_trace(go.Scatter(x=df_sv[df_sv.vlmc_size=='medium']['set_size'], y=df_sv[df_sv.vlmc_size=='medium']['elapsed_time'], line_color='#636EFA', name=\"sorted-vector\", showlegend = False), 2, 1)\n",
    "\n",
    "fig.add_trace(go.Scatter(x=df_pst[df_pst.vlmc_size=='large']['set_size'], y=df_pst[df_pst.vlmc_size=='large']['elapsed_time'], line_color='#EF553B', name=\"Pst\", marker_symbol='x', showlegend = False), 3, 1)\n",
    "fig.add_trace(go.Scatter(x=df_hm[df_hm.vlmc_size=='large']['set_size'], y=df_hm[df_hm.vlmc_size=='large']['elapsed_time'], line_color='#FECB52', name=\"hashmap\", marker_symbol='square', showlegend = False), 3, 1)\n",
    "fig.add_trace(go.Scatter(x=df_co[df_co.vlmc_size=='large']['set_size'], y=df_co[df_co.vlmc_size=='large']['elapsed_time'], line_color='#00CC96', name=\"combo\", marker_symbol='diamond', showlegend = False), 3, 1)\n",
    "fig.add_trace(go.Scatter(x=df_sv[df_sv.vlmc_size=='large']['set_size'], y=df_sv[df_sv.vlmc_size=='large']['elapsed_time'], line_color='#636EFA', name=\"sorted-vector\", showlegend = False), 3, 1)\n",
    "\n",
    "\n",
    "fig.update_layout(legend=dict(\n",
    "    orientation=\"h\",\n",
    "    yanchor=\"bottom\",\n",
    "    y=1.08),\n",
    "    margin=dict(l=100, r=60, t=60, b=80),\n",
    "    height=800,\n",
    "    plot_bgcolor=\"white\")\n",
    "\n",
    "fig.update_xaxes(gridcolor='LightGrey', row=1, col=1)\n",
    "fig.update_yaxes(gridcolor='LightGrey', row=1, col=1)\n",
    "# fig.update_yaxes(tickvals=[0, 0.1, 0.2, 0.3, 0.4, 0.5], row=1, col=1)\n",
    "fig.update_xaxes(tickvals=list(df_sv[df_sv.vlmc_size=='small']['set_size']), row=1, col=1)\n",
    "fig.update_xaxes(showline=True, linewidth=1, linecolor='LightGrey', row=1, col=1)\n",
    "fig.update_yaxes(showline=True, linewidth=1, linecolor='LightGrey', row=1, col=1)\n",
    "\n",
    "fig.update_xaxes(gridcolor='LightGrey', row=2, col=1)\n",
    "fig.update_yaxes(gridcolor='LightGrey', row=2, col=1)\n",
    "# fig.update_yaxes(tickvals=[0, 1, 2, 3, 4, 5], row=2, col=1)\n",
    "fig.update_xaxes(tickvals=list(df_sv[df_sv.vlmc_size=='small']['set_size']), row=2, col=1)\n",
    "fig.update_xaxes(showline=True, linewidth=1, linecolor='LightGrey', row=2, col=1)\n",
    "fig.update_yaxes(showline=True, linewidth=1, linecolor='LightGrey', row=2, col=1)\n",
    "\n",
    "fig.update_xaxes(gridcolor='LightGrey', row=3, col=1)\n",
    "fig.update_yaxes(gridcolor='LightGrey', row=3, col=1)\n",
    "# fig.update_yaxes(tickvals=[0, 5, 10, 15, 20, 25, 30], row=3, col=1)\n",
    "fig.update_xaxes(tickvals=list(df_sv[df_sv.vlmc_size=='small']['set_size']), row=3, col=1)\n",
    "fig.update_xaxes(showline=True, linewidth=1, linecolor='LightGrey', row=3, col=1)\n",
    "fig.update_yaxes(showline=True, linewidth=1, linecolor='LightGrey', row=3, col=1)\n",
    "\n",
    "fig.layout.annotations[0][\"font\"] = {'size': 24}\n",
    "fig.layout.annotations[1][\"font\"] = {'size': 24}\n",
    "fig.layout.annotations[2][\"font\"] = {'size': 24}\n",
    "\n",
    "fig.layout.annotations[3][\"font\"] = {'size': 28}\n",
    "fig.layout.annotations[4][\"font\"] = {'size': 28}\n",
    "fig.show()\n",
    "fig.write_image(\"images/ecoli_elapsed_time.pdf\")"
   ]
  },
  {
   "attachments": {},
   "cell_type": "markdown",
   "metadata": {},
   "source": [
    "## Cache-misses"
   ]
  },
  {
   "cell_type": "code",
   "execution_count": 32,
   "metadata": {},
   "outputs": [
    {
     "data": {
      "text/plain": [
       "array([7430, 3715, 1857,  928,  464,  232,  116,   58,   29,   14,    7,\n",
       "          3])"
      ]
     },
     "execution_count": 32,
     "metadata": {},
     "output_type": "execute_result"
    }
   ],
   "source": [
    "df_sv['set_size'].unique()"
   ]
  },
  {
   "cell_type": "code",
   "execution_count": 44,
   "metadata": {},
   "outputs": [
    {
     "data": {
      "application/vnd.plotly.v1+json": {
       "config": {
        "plotlyServerURL": "https://plot.ly"
       },
       "data": [
        {
         "line": {
          "color": "#EF553B"
         },
         "marker": {
          "symbol": "x"
         },
         "name": "Pst",
         "type": "scatter",
         "x": [
          7430,
          3715,
          1857,
          928,
          464,
          232,
          116,
          58,
          29,
          14,
          7,
          3
         ],
         "xaxis": "x",
         "y": [
          68.483,
          61.727,
          50.734,
          31.901,
          12.607,
          6.481,
          13.689,
          14.054,
          19.057,
          27.465,
          29.977,
          26.692
         ],
         "yaxis": "y"
        },
        {
         "line": {
          "color": "#FECB52"
         },
         "marker": {
          "symbol": "square"
         },
         "name": "hashmap",
         "type": "scatter",
         "x": [
          7430,
          3715,
          1857,
          928,
          464,
          232,
          116,
          58,
          29,
          14,
          7,
          3
         ],
         "xaxis": "x",
         "y": [
          14.929,
          14.562,
          11.004,
          7.281,
          10.234,
          12.504,
          26.33,
          39.136,
          47.803,
          58.73,
          54.879,
          50.67
         ],
         "yaxis": "y"
        },
        {
         "line": {
          "color": "#00CC96"
         },
         "marker": {
          "symbol": "diamond"
         },
         "name": "combo",
         "type": "scatter",
         "x": [
          7430,
          3715,
          1857,
          928,
          464,
          232,
          116,
          58,
          29,
          14,
          7,
          3
         ],
         "xaxis": "x",
         "y": [
          8.779,
          10.604,
          6.292,
          4.858,
          8.011,
          12.802,
          27.884,
          42.956,
          49.469,
          51.659,
          56.569,
          45.324
         ],
         "yaxis": "y"
        },
        {
         "line": {
          "color": "#636EFA"
         },
         "name": "sorted-vector",
         "type": "scatter",
         "x": [
          7430,
          3715,
          1857,
          928,
          464,
          232,
          116,
          58,
          29,
          14,
          7,
          3
         ],
         "xaxis": "x",
         "y": [
          7.993,
          9.307,
          5.92,
          5.06,
          7.088,
          15.431,
          30.389,
          43.871,
          48.58,
          51.865,
          49.291,
          54.462
         ],
         "yaxis": "y"
        },
        {
         "line": {
          "color": "#EF553B"
         },
         "marker": {
          "symbol": "x"
         },
         "name": "Pst",
         "showlegend": false,
         "type": "scatter",
         "x": [
          7430,
          3715,
          1857,
          928,
          464,
          232,
          116,
          58,
          29,
          14,
          7,
          3
         ],
         "xaxis": "x2",
         "y": [
          52.312,
          50.404,
          46.022,
          39.707,
          23.433,
          9.419,
          9.274,
          6.87,
          16.564,
          19.545,
          30.079,
          26.883
         ],
         "yaxis": "y2"
        },
        {
         "line": {
          "color": "#FECB52"
         },
         "marker": {
          "symbol": "square"
         },
         "name": "hashmap",
         "showlegend": false,
         "type": "scatter",
         "x": [
          7430,
          3715,
          1857,
          928,
          464,
          232,
          116,
          58,
          29,
          14,
          7,
          3
         ],
         "xaxis": "x2",
         "y": [
          22.104,
          19.479,
          18.964,
          14.586,
          12.847,
          12.663,
          20.025,
          43.119,
          48.794,
          55.538,
          52.874,
          49.449
         ],
         "yaxis": "y2"
        },
        {
         "line": {
          "color": "#00CC96"
         },
         "marker": {
          "symbol": "diamond"
         },
         "name": "combo",
         "showlegend": false,
         "type": "scatter",
         "x": [
          7430,
          3715,
          1857,
          928,
          464,
          232,
          116,
          58,
          29,
          14,
          7,
          3
         ],
         "xaxis": "x2",
         "y": [
          12.219,
          11.52,
          9.787,
          7.068,
          6.778,
          8.561,
          20.355,
          41.01,
          49.607,
          49.681,
          55.523,
          50.237
         ],
         "yaxis": "y2"
        },
        {
         "line": {
          "color": "#636EFA"
         },
         "name": "sorted-vector",
         "showlegend": false,
         "type": "scatter",
         "x": [
          7430,
          3715,
          1857,
          928,
          464,
          232,
          116,
          58,
          29,
          14,
          7,
          3
         ],
         "xaxis": "x2",
         "y": [
          12.354,
          11.987,
          9.181,
          7.53,
          6.519,
          9.098,
          22.035,
          41.615,
          47.414,
          53.178,
          50.692,
          52.52
         ],
         "yaxis": "y2"
        },
        {
         "line": {
          "color": "#EF553B"
         },
         "marker": {
          "symbol": "x"
         },
         "name": "Pst",
         "showlegend": false,
         "type": "scatter",
         "x": [
          8.913281137711804,
          8.220133957151859,
          7.526717561352706,
          6.833031732786201,
          6.139884552226255,
          5.44673737166631,
          4.7535901911063645,
          4.060443010546419,
          3.367295829986474,
          2.6390573296152584,
          1.9459101490553132,
          1.0986122886681098
         ],
         "xaxis": "x3",
         "y": [
          36.555,
          35.328,
          34.012,
          31.94,
          28.285,
          16.825,
          11.023,
          12.133,
          13.442,
          21.238,
          17.699,
          19.999
         ],
         "yaxis": "y3"
        },
        {
         "line": {
          "color": "#FECB52"
         },
         "marker": {
          "symbol": "square"
         },
         "name": "hashmap",
         "showlegend": false,
         "type": "scatter",
         "x": [
          8.913281137711804,
          8.220133957151859,
          7.526717561352706,
          6.833031732786201,
          6.139884552226255,
          5.44673737166631,
          4.7535901911063645,
          4.060443010546419,
          3.367295829986474,
          2.6390573296152584,
          1.9459101490553132,
          1.0986122886681098
         ],
         "xaxis": "x3",
         "y": [
          34.204,
          31.558,
          29.907,
          28.458,
          25.196,
          19.274,
          18.711,
          28.093,
          49.732,
          51.97,
          56.034,
          53.595
         ],
         "yaxis": "y3"
        },
        {
         "line": {
          "color": "#00CC96"
         },
         "marker": {
          "symbol": "diamond"
         },
         "name": "combo",
         "showlegend": false,
         "type": "scatter",
         "x": [
          8.913281137711804,
          8.220133957151859,
          7.526717561352706,
          6.833031732786201,
          6.139884552226255,
          5.44673737166631,
          4.7535901911063645,
          4.060443010546419,
          3.367295829986474,
          2.6390573296152584,
          1.9459101490553132,
          1.0986122886681098
         ],
         "xaxis": "x3",
         "y": [
          21.638,
          20.343,
          19.609,
          16.699,
          12.887,
          9.892,
          13.165,
          26.085,
          51.365,
          58.107,
          56.631,
          49.626
         ],
         "yaxis": "y3"
        },
        {
         "line": {
          "color": "#636EFA"
         },
         "name": "sorted-vector",
         "showlegend": false,
         "type": "scatter",
         "x": [
          8.913281137711804,
          8.220133957151859,
          7.526717561352706,
          6.833031732786201,
          6.139884552226255,
          5.44673737166631,
          4.7535901911063645,
          4.060443010546419,
          3.367295829986474,
          2.6390573296152584,
          1.9459101490553132,
          1.0986122886681098
         ],
         "xaxis": "x3",
         "y": [
          21.694,
          21.27,
          19.065,
          16.746,
          14.867,
          10.21,
          11.788,
          24.251,
          50.652,
          54.208,
          54.97,
          55.949
         ],
         "yaxis": "y3"
        }
       ],
       "layout": {
        "annotations": [
         {
          "font": {
           "size": 24
          },
          "showarrow": false,
          "text": "Small",
          "x": 0.5,
          "xanchor": "center",
          "xref": "paper",
          "y": 1,
          "yanchor": "bottom",
          "yref": "paper"
         },
         {
          "font": {
           "size": 24
          },
          "showarrow": false,
          "text": "Medium",
          "x": 0.5,
          "xanchor": "center",
          "xref": "paper",
          "y": 0.6399999999999999,
          "yanchor": "bottom",
          "yref": "paper"
         },
         {
          "font": {
           "size": 24
          },
          "showarrow": false,
          "text": "Large",
          "x": 0.5,
          "xanchor": "center",
          "xref": "paper",
          "y": 0.27999999999999997,
          "yanchor": "bottom",
          "yref": "paper"
         },
         {
          "font": {
           "size": 28
          },
          "showarrow": false,
          "text": "Amount of VLMCs",
          "x": 0.5,
          "xanchor": "center",
          "xref": "paper",
          "y": 0,
          "yanchor": "top",
          "yref": "paper",
          "yshift": -30
         },
         {
          "font": {
           "size": 28
          },
          "showarrow": false,
          "text": "Cache misses (%)",
          "textangle": -90,
          "x": 0,
          "xanchor": "right",
          "xref": "paper",
          "xshift": -40,
          "y": 0.5,
          "yanchor": "middle",
          "yref": "paper"
         }
        ],
        "height": 800,
        "legend": {
         "orientation": "h",
         "y": 1.08,
         "yanchor": "bottom"
        },
        "margin": {
         "b": 80,
         "l": 100,
         "r": 60,
         "t": 60
        },
        "plot_bgcolor": "white",
        "template": {
         "data": {
          "bar": [
           {
            "error_x": {
             "color": "#2a3f5f"
            },
            "error_y": {
             "color": "#2a3f5f"
            },
            "marker": {
             "line": {
              "color": "#E5ECF6",
              "width": 0.5
             },
             "pattern": {
              "fillmode": "overlay",
              "size": 10,
              "solidity": 0.2
             }
            },
            "type": "bar"
           }
          ],
          "barpolar": [
           {
            "marker": {
             "line": {
              "color": "#E5ECF6",
              "width": 0.5
             },
             "pattern": {
              "fillmode": "overlay",
              "size": 10,
              "solidity": 0.2
             }
            },
            "type": "barpolar"
           }
          ],
          "carpet": [
           {
            "aaxis": {
             "endlinecolor": "#2a3f5f",
             "gridcolor": "white",
             "linecolor": "white",
             "minorgridcolor": "white",
             "startlinecolor": "#2a3f5f"
            },
            "baxis": {
             "endlinecolor": "#2a3f5f",
             "gridcolor": "white",
             "linecolor": "white",
             "minorgridcolor": "white",
             "startlinecolor": "#2a3f5f"
            },
            "type": "carpet"
           }
          ],
          "choropleth": [
           {
            "colorbar": {
             "outlinewidth": 0,
             "ticks": ""
            },
            "type": "choropleth"
           }
          ],
          "contour": [
           {
            "colorbar": {
             "outlinewidth": 0,
             "ticks": ""
            },
            "colorscale": [
             [
              0,
              "#0d0887"
             ],
             [
              0.1111111111111111,
              "#46039f"
             ],
             [
              0.2222222222222222,
              "#7201a8"
             ],
             [
              0.3333333333333333,
              "#9c179e"
             ],
             [
              0.4444444444444444,
              "#bd3786"
             ],
             [
              0.5555555555555556,
              "#d8576b"
             ],
             [
              0.6666666666666666,
              "#ed7953"
             ],
             [
              0.7777777777777778,
              "#fb9f3a"
             ],
             [
              0.8888888888888888,
              "#fdca26"
             ],
             [
              1,
              "#f0f921"
             ]
            ],
            "type": "contour"
           }
          ],
          "contourcarpet": [
           {
            "colorbar": {
             "outlinewidth": 0,
             "ticks": ""
            },
            "type": "contourcarpet"
           }
          ],
          "heatmap": [
           {
            "colorbar": {
             "outlinewidth": 0,
             "ticks": ""
            },
            "colorscale": [
             [
              0,
              "#0d0887"
             ],
             [
              0.1111111111111111,
              "#46039f"
             ],
             [
              0.2222222222222222,
              "#7201a8"
             ],
             [
              0.3333333333333333,
              "#9c179e"
             ],
             [
              0.4444444444444444,
              "#bd3786"
             ],
             [
              0.5555555555555556,
              "#d8576b"
             ],
             [
              0.6666666666666666,
              "#ed7953"
             ],
             [
              0.7777777777777778,
              "#fb9f3a"
             ],
             [
              0.8888888888888888,
              "#fdca26"
             ],
             [
              1,
              "#f0f921"
             ]
            ],
            "type": "heatmap"
           }
          ],
          "heatmapgl": [
           {
            "colorbar": {
             "outlinewidth": 0,
             "ticks": ""
            },
            "colorscale": [
             [
              0,
              "#0d0887"
             ],
             [
              0.1111111111111111,
              "#46039f"
             ],
             [
              0.2222222222222222,
              "#7201a8"
             ],
             [
              0.3333333333333333,
              "#9c179e"
             ],
             [
              0.4444444444444444,
              "#bd3786"
             ],
             [
              0.5555555555555556,
              "#d8576b"
             ],
             [
              0.6666666666666666,
              "#ed7953"
             ],
             [
              0.7777777777777778,
              "#fb9f3a"
             ],
             [
              0.8888888888888888,
              "#fdca26"
             ],
             [
              1,
              "#f0f921"
             ]
            ],
            "type": "heatmapgl"
           }
          ],
          "histogram": [
           {
            "marker": {
             "pattern": {
              "fillmode": "overlay",
              "size": 10,
              "solidity": 0.2
             }
            },
            "type": "histogram"
           }
          ],
          "histogram2d": [
           {
            "colorbar": {
             "outlinewidth": 0,
             "ticks": ""
            },
            "colorscale": [
             [
              0,
              "#0d0887"
             ],
             [
              0.1111111111111111,
              "#46039f"
             ],
             [
              0.2222222222222222,
              "#7201a8"
             ],
             [
              0.3333333333333333,
              "#9c179e"
             ],
             [
              0.4444444444444444,
              "#bd3786"
             ],
             [
              0.5555555555555556,
              "#d8576b"
             ],
             [
              0.6666666666666666,
              "#ed7953"
             ],
             [
              0.7777777777777778,
              "#fb9f3a"
             ],
             [
              0.8888888888888888,
              "#fdca26"
             ],
             [
              1,
              "#f0f921"
             ]
            ],
            "type": "histogram2d"
           }
          ],
          "histogram2dcontour": [
           {
            "colorbar": {
             "outlinewidth": 0,
             "ticks": ""
            },
            "colorscale": [
             [
              0,
              "#0d0887"
             ],
             [
              0.1111111111111111,
              "#46039f"
             ],
             [
              0.2222222222222222,
              "#7201a8"
             ],
             [
              0.3333333333333333,
              "#9c179e"
             ],
             [
              0.4444444444444444,
              "#bd3786"
             ],
             [
              0.5555555555555556,
              "#d8576b"
             ],
             [
              0.6666666666666666,
              "#ed7953"
             ],
             [
              0.7777777777777778,
              "#fb9f3a"
             ],
             [
              0.8888888888888888,
              "#fdca26"
             ],
             [
              1,
              "#f0f921"
             ]
            ],
            "type": "histogram2dcontour"
           }
          ],
          "mesh3d": [
           {
            "colorbar": {
             "outlinewidth": 0,
             "ticks": ""
            },
            "type": "mesh3d"
           }
          ],
          "parcoords": [
           {
            "line": {
             "colorbar": {
              "outlinewidth": 0,
              "ticks": ""
             }
            },
            "type": "parcoords"
           }
          ],
          "pie": [
           {
            "automargin": true,
            "type": "pie"
           }
          ],
          "scatter": [
           {
            "fillpattern": {
             "fillmode": "overlay",
             "size": 10,
             "solidity": 0.2
            },
            "type": "scatter"
           }
          ],
          "scatter3d": [
           {
            "line": {
             "colorbar": {
              "outlinewidth": 0,
              "ticks": ""
             }
            },
            "marker": {
             "colorbar": {
              "outlinewidth": 0,
              "ticks": ""
             }
            },
            "type": "scatter3d"
           }
          ],
          "scattercarpet": [
           {
            "marker": {
             "colorbar": {
              "outlinewidth": 0,
              "ticks": ""
             }
            },
            "type": "scattercarpet"
           }
          ],
          "scattergeo": [
           {
            "marker": {
             "colorbar": {
              "outlinewidth": 0,
              "ticks": ""
             }
            },
            "type": "scattergeo"
           }
          ],
          "scattergl": [
           {
            "marker": {
             "colorbar": {
              "outlinewidth": 0,
              "ticks": ""
             }
            },
            "type": "scattergl"
           }
          ],
          "scattermapbox": [
           {
            "marker": {
             "colorbar": {
              "outlinewidth": 0,
              "ticks": ""
             }
            },
            "type": "scattermapbox"
           }
          ],
          "scatterpolar": [
           {
            "marker": {
             "colorbar": {
              "outlinewidth": 0,
              "ticks": ""
             }
            },
            "type": "scatterpolar"
           }
          ],
          "scatterpolargl": [
           {
            "marker": {
             "colorbar": {
              "outlinewidth": 0,
              "ticks": ""
             }
            },
            "type": "scatterpolargl"
           }
          ],
          "scatterternary": [
           {
            "marker": {
             "colorbar": {
              "outlinewidth": 0,
              "ticks": ""
             }
            },
            "type": "scatterternary"
           }
          ],
          "surface": [
           {
            "colorbar": {
             "outlinewidth": 0,
             "ticks": ""
            },
            "colorscale": [
             [
              0,
              "#0d0887"
             ],
             [
              0.1111111111111111,
              "#46039f"
             ],
             [
              0.2222222222222222,
              "#7201a8"
             ],
             [
              0.3333333333333333,
              "#9c179e"
             ],
             [
              0.4444444444444444,
              "#bd3786"
             ],
             [
              0.5555555555555556,
              "#d8576b"
             ],
             [
              0.6666666666666666,
              "#ed7953"
             ],
             [
              0.7777777777777778,
              "#fb9f3a"
             ],
             [
              0.8888888888888888,
              "#fdca26"
             ],
             [
              1,
              "#f0f921"
             ]
            ],
            "type": "surface"
           }
          ],
          "table": [
           {
            "cells": {
             "fill": {
              "color": "#EBF0F8"
             },
             "line": {
              "color": "white"
             }
            },
            "header": {
             "fill": {
              "color": "#C8D4E3"
             },
             "line": {
              "color": "white"
             }
            },
            "type": "table"
           }
          ]
         },
         "layout": {
          "annotationdefaults": {
           "arrowcolor": "#2a3f5f",
           "arrowhead": 0,
           "arrowwidth": 1
          },
          "autotypenumbers": "strict",
          "coloraxis": {
           "colorbar": {
            "outlinewidth": 0,
            "ticks": ""
           }
          },
          "colorscale": {
           "diverging": [
            [
             0,
             "#8e0152"
            ],
            [
             0.1,
             "#c51b7d"
            ],
            [
             0.2,
             "#de77ae"
            ],
            [
             0.3,
             "#f1b6da"
            ],
            [
             0.4,
             "#fde0ef"
            ],
            [
             0.5,
             "#f7f7f7"
            ],
            [
             0.6,
             "#e6f5d0"
            ],
            [
             0.7,
             "#b8e186"
            ],
            [
             0.8,
             "#7fbc41"
            ],
            [
             0.9,
             "#4d9221"
            ],
            [
             1,
             "#276419"
            ]
           ],
           "sequential": [
            [
             0,
             "#0d0887"
            ],
            [
             0.1111111111111111,
             "#46039f"
            ],
            [
             0.2222222222222222,
             "#7201a8"
            ],
            [
             0.3333333333333333,
             "#9c179e"
            ],
            [
             0.4444444444444444,
             "#bd3786"
            ],
            [
             0.5555555555555556,
             "#d8576b"
            ],
            [
             0.6666666666666666,
             "#ed7953"
            ],
            [
             0.7777777777777778,
             "#fb9f3a"
            ],
            [
             0.8888888888888888,
             "#fdca26"
            ],
            [
             1,
             "#f0f921"
            ]
           ],
           "sequentialminus": [
            [
             0,
             "#0d0887"
            ],
            [
             0.1111111111111111,
             "#46039f"
            ],
            [
             0.2222222222222222,
             "#7201a8"
            ],
            [
             0.3333333333333333,
             "#9c179e"
            ],
            [
             0.4444444444444444,
             "#bd3786"
            ],
            [
             0.5555555555555556,
             "#d8576b"
            ],
            [
             0.6666666666666666,
             "#ed7953"
            ],
            [
             0.7777777777777778,
             "#fb9f3a"
            ],
            [
             0.8888888888888888,
             "#fdca26"
            ],
            [
             1,
             "#f0f921"
            ]
           ]
          },
          "colorway": [
           "#636efa",
           "#EF553B",
           "#00cc96",
           "#ab63fa",
           "#FFA15A",
           "#19d3f3",
           "#FF6692",
           "#B6E880",
           "#FF97FF",
           "#FECB52"
          ],
          "font": {
           "color": "#2a3f5f"
          },
          "geo": {
           "bgcolor": "white",
           "lakecolor": "white",
           "landcolor": "#E5ECF6",
           "showlakes": true,
           "showland": true,
           "subunitcolor": "white"
          },
          "hoverlabel": {
           "align": "left"
          },
          "hovermode": "closest",
          "mapbox": {
           "style": "light"
          },
          "paper_bgcolor": "white",
          "plot_bgcolor": "#E5ECF6",
          "polar": {
           "angularaxis": {
            "gridcolor": "white",
            "linecolor": "white",
            "ticks": ""
           },
           "bgcolor": "#E5ECF6",
           "radialaxis": {
            "gridcolor": "white",
            "linecolor": "white",
            "ticks": ""
           }
          },
          "scene": {
           "xaxis": {
            "backgroundcolor": "#E5ECF6",
            "gridcolor": "white",
            "gridwidth": 2,
            "linecolor": "white",
            "showbackground": true,
            "ticks": "",
            "zerolinecolor": "white"
           },
           "yaxis": {
            "backgroundcolor": "#E5ECF6",
            "gridcolor": "white",
            "gridwidth": 2,
            "linecolor": "white",
            "showbackground": true,
            "ticks": "",
            "zerolinecolor": "white"
           },
           "zaxis": {
            "backgroundcolor": "#E5ECF6",
            "gridcolor": "white",
            "gridwidth": 2,
            "linecolor": "white",
            "showbackground": true,
            "ticks": "",
            "zerolinecolor": "white"
           }
          },
          "shapedefaults": {
           "line": {
            "color": "#2a3f5f"
           }
          },
          "ternary": {
           "aaxis": {
            "gridcolor": "white",
            "linecolor": "white",
            "ticks": ""
           },
           "baxis": {
            "gridcolor": "white",
            "linecolor": "white",
            "ticks": ""
           },
           "bgcolor": "#E5ECF6",
           "caxis": {
            "gridcolor": "white",
            "linecolor": "white",
            "ticks": ""
           }
          },
          "title": {
           "x": 0.05
          },
          "xaxis": {
           "automargin": true,
           "gridcolor": "white",
           "linecolor": "white",
           "ticks": "",
           "title": {
            "standoff": 15
           },
           "zerolinecolor": "white",
           "zerolinewidth": 2
          },
          "yaxis": {
           "automargin": true,
           "gridcolor": "white",
           "linecolor": "white",
           "ticks": "",
           "title": {
            "standoff": 15
           },
           "zerolinecolor": "white",
           "zerolinewidth": 2
          }
         }
        },
        "xaxis": {
         "anchor": "y",
         "domain": [
          0,
          1
         ],
         "gridcolor": "LightGrey",
         "linecolor": "LightGrey",
         "linewidth": 1,
         "showline": true,
         "tickvals": [
          7430,
          3715,
          1857,
          928,
          464,
          232,
          116,
          58,
          29,
          14,
          7,
          3
         ]
        },
        "xaxis2": {
         "anchor": "y2",
         "domain": [
          0,
          1
         ],
         "gridcolor": "LightGrey",
         "linecolor": "LightGrey",
         "linewidth": 1,
         "showline": true,
         "tickvals": [
          7430,
          3715,
          1857,
          928,
          464,
          232,
          116,
          58,
          29,
          14,
          7,
          3
         ]
        },
        "xaxis3": {
         "anchor": "y3",
         "domain": [
          0,
          1
         ],
         "gridcolor": "LightGrey",
         "linecolor": "LightGrey",
         "linewidth": 1,
         "showline": true,
         "tickvals": [
          8.913281137711804,
          8.220133957151859,
          7.526717561352706,
          6.833031732786201,
          6.139884552226255,
          5.44673737166631,
          4.7535901911063645,
          4.060443010546419,
          3.367295829986474,
          2.6390573296152584,
          1.9459101490553132,
          1.0986122886681098
         ]
        },
        "yaxis": {
         "anchor": "x",
         "domain": [
          0.72,
          1
         ],
         "gridcolor": "LightGrey",
         "linecolor": "LightGrey",
         "linewidth": 1,
         "showline": true
        },
        "yaxis2": {
         "anchor": "x2",
         "domain": [
          0.36,
          0.6399999999999999
         ],
         "gridcolor": "LightGrey",
         "linecolor": "LightGrey",
         "linewidth": 1,
         "showline": true
        },
        "yaxis3": {
         "anchor": "x3",
         "domain": [
          0,
          0.27999999999999997
         ],
         "gridcolor": "LightGrey",
         "linecolor": "LightGrey",
         "linewidth": 1,
         "showline": true
        }
       }
      }
     },
     "metadata": {},
     "output_type": "display_data"
    }
   ],
   "source": [
    "df_sv = pd.read_csv('csv_results/sorted-vector_ecoli_03_20_12_30.csv')\n",
    "df_hm = pd.read_csv('csv_results/hashmap_ecoli_03_20_12_32.csv')\n",
    "df_co = pd.read_csv('csv_results/combo_ecoli_03_20_12_51.csv')\n",
    "df_pst = pd.read_csv('csv_results/ecoli_03_16_09_44.csv')\n",
    "\n",
    "fig = make_subplots(rows=3, cols=1, shared_yaxes=False, \n",
    "                    x_title=\"Amount of VLMCs\",\n",
    "                    y_title=\"Cache misses (%)\",\n",
    "                    subplot_titles=(\"Small\", \"Medium\", \"Large\"), \n",
    "                    horizontal_spacing= 0.02, vertical_spacing= 0.08) # specs=[[{}, {}],[{\"colspan\": 2}, None]])\n",
    "\n",
    "fig.add_trace(go.Scatter(x=df_pst[df_pst.vlmc_size=='small']['set_size'], y=df_pst[df_pst.vlmc_size=='small']['cache_misses'], line_color='#EF553B', name=\"Pst\", marker_symbol='x'), 1, 1)\n",
    "fig.add_trace(go.Scatter(x=df_hm[df_hm.vlmc_size=='small']['set_size'], y=df_hm[df_hm.vlmc_size=='small']['cache_misses'], line_color='#FECB52', name=\"hashmap\", marker_symbol='square'), 1, 1)\n",
    "fig.add_trace(go.Scatter(x=df_co[df_co.vlmc_size=='small']['set_size'], y=df_co[df_co.vlmc_size=='small']['cache_misses'], line_color='#00CC96', name=\"combo\", marker_symbol='diamond'), 1, 1)\n",
    "fig.add_trace(go.Scatter(x=df_sv[df_sv.vlmc_size=='small']['set_size'], y=df_sv[df_sv.vlmc_size=='small']['cache_misses'], line_color='#636EFA', name=\"sorted-vector\"), 1, 1)\n",
    "\n",
    "fig.add_trace(go.Scatter(x=df_pst[df_pst.vlmc_size=='medium']['set_size'], y=df_pst[df_pst.vlmc_size=='medium']['cache_misses'], line_color='#EF553B', name=\"Pst\", marker_symbol='x', showlegend = False), 2, 1)\n",
    "fig.add_trace(go.Scatter(x=df_hm[df_hm.vlmc_size=='medium']['set_size'], y=df_hm[df_hm.vlmc_size=='medium']['cache_misses'], line_color='#FECB52', name=\"hashmap\", marker_symbol='square', showlegend = False), 2, 1)\n",
    "fig.add_trace(go.Scatter(x=df_co[df_co.vlmc_size=='medium']['set_size'], y=df_co[df_co.vlmc_size=='medium']['cache_misses'], line_color='#00CC96', name=\"combo\", marker_symbol='diamond', showlegend = False), 2, 1)\n",
    "fig.add_trace(go.Scatter(x=df_sv[df_sv.vlmc_size=='medium']['set_size'], y=df_sv[df_sv.vlmc_size=='medium']['cache_misses'], line_color='#636EFA', name=\"sorted-vector\", showlegend = False), 2, 1)\n",
    "\n",
    "fig.add_trace(go.Scatter(x=df_pst[df_pst.vlmc_size=='large']['set_size'].apply(log), y=df_pst[df_pst.vlmc_size=='large']['cache_misses'], line_color='#EF553B', name=\"Pst\", marker_symbol='x', showlegend = False), 3, 1)\n",
    "fig.add_trace(go.Scatter(x=df_hm[df_hm.vlmc_size=='large']['set_size'].apply(log), y=df_hm[df_hm.vlmc_size=='large']['cache_misses'], line_color='#FECB52', name=\"hashmap\", marker_symbol='square', showlegend = False), 3, 1)\n",
    "fig.add_trace(go.Scatter(x=df_co[df_co.vlmc_size=='large']['set_size'].apply(log), y=df_co[df_co.vlmc_size=='large']['cache_misses'], line_color='#00CC96', name=\"combo\", marker_symbol='diamond', showlegend = False), 3, 1)\n",
    "fig.add_trace(go.Scatter(x=df_sv[df_sv.vlmc_size=='large']['set_size'].apply(log), y=df_sv[df_sv.vlmc_size=='large']['cache_misses'], line_color='#636EFA', name=\"sorted-vector\", showlegend = False), 3, 1)\n",
    "\n",
    "\n",
    "fig.update_layout(legend=dict(\n",
    "    orientation=\"h\",\n",
    "    yanchor=\"bottom\",\n",
    "    y=1.08),\n",
    "    margin=dict(l=100, r=60, t=60, b=80),\n",
    "    height=800,\n",
    "    plot_bgcolor=\"white\")\n",
    "\n",
    "fig.update_xaxes(gridcolor='LightGrey', row=1, col=1)\n",
    "fig.update_yaxes(gridcolor='LightGrey', row=1, col=1)\n",
    "# fig.update_yaxes(tickvals=[0, 0.1, 0.2, 0.3, 0.4, 0.5], row=1, col=1)\n",
    "fig.update_xaxes(tickvals=list(df_sv[df_sv.vlmc_size=='small']['set_size']), row=1, col=1)\n",
    "fig.update_xaxes(showline=True, linewidth=1, linecolor='LightGrey', row=1, col=1)\n",
    "fig.update_yaxes(showline=True, linewidth=1, linecolor='LightGrey', row=1, col=1)\n",
    "\n",
    "fig.update_xaxes(gridcolor='LightGrey', row=2, col=1)\n",
    "fig.update_yaxes(gridcolor='LightGrey', row=2, col=1)\n",
    "# fig.update_yaxes(tickvals=[0, 1, 2, 3, 4, 5], row=2, col=1)\n",
    "fig.update_xaxes(tickvals=list(df_sv[df_sv.vlmc_size=='small']['set_size']), row=2, col=1)\n",
    "fig.update_xaxes(showline=True, linewidth=1, linecolor='LightGrey', row=2, col=1)\n",
    "fig.update_yaxes(showline=True, linewidth=1, linecolor='LightGrey', row=2, col=1)\n",
    "\n",
    "fig.update_xaxes(gridcolor='LightGrey', row=3, col=1)\n",
    "fig.update_yaxes(gridcolor='LightGrey', row=3, col=1)\n",
    "# fig.update_yaxes(tickvals=[0, 5, 10, 15, 20, 25, 30], row=3, col=1)\n",
    "fig.update_xaxes(tickvals=[ log(x) for x in list(df_sv[df_sv.vlmc_size=='small']['set_size'])], row=3, col=1)\n",
    "fig.update_xaxes(showline=True, linewidth=1, linecolor='LightGrey', row=3, col=1)\n",
    "fig.update_yaxes(showline=True, linewidth=1, linecolor='LightGrey', row=3, col=1)\n",
    "\n",
    "fig.layout.annotations[0][\"font\"] = {'size': 24}\n",
    "fig.layout.annotations[1][\"font\"] = {'size': 24}\n",
    "fig.layout.annotations[2][\"font\"] = {'size': 24}\n",
    "\n",
    "fig.layout.annotations[3][\"font\"] = {'size': 28}\n",
    "fig.layout.annotations[4][\"font\"] = {'size': 28}\n",
    "fig.show()\n",
    "fig.write_image(\"images/ecoli_cache_misses.pdf\")"
   ]
  },
  {
   "cell_type": "code",
   "execution_count": null,
   "metadata": {},
   "outputs": [],
   "source": [
    "df = pd.read_csv('csv_results/03_15_11_44.csv')\n",
    "df_sv = pd.read_csv('csv_results/sorted-vector_human_03_20_12_09.csv')\n",
    "df_hm = pd.read_csv('csv_results/hashmap_human_03_20_12_10.csv')\n",
    "df_co = pd.read_csv('csv_results/combo_human_03_20_12_10.csv')\n",
    "df_pst = df[df.implementation=='PstClassifierSeqan']\n",
    "fig = go.Figure()\n",
    "\n",
    "df_sv['misses_per_instruction'] = (df_sv.cache_misses_count * 100) / df_sv.instructions_count\n",
    "df_pst['misses_per_instruction'] = (df_pst.cache_misses_count * 100) / df_pst.instructions_count\n",
    "\n",
    "for vlmc_size in ['small', 'medium', 'large']:\n",
    "  fig.add_trace(go.Scatter(x=df_pst[df_pst.vlmc_size==vlmc_size]['set_size'], y=df_pst[df_pst.vlmc_size==vlmc_size]['misses_per_instruction'], name=\"PstClassifierSeqan \" + vlmc_size, marker_symbol='x'))\n",
    "  fig.add_trace(go.Scatter(x=df_sv[df_sv.vlmc_size==vlmc_size]['set_size'], y=df_sv[df_sv.vlmc_size==vlmc_size]['misses_per_instruction'], name=\"Sorted-vector \" + vlmc_size))\n",
    " \n",
    "fig.update_layout(title=\"Cache-misses per instruction compared to amount of VLMCs compared (E-coli dataset)\", yaxis_title=\"Cache-misses per instruction (%)\", xaxis_title=\"Size of directory of VLMCs\")\n",
    "\n",
    "fig.show()"
   ]
  },
  {
   "attachments": {},
   "cell_type": "markdown",
   "metadata": {},
   "source": [
    "# <b>Comparison of vlmc container </b>"
   ]
  },
  {
   "cell_type": "code",
   "execution_count": null,
   "metadata": {},
   "outputs": [],
   "source": [
    "df_sv = pd.read_csv('csv_results/sorted-vector_human_03_20_12_09.csv')\n",
    "df_hm = pd.read_csv('csv_results/hashmap_human_03_20_12_10.csv')\n",
    "df_co = pd.read_csv('csv_results/combo_human_03_20_12_10.csv')\n",
    "\n",
    "fig = go.Figure()\n",
    "vlmc_size = 'small'\n",
    "fig.add_trace(go.Scatter(x=df_sv[df_sv.vlmc_size==vlmc_size]['set_size'], y=df_sv[df_sv.vlmc_size==vlmc_size]['elapsed_time'], name=\"sorted-vector \" + vlmc_size))\n",
    "fig.add_trace(go.Scatter(x=df_hm[df_hm.vlmc_size==vlmc_size]['set_size'], y=df_hm[df_hm.vlmc_size==vlmc_size]['elapsed_time'], name=\"hashmap \" + vlmc_size))\n",
    "fig.add_trace(go.Scatter(x=df_co[df_co.vlmc_size==vlmc_size]['set_size'], y=df_co[df_co.vlmc_size==vlmc_size]['elapsed_time'], name=\"combo \" + vlmc_size))\n",
    "fig.update_layout(title=\"Elapsed time compared to amount of VLMCs compared for different vlmc containers (dataset human small)\", yaxis_title=\"Elapsed time (sec)\", xaxis_title=\"Size of directory of VLMCs\")\n",
    "fig.show()\n",
    "\n",
    "fig = go.Figure()\n",
    "vlmc_size = 'medium'\n",
    "fig.add_trace(go.Scatter(x=df_sv[df_sv.vlmc_size==vlmc_size]['set_size'], y=df_sv[df_sv.vlmc_size==vlmc_size]['elapsed_time'], name=\"sorted-vector \" + vlmc_size))\n",
    "fig.add_trace(go.Scatter(x=df_hm[df_hm.vlmc_size==vlmc_size]['set_size'], y=df_hm[df_hm.vlmc_size==vlmc_size]['elapsed_time'], name=\"hashmap \" + vlmc_size))\n",
    "fig.add_trace(go.Scatter(x=df_co[df_co.vlmc_size==vlmc_size]['set_size'], y=df_co[df_co.vlmc_size==vlmc_size]['elapsed_time'], name=\"combo \" + vlmc_size))\n",
    "fig.update_layout(title=\"Elapsed time compared to amount of VLMCs compared for different vlmc containers (dataset human medium)\", yaxis_title=\"Elapsed time (sec)\", xaxis_title=\"Size of directory of VLMCs\")\n",
    "fig.show()\n",
    "\n",
    "fig = go.Figure()\n",
    "vlmc_size = 'large'\n",
    "fig.add_trace(go.Scatter(x=df_sv[df_sv.vlmc_size==vlmc_size]['set_size'], y=df_sv[df_sv.vlmc_size==vlmc_size]['elapsed_time'], name=\"sorted-vector \" + vlmc_size))\n",
    "fig.add_trace(go.Scatter(x=df_hm[df_hm.vlmc_size==vlmc_size]['set_size'], y=df_hm[df_hm.vlmc_size==vlmc_size]['elapsed_time'], name=\"hashmap \" + vlmc_size))\n",
    "fig.add_trace(go.Scatter(x=df_co[df_co.vlmc_size==vlmc_size]['set_size'], y=df_co[df_co.vlmc_size==vlmc_size]['elapsed_time'], name=\"combo \" + vlmc_size))\n",
    "fig.update_layout(title=\"Elapsed time compared to amount of VLMCs compared for different vlmc containers (dataset human large)\", yaxis_title=\"Elapsed time (sec)\", xaxis_title=\"Size of directory of VLMCs\")\n",
    "fig.show()"
   ]
  },
  {
   "cell_type": "code",
   "execution_count": null,
   "metadata": {},
   "outputs": [],
   "source": [
    "df_sv = pd.read_csv('csv_results/sorted-vector_human_03_20_12_09.csv')\n",
    "df_hm = pd.read_csv('csv_results/hashmap_human_03_20_12_10.csv')\n",
    "df_co = pd.read_csv('csv_results/combo_human_03_20_12_10.csv')\n",
    "\n",
    "fig = go.Figure()\n",
    "vlmc_size = 'small'\n",
    "fig.add_trace(go.Scatter(x=df_sv[df_sv.vlmc_size==vlmc_size]['set_size'], y=df_sv[df_sv.vlmc_size==vlmc_size]['cache_misses'], name=\"sorted-vector \" + vlmc_size))\n",
    "fig.add_trace(go.Scatter(x=df_hm[df_hm.vlmc_size==vlmc_size]['set_size'], y=df_hm[df_hm.vlmc_size==vlmc_size]['cache_misses'], name=\"hashmap \" + vlmc_size))\n",
    "fig.add_trace(go.Scatter(x=df_co[df_co.vlmc_size==vlmc_size]['set_size'], y=df_co[df_co.vlmc_size==vlmc_size]['cache_misses'], name=\"combo \" + vlmc_size))\n",
    "fig.update_layout(title=\"Elapsed time compared to amount of VLMCs compared for different vlmc containers (dataset human small)\", yaxis_title=\"Elapsed time (sec)\", xaxis_title=\"Size of directory of VLMCs\")\n",
    "fig.show()\n",
    "\n",
    "fig = go.Figure()\n",
    "vlmc_size = 'medium'\n",
    "fig.add_trace(go.Scatter(x=df_sv[df_sv.vlmc_size==vlmc_size]['set_size'], y=df_sv[df_sv.vlmc_size==vlmc_size]['cache_misses'], name=\"sorted-vector \" + vlmc_size))\n",
    "fig.add_trace(go.Scatter(x=df_hm[df_hm.vlmc_size==vlmc_size]['set_size'], y=df_hm[df_hm.vlmc_size==vlmc_size]['cache_misses'], name=\"hashmap \" + vlmc_size))\n",
    "fig.add_trace(go.Scatter(x=df_co[df_co.vlmc_size==vlmc_size]['set_size'], y=df_co[df_co.vlmc_size==vlmc_size]['cache_misses'], name=\"combo \" + vlmc_size))\n",
    "fig.update_layout(title=\"Elapsed time compared to amount of VLMCs compared for different vlmc containers (dataset human medium)\", yaxis_title=\"Elapsed time (sec)\", xaxis_title=\"Size of directory of VLMCs\")\n",
    "fig.show()\n",
    "\n",
    "fig = go.Figure()\n",
    "vlmc_size = 'large'\n",
    "fig.add_trace(go.Scatter(x=df_sv[df_sv.vlmc_size==vlmc_size]['set_size'], y=df_sv[df_sv.vlmc_size==vlmc_size]['cache_misses'], name=\"sorted-vector \" + vlmc_size))\n",
    "fig.add_trace(go.Scatter(x=df_hm[df_hm.vlmc_size==vlmc_size]['set_size'], y=df_hm[df_hm.vlmc_size==vlmc_size]['cache_misses'], name=\"hashmap \" + vlmc_size))\n",
    "fig.add_trace(go.Scatter(x=df_co[df_co.vlmc_size==vlmc_size]['set_size'], y=df_co[df_co.vlmc_size==vlmc_size]['cache_misses'], name=\"combo \" + vlmc_size))\n",
    "fig.update_layout(title=\"Elapsed time compared to amount of VLMCs compared for different vlmc containers (dataset human large)\", yaxis_title=\"Elapsed time (sec)\", xaxis_title=\"Size of directory of VLMCs\")\n",
    "fig.show()"
   ]
  },
  {
   "cell_type": "code",
   "execution_count": null,
   "metadata": {},
   "outputs": [],
   "source": [
    "df_sv = pd.read_csv('csv_results/sorted-vector_ecoli_03_20_12_30.csv')\n",
    "df_hm = pd.read_csv('csv_results/hashmap_ecoli_03_20_12_32.csv')\n",
    "df_co = pd.read_csv('csv_results/combo_ecoli_03_20_12_51.csv')\n",
    "\n",
    "fig = go.Figure()\n",
    "vlmc_size = 'small'\n",
    "fig.add_trace(go.Scatter(x=df_sv[df_sv.vlmc_size==vlmc_size]['set_size'], y=df_sv[df_sv.vlmc_size==vlmc_size]['elapsed_time'], name=\"sorted-vector \" + vlmc_size))\n",
    "fig.add_trace(go.Scatter(x=df_hm[df_hm.vlmc_size==vlmc_size]['set_size'], y=df_hm[df_hm.vlmc_size==vlmc_size]['elapsed_time'], name=\"hashmap \" + vlmc_size))\n",
    "fig.add_trace(go.Scatter(x=df_co[df_co.vlmc_size==vlmc_size]['set_size'], y=df_co[df_co.vlmc_size==vlmc_size]['elapsed_time'], name=\"combo \" + vlmc_size))\n",
    "fig.update_layout(title=\"Elapsed time compared to amount of VLMCs compared for different vlmc containers (E-coli dataset small)\", yaxis_title=\"Elapsed time (sec)\", xaxis_title=\"Size of directory of VLMCs\")\n",
    "fig.show()\n",
    "\n",
    "fig = go.Figure()\n",
    "vlmc_size = 'medium'\n",
    "fig.add_trace(go.Scatter(x=df_sv[df_sv.vlmc_size==vlmc_size]['set_size'], y=df_sv[df_sv.vlmc_size==vlmc_size]['elapsed_time'], name=\"sorted-vector \" + vlmc_size))\n",
    "fig.add_trace(go.Scatter(x=df_hm[df_hm.vlmc_size==vlmc_size]['set_size'], y=df_hm[df_hm.vlmc_size==vlmc_size]['elapsed_time'], name=\"hashmap \" + vlmc_size))\n",
    "fig.add_trace(go.Scatter(x=df_co[df_co.vlmc_size==vlmc_size]['set_size'], y=df_co[df_co.vlmc_size==vlmc_size]['elapsed_time'], name=\"combo \" + vlmc_size))\n",
    "fig.update_layout(title=\"Elapsed time compared to amount of VLMCs compared for different vlmc containers (E-coli dataset medium)\", yaxis_title=\"Elapsed time (sec)\", xaxis_title=\"Size of directory of VLMCs\")\n",
    "fig.show()\n",
    "\n",
    "fig = go.Figure()\n",
    "vlmc_size = 'large'\n",
    "fig.add_trace(go.Scatter(x=df_sv[df_sv.vlmc_size==vlmc_size]['set_size'], y=df_sv[df_sv.vlmc_size==vlmc_size]['elapsed_time'], name=\"sorted-vector \" + vlmc_size))\n",
    "fig.add_trace(go.Scatter(x=df_hm[df_hm.vlmc_size==vlmc_size]['set_size'], y=df_hm[df_hm.vlmc_size==vlmc_size]['elapsed_time'], name=\"hashmap \" + vlmc_size))\n",
    "fig.add_trace(go.Scatter(x=df_co[df_co.vlmc_size==vlmc_size]['set_size'], y=df_co[df_co.vlmc_size==vlmc_size]['elapsed_time'], name=\"combo \" + vlmc_size))\n",
    "fig.update_layout(title=\"Elapsed time compared to amount of VLMCs compared for different vlmc containers (E-coli dataset large)\", yaxis_title=\"Elapsed time (sec)\", xaxis_title=\"Size of directory of VLMCs\")\n",
    "fig.show()"
   ]
  },
  {
   "cell_type": "code",
   "execution_count": null,
   "metadata": {},
   "outputs": [],
   "source": [
    "df_sv = pd.read_csv('csv_results/sorted-vector_ecoli_03_20_12_30.csv')\n",
    "df_hm = pd.read_csv('csv_results/hashmap_ecoli_03_20_12_32.csv')\n",
    "df_co = pd.read_csv('csv_results/combo_ecoli_03_20_12_51.csv')\n",
    "\n",
    "fig = go.Figure()\n",
    "vlmc_size = 'small'\n",
    "fig.add_trace(go.Scatter(x=df_sv[df_sv.vlmc_size==vlmc_size]['set_size'], y=df_sv[df_sv.vlmc_size==vlmc_size]['cache_misses'], name=\"sorted-vector \" + vlmc_size))\n",
    "fig.add_trace(go.Scatter(x=df_hm[df_hm.vlmc_size==vlmc_size]['set_size'], y=df_hm[df_hm.vlmc_size==vlmc_size]['cache_misses'], name=\"hashmap \" + vlmc_size))\n",
    "fig.add_trace(go.Scatter(x=df_co[df_co.vlmc_size==vlmc_size]['set_size'], y=df_co[df_co.vlmc_size==vlmc_size]['cache_misses'], name=\"combo \" + vlmc_size))\n",
    "fig.update_layout(title=\"Cache-misses compared to amount of VLMCs compared for different vlmc containers (E-coli dataset small)\", yaxis_title=\"Cache-misses (%)\", xaxis_title=\"Size of directory of VLMCs\")\n",
    "fig.show()\n",
    "\n",
    "fig = go.Figure()\n",
    "vlmc_size = 'medium'\n",
    "fig.add_trace(go.Scatter(x=df_sv[df_sv.vlmc_size==vlmc_size]['set_size'], y=df_sv[df_sv.vlmc_size==vlmc_size]['cache_misses'], name=\"sorted-vector \" + vlmc_size))\n",
    "fig.add_trace(go.Scatter(x=df_hm[df_hm.vlmc_size==vlmc_size]['set_size'], y=df_hm[df_hm.vlmc_size==vlmc_size]['cache_misses'], name=\"hashmap \" + vlmc_size))\n",
    "fig.add_trace(go.Scatter(x=df_co[df_co.vlmc_size==vlmc_size]['set_size'], y=df_co[df_co.vlmc_size==vlmc_size]['cache_misses'], name=\"combo \" + vlmc_size))\n",
    "fig.update_layout(title=\"Cache-misses compared to amount of VLMCs compared for different vlmc containers (E-coli dataset medium)\", yaxis_title=\"Cache-misses (%)\", xaxis_title=\"Size of directory of VLMCs\")\n",
    "fig.show()\n",
    "\n",
    "fig = go.Figure()\n",
    "vlmc_size = 'large'\n",
    "fig.add_trace(go.Scatter(x=df_sv[df_sv.vlmc_size==vlmc_size]['set_size'], y=df_sv[df_sv.vlmc_size==vlmc_size]['cache_misses'], name=\"sorted-vector \" + vlmc_size))\n",
    "fig.add_trace(go.Scatter(x=df_hm[df_hm.vlmc_size==vlmc_size]['set_size'], y=df_hm[df_hm.vlmc_size==vlmc_size]['cache_misses'], name=\"hashmap \" + vlmc_size))\n",
    "fig.add_trace(go.Scatter(x=df_co[df_co.vlmc_size==vlmc_size]['set_size'], y=df_co[df_co.vlmc_size==vlmc_size]['cache_misses'], name=\"combo \" + vlmc_size))\n",
    "fig.update_layout(title=\"Cache-misses compared to amount of VLMCs compared for different vlmc containers (E-coli dataset large)\", yaxis_title=\"Cache-misses (%)\", xaxis_title=\"Size of directory of VLMCs\")\n",
    "fig.show()"
   ]
  },
  {
   "attachments": {},
   "cell_type": "markdown",
   "metadata": {},
   "source": [
    "# <b>Parameter Sweep for combo container </b>"
   ]
  },
  {
   "attachments": {},
   "cell_type": "markdown",
   "metadata": {},
   "source": [
    "## Human dataset"
   ]
  },
  {
   "cell_type": "code",
   "execution_count": null,
   "metadata": {},
   "outputs": [],
   "source": [
    "df = pd.read_csv('csv_results/parameter_sweep_human_03_20_10_33.csv')\n",
    "df['mean_elapsed_time'] = df.groupby(['vlmc_size', 'combo_init_size'])['elapsed_time'].transform('mean')\n",
    "df.sort_values('combo_init_size', inplace=True)\n",
    "fig = px.line(df, x='combo_init_size', y='mean_elapsed_time', color='vlmc_size')\n",
    "\n",
    "fig.update_layout(title=\"Elapsed time with different initial sizes for index by value vector\", yaxis_title=\"Elapsed time (sec)\", xaxis_title=\"Initial size for index by value vector\")\n",
    "\n",
    "fig.show()\n",
    "\n",
    "df.groupby('vlmc_size').mean_elapsed_time.min()"
   ]
  },
  {
   "cell_type": "code",
   "execution_count": null,
   "metadata": {},
   "outputs": [],
   "source": [
    "df = pd.read_csv('csv_results/parameter_sweep_ecoli_03_20_10_40.csv')\n",
    "df['mean_elapsed_time'] = df.groupby(['vlmc_size', 'combo_init_size'])['elapsed_time'].transform('mean')\n",
    "df.sort_values('combo_init_size', inplace=True)\n",
    "fig = px.line(df, x='combo_init_size', y='mean_elapsed_time', color='vlmc_size')\n",
    "\n",
    "fig.update_layout(title=\"Elapsed time with different initial sizes for index by value vector\", yaxis_title=\"Elapsed time (sec)\", xaxis_title=\"Initial size for index by value vector\")\n",
    "\n",
    "fig.show()\n",
    "\n",
    "df.groupby('vlmc_size').mean_elapsed_time.min()"
   ]
  },
  {
   "attachments": {},
   "cell_type": "markdown",
   "metadata": {},
   "source": [
    "# <b>Kmer distributions </b>"
   ]
  },
  {
   "attachments": {},
   "cell_type": "markdown",
   "metadata": {},
   "source": [
    "## Human dataset"
   ]
  },
  {
   "cell_type": "code",
   "execution_count": null,
   "metadata": {},
   "outputs": [],
   "source": [
    "df = pd.read_csv(\"./tmp/one_human_VLMCs_kmer-distribution.txt\", sep=\",\", header=None)\n",
    "\n",
    "fig = px.histogram(df)\n",
    "\n",
    "fig.show()"
   ]
  },
  {
   "attachments": {},
   "cell_type": "markdown",
   "metadata": {},
   "source": [
    "## E-coli dataset"
   ]
  },
  {
   "cell_type": "code",
   "execution_count": null,
   "metadata": {},
   "outputs": [],
   "source": [
    "df = pd.read_csv(\"./tmp/small_test_kmer-distribution.txt\", sep=\",\", header=None)\n",
    "\n",
    "fig = px.histogram(df)\n",
    "\n",
    "fig.show()"
   ]
  },
  {
   "cell_type": "code",
   "execution_count": null,
   "metadata": {},
   "outputs": [],
   "source": [
    "df = pd.read_csv(\"./tmp/one_human_VLMCs_kmer-distribution.txt\", sep=\",\", header=None)\n",
    "df.head(100)"
   ]
  },
  {
   "cell_type": "code",
   "execution_count": null,
   "metadata": {},
   "outputs": [],
   "source": [
    "df = pd.read_csv(\"./tmp/one_human_VLMCs_kmer-distribution.txt\", sep=\",\", header=None)\n",
    "df.columns = [\"integer_rep\"]\n",
    "\n",
    "fig = px.bar(df[df.index < 400], x=df[df.index < 400].index, y='integer_rep')\n",
    "fig.update_layout(yaxis_title=\"Integer representation\", xaxis_title=\"Index\")\n",
    "\n",
    "fig.show()"
   ]
  },
  {
   "cell_type": "code",
   "execution_count": null,
   "metadata": {},
   "outputs": [],
   "source": [
    "t = [35, 29, 21, 15, 34, 28, 20, 14, 33, 27, 19, 13, 32, 26, 18]\n",
    "t.reverse()\n",
    "print(t)"
   ]
  },
  {
   "cell_type": "code",
   "execution_count": null,
   "metadata": {},
   "outputs": [],
   "source": [
    "df = pd.read_csv(\"./tmp/one_vlmcs_kmer-distribution.txt\", sep=\",\", header=None)\n",
    "df.columns = [\"integer_rep\"]\n",
    "\n",
    "fig = px.bar(df[df.index < 100], x=df[df.index < 100].index, y='integer_rep')\n",
    "fig.update_layout(yaxis_title=\"Integer representation\", xaxis_title=\"Index\")\n",
    "\n",
    "fig.show()"
   ]
  },
  {
   "cell_type": "code",
   "execution_count": null,
   "metadata": {},
   "outputs": [],
   "source": [
    "df = pd.read_csv('csv_results/03_15_11_44.csv')\n",
    "df_sv_old = pd.read_csv('csv_results/sorted-vector_human_03_27_11_28.csv')\n",
    "df_sv_new = pd.read_csv('csv_results/sorted-vector_human_03_27_11_34.csv')\n",
    "df_sv_tmp = pd.read_csv('csv_results/sorted-vector_human_03_27_12_09.csv')\n",
    "df_pst = df[df.implementation=='PstClassifierSeqan']\n",
    "\n",
    "df_sv_old['mean_elapsed_time'] = df_sv_old.groupby(['vlmc_size', 'set_size'])['cache_misses'].transform('mean')\n",
    "df_sv_new['mean_elapsed_time'] = df_sv_new.groupby(['vlmc_size', 'set_size'])['cache_misses'].transform('mean')\n",
    "df_sv_tmp['mean_elapsed_time'] = df_sv_tmp.groupby(['vlmc_size', 'set_size'])['cache_misses'].transform('mean')\n",
    "df_sv_old['idx_helped'] = 1\n",
    "df_sv_old['idx'] = df_sv_old.groupby(['vlmc_size', 'set_size'])['idx_helped'].transform('cumsum')\n",
    "df_sv_new['idx_helped'] = 1\n",
    "df_sv_new['idx'] = df_sv_new.groupby(['vlmc_size', 'set_size'])['idx_helped'].transform('cumsum')\n",
    "df_sv_tmp['idx_helped'] = 1\n",
    "df_sv_tmp['idx'] = df_sv_tmp.groupby(['vlmc_size', 'set_size'])['idx_helped'].transform('cumsum')\n",
    "\n",
    "fig = make_subplots(rows=2, cols=2, shared_yaxes=False, subplot_titles=(\"Small\", \"Medium\", \"Large\"), horizontal_spacing= 0.02, vertical_spacing= 0.06, specs=[[{}, {}],[{\"colspan\": 2}, None]])\n",
    "\n",
    "fig.add_trace(go.Scatter(x=df_pst[df_pst.vlmc_size=='small']['set_size'], y=df_pst[df_pst.vlmc_size=='small']['elapsed_time'], line_color='#EF553B', name=\"Pst\", marker_symbol='x'), 1, 1)\n",
    "fig.add_trace(go.Scatter(x=df_sv_old[(df_sv_old.vlmc_size=='small') & (df_sv_old.idx==1)]['set_size'], y=df_sv_old[df_sv_old.vlmc_size=='small']['mean_elapsed_time'], line_color='#00CC96', name=\"sorted-vector old\"), 1, 1)\n",
    "fig.add_trace(go.Scatter(x=df_sv_new[(df_sv_new.vlmc_size=='small') & (df_sv_new.idx==1)]['set_size'], y=df_sv_new[df_sv_new.vlmc_size=='small']['mean_elapsed_time'], line_color='#636EFA', name=\"sorted-vector new\"), 1, 1)\n",
    "fig.add_trace(go.Scatter(x=df_sv_tmp[(df_sv_tmp.vlmc_size=='small') & (df_sv_tmp.idx==1)]['set_size'], y=df_sv_tmp[df_sv_tmp.vlmc_size=='small']['mean_elapsed_time'], line_color='yellow', name=\"sorted-vector new new\"), 1, 1)\n",
    "\n",
    "\n",
    "fig.add_trace(go.Scatter(x=df_pst[df_pst.vlmc_size=='medium']['set_size'], y=df_pst[df_pst.vlmc_size=='medium']['elapsed_time'], line_color='#EF553B', name=\"Pst\", marker_symbol='x', showlegend = False), 1, 2)\n",
    "fig.add_trace(go.Scatter(x=df_sv_old[(df_sv_old.vlmc_size=='medium') & (df_sv_old.idx==1)]['set_size'], y=df_sv_old[df_sv_old.vlmc_size=='medium']['mean_elapsed_time'], line_color='#00CC96', name=\"hashmap\", marker_symbol='square', showlegend = False), 1, 2)\n",
    "fig.add_trace(go.Scatter(x=df_sv_new[(df_sv_new.vlmc_size=='medium') & (df_sv_new.idx==1)]['set_size'], y=df_sv_new[df_sv_new.vlmc_size=='medium']['mean_elapsed_time'], line_color='#636EFA', name=\"hashmap\", marker_symbol='square', showlegend = False), 1, 2)\n",
    "fig.add_trace(go.Scatter(x=df_sv_tmp[(df_sv_tmp.vlmc_size=='medium') & (df_sv_tmp.idx==1)]['set_size'], y=df_sv_tmp[df_sv_tmp.vlmc_size=='medium']['mean_elapsed_time'], line_color='yellow', name=\"hashmap\", marker_symbol='square', showlegend = False), 1, 2)\n",
    "\n",
    "\n",
    "fig.add_trace(go.Scatter(x=df_pst[df_pst.vlmc_size=='large']['set_size'], y=df_pst[df_pst.vlmc_size=='large']['elapsed_time'], line_color='#EF553B', name=\"Pst\", marker_symbol='x', showlegend = False), 2, 1)\n",
    "fig.add_trace(go.Scatter(x=df_sv_old[(df_sv_old.vlmc_size=='large') & (df_sv_old.idx==1)]['set_size'], y=df_sv_old[df_sv_old.vlmc_size=='large']['mean_elapsed_time'], line_color='#00CC96', name=\"hashmap\", marker_symbol='square', showlegend = False), 2, 1)\n",
    "fig.add_trace(go.Scatter(x=df_sv_new[(df_sv_new.vlmc_size=='large') & (df_sv_new.idx==1)]['set_size'], y=df_sv_new[df_sv_new.vlmc_size=='large']['mean_elapsed_time'], line_color='#636EFA', name=\"hashmap\", marker_symbol='square', showlegend = False), 2, 1)\n",
    "fig.add_trace(go.Scatter(x=df_sv_tmp[(df_sv_tmp.vlmc_size=='large') & (df_sv_tmp.idx==1)]['set_size'], y=df_sv_tmp[df_sv_tmp.vlmc_size=='large']['mean_elapsed_time'], line_color='yellow', name=\"hashmap\", marker_symbol='square', showlegend = False), 2, 1)\n",
    "\n",
    "\n",
    "fig.update_layout(legend=dict(\n",
    "    orientation=\"h\",\n",
    "    yanchor=\"bottom\",\n",
    "    y=1.08),\n",
    "    margin=dict(l=60, r=20, t=60, b=60),\n",
    "    height=700)\n",
    "\n",
    "fig.add_annotation(x=-0.045, y=0.5,\n",
    "            xref=\"paper\",\n",
    "            yref=\"paper\",\n",
    "            text=\"Elapsed time [sec]\",\n",
    "            showarrow=False,\n",
    "            textangle=-90,\n",
    "            font_size=20)\n",
    "\n",
    "fig.add_annotation(x=0.5, y=-0.11,\n",
    "            xref=\"paper\",\n",
    "            yref=\"paper\",\n",
    "            text=\"Amount of VLMCs\",\n",
    "            showarrow=False,\n",
    "            font_size=20)\n",
    "\n",
    "fig.show()"
   ]
  },
  {
   "attachments": {},
   "cell_type": "markdown",
   "metadata": {},
   "source": [
    "### Ahmdals"
   ]
  },
  {
   "cell_type": "code",
   "execution_count": null,
   "metadata": {},
   "outputs": [],
   "source": [
    "df = pd.read_csv('csv_results/parallelization_ecoli_03_28_16_11.csv')\n",
    "time = df['elapsed_time']\n",
    "cores = df['nr_cores_used']\n",
    "single_core_time = time[0]\n",
    "speedup = single_core_time / time \n",
    "fig = go.Figure()\n",
    "fig.add_trace(go.Scatter(mode='lines', x=cores, y=speedup, line_color='#00CC96', name=\"Algorithm\"))\n",
    "\n",
    "infinite_ahmdals = cores\n",
    "fig.add_trace(go.Scatter(mode='lines', x=cores, y=infinite_ahmdals, line_color='#636EFA', name=\"Theoretical\"))\n",
    "fig.update_layout(yaxis_title=\"Speedup\", xaxis_title=\"Amount of cores used\", yaxis_range=[0,20], xaxis_range=[0,17], font={'size': 20}, plot_bgcolor=\"white\", yaxis_gridcolor='LightGrey'\n",
    ",xaxis_gridcolor='LightGrey')\n",
    "fig.update_layout(\n",
    "    autosize=False,\n",
    "    width=1000,\n",
    "    height=600,)\n",
    "fig.show()\n",
    "fig.write_image(\"images/ecolit-parallel-to-ahmdals.pdf\")"
   ]
  },
  {
   "cell_type": "code",
   "execution_count": 5,
   "metadata": {},
   "outputs": [
    {
     "data": {
      "text/html": [
       "<div>\n",
       "<style scoped>\n",
       "    .dataframe tbody tr th:only-of-type {\n",
       "        vertical-align: middle;\n",
       "    }\n",
       "\n",
       "    .dataframe tbody tr th {\n",
       "        vertical-align: top;\n",
       "    }\n",
       "\n",
       "    .dataframe thead th {\n",
       "        text-align: right;\n",
       "    }\n",
       "</style>\n",
       "<table border=\"1\" class=\"dataframe\">\n",
       "  <thead>\n",
       "    <tr style=\"text-align: right;\">\n",
       "      <th></th>\n",
       "      <th>repo_version</th>\n",
       "      <th>nr_elements</th>\n",
       "      <th>size_of_vector</th>\n",
       "      <th>branch_misses</th>\n",
       "      <th>branch_misses_count</th>\n",
       "      <th>branches</th>\n",
       "      <th>branches_count</th>\n",
       "      <th>task_clock</th>\n",
       "      <th>task_clock_count</th>\n",
       "      <th>cycles</th>\n",
       "      <th>cycles_count</th>\n",
       "      <th>instructions</th>\n",
       "      <th>instructions_count</th>\n",
       "      <th>cache_references</th>\n",
       "      <th>cache_references_count</th>\n",
       "      <th>cache_misses</th>\n",
       "      <th>cache_misses_count</th>\n",
       "    </tr>\n",
       "  </thead>\n",
       "  <tbody>\n",
       "    <tr>\n",
       "      <th>0</th>\n",
       "      <td>91a6b55</td>\n",
       "      <td>4</td>\n",
       "      <td>536</td>\n",
       "      <td>2.05</td>\n",
       "      <td>17195</td>\n",
       "      <td>816.936</td>\n",
       "      <td>841348</td>\n",
       "      <td>0.914</td>\n",
       "      <td>1</td>\n",
       "      <td>4.212</td>\n",
       "      <td>4338353</td>\n",
       "      <td>1.33</td>\n",
       "      <td>4906590</td>\n",
       "      <td>121.505</td>\n",
       "      <td>125136</td>\n",
       "      <td>35.821</td>\n",
       "      <td>46676</td>\n",
       "    </tr>\n",
       "    <tr>\n",
       "      <th>1</th>\n",
       "      <td>91a6b55</td>\n",
       "      <td>5</td>\n",
       "      <td>1048</td>\n",
       "      <td>1.96</td>\n",
       "      <td>16452</td>\n",
       "      <td>798.101</td>\n",
       "      <td>833962</td>\n",
       "      <td>0.733</td>\n",
       "      <td>0</td>\n",
       "      <td>3.362</td>\n",
       "      <td>3513382</td>\n",
       "      <td>1.30</td>\n",
       "      <td>4869492</td>\n",
       "      <td>123.082</td>\n",
       "      <td>128612</td>\n",
       "      <td>37.495</td>\n",
       "      <td>48597</td>\n",
       "    </tr>\n",
       "    <tr>\n",
       "      <th>2</th>\n",
       "      <td>91a6b55</td>\n",
       "      <td>6</td>\n",
       "      <td>2072</td>\n",
       "      <td>2.00</td>\n",
       "      <td>16773</td>\n",
       "      <td>696.560</td>\n",
       "      <td>836144</td>\n",
       "      <td>0.680</td>\n",
       "      <td>1</td>\n",
       "      <td>3.127</td>\n",
       "      <td>3753554</td>\n",
       "      <td>1.14</td>\n",
       "      <td>4880598</td>\n",
       "      <td>108.084</td>\n",
       "      <td>129743</td>\n",
       "      <td>41.544</td>\n",
       "      <td>53095</td>\n",
       "    </tr>\n",
       "    <tr>\n",
       "      <th>3</th>\n",
       "      <td>91a6b55</td>\n",
       "      <td>7</td>\n",
       "      <td>4120</td>\n",
       "      <td>1.92</td>\n",
       "      <td>16158</td>\n",
       "      <td>750.128</td>\n",
       "      <td>837430</td>\n",
       "      <td>0.689</td>\n",
       "      <td>0</td>\n",
       "      <td>3.086</td>\n",
       "      <td>3445436</td>\n",
       "      <td>1.22</td>\n",
       "      <td>4888697</td>\n",
       "      <td>114.802</td>\n",
       "      <td>128163</td>\n",
       "      <td>33.602</td>\n",
       "      <td>44453</td>\n",
       "    </tr>\n",
       "    <tr>\n",
       "      <th>4</th>\n",
       "      <td>91a6b55</td>\n",
       "      <td>8</td>\n",
       "      <td>8216</td>\n",
       "      <td>1.96</td>\n",
       "      <td>16427</td>\n",
       "      <td>804.177</td>\n",
       "      <td>840462</td>\n",
       "      <td>0.731</td>\n",
       "      <td>0</td>\n",
       "      <td>3.323</td>\n",
       "      <td>3472838</td>\n",
       "      <td>1.31</td>\n",
       "      <td>4906366</td>\n",
       "      <td>123.138</td>\n",
       "      <td>128694</td>\n",
       "      <td>33.057</td>\n",
       "      <td>43361</td>\n",
       "    </tr>\n",
       "  </tbody>\n",
       "</table>\n",
       "</div>"
      ],
      "text/plain": [
       "  repo_version  nr_elements  size_of_vector  branch_misses  \\\n",
       "0      91a6b55            4             536           2.05   \n",
       "1      91a6b55            5            1048           1.96   \n",
       "2      91a6b55            6            2072           2.00   \n",
       "3      91a6b55            7            4120           1.92   \n",
       "4      91a6b55            8            8216           1.96   \n",
       "\n",
       "   branch_misses_count  branches  branches_count  task_clock  \\\n",
       "0                17195   816.936          841348       0.914   \n",
       "1                16452   798.101          833962       0.733   \n",
       "2                16773   696.560          836144       0.680   \n",
       "3                16158   750.128          837430       0.689   \n",
       "4                16427   804.177          840462       0.731   \n",
       "\n",
       "   task_clock_count  cycles  cycles_count  instructions  instructions_count  \\\n",
       "0                 1   4.212       4338353          1.33             4906590   \n",
       "1                 0   3.362       3513382          1.30             4869492   \n",
       "2                 1   3.127       3753554          1.14             4880598   \n",
       "3                 0   3.086       3445436          1.22             4888697   \n",
       "4                 0   3.323       3472838          1.31             4906366   \n",
       "\n",
       "   cache_references  cache_references_count  cache_misses  cache_misses_count  \n",
       "0           121.505                  125136        35.821               46676  \n",
       "1           123.082                  128612        37.495               48597  \n",
       "2           108.084                  129743        41.544               53095  \n",
       "3           114.802                  128163        33.602               44453  \n",
       "4           123.138                  128694        33.057               43361  "
      ]
     },
     "execution_count": 5,
     "metadata": {},
     "output_type": "execute_result"
    }
   ],
   "source": [
    "df.head()"
   ]
  },
  {
   "cell_type": "code",
   "execution_count": 12,
   "metadata": {},
   "outputs": [
    {
     "data": {
      "application/vnd.plotly.v1+json": {
       "config": {
        "plotlyServerURL": "https://plot.ly"
       },
       "data": [
        {
         "line": {
          "color": "#00CC96"
         },
         "mode": "lines",
         "type": "scatter",
         "x": [
          4,
          5,
          6,
          7,
          8,
          9,
          10,
          11,
          12,
          13,
          14,
          15,
          16,
          17,
          18
         ],
         "y": [
          0.005711699623581745,
          0.004772534969910456,
          0.004192013102522259,
          0.003676133104279054,
          0.003102035163979684,
          0.002805923808992608,
          0.003154834560189892,
          0.003743874705058633,
          0.005216694962400087,
          0.008343573979138237,
          0.011924820344072272,
          0.018530047100782217,
          0.02617296387619583,
          0.025927445080797844,
          0.0275923061237611
         ]
        }
       ],
       "layout": {
        "autosize": false,
        "font": {
         "size": 20
        },
        "height": 600,
        "plot_bgcolor": "white",
        "template": {
         "data": {
          "bar": [
           {
            "error_x": {
             "color": "#2a3f5f"
            },
            "error_y": {
             "color": "#2a3f5f"
            },
            "marker": {
             "line": {
              "color": "#E5ECF6",
              "width": 0.5
             },
             "pattern": {
              "fillmode": "overlay",
              "size": 10,
              "solidity": 0.2
             }
            },
            "type": "bar"
           }
          ],
          "barpolar": [
           {
            "marker": {
             "line": {
              "color": "#E5ECF6",
              "width": 0.5
             },
             "pattern": {
              "fillmode": "overlay",
              "size": 10,
              "solidity": 0.2
             }
            },
            "type": "barpolar"
           }
          ],
          "carpet": [
           {
            "aaxis": {
             "endlinecolor": "#2a3f5f",
             "gridcolor": "white",
             "linecolor": "white",
             "minorgridcolor": "white",
             "startlinecolor": "#2a3f5f"
            },
            "baxis": {
             "endlinecolor": "#2a3f5f",
             "gridcolor": "white",
             "linecolor": "white",
             "minorgridcolor": "white",
             "startlinecolor": "#2a3f5f"
            },
            "type": "carpet"
           }
          ],
          "choropleth": [
           {
            "colorbar": {
             "outlinewidth": 0,
             "ticks": ""
            },
            "type": "choropleth"
           }
          ],
          "contour": [
           {
            "colorbar": {
             "outlinewidth": 0,
             "ticks": ""
            },
            "colorscale": [
             [
              0,
              "#0d0887"
             ],
             [
              0.1111111111111111,
              "#46039f"
             ],
             [
              0.2222222222222222,
              "#7201a8"
             ],
             [
              0.3333333333333333,
              "#9c179e"
             ],
             [
              0.4444444444444444,
              "#bd3786"
             ],
             [
              0.5555555555555556,
              "#d8576b"
             ],
             [
              0.6666666666666666,
              "#ed7953"
             ],
             [
              0.7777777777777778,
              "#fb9f3a"
             ],
             [
              0.8888888888888888,
              "#fdca26"
             ],
             [
              1,
              "#f0f921"
             ]
            ],
            "type": "contour"
           }
          ],
          "contourcarpet": [
           {
            "colorbar": {
             "outlinewidth": 0,
             "ticks": ""
            },
            "type": "contourcarpet"
           }
          ],
          "heatmap": [
           {
            "colorbar": {
             "outlinewidth": 0,
             "ticks": ""
            },
            "colorscale": [
             [
              0,
              "#0d0887"
             ],
             [
              0.1111111111111111,
              "#46039f"
             ],
             [
              0.2222222222222222,
              "#7201a8"
             ],
             [
              0.3333333333333333,
              "#9c179e"
             ],
             [
              0.4444444444444444,
              "#bd3786"
             ],
             [
              0.5555555555555556,
              "#d8576b"
             ],
             [
              0.6666666666666666,
              "#ed7953"
             ],
             [
              0.7777777777777778,
              "#fb9f3a"
             ],
             [
              0.8888888888888888,
              "#fdca26"
             ],
             [
              1,
              "#f0f921"
             ]
            ],
            "type": "heatmap"
           }
          ],
          "heatmapgl": [
           {
            "colorbar": {
             "outlinewidth": 0,
             "ticks": ""
            },
            "colorscale": [
             [
              0,
              "#0d0887"
             ],
             [
              0.1111111111111111,
              "#46039f"
             ],
             [
              0.2222222222222222,
              "#7201a8"
             ],
             [
              0.3333333333333333,
              "#9c179e"
             ],
             [
              0.4444444444444444,
              "#bd3786"
             ],
             [
              0.5555555555555556,
              "#d8576b"
             ],
             [
              0.6666666666666666,
              "#ed7953"
             ],
             [
              0.7777777777777778,
              "#fb9f3a"
             ],
             [
              0.8888888888888888,
              "#fdca26"
             ],
             [
              1,
              "#f0f921"
             ]
            ],
            "type": "heatmapgl"
           }
          ],
          "histogram": [
           {
            "marker": {
             "pattern": {
              "fillmode": "overlay",
              "size": 10,
              "solidity": 0.2
             }
            },
            "type": "histogram"
           }
          ],
          "histogram2d": [
           {
            "colorbar": {
             "outlinewidth": 0,
             "ticks": ""
            },
            "colorscale": [
             [
              0,
              "#0d0887"
             ],
             [
              0.1111111111111111,
              "#46039f"
             ],
             [
              0.2222222222222222,
              "#7201a8"
             ],
             [
              0.3333333333333333,
              "#9c179e"
             ],
             [
              0.4444444444444444,
              "#bd3786"
             ],
             [
              0.5555555555555556,
              "#d8576b"
             ],
             [
              0.6666666666666666,
              "#ed7953"
             ],
             [
              0.7777777777777778,
              "#fb9f3a"
             ],
             [
              0.8888888888888888,
              "#fdca26"
             ],
             [
              1,
              "#f0f921"
             ]
            ],
            "type": "histogram2d"
           }
          ],
          "histogram2dcontour": [
           {
            "colorbar": {
             "outlinewidth": 0,
             "ticks": ""
            },
            "colorscale": [
             [
              0,
              "#0d0887"
             ],
             [
              0.1111111111111111,
              "#46039f"
             ],
             [
              0.2222222222222222,
              "#7201a8"
             ],
             [
              0.3333333333333333,
              "#9c179e"
             ],
             [
              0.4444444444444444,
              "#bd3786"
             ],
             [
              0.5555555555555556,
              "#d8576b"
             ],
             [
              0.6666666666666666,
              "#ed7953"
             ],
             [
              0.7777777777777778,
              "#fb9f3a"
             ],
             [
              0.8888888888888888,
              "#fdca26"
             ],
             [
              1,
              "#f0f921"
             ]
            ],
            "type": "histogram2dcontour"
           }
          ],
          "mesh3d": [
           {
            "colorbar": {
             "outlinewidth": 0,
             "ticks": ""
            },
            "type": "mesh3d"
           }
          ],
          "parcoords": [
           {
            "line": {
             "colorbar": {
              "outlinewidth": 0,
              "ticks": ""
             }
            },
            "type": "parcoords"
           }
          ],
          "pie": [
           {
            "automargin": true,
            "type": "pie"
           }
          ],
          "scatter": [
           {
            "fillpattern": {
             "fillmode": "overlay",
             "size": 10,
             "solidity": 0.2
            },
            "type": "scatter"
           }
          ],
          "scatter3d": [
           {
            "line": {
             "colorbar": {
              "outlinewidth": 0,
              "ticks": ""
             }
            },
            "marker": {
             "colorbar": {
              "outlinewidth": 0,
              "ticks": ""
             }
            },
            "type": "scatter3d"
           }
          ],
          "scattercarpet": [
           {
            "marker": {
             "colorbar": {
              "outlinewidth": 0,
              "ticks": ""
             }
            },
            "type": "scattercarpet"
           }
          ],
          "scattergeo": [
           {
            "marker": {
             "colorbar": {
              "outlinewidth": 0,
              "ticks": ""
             }
            },
            "type": "scattergeo"
           }
          ],
          "scattergl": [
           {
            "marker": {
             "colorbar": {
              "outlinewidth": 0,
              "ticks": ""
             }
            },
            "type": "scattergl"
           }
          ],
          "scattermapbox": [
           {
            "marker": {
             "colorbar": {
              "outlinewidth": 0,
              "ticks": ""
             }
            },
            "type": "scattermapbox"
           }
          ],
          "scatterpolar": [
           {
            "marker": {
             "colorbar": {
              "outlinewidth": 0,
              "ticks": ""
             }
            },
            "type": "scatterpolar"
           }
          ],
          "scatterpolargl": [
           {
            "marker": {
             "colorbar": {
              "outlinewidth": 0,
              "ticks": ""
             }
            },
            "type": "scatterpolargl"
           }
          ],
          "scatterternary": [
           {
            "marker": {
             "colorbar": {
              "outlinewidth": 0,
              "ticks": ""
             }
            },
            "type": "scatterternary"
           }
          ],
          "surface": [
           {
            "colorbar": {
             "outlinewidth": 0,
             "ticks": ""
            },
            "colorscale": [
             [
              0,
              "#0d0887"
             ],
             [
              0.1111111111111111,
              "#46039f"
             ],
             [
              0.2222222222222222,
              "#7201a8"
             ],
             [
              0.3333333333333333,
              "#9c179e"
             ],
             [
              0.4444444444444444,
              "#bd3786"
             ],
             [
              0.5555555555555556,
              "#d8576b"
             ],
             [
              0.6666666666666666,
              "#ed7953"
             ],
             [
              0.7777777777777778,
              "#fb9f3a"
             ],
             [
              0.8888888888888888,
              "#fdca26"
             ],
             [
              1,
              "#f0f921"
             ]
            ],
            "type": "surface"
           }
          ],
          "table": [
           {
            "cells": {
             "fill": {
              "color": "#EBF0F8"
             },
             "line": {
              "color": "white"
             }
            },
            "header": {
             "fill": {
              "color": "#C8D4E3"
             },
             "line": {
              "color": "white"
             }
            },
            "type": "table"
           }
          ]
         },
         "layout": {
          "annotationdefaults": {
           "arrowcolor": "#2a3f5f",
           "arrowhead": 0,
           "arrowwidth": 1
          },
          "autotypenumbers": "strict",
          "coloraxis": {
           "colorbar": {
            "outlinewidth": 0,
            "ticks": ""
           }
          },
          "colorscale": {
           "diverging": [
            [
             0,
             "#8e0152"
            ],
            [
             0.1,
             "#c51b7d"
            ],
            [
             0.2,
             "#de77ae"
            ],
            [
             0.3,
             "#f1b6da"
            ],
            [
             0.4,
             "#fde0ef"
            ],
            [
             0.5,
             "#f7f7f7"
            ],
            [
             0.6,
             "#e6f5d0"
            ],
            [
             0.7,
             "#b8e186"
            ],
            [
             0.8,
             "#7fbc41"
            ],
            [
             0.9,
             "#4d9221"
            ],
            [
             1,
             "#276419"
            ]
           ],
           "sequential": [
            [
             0,
             "#0d0887"
            ],
            [
             0.1111111111111111,
             "#46039f"
            ],
            [
             0.2222222222222222,
             "#7201a8"
            ],
            [
             0.3333333333333333,
             "#9c179e"
            ],
            [
             0.4444444444444444,
             "#bd3786"
            ],
            [
             0.5555555555555556,
             "#d8576b"
            ],
            [
             0.6666666666666666,
             "#ed7953"
            ],
            [
             0.7777777777777778,
             "#fb9f3a"
            ],
            [
             0.8888888888888888,
             "#fdca26"
            ],
            [
             1,
             "#f0f921"
            ]
           ],
           "sequentialminus": [
            [
             0,
             "#0d0887"
            ],
            [
             0.1111111111111111,
             "#46039f"
            ],
            [
             0.2222222222222222,
             "#7201a8"
            ],
            [
             0.3333333333333333,
             "#9c179e"
            ],
            [
             0.4444444444444444,
             "#bd3786"
            ],
            [
             0.5555555555555556,
             "#d8576b"
            ],
            [
             0.6666666666666666,
             "#ed7953"
            ],
            [
             0.7777777777777778,
             "#fb9f3a"
            ],
            [
             0.8888888888888888,
             "#fdca26"
            ],
            [
             1,
             "#f0f921"
            ]
           ]
          },
          "colorway": [
           "#636efa",
           "#EF553B",
           "#00cc96",
           "#ab63fa",
           "#FFA15A",
           "#19d3f3",
           "#FF6692",
           "#B6E880",
           "#FF97FF",
           "#FECB52"
          ],
          "font": {
           "color": "#2a3f5f"
          },
          "geo": {
           "bgcolor": "white",
           "lakecolor": "white",
           "landcolor": "#E5ECF6",
           "showlakes": true,
           "showland": true,
           "subunitcolor": "white"
          },
          "hoverlabel": {
           "align": "left"
          },
          "hovermode": "closest",
          "mapbox": {
           "style": "light"
          },
          "paper_bgcolor": "white",
          "plot_bgcolor": "#E5ECF6",
          "polar": {
           "angularaxis": {
            "gridcolor": "white",
            "linecolor": "white",
            "ticks": ""
           },
           "bgcolor": "#E5ECF6",
           "radialaxis": {
            "gridcolor": "white",
            "linecolor": "white",
            "ticks": ""
           }
          },
          "scene": {
           "xaxis": {
            "backgroundcolor": "#E5ECF6",
            "gridcolor": "white",
            "gridwidth": 2,
            "linecolor": "white",
            "showbackground": true,
            "ticks": "",
            "zerolinecolor": "white"
           },
           "yaxis": {
            "backgroundcolor": "#E5ECF6",
            "gridcolor": "white",
            "gridwidth": 2,
            "linecolor": "white",
            "showbackground": true,
            "ticks": "",
            "zerolinecolor": "white"
           },
           "zaxis": {
            "backgroundcolor": "#E5ECF6",
            "gridcolor": "white",
            "gridwidth": 2,
            "linecolor": "white",
            "showbackground": true,
            "ticks": "",
            "zerolinecolor": "white"
           }
          },
          "shapedefaults": {
           "line": {
            "color": "#2a3f5f"
           }
          },
          "ternary": {
           "aaxis": {
            "gridcolor": "white",
            "linecolor": "white",
            "ticks": ""
           },
           "baxis": {
            "gridcolor": "white",
            "linecolor": "white",
            "ticks": ""
           },
           "bgcolor": "#E5ECF6",
           "caxis": {
            "gridcolor": "white",
            "linecolor": "white",
            "ticks": ""
           }
          },
          "title": {
           "x": 0.05
          },
          "xaxis": {
           "automargin": true,
           "gridcolor": "white",
           "linecolor": "white",
           "ticks": "",
           "title": {
            "standoff": 15
           },
           "zerolinecolor": "white",
           "zerolinewidth": 2
          },
          "yaxis": {
           "automargin": true,
           "gridcolor": "white",
           "linecolor": "white",
           "ticks": "",
           "title": {
            "standoff": 15
           },
           "zerolinecolor": "white",
           "zerolinewidth": 2
          }
         }
        },
        "width": 1000,
        "xaxis": {
         "gridcolor": "LightGrey",
         "title": {
          "text": "Amount of cores used"
         }
        },
        "yaxis": {
         "gridcolor": "LightGrey",
         "title": {
          "text": "Speedup"
         }
        }
       }
      }
     },
     "metadata": {},
     "output_type": "display_data"
    }
   ],
   "source": [
    "df = pd.read_csv('csv_results/dev_test_6.csv')\n",
    "\n",
    "fig = go.Figure()\n",
    "fig.add_trace(go.Scatter(mode='lines', x=df['nr_elements'], y=df['cache_misses_count'] / df['instructions_count'], line_color='#00CC96'))\n",
    "\n",
    "# infinite_ahmdals = cores\n",
    "# fig.add_trace(go.Scatter(mode='lines', x=cores, y=infinite_ahmdals, line_color='#636EFA', name=\"Theoretical\"))\n",
    "fig.update_layout(yaxis_title=\"Speedup\", xaxis_title=\"Amount of cores used\", font={'size': 20}, plot_bgcolor=\"white\", yaxis_gridcolor='LightGrey', xaxis_gridcolor='LightGrey')\n",
    "fig.update_layout(\n",
    "    autosize=False,\n",
    "    width=1000,\n",
    "    height=600,)\n",
    "fig.show()"
   ]
  }
 ],
 "metadata": {
  "kernelspec": {
   "display_name": "pytenv",
   "language": "python",
   "name": "python3"
  },
  "language_info": {
   "codemirror_mode": {
    "name": "ipython",
    "version": 3
   },
   "file_extension": ".py",
   "mimetype": "text/x-python",
   "name": "python",
   "nbconvert_exporter": "python",
   "pygments_lexer": "ipython3",
   "version": "3.10.6"
  },
  "orig_nbformat": 4,
  "vscode": {
   "interpreter": {
    "hash": "48d0a4ca29d602f526e1aa695dc41e454d4aef6a87f358e764b4e396349856d8"
   }
  }
 },
 "nbformat": 4,
 "nbformat_minor": 2
}
