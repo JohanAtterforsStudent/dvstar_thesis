{
 "cells": [
  {
   "cell_type": "code",
   "execution_count": null,
   "metadata": {},
   "outputs": [],
   "source": [
    "import plotly.express as px \n",
    "import plotly.graph_objects as go\n",
    "import pandas as pd \n",
    "import os "
   ]
  },
  {
   "cell_type": "code",
   "execution_count": null,
   "metadata": {},
   "outputs": [],
   "source": [
    "cwd = os.getcwd()\n",
    "csv_path = cwd + \"/tmp/benchmarks/test.csv\""
   ]
  },
  {
   "cell_type": "code",
   "execution_count": null,
   "metadata": {},
   "outputs": [],
   "source": [
    "df = pd.read_csv(csv_path)\n",
    "\n",
    "fig = px.line(df, x='Set size', y='cache-misses', title=\"Cache misses relative to amount of sequences compared <b>Repo : \" + df['Repo Version'].iloc[0] + \"</b>\")\n",
    "fig.update_layout(yaxis_title='cache misses (%)', xaxis_title='Number of unique sequences compared')\n",
    "fig.show()\n",
    "\n",
    "fig = px.line(df, x='Set size', y='elapsed time', title=\"Cache misses relative to amount of sequences compared <b>Repo : \" + df['Repo Version'].iloc[0] + \"</b>\")\n",
    "fig.update_layout(yaxis_title='cache misses (%)', xaxis_title='Number of unique sequences compared')\n",
    "fig.show()"
   ]
  }
 ],
 "metadata": {
  "kernelspec": {
   "display_name": "pytenv",
   "language": "python",
   "name": "python3"
  },
  "language_info": {
   "codemirror_mode": {
    "name": "ipython",
    "version": 3
   },
   "file_extension": ".py",
   "mimetype": "text/x-python",
   "name": "python",
   "nbconvert_exporter": "python",
   "pygments_lexer": "ipython3",
   "version": "3.10.6 (main, Nov 14 2022, 16:10:14) [GCC 11.3.0]"
  },
  "orig_nbformat": 4,
  "vscode": {
   "interpreter": {
    "hash": "48d0a4ca29d602f526e1aa695dc41e454d4aef6a87f358e764b4e396349856d8"
   }
  }
 },
 "nbformat": 4,
 "nbformat_minor": 2
}
