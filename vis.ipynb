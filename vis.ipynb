{
 "cells": [
  {
   "cell_type": "code",
   "execution_count": 1,
   "metadata": {},
   "outputs": [],
   "source": [
    "import plotly.express as px \n",
    "import plotly.graph_objects as go\n",
    "from plotly.subplots import make_subplots\n",
    "import pandas as pd \n",
    "import os \n",
    "import plotly.io as pio\n",
    "pio.kaleido.scope.mathjax = None \n",
    "from math import log"
   ]
  },
  {
   "cell_type": "code",
   "execution_count": null,
   "metadata": {},
   "outputs": [],
   "source": [
    "cwd = os.getcwd()\n",
    "csv_path = cwd + \"/tmp/benchmarks/test.csv\""
   ]
  },
  {
   "cell_type": "code",
   "execution_count": null,
   "metadata": {},
   "outputs": [],
   "source": [
    "df = pd.read_csv(csv_path)\n",
    "\n",
    "fig = px.line(df, x='Set size', y='cache-misses', title=\"Cache misses relative to amount of sequences compared <b>Repo : \" + df['Repo Version'].iloc[0] + \"</b>\")\n",
    "fig.update_layout(yaxis_title='cache misses (%)', xaxis_title='Number of unique sequences compared')\n",
    "fig.show()\n",
    "\n",
    "fig = px.line(df, x='Set size', y='elapsed time', title=\"Cache misses relative to amount of sequences compared <b>Repo : \" + df['Repo Version'].iloc[0] + \"</b>\")\n",
    "fig.update_layout(yaxis_title='cache misses (%)', xaxis_title='Number of unique sequences compared')\n",
    "fig.show()"
   ]
  },
  {
   "attachments": {},
   "cell_type": "markdown",
   "metadata": {},
   "source": [
    "# The following section analysises the relation of file size to input parameters"
   ]
  },
  {
   "cell_type": "code",
   "execution_count": null,
   "metadata": {},
   "outputs": [],
   "source": [
    "sequence = []\n",
    "threshold = []\n",
    "min_count = []\n",
    "max_depth = []\n",
    "size = []\n",
    "\n",
    "directory = \"data/benchmarking/parameter_test\"\n",
    "\n",
    "for filename in os.listdir(\"data/benchmarking/parameter_test\"):\n",
    "    f = os.path.join(directory, filename)\n",
    "    file_stats = os.stat(f)\n",
    "    parameters = filename.split(\"_\")\n",
    "    sequence.append(parameters[1])\n",
    "    threshold.append(float(parameters[2]))\n",
    "    min_count.append(int(parameters[3]))\n",
    "    max_depth.append(int(parameters[4].split(\".\")[0]))\n",
    "    size.append(file_stats.st_size)\n",
    "\n",
    "data = {\n",
    "    \"sequence\" : sequence, \n",
    "    \"threshold\" : threshold,\n",
    "    \"min_count\" : min_count,\n",
    "    \"max_depth\" : max_depth,\n",
    "    \"size\" : size\n",
    "}\n",
    "\n",
    "df = pd.DataFrame(data)\n",
    "df.columns"
   ]
  },
  {
   "cell_type": "code",
   "execution_count": null,
   "metadata": {},
   "outputs": [],
   "source": [
    "df['avg_size_threshold'] = df.groupby(['threshold'])['size'].transform('mean')\n",
    "df['avg_size_min_count'] = df.groupby(['min_count'])['size'].transform('mean')\n",
    "df['avg_size_max_depth'] = df.groupby(['max_depth'])['size'].transform('mean')\n",
    "\n",
    "df_threshold = df[['threshold', 'avg_size_threshold']]\n",
    "df_threshold.drop_duplicates(inplace=True)\n",
    "df_threshold.sort_values('threshold', inplace=True)\n",
    "\n",
    "df_min_count = df[['min_count', 'avg_size_min_count']]\n",
    "df_min_count.drop_duplicates(inplace=True)\n",
    "df_min_count.sort_values('min_count', inplace=True)\n",
    "\n",
    "df_max_depth = df[['max_depth', 'avg_size_max_depth']]\n",
    "df_max_depth.drop_duplicates(inplace=True)\n",
    "df_max_depth.sort_values('max_depth', inplace=True)"
   ]
  },
  {
   "cell_type": "code",
   "execution_count": null,
   "metadata": {},
   "outputs": [],
   "source": [
    "fig = go.Figure()\n",
    "\n",
    "fig.add_trace(go.Scatter(x=df_threshold['threshold'], y=df_threshold['avg_size_threshold'], name='threshold'))\n",
    "fig.add_trace(go.Scatter(x=df_min_count['min_count'], y=df_min_count['avg_size_min_count'], name='min_count'))\n",
    "fig.add_trace(go.Scatter(x=df_max_depth['max_depth'], y=df_max_depth['avg_size_max_depth'], name='max_depth'))\n",
    "\n",
    "fig.update_layout(yaxis_title='Size (Bytes)', xaxis_title='Parameter', title='File size change in relation to parameter tuning')\n",
    "\n",
    "fig.show()"
   ]
  },
  {
   "attachments": {},
   "cell_type": "markdown",
   "metadata": {},
   "source": [
    "# <b>Visualizing Benchmarking on Human Dataset</b>"
   ]
  },
  {
   "attachments": {},
   "cell_type": "markdown",
   "metadata": {},
   "source": [
    "## Visualize time elapsed compared to amount of VLMCs compared"
   ]
  },
  {
   "cell_type": "code",
   "execution_count": null,
   "metadata": {},
   "outputs": [],
   "source": [
    "df_sv = pd.read_csv('csv_results/sorted-vector_human_04_06_09_49.csv')\n",
    "df_hm = pd.read_csv('csv_results/hashmap_human_04_06_09_50.csv')\n",
    "df_co = pd.read_csv('csv_results/combo_human_04_06_09_51.csv')\n",
    "df_pst = pd.read_csv('csv_results/human_04_06_09_44.csv')\n",
    "\n",
    "df_sv.sort_values('set_size', inplace=True)\n",
    "df_hm.sort_values('set_size', inplace=True)\n",
    "df_co.sort_values('set_size', inplace=True)\n",
    "df_pst.sort_values('set_size', inplace=True)\n",
    "\n",
    "exponentials = ['2^1', '2^2', '2^3', '2^4']\n",
    "\n",
    "fig = make_subplots(rows=3, cols=1, shared_yaxes=False, shared_xaxes=True,\n",
    "                    x_title=\"Number of VLMCs\",\n",
    "                    y_title=\"Speedup\",\n",
    "                    subplot_titles=(\"Small\", \"Medium\", \"Large\"), \n",
    "                    horizontal_spacing= 0.02, vertical_spacing= 0.13) # specs=[[{}, {}],[{\"colspan\": 2}, None]])\n",
    "\n",
    "# fig.add_trace(go.Scatter(x=exponentials, y=df_pst[df_pst.vlmc_size=='small']['elapsed_time'], line_color='#EF553B', name=\"Pst\", marker_symbol='x'), 1, 1)\n",
    "fig.add_trace(go.Scatter(x=exponentials, y=list(df_pst[df_pst.vlmc_size=='small']['elapsed_time']) / df_hm[df_hm.vlmc_size=='small']['elapsed_time'], line_color='#FECB52', name=\"hashmap\", marker_symbol='square', line_dash='longdash'), 1, 1)\n",
    "fig.add_trace(go.Scatter(x=exponentials, y=list(df_pst[df_pst.vlmc_size=='small']['elapsed_time']) / df_co[df_co.vlmc_size=='small']['elapsed_time'], line_color='#00CC96', name=\"combo\", marker_symbol='diamond', line_dash='dash'), 1, 1)\n",
    "fig.add_trace(go.Scatter(x=exponentials, y=list(df_pst[df_pst.vlmc_size=='small']['elapsed_time']) / df_sv[df_sv.vlmc_size=='small']['elapsed_time'], line_color='#636EFA', name=\"sorted-vector\", line_dash='dot'), 1, 1)\n",
    "\n",
    "# fig.add_trace(go.Scatter(x=exponentials, y=df_pst[df_pst.vlmc_size=='medium']['elapsed_time'], line_color='#EF553B', name=\"Pst\", marker_symbol='x', showlegend = False), 2, 1)\n",
    "fig.add_trace(go.Scatter(x=exponentials, y=list(df_pst[df_pst.vlmc_size=='medium']['elapsed_time']) / df_hm[df_hm.vlmc_size=='medium']['elapsed_time'], line_color='#FECB52', name=\"hashmap\", marker_symbol='square', showlegend = False, line_dash='longdash'), 2, 1)\n",
    "fig.add_trace(go.Scatter(x=exponentials, y=list(df_pst[df_pst.vlmc_size=='medium']['elapsed_time']) / df_co[df_co.vlmc_size=='medium']['elapsed_time'], line_color='#00CC96', name=\"combo\", marker_symbol='diamond', showlegend = False, line_dash='dash'), 2, 1)\n",
    "fig.add_trace(go.Scatter(x=exponentials, y=list(df_pst[df_pst.vlmc_size=='medium']['elapsed_time']) / df_sv[df_sv.vlmc_size=='medium']['elapsed_time'], line_color='#636EFA', name=\"sorted-vector\", showlegend = False, line_dash='dot'), 2, 1)\n",
    "\n",
    "# fig.add_trace(go.Scatter(x=exponentials, y=df_pst[df_pst.vlmc_size=='large']['elapsed_time'], line_color='#EF553B', name=\"Pst\", marker_symbol='x', showlegend = False), 3, 1)\n",
    "fig.add_trace(go.Scatter(x=exponentials, y=list(df_pst[df_pst.vlmc_size=='large']['elapsed_time']) / df_hm[df_hm.vlmc_size=='large']['elapsed_time'], line_color='#FECB52', name=\"hashmap\", marker_symbol='square', showlegend = False, line_dash='longdash'), 3, 1)\n",
    "fig.add_trace(go.Scatter(x=exponentials, y=list(df_pst[df_pst.vlmc_size=='large']['elapsed_time']) / df_co[df_co.vlmc_size=='large']['elapsed_time'], line_color='#00CC96', name=\"combo\", marker_symbol='diamond', showlegend = False, line_dash='dash'), 3, 1)\n",
    "fig.add_trace(go.Scatter(x=exponentials, y=list(df_pst[df_pst.vlmc_size=='large']['elapsed_time']) / df_sv[df_sv.vlmc_size=='large']['elapsed_time'], line_color='#636EFA', name=\"sorted-vector\", showlegend = False, line_dash='dot'), 3, 1)\n",
    "\n",
    "\n",
    "fig.update_layout(legend=dict(\n",
    "    orientation=\"h\",\n",
    "    yanchor=\"bottom\",\n",
    "    font_size=24,\n",
    "    y=1.08),\n",
    "    margin=dict(l=100, r=60, t=60, b=80),\n",
    "    height=900,\n",
    "    width=900,\n",
    "    plot_bgcolor=\"white\")\n",
    "fig.update_layout(xaxis_range=[0, 3.5])\n",
    "\n",
    "fig.update_xaxes(gridcolor='LightGrey', row=1, col=1)\n",
    "fig.update_yaxes(gridcolor='LightGrey', row=1, col=1)\n",
    "fig.update_yaxes(tickvals=[1, 10, 20, 30, 40], range=[0,50], tickfont_size=20, row=1, col=1)\n",
    "fig.update_xaxes(tickfont_size=20, row=1, col=1)\n",
    "fig.update_xaxes(showline=True, linewidth=1, linecolor='LightGrey', row=1, col=1)\n",
    "fig.update_yaxes(showline=True, linewidth=1, linecolor='LightGrey', row=1, col=1)\n",
    "\n",
    "fig.update_xaxes(gridcolor='LightGrey', row=2, col=1)\n",
    "fig.update_yaxes(gridcolor='LightGrey', row=2, col=1)\n",
    "fig.update_yaxes(tickvals=[1, 10, 20, 30, 40], range=[0,50], tickfont_size=20, row=2, col=1)\n",
    "fig.update_xaxes(tickfont_size=20, row=2, col=1)\n",
    "fig.update_xaxes(showline=True, linewidth=1, linecolor='LightGrey', row=2, col=1)\n",
    "fig.update_yaxes(showline=True, linewidth=1, linecolor='LightGrey', row=2, col=1)\n",
    "\n",
    "fig.update_xaxes(gridcolor='LightGrey', row=3, col=1)\n",
    "fig.update_yaxes(gridcolor='LightGrey', row=3, col=1)\n",
    "fig.update_yaxes(tickvals=[1, 10, 20, 30, 40], range=[0,50], tickfont_size=20, row=3, col=1)\n",
    "fig.update_xaxes(tickfont_size=20, row=3, col=1)\n",
    "fig.update_xaxes(showline=True, linewidth=1, linecolor='LightGrey', row=3, col=1)\n",
    "fig.update_yaxes(showline=True, linewidth=1, linecolor='LightGrey', row=3, col=1)\n",
    "\n",
    "fig.layout.annotations[0][\"font\"] = {'size': 24}\n",
    "fig.layout.annotations[1][\"font\"] = {'size': 24}\n",
    "fig.layout.annotations[2][\"font\"] = {'size': 24}\n",
    "\n",
    "fig.layout.annotations[3][\"font\"] = {'size': 24}\n",
    "fig.layout.annotations[4][\"font\"] = {'size': 24}\n",
    "fig.show()\n",
    "fig.write_image(\"images/human_elapsed_time.pdf\")"
   ]
  },
  {
   "attachments": {},
   "cell_type": "markdown",
   "metadata": {},
   "source": [
    "## Visualizing cache-misses in relation to amount of VLMCs compared"
   ]
  },
  {
   "cell_type": "code",
   "execution_count": null,
   "metadata": {},
   "outputs": [],
   "source": [
    "df_pst = pd.read_csv('csv_results/human_04_06_14_28.csv')\n",
    "df_sv = pd.read_csv('csv_results/sorted-vector_human_04_06_09_49.csv')\n",
    "df_hm = pd.read_csv('csv_results/hashmap_human_04_06_09_50.csv')\n",
    "df_co = pd.read_csv('csv_results/combo_human_04_06_09_51.csv')\n",
    "#df_pst = df[df.implementation=='PstClassifierSeqan']\n",
    "\n",
    "\n",
    "exponentials = ['2^1', '2^2', '2^3', '2^4']\n",
    "\n",
    "fig = make_subplots(rows=3, cols=1, shared_yaxes=False, shared_xaxes=True,\n",
    "                    x_title=\"Number of VLMCs\",\n",
    "                    y_title=\"Cache misses (%)\",\n",
    "                    subplot_titles=(\"Small\", \"Medium\", \"Large\"), \n",
    "                    horizontal_spacing= 0.02, vertical_spacing= 0.13) # specs=[[{}, {}],[{\"colspan\": 2}, None]])\n",
    "\n",
    "fig.add_trace(go.Scatter(x=exponentials, y=df_pst[df_pst.vlmc_size=='small']['cache_misses'], line_color='#EF553B', name=\"Pst\", marker_symbol='x'), 1, 1)\n",
    "fig.add_trace(go.Scatter(x=exponentials, y=df_hm[df_hm.vlmc_size=='small']['cache_misses'], line_color='#FECB52', name=\"hashmap\", marker_symbol='square', line_dash='longdash'), 1, 1)\n",
    "fig.add_trace(go.Scatter(x=exponentials, y=df_co[df_co.vlmc_size=='small']['cache_misses'], line_color='#00CC96', name=\"combo\", marker_symbol='diamond', line_dash='dash'), 1, 1)\n",
    "fig.add_trace(go.Scatter(x=exponentials, y=df_sv[df_sv.vlmc_size=='small']['cache_misses'], line_color='#636EFA', name=\"sorted-vector\", line_dash='dot'), 1, 1)\n",
    "\n",
    "fig.add_trace(go.Scatter(x=exponentials, y=df_pst[df_pst.vlmc_size=='medium']['cache_misses'], line_color='#EF553B', name=\"Pst\", marker_symbol='x', showlegend = False), 2, 1)\n",
    "fig.add_trace(go.Scatter(x=exponentials, y=df_hm[df_hm.vlmc_size=='medium']['cache_misses'], line_color='#FECB52', name=\"hashmap\", marker_symbol='square', showlegend = False, line_dash='longdash'), 2, 1)\n",
    "fig.add_trace(go.Scatter(x=exponentials, y=df_co[df_co.vlmc_size=='medium']['cache_misses'], line_color='#00CC96', name=\"combo\", marker_symbol='diamond', showlegend = False, line_dash='dash'), 2, 1)\n",
    "fig.add_trace(go.Scatter(x=exponentials, y=df_sv[df_sv.vlmc_size=='medium']['cache_misses'], line_color='#636EFA', name=\"sorted-vector\", showlegend = False, line_dash='dot'), 2, 1)\n",
    "\n",
    "fig.add_trace(go.Scatter(x=exponentials, y=df_pst[df_pst.vlmc_size=='large']['cache_misses'], line_color='#EF553B', name=\"Pst\", marker_symbol='x', showlegend = False), 3, 1)\n",
    "fig.add_trace(go.Scatter(x=exponentials, y=df_hm[df_hm.vlmc_size=='large']['cache_misses'], line_color='#FECB52', name=\"hashmap\", marker_symbol='square', showlegend = False, line_dash='longdash'), 3, 1)\n",
    "fig.add_trace(go.Scatter(x=exponentials, y=df_co[df_co.vlmc_size=='large']['cache_misses'], line_color='#00CC96', name=\"combo\", marker_symbol='diamond', showlegend = False, line_dash='dash'), 3, 1)\n",
    "fig.add_trace(go.Scatter(x=exponentials, y=df_sv[df_sv.vlmc_size=='large']['cache_misses'], line_color='#636EFA', name=\"sorted-vector\", showlegend = False, line_dash='dot'), 3, 1)\n",
    "\n",
    "\n",
    "fig.update_layout(legend=dict(\n",
    "    orientation=\"h\",\n",
    "    yanchor=\"bottom\",\n",
    "    font_size=24,\n",
    "    y=1.08),\n",
    "    margin=dict(l=100, r=60, t=60, b=80),\n",
    "    height=800,\n",
    "    width=1200,\n",
    "    plot_bgcolor=\"white\")\n",
    "fig.update_layout(xaxis_range=[0, 3.5])\n",
    "\n",
    "fig.update_xaxes(gridcolor='LightGrey', row=1, col=1)\n",
    "fig.update_yaxes(gridcolor='LightGrey', row=1, col=1)\n",
    "fig.update_yaxes(tickfont_size=20, row=1, col=1)\n",
    "fig.update_xaxes(tickfont_size=20, row=1, col=1)\n",
    "fig.update_xaxes(showline=True, linewidth=1, linecolor='LightGrey', row=1, col=1)\n",
    "fig.update_yaxes(showline=True, linewidth=1, linecolor='LightGrey', row=1, col=1)\n",
    "\n",
    "fig.update_xaxes(gridcolor='LightGrey', row=2, col=1)\n",
    "fig.update_yaxes(gridcolor='LightGrey', row=2, col=1)\n",
    "fig.update_yaxes(tickfont_size=20, row=2, col=1)\n",
    "fig.update_xaxes(tickfont_size=20, row=2, col=1)\n",
    "fig.update_xaxes(showline=True, linewidth=1, linecolor='LightGrey', row=2, col=1)\n",
    "fig.update_yaxes(showline=True, linewidth=1, linecolor='LightGrey', row=2, col=1)\n",
    "\n",
    "fig.update_xaxes(gridcolor='LightGrey', row=3, col=1)\n",
    "fig.update_yaxes(gridcolor='LightGrey', row=3, col=1)\n",
    "fig.update_yaxes(tickfont_size=20, row=3, col=1)\n",
    "fig.update_xaxes(tickfont_size=20, row=3, col=1)\n",
    "fig.update_xaxes(showline=True, linewidth=1, linecolor='LightGrey', row=3, col=1)\n",
    "fig.update_yaxes(showline=True, linewidth=1, linecolor='LightGrey', row=3, col=1)\n",
    "\n",
    "fig.layout.annotations[0][\"font\"] = {'size': 24}\n",
    "fig.layout.annotations[1][\"font\"] = {'size': 24}\n",
    "fig.layout.annotations[2][\"font\"] = {'size': 24}\n",
    "\n",
    "fig.layout.annotations[3][\"font\"] = {'size': 24}\n",
    "fig.layout.annotations[4][\"font\"] = {'size': 24}\n",
    "fig.show()\n",
    "fig.write_image('images/human_cache_misses.pdf')"
   ]
  },
  {
   "attachments": {},
   "cell_type": "markdown",
   "metadata": {},
   "source": [
    "## Visualizing degree of parallelization"
   ]
  },
  {
   "cell_type": "code",
   "execution_count": null,
   "metadata": {},
   "outputs": [],
   "source": [
    "df_pst = pd.read_csv('csv_results/ecoli_04_06_09_44.csv')\n",
    "df_sv = pd.read_csv('csv_results/sorted-vector_ecoli_04_06_10_17.csv')\n",
    "df_pst = df_pst[df_pst.vlmc_size==\"small\"]\n",
    "df_sv = df_sv[df_sv.vlmc_size==\"small\"]\n",
    "\n",
    "exponentials = ['2^1', '2^2', '2^3', '2^4', '2^5', '2^6', '2^7', '2^8', '2^9', '2^10', '2^11', '2^12', '2^13']\n",
    "\n",
    "fig = go.Figure()\n",
    "fig.add_trace(go.Scatter(x=exponentials, y=df_pst['task_clock'], line_color='#00CC96', name=\"Pst\", marker_symbol='diamond', line_dash='dash'))\n",
    "fig.add_trace(go.Scatter(x=exponentials, y=df_sv['task_clock'], line_color='#636EFA', name=\"sorted-vector\"))\n",
    "fig.update_layout(xaxis_range=[1, 12.5])\n",
    "fig.update_layout(legend=dict(\n",
    "    orientation=\"h\",\n",
    "    yanchor=\"bottom\",\n",
    "    font_size=24,\n",
    "    y=1.08),\n",
    "    margin=dict(l=100, r=60, t=60, b=80),\n",
    "    height=600,\n",
    "    width=1200,\n",
    "    plot_bgcolor=\"white\")\n",
    "fig.update_xaxes(gridcolor='LightGrey')\n",
    "fig.update_yaxes(gridcolor='LightGrey')\n",
    "fig.update_yaxes(tickvals=[0, 2, 4, 6, 8, 10, 12], range=[0,12], tickfont_size=20)\n",
    "fig.update_xaxes(tickfont_size=20)\n",
    "fig.update_xaxes(showline=True, linewidth=1, linecolor='LightGrey')\n",
    "fig.update_yaxes(showline=True, linewidth=1, linecolor='LightGrey')\n",
    "fig.update_xaxes(title_text=\"Number of VLMCs\", title_font = {\"size\": 24})\n",
    "fig.update_yaxes(title_text=\"CPUs utilized\", title_font = {\"size\": 24})\n",
    "fig.show()\n",
    "fig.write_image(\"images/ecoli_used_CPU.pdf\")"
   ]
  },
  {
   "attachments": {},
   "cell_type": "markdown",
   "metadata": {},
   "source": [
    "# <b>Visualizing Benchmarking on E-coli Dataset</b>"
   ]
  },
  {
   "attachments": {},
   "cell_type": "markdown",
   "metadata": {},
   "source": [
    "## Visualize time elapsed compared to amount of VLMCs compared"
   ]
  },
  {
   "cell_type": "code",
   "execution_count": null,
   "metadata": {},
   "outputs": [],
   "source": [
    "df_sv = pd.read_csv('csv_results/sorted-vector_ecoli_04_06_10_17.csv')\n",
    "df_hm = pd.read_csv('csv_results/hashmap_ecoli_04_06_10_19.csv')\n",
    "df_co = pd.read_csv('csv_results/combo_ecoli_04_06_10_21.csv')\n",
    "df_pst = pd.read_csv('csv_results/ecoli_04_06_09_44.csv')\n",
    "\n",
    "df_sv.sort_values('set_size', inplace=True)\n",
    "df_hm.sort_values('set_size', inplace=True)\n",
    "df_co.sort_values('set_size', inplace=True)\n",
    "df_pst.sort_values('set_size', inplace=True)\n",
    "\n",
    "df_sv = df_sv[df_sv.set_size > 2**5]\n",
    "df_hm = df_hm[df_hm.set_size > 2**5]\n",
    "df_co = df_co[df_co.set_size > 2**5]\n",
    "df_pst = df_pst[df_pst.set_size > 2**5]\n",
    "\n",
    "exponentials = ['2^6', '2^7', '2^8', '2^9', '2^10', '2^11', '2^12', '2^13']\n",
    "#exponentials = ['2^1', '2^2', '2^3', '2^4', '2^5', '2^6', '2^7', '2^8', '2^9', '2^10', '2^11', '2^12', '2^13']\n",
    "\n",
    "fig = make_subplots(rows=3, cols=1, shared_yaxes=False, shared_xaxes=True,\n",
    "                    x_title=\"Number of VLMCs\",\n",
    "                    y_title=\"Speedup\",\n",
    "                    subplot_titles=(\"Small\", \"Medium\", \"Large\"), \n",
    "                    horizontal_spacing= 0.02, vertical_spacing= 0.13) # specs=[[{}, {}],[{\"colspan\": 2}, None]])\n",
    "\n",
    "# fig.add_trace(go.Scatter(x=exponentials, y=df_pst[df_pst.vlmc_size=='small']['elapsed_time'], line_color='#EF553B', name=\"Pst\", marker_symbol='x'), 1, 1)\n",
    "fig.add_trace(go.Scatter(x=exponentials, y=list(df_pst[df_pst.vlmc_size=='small']['elapsed_time']) / df_hm[df_hm.vlmc_size=='small']['elapsed_time'], line_color='#FECB52', name=\"hashmap\", marker_symbol='square', line_dash='longdash'), 1, 1)\n",
    "fig.add_trace(go.Scatter(x=exponentials, y=list(df_pst[df_pst.vlmc_size=='small']['elapsed_time']) / df_co[df_co.vlmc_size=='small']['elapsed_time'], line_color='#00CC96', name=\"combo\", marker_symbol='diamond', line_dash='dash'), 1, 1)\n",
    "fig.add_trace(go.Scatter(x=exponentials, y=list(df_pst[df_pst.vlmc_size=='small']['elapsed_time']) / df_sv[df_sv.vlmc_size=='small']['elapsed_time'], line_color='#636EFA', name=\"sorted-vector\"), 1, 1)\n",
    "\n",
    "# fig.add_trace(go.Scatter(x=exponentials, y=df_pst[df_pst.vlmc_size=='medium']['elapsed_time'], line_color='#EF553B', name=\"Pst\", marker_symbol='x', showlegend = False), 2, 1)\n",
    "fig.add_trace(go.Scatter(x=exponentials, y=list(df_pst[df_pst.vlmc_size=='medium']['elapsed_time']) / df_hm[df_hm.vlmc_size=='medium']['elapsed_time'], line_color='#FECB52', name=\"hashmap\", marker_symbol='square', showlegend = False, line_dash='longdash'), 2, 1)\n",
    "fig.add_trace(go.Scatter(x=exponentials, y=list(df_pst[df_pst.vlmc_size=='medium']['elapsed_time']) / df_co[df_co.vlmc_size=='medium']['elapsed_time'], line_color='#00CC96', name=\"combo\", marker_symbol='diamond', showlegend = False, line_dash='dash'), 2, 1)\n",
    "fig.add_trace(go.Scatter(x=exponentials, y=list(df_pst[df_pst.vlmc_size=='medium']['elapsed_time']) / df_sv[df_sv.vlmc_size=='medium']['elapsed_time'], line_color='#636EFA', name=\"sorted-vector\", showlegend = False), 2, 1)\n",
    "\n",
    "# fig.add_trace(go.Scatter(x=exponentials, y=df_pst[df_pst.vlmc_size=='large']['elapsed_time'], line_color='#EF553B', name=\"Pst\", marker_symbol='x', showlegend = False), 3, 1)\n",
    "fig.add_trace(go.Scatter(x=exponentials, y=list(df_pst[df_pst.vlmc_size=='large']['elapsed_time']) / df_hm[df_hm.vlmc_size=='large']['elapsed_time'], line_color='#FECB52', name=\"hashmap\", marker_symbol='square', showlegend = False, line_dash='longdash'), 3, 1)\n",
    "fig.add_trace(go.Scatter(x=exponentials, y=list(df_pst[df_pst.vlmc_size=='large']['elapsed_time']) / df_co[df_co.vlmc_size=='large']['elapsed_time'], line_color='#00CC96', name=\"combo\", marker_symbol='diamond', showlegend = False, line_dash='dash'), 3, 1)\n",
    "fig.add_trace(go.Scatter(x=exponentials, y=list(df_pst[df_pst.vlmc_size=='large']['elapsed_time']) / df_sv[df_sv.vlmc_size=='large']['elapsed_time'], line_color='#636EFA', name=\"sorted-vector\", showlegend = False), 3, 1)\n",
    "\n",
    "\n",
    "fig.update_layout(legend=dict(\n",
    "    orientation=\"h\",\n",
    "    yanchor=\"bottom\",\n",
    "    font_size=24,\n",
    "    y=1.08),\n",
    "    margin=dict(l=100, r=60, t=60, b=80),\n",
    "    height=1200,\n",
    "    plot_bgcolor=\"white\")\n",
    "fig.update_layout(xaxis_range=[1, 7.5])\n",
    "\n",
    "fig.update_xaxes(gridcolor='LightGrey', row=1, col=1)\n",
    "fig.update_yaxes(gridcolor='LightGrey', row=1, col=1)\n",
    "fig.update_yaxes(tickvals=[1, 10, 20, 30, 40], range=[0,30], tickfont_size=20, row=1, col=1)\n",
    "fig.update_xaxes(tickfont_size=20, row=1, col=1)\n",
    "fig.update_xaxes(showline=True, linewidth=1, linecolor='LightGrey', row=1, col=1)\n",
    "fig.update_yaxes(showline=True, linewidth=1, linecolor='LightGrey', row=1, col=1)\n",
    "\n",
    "fig.update_xaxes(gridcolor='LightGrey', row=2, col=1)\n",
    "fig.update_yaxes(gridcolor='LightGrey', row=2, col=1)\n",
    "fig.update_yaxes(tickvals=[1, 10, 20, 30, 40], range=[0,30], tickfont_size=20, row=2, col=1)\n",
    "fig.update_xaxes(tickfont_size=20, row=2, col=1)\n",
    "fig.update_xaxes(showline=True, linewidth=1, linecolor='LightGrey', row=2, col=1)\n",
    "fig.update_yaxes(showline=True, linewidth=1, linecolor='LightGrey', row=2, col=1)\n",
    "\n",
    "fig.update_xaxes(gridcolor='LightGrey', row=3, col=1)\n",
    "fig.update_yaxes(gridcolor='LightGrey', row=3, col=1)\n",
    "fig.update_yaxes(tickvals=[1, 10, 20, 30, 40], range=[0,30], tickfont_size=20, row=3, col=1)\n",
    "fig.update_xaxes(tickfont_size=20, row=3, col=1)\n",
    "fig.update_xaxes(showline=True, linewidth=1, linecolor='LightGrey', row=3, col=1)\n",
    "fig.update_yaxes(showline=True, linewidth=1, linecolor='LightGrey', row=3, col=1)\n",
    "\n",
    "fig.layout.annotations[0][\"font\"] = {'size': 24}\n",
    "fig.layout.annotations[1][\"font\"] = {'size': 24}\n",
    "fig.layout.annotations[2][\"font\"] = {'size': 24}\n",
    "\n",
    "fig.layout.annotations[3][\"font\"] = {'size': 24}\n",
    "fig.layout.annotations[4][\"font\"] = {'size': 24}\n",
    "fig.show()\n",
    "fig.write_image(\"images/ecoli_speedup.pdf\")"
   ]
  },
  {
   "attachments": {},
   "cell_type": "markdown",
   "metadata": {},
   "source": [
    "## Cache-misses"
   ]
  },
  {
   "cell_type": "code",
   "execution_count": null,
   "metadata": {},
   "outputs": [],
   "source": [
    "df_sv['set_size'].unique()"
   ]
  },
  {
   "cell_type": "code",
   "execution_count": null,
   "metadata": {},
   "outputs": [],
   "source": [
    "df_sv = pd.read_csv('csv_results/sorted-vector_ecoli_03_20_12_30.csv')\n",
    "df_hm = pd.read_csv('csv_results/hashmap_ecoli_03_20_12_32.csv')\n",
    "df_co = pd.read_csv('csv_results/combo_ecoli_03_20_12_51.csv')\n",
    "df_pst = pd.read_csv('csv_results/ecoli_03_16_09_44.csv')\n",
    "\n",
    "fig = make_subplots(rows=3, cols=1, shared_yaxes=False, \n",
    "                    x_title=\"Amount of VLMCs\",\n",
    "                    y_title=\"Cache misses (%)\",\n",
    "                    subplot_titles=(\"Small\", \"Medium\", \"Large\"), \n",
    "                    horizontal_spacing= 0.02, vertical_spacing= 0.08) # specs=[[{}, {}],[{\"colspan\": 2}, None]])\n",
    "\n",
    "fig.add_trace(go.Scatter(x=df_pst[df_pst.vlmc_size=='small']['set_size'], y=df_pst[df_pst.vlmc_size=='small']['cache_misses'], line_color='#EF553B', name=\"Pst\", marker_symbol='x'), 1, 1)\n",
    "fig.add_trace(go.Scatter(x=df_hm[df_hm.vlmc_size=='small']['set_size'], y=df_hm[df_hm.vlmc_size=='small']['cache_misses'], line_color='#FECB52', name=\"hashmap\", marker_symbol='square'), 1, 1)\n",
    "fig.add_trace(go.Scatter(x=df_co[df_co.vlmc_size=='small']['set_size'], y=df_co[df_co.vlmc_size=='small']['cache_misses'], line_color='#00CC96', name=\"combo\", marker_symbol='diamond'), 1, 1)\n",
    "fig.add_trace(go.Scatter(x=df_sv[df_sv.vlmc_size=='small']['set_size'], y=df_sv[df_sv.vlmc_size=='small']['cache_misses'], line_color='#636EFA', name=\"sorted-vector\"), 1, 1)\n",
    "\n",
    "fig.add_trace(go.Scatter(x=df_pst[df_pst.vlmc_size=='medium']['set_size'], y=df_pst[df_pst.vlmc_size=='medium']['cache_misses'], line_color='#EF553B', name=\"Pst\", marker_symbol='x', showlegend = False), 2, 1)\n",
    "fig.add_trace(go.Scatter(x=df_hm[df_hm.vlmc_size=='medium']['set_size'], y=df_hm[df_hm.vlmc_size=='medium']['cache_misses'], line_color='#FECB52', name=\"hashmap\", marker_symbol='square', showlegend = False), 2, 1)\n",
    "fig.add_trace(go.Scatter(x=df_co[df_co.vlmc_size=='medium']['set_size'], y=df_co[df_co.vlmc_size=='medium']['cache_misses'], line_color='#00CC96', name=\"combo\", marker_symbol='diamond', showlegend = False), 2, 1)\n",
    "fig.add_trace(go.Scatter(x=df_sv[df_sv.vlmc_size=='medium']['set_size'], y=df_sv[df_sv.vlmc_size=='medium']['cache_misses'], line_color='#636EFA', name=\"sorted-vector\", showlegend = False), 2, 1)\n",
    "\n",
    "fig.add_trace(go.Scatter(x=df_pst[df_pst.vlmc_size=='large']['set_size'].apply(log), y=df_pst[df_pst.vlmc_size=='large']['cache_misses'], line_color='#EF553B', name=\"Pst\", marker_symbol='x', showlegend = False), 3, 1)\n",
    "fig.add_trace(go.Scatter(x=df_hm[df_hm.vlmc_size=='large']['set_size'].apply(log), y=df_hm[df_hm.vlmc_size=='large']['cache_misses'], line_color='#FECB52', name=\"hashmap\", marker_symbol='square', showlegend = False), 3, 1)\n",
    "fig.add_trace(go.Scatter(x=df_co[df_co.vlmc_size=='large']['set_size'].apply(log), y=df_co[df_co.vlmc_size=='large']['cache_misses'], line_color='#00CC96', name=\"combo\", marker_symbol='diamond', showlegend = False), 3, 1)\n",
    "fig.add_trace(go.Scatter(x=df_sv[df_sv.vlmc_size=='large']['set_size'].apply(log), y=df_sv[df_sv.vlmc_size=='large']['cache_misses'], line_color='#636EFA', name=\"sorted-vector\", showlegend = False), 3, 1)\n",
    "\n",
    "\n",
    "fig.update_layout(legend=dict(\n",
    "    orientation=\"h\",\n",
    "    yanchor=\"bottom\",\n",
    "    y=1.08),\n",
    "    margin=dict(l=100, r=60, t=60, b=80),\n",
    "    height=800,\n",
    "    plot_bgcolor=\"white\")\n",
    "\n",
    "fig.update_xaxes(gridcolor='LightGrey', row=1, col=1)\n",
    "fig.update_yaxes(gridcolor='LightGrey', row=1, col=1)\n",
    "# fig.update_yaxes(tickvals=[0, 0.1, 0.2, 0.3, 0.4, 0.5], row=1, col=1)\n",
    "fig.update_xaxes(tickvals=list(df_sv[df_sv.vlmc_size=='small']['set_size']), row=1, col=1)\n",
    "fig.update_xaxes(showline=True, linewidth=1, linecolor='LightGrey', row=1, col=1)\n",
    "fig.update_yaxes(showline=True, linewidth=1, linecolor='LightGrey', row=1, col=1)\n",
    "\n",
    "fig.update_xaxes(gridcolor='LightGrey', row=2, col=1)\n",
    "fig.update_yaxes(gridcolor='LightGrey', row=2, col=1)\n",
    "# fig.update_yaxes(tickvals=[0, 1, 2, 3, 4, 5], row=2, col=1)\n",
    "fig.update_xaxes(tickvals=list(df_sv[df_sv.vlmc_size=='small']['set_size']), row=2, col=1)\n",
    "fig.update_xaxes(showline=True, linewidth=1, linecolor='LightGrey', row=2, col=1)\n",
    "fig.update_yaxes(showline=True, linewidth=1, linecolor='LightGrey', row=2, col=1)\n",
    "\n",
    "fig.update_xaxes(gridcolor='LightGrey', row=3, col=1)\n",
    "fig.update_yaxes(gridcolor='LightGrey', row=3, col=1)\n",
    "# fig.update_yaxes(tickvals=[0, 5, 10, 15, 20, 25, 30], row=3, col=1)\n",
    "fig.update_xaxes(tickvals=[ log(x) for x in list(df_sv[df_sv.vlmc_size=='small']['set_size'])], row=3, col=1)\n",
    "fig.update_xaxes(showline=True, linewidth=1, linecolor='LightGrey', row=3, col=1)\n",
    "fig.update_yaxes(showline=True, linewidth=1, linecolor='LightGrey', row=3, col=1)\n",
    "\n",
    "fig.layout.annotations[0][\"font\"] = {'size': 24}\n",
    "fig.layout.annotations[1][\"font\"] = {'size': 24}\n",
    "fig.layout.annotations[2][\"font\"] = {'size': 24}\n",
    "\n",
    "fig.layout.annotations[3][\"font\"] = {'size': 28}\n",
    "fig.layout.annotations[4][\"font\"] = {'size': 28}\n",
    "fig.show()\n",
    "fig.write_image(\"images/ecoli_cache_misses.pdf\")"
   ]
  },
  {
   "cell_type": "code",
   "execution_count": null,
   "metadata": {},
   "outputs": [],
   "source": [
    "df = pd.read_csv('csv_results/03_15_11_44.csv')\n",
    "df_sv = pd.read_csv('csv_results/sorted-vector_human_03_20_12_09.csv')\n",
    "df_hm = pd.read_csv('csv_results/hashmap_human_03_20_12_10.csv')\n",
    "df_co = pd.read_csv('csv_results/combo_human_03_20_12_10.csv')\n",
    "df_pst = df[df.implementation=='PstClassifierSeqan']\n",
    "fig = go.Figure()\n",
    "\n",
    "df_sv['misses_per_instruction'] = (df_sv.cache_misses_count * 100) / df_sv.instructions_count\n",
    "df_pst['misses_per_instruction'] = (df_pst.cache_misses_count * 100) / df_pst.instructions_count\n",
    "\n",
    "for vlmc_size in ['small', 'medium', 'large']:\n",
    "  fig.add_trace(go.Scatter(x=df_pst[df_pst.vlmc_size==vlmc_size]['set_size'], y=df_pst[df_pst.vlmc_size==vlmc_size]['misses_per_instruction'], name=\"PstClassifierSeqan \" + vlmc_size, marker_symbol='x'))\n",
    "  fig.add_trace(go.Scatter(x=df_sv[df_sv.vlmc_size==vlmc_size]['set_size'], y=df_sv[df_sv.vlmc_size==vlmc_size]['misses_per_instruction'], name=\"Sorted-vector \" + vlmc_size))\n",
    " \n",
    "fig.update_layout(title=\"Cache-misses per instruction compared to amount of VLMCs compared (E-coli dataset)\", yaxis_title=\"Cache-misses per instruction (%)\", xaxis_title=\"Size of directory of VLMCs\")\n",
    "\n",
    "fig.show()"
   ]
  },
  {
   "attachments": {},
   "cell_type": "markdown",
   "metadata": {},
   "source": [
    "# <b>Comparison of vlmc container </b>"
   ]
  },
  {
   "cell_type": "code",
   "execution_count": null,
   "metadata": {},
   "outputs": [],
   "source": [
    "df_sv = pd.read_csv('csv_results/sorted-vector_human_03_20_12_09.csv')\n",
    "df_hm = pd.read_csv('csv_results/hashmap_human_03_20_12_10.csv')\n",
    "df_co = pd.read_csv('csv_results/combo_human_03_20_12_10.csv')\n",
    "\n",
    "fig = go.Figure()\n",
    "vlmc_size = 'small'\n",
    "fig.add_trace(go.Scatter(x=df_sv[df_sv.vlmc_size==vlmc_size]['set_size'], y=df_sv[df_sv.vlmc_size==vlmc_size]['elapsed_time'], name=\"sorted-vector \" + vlmc_size))\n",
    "fig.add_trace(go.Scatter(x=df_hm[df_hm.vlmc_size==vlmc_size]['set_size'], y=df_hm[df_hm.vlmc_size==vlmc_size]['elapsed_time'], name=\"hashmap \" + vlmc_size))\n",
    "fig.add_trace(go.Scatter(x=df_co[df_co.vlmc_size==vlmc_size]['set_size'], y=df_co[df_co.vlmc_size==vlmc_size]['elapsed_time'], name=\"combo \" + vlmc_size))\n",
    "fig.update_layout(title=\"Elapsed time compared to amount of VLMCs compared for different vlmc containers (dataset human small)\", yaxis_title=\"Elapsed time (sec)\", xaxis_title=\"Size of directory of VLMCs\")\n",
    "fig.show()\n",
    "\n",
    "fig = go.Figure()\n",
    "vlmc_size = 'medium'\n",
    "fig.add_trace(go.Scatter(x=df_sv[df_sv.vlmc_size==vlmc_size]['set_size'], y=df_sv[df_sv.vlmc_size==vlmc_size]['elapsed_time'], name=\"sorted-vector \" + vlmc_size))\n",
    "fig.add_trace(go.Scatter(x=df_hm[df_hm.vlmc_size==vlmc_size]['set_size'], y=df_hm[df_hm.vlmc_size==vlmc_size]['elapsed_time'], name=\"hashmap \" + vlmc_size))\n",
    "fig.add_trace(go.Scatter(x=df_co[df_co.vlmc_size==vlmc_size]['set_size'], y=df_co[df_co.vlmc_size==vlmc_size]['elapsed_time'], name=\"combo \" + vlmc_size))\n",
    "fig.update_layout(title=\"Elapsed time compared to amount of VLMCs compared for different vlmc containers (dataset human medium)\", yaxis_title=\"Elapsed time (sec)\", xaxis_title=\"Size of directory of VLMCs\")\n",
    "fig.show()\n",
    "\n",
    "fig = go.Figure()\n",
    "vlmc_size = 'large'\n",
    "fig.add_trace(go.Scatter(x=df_sv[df_sv.vlmc_size==vlmc_size]['set_size'], y=df_sv[df_sv.vlmc_size==vlmc_size]['elapsed_time'], name=\"sorted-vector \" + vlmc_size))\n",
    "fig.add_trace(go.Scatter(x=df_hm[df_hm.vlmc_size==vlmc_size]['set_size'], y=df_hm[df_hm.vlmc_size==vlmc_size]['elapsed_time'], name=\"hashmap \" + vlmc_size))\n",
    "fig.add_trace(go.Scatter(x=df_co[df_co.vlmc_size==vlmc_size]['set_size'], y=df_co[df_co.vlmc_size==vlmc_size]['elapsed_time'], name=\"combo \" + vlmc_size))\n",
    "fig.update_layout(title=\"Elapsed time compared to amount of VLMCs compared for different vlmc containers (dataset human large)\", yaxis_title=\"Elapsed time (sec)\", xaxis_title=\"Size of directory of VLMCs\")\n",
    "fig.show()"
   ]
  },
  {
   "cell_type": "code",
   "execution_count": null,
   "metadata": {},
   "outputs": [],
   "source": [
    "df_sv = pd.read_csv('csv_results/sorted-vector_human_03_20_12_09.csv')\n",
    "df_hm = pd.read_csv('csv_results/hashmap_human_03_20_12_10.csv')\n",
    "df_co = pd.read_csv('csv_results/combo_human_03_20_12_10.csv')\n",
    "\n",
    "fig = go.Figure()\n",
    "vlmc_size = 'small'\n",
    "fig.add_trace(go.Scatter(x=df_sv[df_sv.vlmc_size==vlmc_size]['set_size'], y=df_sv[df_sv.vlmc_size==vlmc_size]['cache_misses'], name=\"sorted-vector \" + vlmc_size))\n",
    "fig.add_trace(go.Scatter(x=df_hm[df_hm.vlmc_size==vlmc_size]['set_size'], y=df_hm[df_hm.vlmc_size==vlmc_size]['cache_misses'], name=\"hashmap \" + vlmc_size))\n",
    "fig.add_trace(go.Scatter(x=df_co[df_co.vlmc_size==vlmc_size]['set_size'], y=df_co[df_co.vlmc_size==vlmc_size]['cache_misses'], name=\"combo \" + vlmc_size))\n",
    "fig.update_layout(title=\"Elapsed time compared to amount of VLMCs compared for different vlmc containers (dataset human small)\", yaxis_title=\"Elapsed time (sec)\", xaxis_title=\"Size of directory of VLMCs\")\n",
    "fig.show()\n",
    "\n",
    "fig = go.Figure()\n",
    "vlmc_size = 'medium'\n",
    "fig.add_trace(go.Scatter(x=df_sv[df_sv.vlmc_size==vlmc_size]['set_size'], y=df_sv[df_sv.vlmc_size==vlmc_size]['cache_misses'], name=\"sorted-vector \" + vlmc_size))\n",
    "fig.add_trace(go.Scatter(x=df_hm[df_hm.vlmc_size==vlmc_size]['set_size'], y=df_hm[df_hm.vlmc_size==vlmc_size]['cache_misses'], name=\"hashmap \" + vlmc_size))\n",
    "fig.add_trace(go.Scatter(x=df_co[df_co.vlmc_size==vlmc_size]['set_size'], y=df_co[df_co.vlmc_size==vlmc_size]['cache_misses'], name=\"combo \" + vlmc_size))\n",
    "fig.update_layout(title=\"Elapsed time compared to amount of VLMCs compared for different vlmc containers (dataset human medium)\", yaxis_title=\"Elapsed time (sec)\", xaxis_title=\"Size of directory of VLMCs\")\n",
    "fig.show()\n",
    "\n",
    "fig = go.Figure()\n",
    "vlmc_size = 'large'\n",
    "fig.add_trace(go.Scatter(x=df_sv[df_sv.vlmc_size==vlmc_size]['set_size'], y=df_sv[df_sv.vlmc_size==vlmc_size]['cache_misses'], name=\"sorted-vector \" + vlmc_size))\n",
    "fig.add_trace(go.Scatter(x=df_hm[df_hm.vlmc_size==vlmc_size]['set_size'], y=df_hm[df_hm.vlmc_size==vlmc_size]['cache_misses'], name=\"hashmap \" + vlmc_size))\n",
    "fig.add_trace(go.Scatter(x=df_co[df_co.vlmc_size==vlmc_size]['set_size'], y=df_co[df_co.vlmc_size==vlmc_size]['cache_misses'], name=\"combo \" + vlmc_size))\n",
    "fig.update_layout(title=\"Elapsed time compared to amount of VLMCs compared for different vlmc containers (dataset human large)\", yaxis_title=\"Elapsed time (sec)\", xaxis_title=\"Size of directory of VLMCs\")\n",
    "fig.show()"
   ]
  },
  {
   "cell_type": "code",
   "execution_count": null,
   "metadata": {},
   "outputs": [],
   "source": [
    "df_sv = pd.read_csv('csv_results/sorted-vector_ecoli_03_20_12_30.csv')\n",
    "df_hm = pd.read_csv('csv_results/hashmap_ecoli_03_20_12_32.csv')\n",
    "df_co = pd.read_csv('csv_results/combo_ecoli_03_20_12_51.csv')\n",
    "\n",
    "fig = go.Figure()\n",
    "vlmc_size = 'small'\n",
    "fig.add_trace(go.Scatter(x=df_sv[df_sv.vlmc_size==vlmc_size]['set_size'], y=df_sv[df_sv.vlmc_size==vlmc_size]['elapsed_time'], name=\"sorted-vector \" + vlmc_size))\n",
    "fig.add_trace(go.Scatter(x=df_hm[df_hm.vlmc_size==vlmc_size]['set_size'], y=df_hm[df_hm.vlmc_size==vlmc_size]['elapsed_time'], name=\"hashmap \" + vlmc_size))\n",
    "fig.add_trace(go.Scatter(x=df_co[df_co.vlmc_size==vlmc_size]['set_size'], y=df_co[df_co.vlmc_size==vlmc_size]['elapsed_time'], name=\"combo \" + vlmc_size))\n",
    "fig.update_layout(title=\"Elapsed time compared to amount of VLMCs compared for different vlmc containers (E-coli dataset small)\", yaxis_title=\"Elapsed time (sec)\", xaxis_title=\"Size of directory of VLMCs\")\n",
    "fig.show()\n",
    "\n",
    "fig = go.Figure()\n",
    "vlmc_size = 'medium'\n",
    "fig.add_trace(go.Scatter(x=df_sv[df_sv.vlmc_size==vlmc_size]['set_size'], y=df_sv[df_sv.vlmc_size==vlmc_size]['elapsed_time'], name=\"sorted-vector \" + vlmc_size))\n",
    "fig.add_trace(go.Scatter(x=df_hm[df_hm.vlmc_size==vlmc_size]['set_size'], y=df_hm[df_hm.vlmc_size==vlmc_size]['elapsed_time'], name=\"hashmap \" + vlmc_size))\n",
    "fig.add_trace(go.Scatter(x=df_co[df_co.vlmc_size==vlmc_size]['set_size'], y=df_co[df_co.vlmc_size==vlmc_size]['elapsed_time'], name=\"combo \" + vlmc_size))\n",
    "fig.update_layout(title=\"Elapsed time compared to amount of VLMCs compared for different vlmc containers (E-coli dataset medium)\", yaxis_title=\"Elapsed time (sec)\", xaxis_title=\"Size of directory of VLMCs\")\n",
    "fig.show()\n",
    "\n",
    "fig = go.Figure()\n",
    "vlmc_size = 'large'\n",
    "fig.add_trace(go.Scatter(x=df_sv[df_sv.vlmc_size==vlmc_size]['set_size'], y=df_sv[df_sv.vlmc_size==vlmc_size]['elapsed_time'], name=\"sorted-vector \" + vlmc_size))\n",
    "fig.add_trace(go.Scatter(x=df_hm[df_hm.vlmc_size==vlmc_size]['set_size'], y=df_hm[df_hm.vlmc_size==vlmc_size]['elapsed_time'], name=\"hashmap \" + vlmc_size))\n",
    "fig.add_trace(go.Scatter(x=df_co[df_co.vlmc_size==vlmc_size]['set_size'], y=df_co[df_co.vlmc_size==vlmc_size]['elapsed_time'], name=\"combo \" + vlmc_size))\n",
    "fig.update_layout(title=\"Elapsed time compared to amount of VLMCs compared for different vlmc containers (E-coli dataset large)\", yaxis_title=\"Elapsed time (sec)\", xaxis_title=\"Size of directory of VLMCs\")\n",
    "fig.show()"
   ]
  },
  {
   "cell_type": "code",
   "execution_count": null,
   "metadata": {},
   "outputs": [],
   "source": [
    "df_sv = pd.read_csv('csv_results/sorted-vector_ecoli_03_20_12_30.csv')\n",
    "df_hm = pd.read_csv('csv_results/hashmap_ecoli_03_20_12_32.csv')\n",
    "df_co = pd.read_csv('csv_results/combo_ecoli_03_20_12_51.csv')\n",
    "\n",
    "fig = go.Figure()\n",
    "vlmc_size = 'small'\n",
    "fig.add_trace(go.Scatter(x=df_sv[df_sv.vlmc_size==vlmc_size]['set_size'], y=df_sv[df_sv.vlmc_size==vlmc_size]['cache_misses'], name=\"sorted-vector \" + vlmc_size))\n",
    "fig.add_trace(go.Scatter(x=df_hm[df_hm.vlmc_size==vlmc_size]['set_size'], y=df_hm[df_hm.vlmc_size==vlmc_size]['cache_misses'], name=\"hashmap \" + vlmc_size))\n",
    "fig.add_trace(go.Scatter(x=df_co[df_co.vlmc_size==vlmc_size]['set_size'], y=df_co[df_co.vlmc_size==vlmc_size]['cache_misses'], name=\"combo \" + vlmc_size))\n",
    "fig.update_layout(title=\"Cache-misses compared to amount of VLMCs compared for different vlmc containers (E-coli dataset small)\", yaxis_title=\"Cache-misses (%)\", xaxis_title=\"Size of directory of VLMCs\")\n",
    "fig.show()\n",
    "\n",
    "fig = go.Figure()\n",
    "vlmc_size = 'medium'\n",
    "fig.add_trace(go.Scatter(x=df_sv[df_sv.vlmc_size==vlmc_size]['set_size'], y=df_sv[df_sv.vlmc_size==vlmc_size]['cache_misses'], name=\"sorted-vector \" + vlmc_size))\n",
    "fig.add_trace(go.Scatter(x=df_hm[df_hm.vlmc_size==vlmc_size]['set_size'], y=df_hm[df_hm.vlmc_size==vlmc_size]['cache_misses'], name=\"hashmap \" + vlmc_size))\n",
    "fig.add_trace(go.Scatter(x=df_co[df_co.vlmc_size==vlmc_size]['set_size'], y=df_co[df_co.vlmc_size==vlmc_size]['cache_misses'], name=\"combo \" + vlmc_size))\n",
    "fig.update_layout(title=\"Cache-misses compared to amount of VLMCs compared for different vlmc containers (E-coli dataset medium)\", yaxis_title=\"Cache-misses (%)\", xaxis_title=\"Size of directory of VLMCs\")\n",
    "fig.show()\n",
    "\n",
    "fig = go.Figure()\n",
    "vlmc_size = 'large'\n",
    "fig.add_trace(go.Scatter(x=df_sv[df_sv.vlmc_size==vlmc_size]['set_size'], y=df_sv[df_sv.vlmc_size==vlmc_size]['cache_misses'], name=\"sorted-vector \" + vlmc_size))\n",
    "fig.add_trace(go.Scatter(x=df_hm[df_hm.vlmc_size==vlmc_size]['set_size'], y=df_hm[df_hm.vlmc_size==vlmc_size]['cache_misses'], name=\"hashmap \" + vlmc_size))\n",
    "fig.add_trace(go.Scatter(x=df_co[df_co.vlmc_size==vlmc_size]['set_size'], y=df_co[df_co.vlmc_size==vlmc_size]['cache_misses'], name=\"combo \" + vlmc_size))\n",
    "fig.update_layout(title=\"Cache-misses compared to amount of VLMCs compared for different vlmc containers (E-coli dataset large)\", yaxis_title=\"Cache-misses (%)\", xaxis_title=\"Size of directory of VLMCs\")\n",
    "fig.show()"
   ]
  },
  {
   "attachments": {},
   "cell_type": "markdown",
   "metadata": {},
   "source": [
    "# <b>Parameter Sweep for combo container </b>"
   ]
  },
  {
   "attachments": {},
   "cell_type": "markdown",
   "metadata": {},
   "source": [
    "## Human dataset"
   ]
  },
  {
   "cell_type": "code",
   "execution_count": null,
   "metadata": {},
   "outputs": [],
   "source": [
    "df = pd.read_csv('csv_results/parameter_sweep_human_03_20_10_33.csv')\n",
    "df['mean_elapsed_time'] = df.groupby(['vlmc_size', 'combo_init_size'])['elapsed_time'].transform('mean')\n",
    "df.sort_values('combo_init_size', inplace=True)\n",
    "fig = px.line(df, x='combo_init_size', y='mean_elapsed_time', color='vlmc_size')\n",
    "\n",
    "fig.update_layout(title=\"Elapsed time with different initial sizes for index by value vector\", yaxis_title=\"Elapsed time (sec)\", xaxis_title=\"Initial size for index by value vector\")\n",
    "\n",
    "fig.show()\n",
    "\n",
    "df.groupby('vlmc_size').mean_elapsed_time.min()"
   ]
  },
  {
   "cell_type": "code",
   "execution_count": null,
   "metadata": {},
   "outputs": [],
   "source": [
    "df = pd.read_csv('csv_results/parameter_sweep_ecoli_03_20_10_40.csv')\n",
    "df['mean_elapsed_time'] = df.groupby(['vlmc_size', 'combo_init_size'])['elapsed_time'].transform('mean')\n",
    "df.sort_values('combo_init_size', inplace=True)\n",
    "fig = px.line(df, x='combo_init_size', y='mean_elapsed_time', color='vlmc_size')\n",
    "\n",
    "fig.update_layout(title=\"Elapsed time with different initial sizes for index by value vector\", yaxis_title=\"Elapsed time (sec)\", xaxis_title=\"Initial size for index by value vector\")\n",
    "\n",
    "fig.show()\n",
    "\n",
    "df.groupby('vlmc_size').mean_elapsed_time.min()"
   ]
  },
  {
   "attachments": {},
   "cell_type": "markdown",
   "metadata": {},
   "source": [
    "# <b>Kmer distributions </b>"
   ]
  },
  {
   "cell_type": "code",
   "execution_count": 6,
   "metadata": {},
   "outputs": [
    {
     "data": {
      "application/vnd.plotly.v1+json": {
       "config": {
        "plotlyServerURL": "https://plot.ly"
       },
       "data": [
        {
         "hovertemplate": "x=%{x}<br>y=%{y}<extra></extra>",
         "legendgroup": "",
         "marker": {
          "color": "#636efa",
          "symbol": "circle"
         },
         "mode": "markers",
         "name": "",
         "orientation": "v",
         "showlegend": false,
         "type": "scatter",
         "x": [
          0,
          1000,
          2000,
          3000,
          4000,
          5000,
          6000,
          7000,
          8000,
          9000,
          10000,
          11000,
          12000,
          13000,
          14000,
          15000,
          16000,
          17000,
          18000,
          19000,
          20000,
          21000,
          22000,
          23000,
          24000,
          25000,
          26000,
          27000,
          28000,
          29000,
          30000,
          31000,
          32000,
          33000,
          34000,
          35000,
          36000,
          37000,
          38000,
          39000,
          40000,
          41000,
          42000,
          43000,
          44000,
          45000,
          46000,
          47000,
          48000,
          49000,
          50000,
          51000,
          52000,
          53000,
          54000,
          55000,
          56000,
          57000,
          58000,
          59000,
          60000,
          61000,
          62000,
          63000,
          64000,
          65000,
          66000,
          67000,
          68000,
          69000,
          70000,
          71000,
          72000,
          73000,
          74000,
          75000,
          76000,
          77000,
          78000,
          79000,
          80000,
          81000,
          82000,
          83000,
          84000,
          85000,
          86000,
          87000,
          88000,
          89000,
          90000,
          91000,
          92000,
          93000,
          94000,
          95000,
          96000,
          97000,
          98000,
          99000,
          100000,
          101000,
          102000,
          103000,
          104000,
          105000,
          106000,
          107000,
          108000,
          109000,
          110000,
          111000,
          112000,
          113000,
          114000,
          115000,
          116000,
          117000,
          118000,
          119000,
          120000,
          121000,
          122000,
          123000,
          124000,
          125000,
          126000,
          127000,
          128000,
          129000,
          130000,
          131000,
          132000,
          133000,
          134000,
          135000,
          136000,
          137000,
          138000,
          139000,
          140000,
          141000,
          142000,
          143000,
          144000,
          145000,
          146000,
          147000,
          148000,
          149000,
          150000,
          151000,
          152000,
          153000,
          154000,
          155000,
          156000,
          157000,
          158000,
          159000,
          160000,
          161000,
          162000,
          163000,
          164000,
          165000,
          166000,
          167000,
          168000,
          169000,
          170000,
          171000,
          172000,
          173000,
          174000,
          175000,
          176000,
          177000,
          178000,
          179000,
          180000,
          181000,
          182000,
          183000,
          184000,
          185000,
          186000,
          187000,
          188000,
          189000,
          190000,
          191000,
          192000,
          193000,
          194000,
          195000,
          196000,
          197000,
          198000,
          199000,
          200000,
          201000,
          202000,
          203000,
          204000,
          205000,
          206000,
          207000,
          208000,
          209000,
          210000,
          211000,
          212000,
          213000,
          214000,
          215000,
          216000,
          217000,
          218000,
          219000,
          220000,
          221000,
          222000,
          223000,
          224000,
          225000,
          226000,
          227000,
          228000,
          229000,
          230000,
          231000,
          232000,
          233000,
          234000,
          235000,
          236000,
          237000,
          238000,
          239000,
          240000,
          241000,
          242000,
          243000,
          244000,
          245000,
          246000,
          247000,
          248000,
          249000,
          250000,
          251000,
          252000,
          253000,
          254000,
          255000,
          256000,
          257000,
          258000,
          259000,
          260000,
          261000,
          262000,
          263000,
          264000,
          265000,
          266000,
          267000,
          268000,
          269000,
          270000,
          271000,
          272000,
          273000,
          274000,
          275000,
          276000,
          277000,
          278000,
          279000,
          280000,
          281000,
          282000,
          283000,
          284000,
          285000,
          286000,
          287000,
          288000,
          289000,
          290000,
          291000,
          292000,
          293000,
          294000,
          295000,
          296000,
          297000,
          298000,
          299000,
          300000,
          301000,
          302000,
          303000,
          304000,
          305000,
          306000,
          307000,
          308000,
          309000,
          310000,
          311000,
          312000,
          313000,
          314000,
          315000,
          316000,
          317000,
          318000,
          319000,
          320000,
          321000,
          322000,
          323000,
          324000,
          325000,
          326000,
          327000,
          328000,
          329000,
          330000,
          331000,
          332000,
          333000,
          334000,
          335000,
          336000,
          337000,
          338000,
          339000,
          340000,
          341000,
          342000,
          343000,
          344000,
          345000,
          346000,
          347000,
          348000,
          349000,
          350000,
          351000,
          352000,
          353000,
          354000,
          355000,
          356000,
          357000,
          358000,
          359000,
          360000,
          361000,
          362000,
          363000,
          364000,
          365000,
          366000,
          367000,
          368000,
          369000,
          370000,
          371000,
          372000,
          373000,
          374000,
          375000,
          376000,
          377000,
          378000,
          379000,
          380000,
          381000,
          382000,
          383000,
          384000,
          385000,
          386000,
          387000,
          388000,
          389000,
          390000,
          391000,
          392000,
          393000,
          394000,
          395000,
          396000,
          397000,
          398000,
          399000,
          400000,
          401000,
          402000,
          403000,
          404000,
          405000,
          406000,
          407000,
          408000,
          409000,
          410000,
          411000,
          412000,
          413000,
          414000,
          415000,
          416000,
          417000,
          418000,
          419000,
          420000,
          421000,
          422000,
          423000,
          424000,
          425000,
          426000,
          427000,
          428000,
          429000,
          430000,
          431000,
          432000,
          433000,
          434000,
          435000,
          436000,
          437000,
          438000,
          439000,
          440000,
          441000,
          442000,
          443000,
          444000,
          445000,
          446000,
          447000,
          448000,
          449000,
          450000,
          451000,
          452000,
          453000,
          454000,
          455000,
          456000,
          457000,
          458000,
          459000,
          460000,
          461000,
          462000,
          463000,
          464000,
          465000,
          466000,
          467000,
          468000,
          469000,
          470000,
          471000,
          472000,
          473000,
          474000,
          475000,
          476000,
          477000,
          478000,
          479000,
          480000,
          481000,
          482000,
          483000,
          484000,
          485000,
          486000,
          487000,
          488000,
          489000,
          490000,
          491000,
          492000,
          493000,
          494000,
          495000,
          496000,
          497000,
          498000,
          499000,
          500000,
          501000,
          502000,
          503000,
          504000,
          505000,
          506000,
          507000,
          508000,
          509000,
          510000,
          511000,
          512000,
          513000,
          514000,
          515000,
          516000,
          517000,
          518000,
          519000,
          520000,
          521000,
          522000,
          523000,
          524000,
          525000,
          526000,
          527000,
          528000,
          529000,
          530000,
          531000,
          532000,
          533000,
          534000,
          535000,
          536000,
          537000,
          538000,
          539000,
          540000,
          541000,
          542000,
          543000,
          544000,
          545000,
          546000,
          547000,
          548000,
          549000,
          550000,
          551000,
          552000,
          553000,
          554000,
          555000,
          556000,
          557000,
          558000,
          559000,
          560000,
          561000,
          562000,
          563000,
          564000,
          565000,
          566000,
          567000,
          568000,
          569000,
          570000,
          571000,
          572000,
          573000,
          574000,
          575000,
          576000,
          577000,
          578000,
          579000,
          580000,
          581000,
          582000,
          583000,
          584000,
          585000,
          586000,
          587000,
          588000,
          589000,
          590000,
          591000,
          592000,
          593000,
          594000,
          595000,
          596000,
          597000,
          598000,
          599000,
          600000,
          601000,
          602000,
          603000,
          604000,
          605000,
          606000,
          607000,
          608000,
          609000,
          610000,
          611000,
          612000,
          613000,
          614000,
          615000,
          616000,
          617000,
          618000,
          619000,
          620000,
          621000,
          622000,
          623000,
          624000,
          625000,
          626000,
          627000,
          628000,
          629000,
          630000,
          631000,
          632000,
          633000,
          634000,
          635000,
          636000,
          637000,
          638000,
          639000,
          640000,
          641000,
          642000,
          643000,
          644000,
          645000,
          646000,
          647000,
          648000,
          649000,
          650000,
          651000,
          652000,
          653000,
          654000,
          655000,
          656000,
          657000,
          658000,
          659000,
          660000,
          661000,
          662000,
          663000,
          664000,
          665000,
          666000,
          667000,
          668000,
          669000,
          670000,
          671000,
          672000,
          673000,
          674000,
          675000,
          676000,
          677000,
          678000,
          679000,
          680000,
          681000,
          682000,
          683000,
          684000,
          685000,
          686000,
          687000,
          688000,
          689000,
          690000,
          691000,
          692000,
          693000,
          694000,
          695000,
          696000,
          697000,
          698000,
          699000,
          700000,
          701000,
          702000,
          703000,
          704000,
          705000,
          706000,
          707000,
          708000,
          709000,
          710000,
          711000,
          712000,
          713000,
          714000,
          715000,
          716000,
          717000,
          718000,
          719000,
          720000,
          721000,
          722000,
          723000,
          724000,
          725000,
          726000,
          727000,
          728000,
          729000,
          730000,
          731000,
          732000,
          733000,
          734000,
          735000,
          736000,
          737000,
          738000,
          739000,
          740000,
          741000,
          742000,
          743000,
          744000,
          745000,
          746000,
          747000,
          748000,
          749000,
          750000,
          751000,
          752000,
          753000,
          754000,
          755000,
          756000,
          757000,
          758000,
          759000,
          760000,
          761000,
          762000,
          763000,
          764000,
          765000,
          766000,
          767000,
          768000,
          769000,
          770000,
          771000,
          772000,
          773000,
          774000,
          775000,
          776000,
          777000,
          778000,
          779000,
          780000,
          781000,
          782000,
          783000,
          784000,
          785000,
          786000,
          787000,
          788000,
          789000,
          790000,
          791000,
          792000,
          793000,
          794000,
          795000,
          796000,
          797000,
          798000,
          799000,
          800000,
          801000,
          802000,
          803000,
          804000,
          805000,
          806000,
          807000,
          808000,
          809000,
          810000,
          811000,
          812000,
          813000,
          814000,
          815000,
          816000,
          817000,
          818000,
          819000,
          820000,
          821000,
          822000,
          823000,
          824000,
          825000,
          826000,
          827000,
          828000,
          829000,
          830000,
          831000,
          832000,
          833000,
          834000,
          835000,
          836000,
          837000,
          838000,
          839000,
          840000,
          841000,
          842000,
          843000,
          844000,
          845000,
          846000,
          847000,
          848000,
          849000,
          850000,
          851000,
          852000,
          853000,
          854000,
          855000,
          856000,
          857000,
          858000,
          859000,
          860000,
          861000,
          862000,
          863000,
          864000,
          865000,
          866000,
          867000,
          868000,
          869000,
          870000,
          871000,
          872000,
          873000,
          874000,
          875000,
          876000,
          877000,
          878000,
          879000,
          880000,
          881000,
          882000,
          883000,
          884000,
          885000,
          886000,
          887000
         ],
         "xaxis": "x",
         "y": [
          1,
          1001,
          2001,
          3001,
          4001,
          5001,
          6001,
          7000,
          7998,
          8996,
          9996,
          10996,
          11991,
          12987,
          13987,
          14987,
          15986,
          16984,
          17983,
          18981,
          19978,
          20977,
          21974,
          22949,
          23884,
          24857,
          25812,
          26792,
          27730,
          28586,
          29543,
          30524,
          31479,
          32467,
          33421,
          34360,
          35282,
          36255,
          37218,
          38197,
          39156,
          40144,
          41115,
          42100,
          43068,
          43982,
          44925,
          45801,
          46686,
          47592,
          48419,
          49325,
          50279,
          51261,
          52221,
          53191,
          54151,
          55106,
          56070,
          57040,
          58020,
          58926,
          59827,
          60804,
          61786,
          62762,
          63720,
          64680,
          65621,
          66557,
          67524,
          68479,
          69424,
          70307,
          71242,
          72194,
          73178,
          74089,
          74954,
          75936,
          76910,
          77872,
          78860,
          79825,
          80758,
          81699,
          82669,
          83632,
          84484,
          85261,
          86067,
          86864,
          87705,
          88393,
          88971,
          89780,
          90628,
          91380,
          92156,
          92909,
          93634,
          94436,
          95245,
          96048,
          96799,
          97636,
          98431,
          99253,
          99994,
          100534,
          101271,
          101755,
          102254,
          102753,
          103475,
          104235,
          105002,
          105817,
          106640,
          107430,
          108239,
          109044,
          109872,
          110498,
          111204,
          112012,
          112812,
          113613,
          114382,
          115083,
          115799,
          116617,
          117400,
          118109,
          118734,
          119454,
          120255,
          121021,
          121536,
          122277,
          123096,
          123825,
          124637,
          125439,
          126199,
          126933,
          127734,
          128566,
          129398,
          130142,
          130934,
          131731,
          132589,
          133279,
          134009,
          134873,
          135694,
          136551,
          137372,
          138097,
          138820,
          139668,
          140472,
          141289,
          142081,
          142939,
          143741,
          144572,
          145308,
          145908,
          146675,
          147209,
          147781,
          148283,
          149008,
          149841,
          150669,
          151438,
          151905,
          152486,
          152952,
          153531,
          154128,
          154685,
          155249,
          155846,
          156523,
          156989,
          157450,
          158102,
          158624,
          159329,
          159991,
          160666,
          161475,
          162338,
          162986,
          163755,
          164586,
          165373,
          166256,
          167091,
          167832,
          168603,
          169438,
          170295,
          171107,
          171819,
          172583,
          173357,
          174144,
          174770,
          175414,
          176238,
          177013,
          177828,
          178582,
          179278,
          179978,
          180797,
          181569,
          182335,
          183097,
          183912,
          184697,
          185511,
          186162,
          186842,
          187514,
          188052,
          188596,
          189214,
          189962,
          190764,
          191516,
          192307,
          193026,
          193828,
          194609,
          195400,
          196168,
          196816,
          197608,
          198390,
          199189,
          199914,
          200659,
          201349,
          202095,
          202841,
          203557,
          204157,
          204853,
          205536,
          206299,
          206917,
          207517,
          208328,
          209142,
          209949,
          210755,
          211479,
          212167,
          212939,
          213733,
          214529,
          215196,
          215921,
          216698,
          217483,
          218020,
          218637,
          219419,
          220109,
          220857,
          221606,
          222338,
          223011,
          223787,
          224590,
          225388,
          226155,
          226966,
          227770,
          228614,
          229240,
          229945,
          230503,
          231009,
          231453,
          232078,
          232851,
          233688,
          234514,
          235354,
          236077,
          236941,
          237746,
          238585,
          239368,
          239974,
          240758,
          241582,
          242394,
          243215,
          244006,
          244766,
          245517,
          246307,
          247093,
          247835,
          248497,
          249242,
          250085,
          250835,
          251371,
          252226,
          253047,
          253813,
          254634,
          255431,
          256234,
          256997,
          257814,
          258536,
          259001,
          259397,
          259827,
          260176,
          260600,
          260995,
          261363,
          261732,
          262107,
          262554,
          262952,
          263370,
          263792,
          264147,
          264367,
          264728,
          265121,
          265554,
          265998,
          266385,
          266834,
          267211,
          267651,
          268060,
          268452,
          268848,
          269280,
          269657,
          270013,
          270422,
          270752,
          271146,
          271548,
          271986,
          272361,
          272744,
          273216,
          273654,
          274059,
          274538,
          274935,
          275440,
          275910,
          276397,
          276795,
          277215,
          277640,
          278062,
          278482,
          278939,
          279262,
          279582,
          279870,
          280254,
          280642,
          280882,
          281131,
          281401,
          281680,
          281925,
          282245,
          282561,
          283028,
          283429,
          283864,
          284320,
          284769,
          285124,
          285531,
          285982,
          286362,
          286750,
          287162,
          287529,
          288022,
          288404,
          288760,
          289189,
          289578,
          289997,
          290411,
          290857,
          291247,
          291570,
          291883,
          292290,
          292645,
          293019,
          293392,
          293801,
          294208,
          294621,
          294988,
          295325,
          295692,
          296098,
          296418,
          296763,
          297087,
          297485,
          297954,
          298404,
          298760,
          299158,
          299598,
          299915,
          300324,
          300654,
          301056,
          301397,
          301758,
          302112,
          302516,
          302971,
          303360,
          303802,
          304176,
          304531,
          304784,
          305219,
          305619,
          306077,
          306518,
          306916,
          307315,
          307685,
          308123,
          308570,
          308973,
          309348,
          309802,
          310202,
          310553,
          310966,
          311377,
          311771,
          312178,
          312585,
          313014,
          313478,
          313983,
          314477,
          314880,
          315316,
          315737,
          316079,
          316523,
          316901,
          317289,
          317662,
          318064,
          318503,
          318942,
          319341,
          319763,
          320129,
          320381,
          320693,
          321142,
          321605,
          322076,
          322540,
          322983,
          323416,
          323854,
          324349,
          324766,
          325171,
          325624,
          326052,
          326393,
          326772,
          327187,
          327537,
          327938,
          328333,
          328728,
          329101,
          329518,
          329991,
          330403,
          330811,
          331308,
          331708,
          332180,
          332665,
          333180,
          333587,
          334023,
          334486,
          334937,
          335418,
          335841,
          336230,
          336567,
          336854,
          337204,
          337690,
          338067,
          338290,
          338618,
          338894,
          339156,
          339452,
          339770,
          340116,
          340631,
          341046,
          341511,
          341960,
          342474,
          342852,
          343269,
          343623,
          343808,
          344046,
          344365,
          344637,
          344882,
          345127,
          345425,
          345792,
          346147,
          346411,
          346712,
          346990,
          347264,
          347534,
          347857,
          348185,
          348490,
          348742,
          348995,
          349184,
          349438,
          349758,
          350096,
          350332,
          350658,
          350985,
          351381,
          351732,
          352088,
          352473,
          352834,
          353175,
          353533,
          353980,
          354430,
          354850,
          355312,
          355699,
          356006,
          356333,
          356811,
          357288,
          357718,
          358181,
          358621,
          359071,
          359444,
          359899,
          360390,
          360848,
          361251,
          361752,
          362175,
          362508,
          362880,
          363312,
          363708,
          364175,
          364584,
          365032,
          365467,
          365991,
          366531,
          366995,
          367428,
          367877,
          368202,
          368628,
          369021,
          369396,
          369794,
          370209,
          370655,
          371032,
          371455,
          371905,
          372221,
          372563,
          372838,
          373242,
          373631,
          374111,
          374563,
          375040,
          375499,
          375920,
          376376,
          376827,
          377262,
          377659,
          378122,
          378501,
          378809,
          379225,
          379610,
          380000,
          380401,
          380829,
          381249,
          381673,
          382115,
          382524,
          382931,
          383359,
          383786,
          384208,
          384683,
          385159,
          385554,
          385922,
          386347,
          386799,
          387299,
          387728,
          388151,
          388509,
          388796,
          389098,
          389562,
          390013,
          390264,
          390523,
          390778,
          391046,
          391296,
          391651,
          391977,
          392453,
          392849,
          393317,
          393756,
          394271,
          394644,
          395075,
          395527,
          395911,
          396278,
          396720,
          397039,
          397490,
          397935,
          398371,
          398744,
          399183,
          399589,
          400009,
          400440,
          400888,
          401226,
          401584,
          401891,
          402298,
          402710,
          403091,
          403483,
          403882,
          404266,
          404690,
          405079,
          405419,
          405788,
          406206,
          406561,
          406885,
          407220,
          407528,
          407939,
          408381,
          408872,
          409236,
          409619,
          410030,
          410345,
          410695,
          410987,
          411330,
          411651,
          411989,
          412291,
          412678,
          413088,
          413496,
          413902,
          414250,
          414586,
          414850,
          415311,
          415752,
          416194,
          416693,
          417154,
          417617,
          417987,
          418433,
          418928,
          419395,
          419764,
          420258,
          420636,
          420978,
          421358,
          421712,
          422123,
          422515,
          422931,
          423349,
          423796,
          424316,
          424769,
          425155,
          425567,
          425882,
          426291,
          426637,
          426972,
          427338,
          427721,
          428129,
          428547,
          428963,
          429355,
          429661,
          429847,
          430179,
          430565,
          430964,
          431376,
          431798,
          432228,
          432594,
          432968,
          433284,
          433637,
          434042,
          434419,
          434754,
          435142,
          435525,
          435885,
          436241,
          436624,
          437031,
          437432,
          437919,
          438337,
          438767,
          439229,
          439662,
          440082,
          440524,
          440987,
          441374,
          441772,
          442192,
          442636,
          443064,
          443517,
          443916,
          444259,
          444529,
          444913,
          445397,
          445699,
          445946,
          446233,
          446480,
          446714,
          447039,
          447382,
          447857,
          448284,
          448712,
          449154,
          449619,
          449990,
          450422,
          450874,
          451299,
          451684,
          452111,
          452458,
          452930,
          453402,
          453809,
          454170,
          454610,
          455017,
          455475,
          455869,
          456242,
          456637,
          456885,
          457277,
          457683,
          458073,
          458450,
          458876,
          459311,
          459689,
          460102,
          460442,
          460806,
          461189,
          461643,
          461985,
          462330,
          462684,
          463089,
          463535,
          464011,
          464392,
          464790,
          465242,
          465578,
          465974,
          466279,
          466642,
          466981,
          467364,
          467701,
          468138,
          468595,
          469018,
          469478,
          469818,
          470150,
          470406,
          470895,
          471355,
          471819,
          472260,
          472666,
          473090,
          473453,
          473925,
          474375,
          474830,
          475228,
          475690,
          476096,
          476456,
          476903,
          477286,
          477749,
          478180,
          478612,
          479073,
          479553,
          480104
         ],
         "yaxis": "y"
        }
       ],
       "layout": {
        "legend": {
         "tracegroupgap": 0
        },
        "margin": {
         "t": 60
        },
        "template": {
         "data": {
          "bar": [
           {
            "error_x": {
             "color": "#2a3f5f"
            },
            "error_y": {
             "color": "#2a3f5f"
            },
            "marker": {
             "line": {
              "color": "#E5ECF6",
              "width": 0.5
             },
             "pattern": {
              "fillmode": "overlay",
              "size": 10,
              "solidity": 0.2
             }
            },
            "type": "bar"
           }
          ],
          "barpolar": [
           {
            "marker": {
             "line": {
              "color": "#E5ECF6",
              "width": 0.5
             },
             "pattern": {
              "fillmode": "overlay",
              "size": 10,
              "solidity": 0.2
             }
            },
            "type": "barpolar"
           }
          ],
          "carpet": [
           {
            "aaxis": {
             "endlinecolor": "#2a3f5f",
             "gridcolor": "white",
             "linecolor": "white",
             "minorgridcolor": "white",
             "startlinecolor": "#2a3f5f"
            },
            "baxis": {
             "endlinecolor": "#2a3f5f",
             "gridcolor": "white",
             "linecolor": "white",
             "minorgridcolor": "white",
             "startlinecolor": "#2a3f5f"
            },
            "type": "carpet"
           }
          ],
          "choropleth": [
           {
            "colorbar": {
             "outlinewidth": 0,
             "ticks": ""
            },
            "type": "choropleth"
           }
          ],
          "contour": [
           {
            "colorbar": {
             "outlinewidth": 0,
             "ticks": ""
            },
            "colorscale": [
             [
              0,
              "#0d0887"
             ],
             [
              0.1111111111111111,
              "#46039f"
             ],
             [
              0.2222222222222222,
              "#7201a8"
             ],
             [
              0.3333333333333333,
              "#9c179e"
             ],
             [
              0.4444444444444444,
              "#bd3786"
             ],
             [
              0.5555555555555556,
              "#d8576b"
             ],
             [
              0.6666666666666666,
              "#ed7953"
             ],
             [
              0.7777777777777778,
              "#fb9f3a"
             ],
             [
              0.8888888888888888,
              "#fdca26"
             ],
             [
              1,
              "#f0f921"
             ]
            ],
            "type": "contour"
           }
          ],
          "contourcarpet": [
           {
            "colorbar": {
             "outlinewidth": 0,
             "ticks": ""
            },
            "type": "contourcarpet"
           }
          ],
          "heatmap": [
           {
            "colorbar": {
             "outlinewidth": 0,
             "ticks": ""
            },
            "colorscale": [
             [
              0,
              "#0d0887"
             ],
             [
              0.1111111111111111,
              "#46039f"
             ],
             [
              0.2222222222222222,
              "#7201a8"
             ],
             [
              0.3333333333333333,
              "#9c179e"
             ],
             [
              0.4444444444444444,
              "#bd3786"
             ],
             [
              0.5555555555555556,
              "#d8576b"
             ],
             [
              0.6666666666666666,
              "#ed7953"
             ],
             [
              0.7777777777777778,
              "#fb9f3a"
             ],
             [
              0.8888888888888888,
              "#fdca26"
             ],
             [
              1,
              "#f0f921"
             ]
            ],
            "type": "heatmap"
           }
          ],
          "heatmapgl": [
           {
            "colorbar": {
             "outlinewidth": 0,
             "ticks": ""
            },
            "colorscale": [
             [
              0,
              "#0d0887"
             ],
             [
              0.1111111111111111,
              "#46039f"
             ],
             [
              0.2222222222222222,
              "#7201a8"
             ],
             [
              0.3333333333333333,
              "#9c179e"
             ],
             [
              0.4444444444444444,
              "#bd3786"
             ],
             [
              0.5555555555555556,
              "#d8576b"
             ],
             [
              0.6666666666666666,
              "#ed7953"
             ],
             [
              0.7777777777777778,
              "#fb9f3a"
             ],
             [
              0.8888888888888888,
              "#fdca26"
             ],
             [
              1,
              "#f0f921"
             ]
            ],
            "type": "heatmapgl"
           }
          ],
          "histogram": [
           {
            "marker": {
             "pattern": {
              "fillmode": "overlay",
              "size": 10,
              "solidity": 0.2
             }
            },
            "type": "histogram"
           }
          ],
          "histogram2d": [
           {
            "colorbar": {
             "outlinewidth": 0,
             "ticks": ""
            },
            "colorscale": [
             [
              0,
              "#0d0887"
             ],
             [
              0.1111111111111111,
              "#46039f"
             ],
             [
              0.2222222222222222,
              "#7201a8"
             ],
             [
              0.3333333333333333,
              "#9c179e"
             ],
             [
              0.4444444444444444,
              "#bd3786"
             ],
             [
              0.5555555555555556,
              "#d8576b"
             ],
             [
              0.6666666666666666,
              "#ed7953"
             ],
             [
              0.7777777777777778,
              "#fb9f3a"
             ],
             [
              0.8888888888888888,
              "#fdca26"
             ],
             [
              1,
              "#f0f921"
             ]
            ],
            "type": "histogram2d"
           }
          ],
          "histogram2dcontour": [
           {
            "colorbar": {
             "outlinewidth": 0,
             "ticks": ""
            },
            "colorscale": [
             [
              0,
              "#0d0887"
             ],
             [
              0.1111111111111111,
              "#46039f"
             ],
             [
              0.2222222222222222,
              "#7201a8"
             ],
             [
              0.3333333333333333,
              "#9c179e"
             ],
             [
              0.4444444444444444,
              "#bd3786"
             ],
             [
              0.5555555555555556,
              "#d8576b"
             ],
             [
              0.6666666666666666,
              "#ed7953"
             ],
             [
              0.7777777777777778,
              "#fb9f3a"
             ],
             [
              0.8888888888888888,
              "#fdca26"
             ],
             [
              1,
              "#f0f921"
             ]
            ],
            "type": "histogram2dcontour"
           }
          ],
          "mesh3d": [
           {
            "colorbar": {
             "outlinewidth": 0,
             "ticks": ""
            },
            "type": "mesh3d"
           }
          ],
          "parcoords": [
           {
            "line": {
             "colorbar": {
              "outlinewidth": 0,
              "ticks": ""
             }
            },
            "type": "parcoords"
           }
          ],
          "pie": [
           {
            "automargin": true,
            "type": "pie"
           }
          ],
          "scatter": [
           {
            "fillpattern": {
             "fillmode": "overlay",
             "size": 10,
             "solidity": 0.2
            },
            "type": "scatter"
           }
          ],
          "scatter3d": [
           {
            "line": {
             "colorbar": {
              "outlinewidth": 0,
              "ticks": ""
             }
            },
            "marker": {
             "colorbar": {
              "outlinewidth": 0,
              "ticks": ""
             }
            },
            "type": "scatter3d"
           }
          ],
          "scattercarpet": [
           {
            "marker": {
             "colorbar": {
              "outlinewidth": 0,
              "ticks": ""
             }
            },
            "type": "scattercarpet"
           }
          ],
          "scattergeo": [
           {
            "marker": {
             "colorbar": {
              "outlinewidth": 0,
              "ticks": ""
             }
            },
            "type": "scattergeo"
           }
          ],
          "scattergl": [
           {
            "marker": {
             "colorbar": {
              "outlinewidth": 0,
              "ticks": ""
             }
            },
            "type": "scattergl"
           }
          ],
          "scattermapbox": [
           {
            "marker": {
             "colorbar": {
              "outlinewidth": 0,
              "ticks": ""
             }
            },
            "type": "scattermapbox"
           }
          ],
          "scatterpolar": [
           {
            "marker": {
             "colorbar": {
              "outlinewidth": 0,
              "ticks": ""
             }
            },
            "type": "scatterpolar"
           }
          ],
          "scatterpolargl": [
           {
            "marker": {
             "colorbar": {
              "outlinewidth": 0,
              "ticks": ""
             }
            },
            "type": "scatterpolargl"
           }
          ],
          "scatterternary": [
           {
            "marker": {
             "colorbar": {
              "outlinewidth": 0,
              "ticks": ""
             }
            },
            "type": "scatterternary"
           }
          ],
          "surface": [
           {
            "colorbar": {
             "outlinewidth": 0,
             "ticks": ""
            },
            "colorscale": [
             [
              0,
              "#0d0887"
             ],
             [
              0.1111111111111111,
              "#46039f"
             ],
             [
              0.2222222222222222,
              "#7201a8"
             ],
             [
              0.3333333333333333,
              "#9c179e"
             ],
             [
              0.4444444444444444,
              "#bd3786"
             ],
             [
              0.5555555555555556,
              "#d8576b"
             ],
             [
              0.6666666666666666,
              "#ed7953"
             ],
             [
              0.7777777777777778,
              "#fb9f3a"
             ],
             [
              0.8888888888888888,
              "#fdca26"
             ],
             [
              1,
              "#f0f921"
             ]
            ],
            "type": "surface"
           }
          ],
          "table": [
           {
            "cells": {
             "fill": {
              "color": "#EBF0F8"
             },
             "line": {
              "color": "white"
             }
            },
            "header": {
             "fill": {
              "color": "#C8D4E3"
             },
             "line": {
              "color": "white"
             }
            },
            "type": "table"
           }
          ]
         },
         "layout": {
          "annotationdefaults": {
           "arrowcolor": "#2a3f5f",
           "arrowhead": 0,
           "arrowwidth": 1
          },
          "autotypenumbers": "strict",
          "coloraxis": {
           "colorbar": {
            "outlinewidth": 0,
            "ticks": ""
           }
          },
          "colorscale": {
           "diverging": [
            [
             0,
             "#8e0152"
            ],
            [
             0.1,
             "#c51b7d"
            ],
            [
             0.2,
             "#de77ae"
            ],
            [
             0.3,
             "#f1b6da"
            ],
            [
             0.4,
             "#fde0ef"
            ],
            [
             0.5,
             "#f7f7f7"
            ],
            [
             0.6,
             "#e6f5d0"
            ],
            [
             0.7,
             "#b8e186"
            ],
            [
             0.8,
             "#7fbc41"
            ],
            [
             0.9,
             "#4d9221"
            ],
            [
             1,
             "#276419"
            ]
           ],
           "sequential": [
            [
             0,
             "#0d0887"
            ],
            [
             0.1111111111111111,
             "#46039f"
            ],
            [
             0.2222222222222222,
             "#7201a8"
            ],
            [
             0.3333333333333333,
             "#9c179e"
            ],
            [
             0.4444444444444444,
             "#bd3786"
            ],
            [
             0.5555555555555556,
             "#d8576b"
            ],
            [
             0.6666666666666666,
             "#ed7953"
            ],
            [
             0.7777777777777778,
             "#fb9f3a"
            ],
            [
             0.8888888888888888,
             "#fdca26"
            ],
            [
             1,
             "#f0f921"
            ]
           ],
           "sequentialminus": [
            [
             0,
             "#0d0887"
            ],
            [
             0.1111111111111111,
             "#46039f"
            ],
            [
             0.2222222222222222,
             "#7201a8"
            ],
            [
             0.3333333333333333,
             "#9c179e"
            ],
            [
             0.4444444444444444,
             "#bd3786"
            ],
            [
             0.5555555555555556,
             "#d8576b"
            ],
            [
             0.6666666666666666,
             "#ed7953"
            ],
            [
             0.7777777777777778,
             "#fb9f3a"
            ],
            [
             0.8888888888888888,
             "#fdca26"
            ],
            [
             1,
             "#f0f921"
            ]
           ]
          },
          "colorway": [
           "#636efa",
           "#EF553B",
           "#00cc96",
           "#ab63fa",
           "#FFA15A",
           "#19d3f3",
           "#FF6692",
           "#B6E880",
           "#FF97FF",
           "#FECB52"
          ],
          "font": {
           "color": "#2a3f5f"
          },
          "geo": {
           "bgcolor": "white",
           "lakecolor": "white",
           "landcolor": "#E5ECF6",
           "showlakes": true,
           "showland": true,
           "subunitcolor": "white"
          },
          "hoverlabel": {
           "align": "left"
          },
          "hovermode": "closest",
          "mapbox": {
           "style": "light"
          },
          "paper_bgcolor": "white",
          "plot_bgcolor": "#E5ECF6",
          "polar": {
           "angularaxis": {
            "gridcolor": "white",
            "linecolor": "white",
            "ticks": ""
           },
           "bgcolor": "#E5ECF6",
           "radialaxis": {
            "gridcolor": "white",
            "linecolor": "white",
            "ticks": ""
           }
          },
          "scene": {
           "xaxis": {
            "backgroundcolor": "#E5ECF6",
            "gridcolor": "white",
            "gridwidth": 2,
            "linecolor": "white",
            "showbackground": true,
            "ticks": "",
            "zerolinecolor": "white"
           },
           "yaxis": {
            "backgroundcolor": "#E5ECF6",
            "gridcolor": "white",
            "gridwidth": 2,
            "linecolor": "white",
            "showbackground": true,
            "ticks": "",
            "zerolinecolor": "white"
           },
           "zaxis": {
            "backgroundcolor": "#E5ECF6",
            "gridcolor": "white",
            "gridwidth": 2,
            "linecolor": "white",
            "showbackground": true,
            "ticks": "",
            "zerolinecolor": "white"
           }
          },
          "shapedefaults": {
           "line": {
            "color": "#2a3f5f"
           }
          },
          "ternary": {
           "aaxis": {
            "gridcolor": "white",
            "linecolor": "white",
            "ticks": ""
           },
           "baxis": {
            "gridcolor": "white",
            "linecolor": "white",
            "ticks": ""
           },
           "bgcolor": "#E5ECF6",
           "caxis": {
            "gridcolor": "white",
            "linecolor": "white",
            "ticks": ""
           }
          },
          "title": {
           "x": 0.05
          },
          "xaxis": {
           "automargin": true,
           "gridcolor": "white",
           "linecolor": "white",
           "ticks": "",
           "title": {
            "standoff": 15
           },
           "zerolinecolor": "white",
           "zerolinewidth": 2
          },
          "yaxis": {
           "automargin": true,
           "gridcolor": "white",
           "linecolor": "white",
           "ticks": "",
           "title": {
            "standoff": 15
           },
           "zerolinecolor": "white",
           "zerolinewidth": 2
          }
         }
        },
        "xaxis": {
         "anchor": "y",
         "domain": [
          0,
          1
         ],
         "title": {
          "text": "x"
         }
        },
        "yaxis": {
         "anchor": "x",
         "domain": [
          0,
          1
         ],
         "title": {
          "text": "y"
         }
        }
       }
      }
     },
     "metadata": {},
     "output_type": "display_data"
    },
    {
     "data": {
      "application/vnd.plotly.v1+json": {
       "config": {
        "plotlyServerURL": "https://plot.ly"
       },
       "data": [
        {
         "hovertemplate": "x=%{x}<br>y=%{y}<extra></extra>",
         "legendgroup": "",
         "marker": {
          "color": "#636efa",
          "symbol": "circle"
         },
         "mode": "markers",
         "name": "",
         "orientation": "v",
         "showlegend": false,
         "type": "scatter",
         "x": [
          0,
          1000,
          2000,
          3000,
          4000,
          5000,
          6000,
          7000,
          8000,
          9000,
          10000,
          11000,
          12000,
          13000,
          14000,
          15000,
          16000,
          17000,
          18000,
          19000,
          20000,
          21000,
          22000,
          23000,
          24000,
          25000,
          26000,
          27000,
          28000,
          29000,
          30000,
          31000,
          32000,
          33000,
          34000,
          35000,
          36000,
          37000,
          38000,
          39000,
          40000,
          41000,
          42000,
          43000,
          44000,
          45000,
          46000,
          47000,
          48000,
          49000,
          50000,
          51000,
          52000,
          53000,
          54000,
          55000,
          56000,
          57000,
          58000,
          59000,
          60000,
          61000,
          62000,
          63000,
          64000,
          65000,
          66000,
          67000,
          68000,
          69000,
          70000,
          71000,
          72000,
          73000,
          74000,
          75000,
          76000,
          77000,
          78000,
          79000,
          80000,
          81000,
          82000,
          83000,
          84000,
          85000,
          86000,
          87000,
          88000,
          89000,
          90000,
          91000,
          92000,
          93000,
          94000,
          95000,
          96000,
          97000,
          98000,
          99000,
          100000,
          101000,
          102000,
          103000,
          104000,
          105000,
          106000,
          107000,
          108000,
          109000,
          110000,
          111000,
          112000,
          113000,
          114000,
          115000,
          116000,
          117000,
          118000,
          119000,
          120000,
          121000,
          122000,
          123000,
          124000,
          125000,
          126000,
          127000,
          128000,
          129000,
          130000,
          131000,
          132000,
          133000,
          134000,
          135000,
          136000,
          137000,
          138000,
          139000,
          140000,
          141000,
          142000,
          143000,
          144000,
          145000,
          146000,
          147000,
          148000,
          149000,
          150000,
          151000,
          152000,
          153000,
          154000,
          155000,
          156000,
          157000,
          158000,
          159000,
          160000,
          161000,
          162000,
          163000,
          164000,
          165000,
          166000,
          167000,
          168000,
          169000,
          170000,
          171000,
          172000,
          173000,
          174000,
          175000,
          176000,
          177000,
          178000,
          179000,
          180000,
          181000,
          182000,
          183000,
          184000,
          185000,
          186000,
          187000,
          188000,
          189000,
          190000,
          191000,
          192000,
          193000,
          194000,
          195000,
          196000,
          197000,
          198000,
          199000,
          200000,
          201000,
          202000,
          203000,
          204000,
          205000,
          206000,
          207000,
          208000,
          209000,
          210000,
          211000,
          212000,
          213000,
          214000,
          215000,
          216000,
          217000,
          218000,
          219000,
          220000,
          221000,
          222000,
          223000,
          224000,
          225000,
          226000,
          227000,
          228000,
          229000,
          230000,
          231000,
          232000,
          233000,
          234000,
          235000,
          236000,
          237000,
          238000,
          239000,
          240000,
          241000,
          242000,
          243000,
          244000,
          245000,
          246000,
          247000,
          248000,
          249000,
          250000,
          251000,
          252000,
          253000,
          254000,
          255000,
          256000,
          257000,
          258000,
          259000,
          260000,
          261000,
          262000,
          263000,
          264000,
          265000,
          266000,
          267000,
          268000,
          269000,
          270000,
          271000,
          272000,
          273000,
          274000,
          275000,
          276000,
          277000,
          278000,
          279000,
          280000,
          281000,
          282000,
          283000,
          284000,
          285000,
          286000,
          287000,
          288000,
          289000,
          290000,
          291000,
          292000,
          293000,
          294000,
          295000,
          296000,
          297000,
          298000,
          299000,
          300000,
          301000,
          302000,
          303000,
          304000,
          305000,
          306000,
          307000,
          308000,
          309000,
          310000,
          311000,
          312000,
          313000,
          314000,
          315000,
          316000,
          317000,
          318000,
          319000,
          320000,
          321000,
          322000,
          323000,
          324000,
          325000,
          326000,
          327000,
          328000,
          329000,
          330000,
          331000,
          332000,
          333000,
          334000,
          335000,
          336000,
          337000,
          338000,
          339000,
          340000,
          341000,
          342000,
          343000,
          344000,
          345000,
          346000,
          347000,
          348000,
          349000,
          350000,
          351000,
          352000,
          353000,
          354000,
          355000,
          356000,
          357000,
          358000,
          359000,
          360000,
          361000,
          362000,
          363000,
          364000,
          365000,
          366000,
          367000,
          368000,
          369000,
          370000,
          371000,
          372000,
          373000,
          374000,
          375000,
          376000,
          377000,
          378000,
          379000,
          380000,
          381000,
          382000,
          383000,
          384000,
          385000,
          386000,
          387000,
          388000,
          389000,
          390000,
          391000,
          392000,
          393000,
          394000,
          395000,
          396000,
          397000,
          398000,
          399000,
          400000,
          401000,
          402000,
          403000,
          404000,
          405000,
          406000,
          407000,
          408000,
          409000,
          410000,
          411000,
          412000,
          413000,
          414000,
          415000,
          416000,
          417000,
          418000,
          419000,
          420000,
          421000,
          422000,
          423000,
          424000,
          425000,
          426000,
          427000,
          428000,
          429000,
          430000,
          431000,
          432000,
          433000,
          434000,
          435000,
          436000,
          437000,
          438000,
          439000,
          440000,
          441000,
          442000,
          443000,
          444000,
          445000,
          446000,
          447000,
          448000,
          449000,
          450000,
          451000,
          452000,
          453000,
          454000,
          455000,
          456000,
          457000,
          458000,
          459000,
          460000,
          461000,
          462000,
          463000,
          464000,
          465000,
          466000,
          467000,
          468000,
          469000,
          470000,
          471000,
          472000,
          473000,
          474000,
          475000,
          476000,
          477000,
          478000,
          479000,
          480000,
          481000,
          482000,
          483000,
          484000,
          485000,
          486000,
          487000,
          488000,
          489000,
          490000,
          491000,
          492000,
          493000,
          494000,
          495000,
          496000,
          497000,
          498000,
          499000,
          500000,
          501000,
          502000,
          503000,
          504000,
          505000,
          506000,
          507000,
          508000,
          509000,
          510000,
          511000,
          512000,
          513000,
          514000,
          515000,
          516000,
          517000,
          518000,
          519000,
          520000,
          521000,
          522000,
          523000,
          524000,
          525000,
          526000,
          527000,
          528000,
          529000,
          530000,
          531000,
          532000,
          533000,
          534000,
          535000,
          536000,
          537000,
          538000,
          539000,
          540000,
          541000,
          542000,
          543000,
          544000,
          545000,
          546000,
          547000,
          548000,
          549000,
          550000,
          551000,
          552000,
          553000,
          554000,
          555000,
          556000,
          557000,
          558000,
          559000,
          560000,
          561000,
          562000,
          563000,
          564000,
          565000,
          566000,
          567000,
          568000,
          569000,
          570000,
          571000,
          572000,
          573000,
          574000,
          575000,
          576000,
          577000,
          578000,
          579000,
          580000,
          581000,
          582000,
          583000,
          584000,
          585000,
          586000,
          587000
         ],
         "xaxis": "x",
         "y": [
          1,
          1000,
          1987,
          2959,
          3924,
          4884,
          5768,
          6583,
          7290,
          8022,
          8814,
          9664,
          10259,
          10857,
          11660,
          12457,
          13164,
          13886,
          14604,
          15302,
          15995,
          16781,
          17538,
          18023,
          18352,
          18762,
          19174,
          19638,
          19917,
          20103,
          20541,
          21016,
          21385,
          21767,
          22108,
          22418,
          22777,
          23180,
          23621,
          24078,
          24523,
          24936,
          25395,
          25933,
          26158,
          26440,
          26733,
          26866,
          27096,
          27296,
          27533,
          27928,
          28428,
          28839,
          29229,
          29515,
          29910,
          30265,
          30742,
          31037,
          31194,
          31650,
          32047,
          32409,
          32729,
          33026,
          33283,
          33610,
          33978,
          34364,
          34713,
          34996,
          35271,
          35661,
          36110,
          36293,
          36643,
          37058,
          37475,
          37994,
          38372,
          38681,
          39027,
          39472,
          39906,
          40162,
          40304,
          40428,
          40583,
          40696,
          40767,
          40917,
          41078,
          41210,
          41313,
          41406,
          41547,
          41701,
          41834,
          42011,
          42129,
          42292,
          42373,
          42477,
          42500,
          42538,
          42632,
          42814,
          42954,
          43052,
          43171,
          43261,
          43438,
          43535,
          43662,
          43821,
          43949,
          44048,
          44107,
          44214,
          44305,
          44412,
          44468,
          44519,
          44647,
          44732,
          44856,
          44997,
          45146,
          45261,
          45350,
          45454,
          45579,
          45798,
          45917,
          46042,
          46210,
          46353,
          46390,
          46568,
          46763,
          46972,
          47086,
          47186,
          47294,
          47396,
          47546,
          47724,
          47871,
          48052,
          48218,
          48296,
          48408,
          48430,
          48460,
          48578,
          48768,
          48892,
          48923,
          48970,
          49037,
          49088,
          49152,
          49200,
          49238,
          49306,
          49384,
          49437,
          49490,
          49640,
          49759,
          49882,
          50040,
          50274,
          50430,
          50577,
          50712,
          50822,
          51016,
          51145,
          51274,
          51399,
          51508,
          51544,
          51663,
          51809,
          51971,
          52057,
          52137,
          52299,
          52401,
          52527,
          52714,
          52836,
          52974,
          53086,
          53211,
          53233,
          53262,
          53362,
          53525,
          53661,
          53805,
          53914,
          54045,
          54200,
          54295,
          54376,
          54527,
          54655,
          54769,
          54855,
          54915,
          55039,
          55125,
          55177,
          55231,
          55335,
          55389,
          55502,
          55637,
          55812,
          55938,
          56024,
          56158,
          56296,
          56470,
          56574,
          56684,
          56807,
          56860,
          56971,
          57085,
          57154,
          57215,
          57308,
          57411,
          57552,
          57721,
          57887,
          58037,
          58225,
          58289,
          58412,
          58433,
          58467,
          58625,
          58811,
          58949,
          59060,
          59184,
          59294,
          59456,
          59539,
          59691,
          59845,
          59974,
          60086,
          60164,
          60289,
          60416,
          60524,
          60582,
          60628,
          60764,
          60913,
          61017,
          61144,
          61323,
          61447,
          61561,
          61704,
          61842,
          61998,
          62031,
          62052,
          62071,
          62097,
          62119,
          62154,
          62174,
          62188,
          62197,
          62228,
          62256,
          62294,
          62317,
          62341,
          62358,
          62372,
          62388,
          62405,
          62421,
          62433,
          62471,
          62503,
          62533,
          62590,
          62626,
          62653,
          62676,
          62710,
          62746,
          62766,
          62790,
          62802,
          62805,
          62809,
          62826,
          62843,
          62899,
          62926,
          62954,
          62965,
          62979,
          62992,
          63010,
          63027,
          63052,
          63079,
          63099,
          63110,
          63145,
          63170,
          63195,
          63225,
          63252,
          63266,
          63270,
          63276,
          63299,
          63319,
          63333,
          63348,
          63357,
          63363,
          63364,
          63382,
          63397,
          63432,
          63445,
          63470,
          63490,
          63522,
          63546,
          63577,
          63594,
          63622,
          63632,
          63661,
          63677,
          63694,
          63731,
          63772,
          63807,
          63835,
          63855,
          63877,
          63895,
          63925,
          63956,
          63973,
          63979,
          64004,
          64032,
          64057,
          64080,
          64103,
          64118,
          64133,
          64146,
          64160,
          64174,
          64189,
          64207,
          64241,
          64263,
          64292,
          64336,
          64376,
          64399,
          64420,
          64441,
          64489,
          64501,
          64523,
          64545,
          64546,
          64549,
          64554,
          64582,
          64620,
          64662,
          64685,
          64699,
          64703,
          64712,
          64727,
          64735,
          64748,
          64757,
          64766,
          64774,
          64780,
          64789,
          64795,
          64802,
          64808,
          64809,
          64816,
          64830,
          64850,
          64881,
          64885,
          64926,
          64944,
          64959,
          64985,
          65009,
          65034,
          65052,
          65073,
          65089,
          65119,
          65135,
          65164,
          65193,
          65246,
          65281,
          65299,
          65322,
          65344,
          65365,
          65389,
          65406,
          65416,
          65420,
          65448,
          65471,
          65508,
          65530,
          65568,
          65581,
          65595,
          65600,
          65620,
          65634,
          65648,
          65659,
          65684,
          65710,
          65737,
          65790,
          65817,
          65829,
          65856,
          65889,
          65924,
          65931,
          65970,
          65982,
          65984,
          65985,
          66007,
          66043,
          66077,
          66112,
          66138,
          66160,
          66182,
          66191,
          66219,
          66229,
          66249,
          66300,
          66318,
          66332,
          66358,
          66391,
          66411,
          66431,
          66456,
          66470,
          66483,
          66489,
          66500,
          66528,
          66548,
          66563,
          66566,
          66572,
          66574,
          66581,
          66606,
          66622,
          66638,
          66652,
          66674,
          66689,
          66724,
          66755,
          66783,
          66800,
          66828,
          66832,
          66848,
          66871,
          66889,
          66920,
          66973,
          66998,
          67007,
          67027,
          67041,
          67059,
          67071,
          67080,
          67085,
          67099,
          67107,
          67124,
          67148,
          67151,
          67155,
          67170,
          67179,
          67187,
          67195,
          67224,
          67245,
          67278,
          67320,
          67371,
          67387,
          67409,
          67443,
          67474,
          67484,
          67528,
          67541,
          67543,
          67548,
          67571,
          67600,
          67650,
          67680,
          67704,
          67728,
          67738,
          67765,
          67793,
          67805,
          67827,
          67866,
          67883,
          67897,
          67936,
          67968,
          68006,
          68019,
          68044,
          68054,
          68069,
          68070,
          68081,
          68111,
          68121,
          68142,
          68150,
          68154,
          68159,
          68168,
          68194,
          68222,
          68246,
          68267,
          68293,
          68310,
          68343,
          68374,
          68395,
          68418,
          68448,
          68452,
          68475,
          68496,
          68519,
          68541
         ],
         "yaxis": "y"
        }
       ],
       "layout": {
        "legend": {
         "tracegroupgap": 0
        },
        "margin": {
         "t": 60
        },
        "template": {
         "data": {
          "bar": [
           {
            "error_x": {
             "color": "#2a3f5f"
            },
            "error_y": {
             "color": "#2a3f5f"
            },
            "marker": {
             "line": {
              "color": "#E5ECF6",
              "width": 0.5
             },
             "pattern": {
              "fillmode": "overlay",
              "size": 10,
              "solidity": 0.2
             }
            },
            "type": "bar"
           }
          ],
          "barpolar": [
           {
            "marker": {
             "line": {
              "color": "#E5ECF6",
              "width": 0.5
             },
             "pattern": {
              "fillmode": "overlay",
              "size": 10,
              "solidity": 0.2
             }
            },
            "type": "barpolar"
           }
          ],
          "carpet": [
           {
            "aaxis": {
             "endlinecolor": "#2a3f5f",
             "gridcolor": "white",
             "linecolor": "white",
             "minorgridcolor": "white",
             "startlinecolor": "#2a3f5f"
            },
            "baxis": {
             "endlinecolor": "#2a3f5f",
             "gridcolor": "white",
             "linecolor": "white",
             "minorgridcolor": "white",
             "startlinecolor": "#2a3f5f"
            },
            "type": "carpet"
           }
          ],
          "choropleth": [
           {
            "colorbar": {
             "outlinewidth": 0,
             "ticks": ""
            },
            "type": "choropleth"
           }
          ],
          "contour": [
           {
            "colorbar": {
             "outlinewidth": 0,
             "ticks": ""
            },
            "colorscale": [
             [
              0,
              "#0d0887"
             ],
             [
              0.1111111111111111,
              "#46039f"
             ],
             [
              0.2222222222222222,
              "#7201a8"
             ],
             [
              0.3333333333333333,
              "#9c179e"
             ],
             [
              0.4444444444444444,
              "#bd3786"
             ],
             [
              0.5555555555555556,
              "#d8576b"
             ],
             [
              0.6666666666666666,
              "#ed7953"
             ],
             [
              0.7777777777777778,
              "#fb9f3a"
             ],
             [
              0.8888888888888888,
              "#fdca26"
             ],
             [
              1,
              "#f0f921"
             ]
            ],
            "type": "contour"
           }
          ],
          "contourcarpet": [
           {
            "colorbar": {
             "outlinewidth": 0,
             "ticks": ""
            },
            "type": "contourcarpet"
           }
          ],
          "heatmap": [
           {
            "colorbar": {
             "outlinewidth": 0,
             "ticks": ""
            },
            "colorscale": [
             [
              0,
              "#0d0887"
             ],
             [
              0.1111111111111111,
              "#46039f"
             ],
             [
              0.2222222222222222,
              "#7201a8"
             ],
             [
              0.3333333333333333,
              "#9c179e"
             ],
             [
              0.4444444444444444,
              "#bd3786"
             ],
             [
              0.5555555555555556,
              "#d8576b"
             ],
             [
              0.6666666666666666,
              "#ed7953"
             ],
             [
              0.7777777777777778,
              "#fb9f3a"
             ],
             [
              0.8888888888888888,
              "#fdca26"
             ],
             [
              1,
              "#f0f921"
             ]
            ],
            "type": "heatmap"
           }
          ],
          "heatmapgl": [
           {
            "colorbar": {
             "outlinewidth": 0,
             "ticks": ""
            },
            "colorscale": [
             [
              0,
              "#0d0887"
             ],
             [
              0.1111111111111111,
              "#46039f"
             ],
             [
              0.2222222222222222,
              "#7201a8"
             ],
             [
              0.3333333333333333,
              "#9c179e"
             ],
             [
              0.4444444444444444,
              "#bd3786"
             ],
             [
              0.5555555555555556,
              "#d8576b"
             ],
             [
              0.6666666666666666,
              "#ed7953"
             ],
             [
              0.7777777777777778,
              "#fb9f3a"
             ],
             [
              0.8888888888888888,
              "#fdca26"
             ],
             [
              1,
              "#f0f921"
             ]
            ],
            "type": "heatmapgl"
           }
          ],
          "histogram": [
           {
            "marker": {
             "pattern": {
              "fillmode": "overlay",
              "size": 10,
              "solidity": 0.2
             }
            },
            "type": "histogram"
           }
          ],
          "histogram2d": [
           {
            "colorbar": {
             "outlinewidth": 0,
             "ticks": ""
            },
            "colorscale": [
             [
              0,
              "#0d0887"
             ],
             [
              0.1111111111111111,
              "#46039f"
             ],
             [
              0.2222222222222222,
              "#7201a8"
             ],
             [
              0.3333333333333333,
              "#9c179e"
             ],
             [
              0.4444444444444444,
              "#bd3786"
             ],
             [
              0.5555555555555556,
              "#d8576b"
             ],
             [
              0.6666666666666666,
              "#ed7953"
             ],
             [
              0.7777777777777778,
              "#fb9f3a"
             ],
             [
              0.8888888888888888,
              "#fdca26"
             ],
             [
              1,
              "#f0f921"
             ]
            ],
            "type": "histogram2d"
           }
          ],
          "histogram2dcontour": [
           {
            "colorbar": {
             "outlinewidth": 0,
             "ticks": ""
            },
            "colorscale": [
             [
              0,
              "#0d0887"
             ],
             [
              0.1111111111111111,
              "#46039f"
             ],
             [
              0.2222222222222222,
              "#7201a8"
             ],
             [
              0.3333333333333333,
              "#9c179e"
             ],
             [
              0.4444444444444444,
              "#bd3786"
             ],
             [
              0.5555555555555556,
              "#d8576b"
             ],
             [
              0.6666666666666666,
              "#ed7953"
             ],
             [
              0.7777777777777778,
              "#fb9f3a"
             ],
             [
              0.8888888888888888,
              "#fdca26"
             ],
             [
              1,
              "#f0f921"
             ]
            ],
            "type": "histogram2dcontour"
           }
          ],
          "mesh3d": [
           {
            "colorbar": {
             "outlinewidth": 0,
             "ticks": ""
            },
            "type": "mesh3d"
           }
          ],
          "parcoords": [
           {
            "line": {
             "colorbar": {
              "outlinewidth": 0,
              "ticks": ""
             }
            },
            "type": "parcoords"
           }
          ],
          "pie": [
           {
            "automargin": true,
            "type": "pie"
           }
          ],
          "scatter": [
           {
            "fillpattern": {
             "fillmode": "overlay",
             "size": 10,
             "solidity": 0.2
            },
            "type": "scatter"
           }
          ],
          "scatter3d": [
           {
            "line": {
             "colorbar": {
              "outlinewidth": 0,
              "ticks": ""
             }
            },
            "marker": {
             "colorbar": {
              "outlinewidth": 0,
              "ticks": ""
             }
            },
            "type": "scatter3d"
           }
          ],
          "scattercarpet": [
           {
            "marker": {
             "colorbar": {
              "outlinewidth": 0,
              "ticks": ""
             }
            },
            "type": "scattercarpet"
           }
          ],
          "scattergeo": [
           {
            "marker": {
             "colorbar": {
              "outlinewidth": 0,
              "ticks": ""
             }
            },
            "type": "scattergeo"
           }
          ],
          "scattergl": [
           {
            "marker": {
             "colorbar": {
              "outlinewidth": 0,
              "ticks": ""
             }
            },
            "type": "scattergl"
           }
          ],
          "scattermapbox": [
           {
            "marker": {
             "colorbar": {
              "outlinewidth": 0,
              "ticks": ""
             }
            },
            "type": "scattermapbox"
           }
          ],
          "scatterpolar": [
           {
            "marker": {
             "colorbar": {
              "outlinewidth": 0,
              "ticks": ""
             }
            },
            "type": "scatterpolar"
           }
          ],
          "scatterpolargl": [
           {
            "marker": {
             "colorbar": {
              "outlinewidth": 0,
              "ticks": ""
             }
            },
            "type": "scatterpolargl"
           }
          ],
          "scatterternary": [
           {
            "marker": {
             "colorbar": {
              "outlinewidth": 0,
              "ticks": ""
             }
            },
            "type": "scatterternary"
           }
          ],
          "surface": [
           {
            "colorbar": {
             "outlinewidth": 0,
             "ticks": ""
            },
            "colorscale": [
             [
              0,
              "#0d0887"
             ],
             [
              0.1111111111111111,
              "#46039f"
             ],
             [
              0.2222222222222222,
              "#7201a8"
             ],
             [
              0.3333333333333333,
              "#9c179e"
             ],
             [
              0.4444444444444444,
              "#bd3786"
             ],
             [
              0.5555555555555556,
              "#d8576b"
             ],
             [
              0.6666666666666666,
              "#ed7953"
             ],
             [
              0.7777777777777778,
              "#fb9f3a"
             ],
             [
              0.8888888888888888,
              "#fdca26"
             ],
             [
              1,
              "#f0f921"
             ]
            ],
            "type": "surface"
           }
          ],
          "table": [
           {
            "cells": {
             "fill": {
              "color": "#EBF0F8"
             },
             "line": {
              "color": "white"
             }
            },
            "header": {
             "fill": {
              "color": "#C8D4E3"
             },
             "line": {
              "color": "white"
             }
            },
            "type": "table"
           }
          ]
         },
         "layout": {
          "annotationdefaults": {
           "arrowcolor": "#2a3f5f",
           "arrowhead": 0,
           "arrowwidth": 1
          },
          "autotypenumbers": "strict",
          "coloraxis": {
           "colorbar": {
            "outlinewidth": 0,
            "ticks": ""
           }
          },
          "colorscale": {
           "diverging": [
            [
             0,
             "#8e0152"
            ],
            [
             0.1,
             "#c51b7d"
            ],
            [
             0.2,
             "#de77ae"
            ],
            [
             0.3,
             "#f1b6da"
            ],
            [
             0.4,
             "#fde0ef"
            ],
            [
             0.5,
             "#f7f7f7"
            ],
            [
             0.6,
             "#e6f5d0"
            ],
            [
             0.7,
             "#b8e186"
            ],
            [
             0.8,
             "#7fbc41"
            ],
            [
             0.9,
             "#4d9221"
            ],
            [
             1,
             "#276419"
            ]
           ],
           "sequential": [
            [
             0,
             "#0d0887"
            ],
            [
             0.1111111111111111,
             "#46039f"
            ],
            [
             0.2222222222222222,
             "#7201a8"
            ],
            [
             0.3333333333333333,
             "#9c179e"
            ],
            [
             0.4444444444444444,
             "#bd3786"
            ],
            [
             0.5555555555555556,
             "#d8576b"
            ],
            [
             0.6666666666666666,
             "#ed7953"
            ],
            [
             0.7777777777777778,
             "#fb9f3a"
            ],
            [
             0.8888888888888888,
             "#fdca26"
            ],
            [
             1,
             "#f0f921"
            ]
           ],
           "sequentialminus": [
            [
             0,
             "#0d0887"
            ],
            [
             0.1111111111111111,
             "#46039f"
            ],
            [
             0.2222222222222222,
             "#7201a8"
            ],
            [
             0.3333333333333333,
             "#9c179e"
            ],
            [
             0.4444444444444444,
             "#bd3786"
            ],
            [
             0.5555555555555556,
             "#d8576b"
            ],
            [
             0.6666666666666666,
             "#ed7953"
            ],
            [
             0.7777777777777778,
             "#fb9f3a"
            ],
            [
             0.8888888888888888,
             "#fdca26"
            ],
            [
             1,
             "#f0f921"
            ]
           ]
          },
          "colorway": [
           "#636efa",
           "#EF553B",
           "#00cc96",
           "#ab63fa",
           "#FFA15A",
           "#19d3f3",
           "#FF6692",
           "#B6E880",
           "#FF97FF",
           "#FECB52"
          ],
          "font": {
           "color": "#2a3f5f"
          },
          "geo": {
           "bgcolor": "white",
           "lakecolor": "white",
           "landcolor": "#E5ECF6",
           "showlakes": true,
           "showland": true,
           "subunitcolor": "white"
          },
          "hoverlabel": {
           "align": "left"
          },
          "hovermode": "closest",
          "mapbox": {
           "style": "light"
          },
          "paper_bgcolor": "white",
          "plot_bgcolor": "#E5ECF6",
          "polar": {
           "angularaxis": {
            "gridcolor": "white",
            "linecolor": "white",
            "ticks": ""
           },
           "bgcolor": "#E5ECF6",
           "radialaxis": {
            "gridcolor": "white",
            "linecolor": "white",
            "ticks": ""
           }
          },
          "scene": {
           "xaxis": {
            "backgroundcolor": "#E5ECF6",
            "gridcolor": "white",
            "gridwidth": 2,
            "linecolor": "white",
            "showbackground": true,
            "ticks": "",
            "zerolinecolor": "white"
           },
           "yaxis": {
            "backgroundcolor": "#E5ECF6",
            "gridcolor": "white",
            "gridwidth": 2,
            "linecolor": "white",
            "showbackground": true,
            "ticks": "",
            "zerolinecolor": "white"
           },
           "zaxis": {
            "backgroundcolor": "#E5ECF6",
            "gridcolor": "white",
            "gridwidth": 2,
            "linecolor": "white",
            "showbackground": true,
            "ticks": "",
            "zerolinecolor": "white"
           }
          },
          "shapedefaults": {
           "line": {
            "color": "#2a3f5f"
           }
          },
          "ternary": {
           "aaxis": {
            "gridcolor": "white",
            "linecolor": "white",
            "ticks": ""
           },
           "baxis": {
            "gridcolor": "white",
            "linecolor": "white",
            "ticks": ""
           },
           "bgcolor": "#E5ECF6",
           "caxis": {
            "gridcolor": "white",
            "linecolor": "white",
            "ticks": ""
           }
          },
          "title": {
           "x": 0.05
          },
          "xaxis": {
           "automargin": true,
           "gridcolor": "white",
           "linecolor": "white",
           "ticks": "",
           "title": {
            "standoff": 15
           },
           "zerolinecolor": "white",
           "zerolinewidth": 2
          },
          "yaxis": {
           "automargin": true,
           "gridcolor": "white",
           "linecolor": "white",
           "ticks": "",
           "title": {
            "standoff": 15
           },
           "zerolinecolor": "white",
           "zerolinewidth": 2
          }
         }
        },
        "xaxis": {
         "anchor": "y",
         "domain": [
          0,
          1
         ],
         "title": {
          "text": "x"
         }
        },
        "yaxis": {
         "anchor": "x",
         "domain": [
          0,
          1
         ],
         "title": {
          "text": "y"
         }
        }
       }
      }
     },
     "metadata": {},
     "output_type": "display_data"
    },
    {
     "data": {
      "application/vnd.plotly.v1+json": {
       "config": {
        "plotlyServerURL": "https://plot.ly"
       },
       "data": [
        {
         "hovertemplate": "x=%{x}<br>y=%{y}<extra></extra>",
         "legendgroup": "",
         "marker": {
          "color": "#636efa",
          "symbol": "circle"
         },
         "mode": "markers",
         "name": "",
         "orientation": "v",
         "showlegend": false,
         "type": "scatter",
         "x": [
          0,
          1000,
          2000,
          3000,
          4000,
          5000,
          6000,
          7000,
          8000,
          9000,
          10000,
          11000,
          12000,
          13000,
          14000,
          15000,
          16000,
          17000,
          18000,
          19000,
          20000,
          21000,
          22000,
          23000,
          24000,
          25000,
          26000,
          27000,
          28000,
          29000,
          30000,
          31000,
          32000,
          33000,
          34000,
          35000,
          36000,
          37000,
          38000,
          39000,
          40000,
          41000,
          42000,
          43000,
          44000,
          45000,
          46000,
          47000,
          48000,
          49000,
          50000,
          51000,
          52000,
          53000,
          54000,
          55000,
          56000,
          57000,
          58000,
          59000,
          60000,
          61000,
          62000,
          63000,
          64000,
          65000,
          66000,
          67000,
          68000,
          69000,
          70000,
          71000,
          72000,
          73000,
          74000,
          75000,
          76000,
          77000,
          78000,
          79000,
          80000,
          81000,
          82000,
          83000,
          84000,
          85000,
          86000,
          87000,
          88000,
          89000,
          90000,
          91000,
          92000,
          93000,
          94000,
          95000,
          96000,
          97000,
          98000,
          99000,
          100000,
          101000,
          102000,
          103000,
          104000,
          105000,
          106000,
          107000,
          108000,
          109000,
          110000,
          111000,
          112000,
          113000,
          114000,
          115000,
          116000,
          117000,
          118000,
          119000,
          120000,
          121000,
          122000,
          123000,
          124000,
          125000,
          126000,
          127000,
          128000,
          129000,
          130000,
          131000,
          132000,
          133000,
          134000,
          135000,
          136000,
          137000,
          138000,
          139000
         ],
         "xaxis": "x",
         "y": [
          1,
          1000,
          1986,
          2944,
          3904,
          4859,
          5743,
          6507,
          7283,
          8034,
          8859,
          9619,
          10135,
          10943,
          11719,
          12428,
          13140,
          13865,
          14552,
          15381,
          16160,
          16675,
          17070,
          17467,
          17906,
          18260,
          18703,
          19152,
          19492,
          19923,
          20375,
          20780,
          21309,
          21800,
          22205,
          22550,
          22758,
          23117,
          23623,
          24053,
          24411,
          24766,
          25201,
          25550,
          25928,
          26333,
          26652,
          27033,
          27418,
          27742,
          28096,
          28529,
          28927,
          29372,
          29850,
          30236,
          30689,
          31159,
          31332,
          31484,
          31642,
          31790,
          31965,
          32122,
          32284,
          32432,
          32593,
          32738,
          32855,
          33014,
          33148,
          33316,
          33502,
          33713,
          33903,
          34056,
          34273,
          34434,
          34591,
          34681,
          34819,
          35029,
          35220,
          35408,
          35550,
          35706,
          35829,
          35994,
          36130,
          36304,
          36455,
          36630,
          36765,
          36872,
          37034,
          37162,
          37314,
          37419,
          37511,
          37690,
          37868,
          38008,
          38149,
          38331,
          38523,
          38651,
          38790,
          38952,
          39106,
          39269,
          39336,
          39391,
          39460,
          39514,
          39566,
          39621,
          39683,
          39742,
          39794,
          39843,
          39891,
          39957,
          40001,
          40057,
          40110,
          40158,
          40219,
          40270,
          40341,
          40409,
          40483,
          40529,
          40598,
          40635,
          40673,
          40731,
          40786,
          40858,
          40910,
          40973
         ],
         "yaxis": "y"
        }
       ],
       "layout": {
        "legend": {
         "tracegroupgap": 0
        },
        "margin": {
         "t": 60
        },
        "template": {
         "data": {
          "bar": [
           {
            "error_x": {
             "color": "#2a3f5f"
            },
            "error_y": {
             "color": "#2a3f5f"
            },
            "marker": {
             "line": {
              "color": "#E5ECF6",
              "width": 0.5
             },
             "pattern": {
              "fillmode": "overlay",
              "size": 10,
              "solidity": 0.2
             }
            },
            "type": "bar"
           }
          ],
          "barpolar": [
           {
            "marker": {
             "line": {
              "color": "#E5ECF6",
              "width": 0.5
             },
             "pattern": {
              "fillmode": "overlay",
              "size": 10,
              "solidity": 0.2
             }
            },
            "type": "barpolar"
           }
          ],
          "carpet": [
           {
            "aaxis": {
             "endlinecolor": "#2a3f5f",
             "gridcolor": "white",
             "linecolor": "white",
             "minorgridcolor": "white",
             "startlinecolor": "#2a3f5f"
            },
            "baxis": {
             "endlinecolor": "#2a3f5f",
             "gridcolor": "white",
             "linecolor": "white",
             "minorgridcolor": "white",
             "startlinecolor": "#2a3f5f"
            },
            "type": "carpet"
           }
          ],
          "choropleth": [
           {
            "colorbar": {
             "outlinewidth": 0,
             "ticks": ""
            },
            "type": "choropleth"
           }
          ],
          "contour": [
           {
            "colorbar": {
             "outlinewidth": 0,
             "ticks": ""
            },
            "colorscale": [
             [
              0,
              "#0d0887"
             ],
             [
              0.1111111111111111,
              "#46039f"
             ],
             [
              0.2222222222222222,
              "#7201a8"
             ],
             [
              0.3333333333333333,
              "#9c179e"
             ],
             [
              0.4444444444444444,
              "#bd3786"
             ],
             [
              0.5555555555555556,
              "#d8576b"
             ],
             [
              0.6666666666666666,
              "#ed7953"
             ],
             [
              0.7777777777777778,
              "#fb9f3a"
             ],
             [
              0.8888888888888888,
              "#fdca26"
             ],
             [
              1,
              "#f0f921"
             ]
            ],
            "type": "contour"
           }
          ],
          "contourcarpet": [
           {
            "colorbar": {
             "outlinewidth": 0,
             "ticks": ""
            },
            "type": "contourcarpet"
           }
          ],
          "heatmap": [
           {
            "colorbar": {
             "outlinewidth": 0,
             "ticks": ""
            },
            "colorscale": [
             [
              0,
              "#0d0887"
             ],
             [
              0.1111111111111111,
              "#46039f"
             ],
             [
              0.2222222222222222,
              "#7201a8"
             ],
             [
              0.3333333333333333,
              "#9c179e"
             ],
             [
              0.4444444444444444,
              "#bd3786"
             ],
             [
              0.5555555555555556,
              "#d8576b"
             ],
             [
              0.6666666666666666,
              "#ed7953"
             ],
             [
              0.7777777777777778,
              "#fb9f3a"
             ],
             [
              0.8888888888888888,
              "#fdca26"
             ],
             [
              1,
              "#f0f921"
             ]
            ],
            "type": "heatmap"
           }
          ],
          "heatmapgl": [
           {
            "colorbar": {
             "outlinewidth": 0,
             "ticks": ""
            },
            "colorscale": [
             [
              0,
              "#0d0887"
             ],
             [
              0.1111111111111111,
              "#46039f"
             ],
             [
              0.2222222222222222,
              "#7201a8"
             ],
             [
              0.3333333333333333,
              "#9c179e"
             ],
             [
              0.4444444444444444,
              "#bd3786"
             ],
             [
              0.5555555555555556,
              "#d8576b"
             ],
             [
              0.6666666666666666,
              "#ed7953"
             ],
             [
              0.7777777777777778,
              "#fb9f3a"
             ],
             [
              0.8888888888888888,
              "#fdca26"
             ],
             [
              1,
              "#f0f921"
             ]
            ],
            "type": "heatmapgl"
           }
          ],
          "histogram": [
           {
            "marker": {
             "pattern": {
              "fillmode": "overlay",
              "size": 10,
              "solidity": 0.2
             }
            },
            "type": "histogram"
           }
          ],
          "histogram2d": [
           {
            "colorbar": {
             "outlinewidth": 0,
             "ticks": ""
            },
            "colorscale": [
             [
              0,
              "#0d0887"
             ],
             [
              0.1111111111111111,
              "#46039f"
             ],
             [
              0.2222222222222222,
              "#7201a8"
             ],
             [
              0.3333333333333333,
              "#9c179e"
             ],
             [
              0.4444444444444444,
              "#bd3786"
             ],
             [
              0.5555555555555556,
              "#d8576b"
             ],
             [
              0.6666666666666666,
              "#ed7953"
             ],
             [
              0.7777777777777778,
              "#fb9f3a"
             ],
             [
              0.8888888888888888,
              "#fdca26"
             ],
             [
              1,
              "#f0f921"
             ]
            ],
            "type": "histogram2d"
           }
          ],
          "histogram2dcontour": [
           {
            "colorbar": {
             "outlinewidth": 0,
             "ticks": ""
            },
            "colorscale": [
             [
              0,
              "#0d0887"
             ],
             [
              0.1111111111111111,
              "#46039f"
             ],
             [
              0.2222222222222222,
              "#7201a8"
             ],
             [
              0.3333333333333333,
              "#9c179e"
             ],
             [
              0.4444444444444444,
              "#bd3786"
             ],
             [
              0.5555555555555556,
              "#d8576b"
             ],
             [
              0.6666666666666666,
              "#ed7953"
             ],
             [
              0.7777777777777778,
              "#fb9f3a"
             ],
             [
              0.8888888888888888,
              "#fdca26"
             ],
             [
              1,
              "#f0f921"
             ]
            ],
            "type": "histogram2dcontour"
           }
          ],
          "mesh3d": [
           {
            "colorbar": {
             "outlinewidth": 0,
             "ticks": ""
            },
            "type": "mesh3d"
           }
          ],
          "parcoords": [
           {
            "line": {
             "colorbar": {
              "outlinewidth": 0,
              "ticks": ""
             }
            },
            "type": "parcoords"
           }
          ],
          "pie": [
           {
            "automargin": true,
            "type": "pie"
           }
          ],
          "scatter": [
           {
            "fillpattern": {
             "fillmode": "overlay",
             "size": 10,
             "solidity": 0.2
            },
            "type": "scatter"
           }
          ],
          "scatter3d": [
           {
            "line": {
             "colorbar": {
              "outlinewidth": 0,
              "ticks": ""
             }
            },
            "marker": {
             "colorbar": {
              "outlinewidth": 0,
              "ticks": ""
             }
            },
            "type": "scatter3d"
           }
          ],
          "scattercarpet": [
           {
            "marker": {
             "colorbar": {
              "outlinewidth": 0,
              "ticks": ""
             }
            },
            "type": "scattercarpet"
           }
          ],
          "scattergeo": [
           {
            "marker": {
             "colorbar": {
              "outlinewidth": 0,
              "ticks": ""
             }
            },
            "type": "scattergeo"
           }
          ],
          "scattergl": [
           {
            "marker": {
             "colorbar": {
              "outlinewidth": 0,
              "ticks": ""
             }
            },
            "type": "scattergl"
           }
          ],
          "scattermapbox": [
           {
            "marker": {
             "colorbar": {
              "outlinewidth": 0,
              "ticks": ""
             }
            },
            "type": "scattermapbox"
           }
          ],
          "scatterpolar": [
           {
            "marker": {
             "colorbar": {
              "outlinewidth": 0,
              "ticks": ""
             }
            },
            "type": "scatterpolar"
           }
          ],
          "scatterpolargl": [
           {
            "marker": {
             "colorbar": {
              "outlinewidth": 0,
              "ticks": ""
             }
            },
            "type": "scatterpolargl"
           }
          ],
          "scatterternary": [
           {
            "marker": {
             "colorbar": {
              "outlinewidth": 0,
              "ticks": ""
             }
            },
            "type": "scatterternary"
           }
          ],
          "surface": [
           {
            "colorbar": {
             "outlinewidth": 0,
             "ticks": ""
            },
            "colorscale": [
             [
              0,
              "#0d0887"
             ],
             [
              0.1111111111111111,
              "#46039f"
             ],
             [
              0.2222222222222222,
              "#7201a8"
             ],
             [
              0.3333333333333333,
              "#9c179e"
             ],
             [
              0.4444444444444444,
              "#bd3786"
             ],
             [
              0.5555555555555556,
              "#d8576b"
             ],
             [
              0.6666666666666666,
              "#ed7953"
             ],
             [
              0.7777777777777778,
              "#fb9f3a"
             ],
             [
              0.8888888888888888,
              "#fdca26"
             ],
             [
              1,
              "#f0f921"
             ]
            ],
            "type": "surface"
           }
          ],
          "table": [
           {
            "cells": {
             "fill": {
              "color": "#EBF0F8"
             },
             "line": {
              "color": "white"
             }
            },
            "header": {
             "fill": {
              "color": "#C8D4E3"
             },
             "line": {
              "color": "white"
             }
            },
            "type": "table"
           }
          ]
         },
         "layout": {
          "annotationdefaults": {
           "arrowcolor": "#2a3f5f",
           "arrowhead": 0,
           "arrowwidth": 1
          },
          "autotypenumbers": "strict",
          "coloraxis": {
           "colorbar": {
            "outlinewidth": 0,
            "ticks": ""
           }
          },
          "colorscale": {
           "diverging": [
            [
             0,
             "#8e0152"
            ],
            [
             0.1,
             "#c51b7d"
            ],
            [
             0.2,
             "#de77ae"
            ],
            [
             0.3,
             "#f1b6da"
            ],
            [
             0.4,
             "#fde0ef"
            ],
            [
             0.5,
             "#f7f7f7"
            ],
            [
             0.6,
             "#e6f5d0"
            ],
            [
             0.7,
             "#b8e186"
            ],
            [
             0.8,
             "#7fbc41"
            ],
            [
             0.9,
             "#4d9221"
            ],
            [
             1,
             "#276419"
            ]
           ],
           "sequential": [
            [
             0,
             "#0d0887"
            ],
            [
             0.1111111111111111,
             "#46039f"
            ],
            [
             0.2222222222222222,
             "#7201a8"
            ],
            [
             0.3333333333333333,
             "#9c179e"
            ],
            [
             0.4444444444444444,
             "#bd3786"
            ],
            [
             0.5555555555555556,
             "#d8576b"
            ],
            [
             0.6666666666666666,
             "#ed7953"
            ],
            [
             0.7777777777777778,
             "#fb9f3a"
            ],
            [
             0.8888888888888888,
             "#fdca26"
            ],
            [
             1,
             "#f0f921"
            ]
           ],
           "sequentialminus": [
            [
             0,
             "#0d0887"
            ],
            [
             0.1111111111111111,
             "#46039f"
            ],
            [
             0.2222222222222222,
             "#7201a8"
            ],
            [
             0.3333333333333333,
             "#9c179e"
            ],
            [
             0.4444444444444444,
             "#bd3786"
            ],
            [
             0.5555555555555556,
             "#d8576b"
            ],
            [
             0.6666666666666666,
             "#ed7953"
            ],
            [
             0.7777777777777778,
             "#fb9f3a"
            ],
            [
             0.8888888888888888,
             "#fdca26"
            ],
            [
             1,
             "#f0f921"
            ]
           ]
          },
          "colorway": [
           "#636efa",
           "#EF553B",
           "#00cc96",
           "#ab63fa",
           "#FFA15A",
           "#19d3f3",
           "#FF6692",
           "#B6E880",
           "#FF97FF",
           "#FECB52"
          ],
          "font": {
           "color": "#2a3f5f"
          },
          "geo": {
           "bgcolor": "white",
           "lakecolor": "white",
           "landcolor": "#E5ECF6",
           "showlakes": true,
           "showland": true,
           "subunitcolor": "white"
          },
          "hoverlabel": {
           "align": "left"
          },
          "hovermode": "closest",
          "mapbox": {
           "style": "light"
          },
          "paper_bgcolor": "white",
          "plot_bgcolor": "#E5ECF6",
          "polar": {
           "angularaxis": {
            "gridcolor": "white",
            "linecolor": "white",
            "ticks": ""
           },
           "bgcolor": "#E5ECF6",
           "radialaxis": {
            "gridcolor": "white",
            "linecolor": "white",
            "ticks": ""
           }
          },
          "scene": {
           "xaxis": {
            "backgroundcolor": "#E5ECF6",
            "gridcolor": "white",
            "gridwidth": 2,
            "linecolor": "white",
            "showbackground": true,
            "ticks": "",
            "zerolinecolor": "white"
           },
           "yaxis": {
            "backgroundcolor": "#E5ECF6",
            "gridcolor": "white",
            "gridwidth": 2,
            "linecolor": "white",
            "showbackground": true,
            "ticks": "",
            "zerolinecolor": "white"
           },
           "zaxis": {
            "backgroundcolor": "#E5ECF6",
            "gridcolor": "white",
            "gridwidth": 2,
            "linecolor": "white",
            "showbackground": true,
            "ticks": "",
            "zerolinecolor": "white"
           }
          },
          "shapedefaults": {
           "line": {
            "color": "#2a3f5f"
           }
          },
          "ternary": {
           "aaxis": {
            "gridcolor": "white",
            "linecolor": "white",
            "ticks": ""
           },
           "baxis": {
            "gridcolor": "white",
            "linecolor": "white",
            "ticks": ""
           },
           "bgcolor": "#E5ECF6",
           "caxis": {
            "gridcolor": "white",
            "linecolor": "white",
            "ticks": ""
           }
          },
          "title": {
           "x": 0.05
          },
          "xaxis": {
           "automargin": true,
           "gridcolor": "white",
           "linecolor": "white",
           "ticks": "",
           "title": {
            "standoff": 15
           },
           "zerolinecolor": "white",
           "zerolinewidth": 2
          },
          "yaxis": {
           "automargin": true,
           "gridcolor": "white",
           "linecolor": "white",
           "ticks": "",
           "title": {
            "standoff": 15
           },
           "zerolinecolor": "white",
           "zerolinewidth": 2
          }
         }
        },
        "xaxis": {
         "anchor": "y",
         "domain": [
          0,
          1
         ],
         "title": {
          "text": "x"
         }
        },
        "yaxis": {
         "anchor": "x",
         "domain": [
          0,
          1
         ],
         "title": {
          "text": "y"
         }
        }
       }
      }
     },
     "metadata": {},
     "output_type": "display_data"
    }
   ],
   "source": [
    "df = pd.read_csv(\"./tmp/human_to_human_distribution.txt\", sep=\",\", header=None)\n",
    "df.columns = ['match']\n",
    "df['matchsum'] = df.match.cumsum()\n",
    "fig = px.scatter(x=df.iloc[::1000].index, y=df.iloc[::1000].matchsum)\n",
    "fig.show()\n",
    "\n",
    "df = pd.read_csv(\"./tmp/human_to_turkey_distribution.txt\", sep=\",\", header=None)\n",
    "df.columns = ['match']\n",
    "df['matchsum'] = df.match.cumsum()\n",
    "fig = px.scatter(x=df.iloc[::1000].index, y=df.iloc[::1000].matchsum)\n",
    "fig.show()\n",
    "\n",
    "df = pd.read_csv(\"./tmp/turkey_to_turkey_distribution.txt\", sep=\",\", header=None)\n",
    "df.columns = ['match']\n",
    "df['matchsum'] = df.match.cumsum()\n",
    "fig = px.scatter(x=df.iloc[::1000].index, y=df.iloc[::1000].matchsum)\n",
    "fig.show()"
   ]
  },
  {
   "attachments": {},
   "cell_type": "markdown",
   "metadata": {},
   "source": [
    "## Human dataset"
   ]
  },
  {
   "cell_type": "code",
   "execution_count": null,
   "metadata": {},
   "outputs": [],
   "source": [
    "df = pd.read_csv(\"./tmp/one_human_VLMCs_kmer-distribution.txt\", sep=\",\", header=None)\n",
    "\n",
    "fig = px.histogram(df)\n",
    "\n",
    "fig.show()"
   ]
  },
  {
   "attachments": {},
   "cell_type": "markdown",
   "metadata": {},
   "source": [
    "## E-coli dataset"
   ]
  },
  {
   "cell_type": "code",
   "execution_count": null,
   "metadata": {},
   "outputs": [],
   "source": [
    "df = pd.read_csv(\"./tmp/small_test_kmer-distribution.txt\", sep=\",\", header=None)\n",
    "\n",
    "fig = px.histogram(df)\n",
    "\n",
    "fig.show()"
   ]
  },
  {
   "cell_type": "code",
   "execution_count": null,
   "metadata": {},
   "outputs": [],
   "source": [
    "df = pd.read_csv(\"./tmp/one_human_VLMCs_kmer-distribution.txt\", sep=\",\", header=None)\n",
    "df.head(100)"
   ]
  },
  {
   "cell_type": "code",
   "execution_count": null,
   "metadata": {},
   "outputs": [],
   "source": [
    "df = pd.read_csv(\"./tmp/one_human_VLMCs_kmer-distribution.txt\", sep=\",\", header=None)\n",
    "df.columns = [\"integer_rep\"]\n",
    "\n",
    "fig = px.bar(df[df.index < 400], x=df[df.index < 400].index, y='integer_rep')\n",
    "fig.update_layout(yaxis_title=\"Integer representation\", xaxis_title=\"Index\")\n",
    "\n",
    "fig.show()"
   ]
  },
  {
   "cell_type": "code",
   "execution_count": null,
   "metadata": {},
   "outputs": [],
   "source": [
    "t = [35, 29, 21, 15, 34, 28, 20, 14, 33, 27, 19, 13, 32, 26, 18]\n",
    "t.reverse()\n",
    "print(t)"
   ]
  },
  {
   "cell_type": "code",
   "execution_count": null,
   "metadata": {},
   "outputs": [],
   "source": [
    "df = pd.read_csv(\"./tmp/one_vlmcs_kmer-distribution.txt\", sep=\",\", header=None)\n",
    "df.columns = [\"integer_rep\"]\n",
    "\n",
    "fig = px.bar(df[df.index < 100], x=df[df.index < 100].index, y='integer_rep')\n",
    "fig.update_layout(yaxis_title=\"Integer representation\", xaxis_title=\"Index\")\n",
    "fig.update_layout(\n",
    "    font_size=24,\n",
    "    height=600,\n",
    "    width=800,\n",
    "    plot_bgcolor=\"white\")\n",
    "fig.show()\n",
    "fig.write_image(\"images/human_dist.pdf\")"
   ]
  },
  {
   "cell_type": "code",
   "execution_count": null,
   "metadata": {},
   "outputs": [],
   "source": [
    "df = pd.read_csv('csv_results/03_15_11_44.csv')\n",
    "df_sv_old = pd.read_csv('csv_results/sorted-vector_human_03_27_11_28.csv')\n",
    "df_sv_new = pd.read_csv('csv_results/sorted-vector_human_03_27_11_34.csv')\n",
    "df_sv_tmp = pd.read_csv('csv_results/sorted-vector_human_03_27_12_09.csv')\n",
    "df_pst = df[df.implementation=='PstClassifierSeqan']\n",
    "\n",
    "df_sv_old['mean_elapsed_time'] = df_sv_old.groupby(['vlmc_size', 'set_size'])['cache_misses'].transform('mean')\n",
    "df_sv_new['mean_elapsed_time'] = df_sv_new.groupby(['vlmc_size', 'set_size'])['cache_misses'].transform('mean')\n",
    "df_sv_tmp['mean_elapsed_time'] = df_sv_tmp.groupby(['vlmc_size', 'set_size'])['cache_misses'].transform('mean')\n",
    "df_sv_old['idx_helped'] = 1\n",
    "df_sv_old['idx'] = df_sv_old.groupby(['vlmc_size', 'set_size'])['idx_helped'].transform('cumsum')\n",
    "df_sv_new['idx_helped'] = 1\n",
    "df_sv_new['idx'] = df_sv_new.groupby(['vlmc_size', 'set_size'])['idx_helped'].transform('cumsum')\n",
    "df_sv_tmp['idx_helped'] = 1\n",
    "df_sv_tmp['idx'] = df_sv_tmp.groupby(['vlmc_size', 'set_size'])['idx_helped'].transform('cumsum')\n",
    "\n",
    "fig = make_subplots(rows=2, cols=2, shared_yaxes=False, subplot_titles=(\"Small\", \"Medium\", \"Large\"), horizontal_spacing= 0.02, vertical_spacing= 0.06, specs=[[{}, {}],[{\"colspan\": 2}, None]])\n",
    "\n",
    "fig.add_trace(go.Scatter(x=df_pst[df_pst.vlmc_size=='small']['set_size'], y=df_pst[df_pst.vlmc_size=='small']['elapsed_time'], line_color='#EF553B', name=\"Pst\", marker_symbol='x'), 1, 1)\n",
    "fig.add_trace(go.Scatter(x=df_sv_old[(df_sv_old.vlmc_size=='small') & (df_sv_old.idx==1)]['set_size'], y=df_sv_old[df_sv_old.vlmc_size=='small']['mean_elapsed_time'], line_color='#00CC96', name=\"sorted-vector old\"), 1, 1)\n",
    "fig.add_trace(go.Scatter(x=df_sv_new[(df_sv_new.vlmc_size=='small') & (df_sv_new.idx==1)]['set_size'], y=df_sv_new[df_sv_new.vlmc_size=='small']['mean_elapsed_time'], line_color='#636EFA', name=\"sorted-vector new\"), 1, 1)\n",
    "fig.add_trace(go.Scatter(x=df_sv_tmp[(df_sv_tmp.vlmc_size=='small') & (df_sv_tmp.idx==1)]['set_size'], y=df_sv_tmp[df_sv_tmp.vlmc_size=='small']['mean_elapsed_time'], line_color='yellow', name=\"sorted-vector new new\"), 1, 1)\n",
    "\n",
    "\n",
    "fig.add_trace(go.Scatter(x=df_pst[df_pst.vlmc_size=='medium']['set_size'], y=df_pst[df_pst.vlmc_size=='medium']['elapsed_time'], line_color='#EF553B', name=\"Pst\", marker_symbol='x', showlegend = False), 1, 2)\n",
    "fig.add_trace(go.Scatter(x=df_sv_old[(df_sv_old.vlmc_size=='medium') & (df_sv_old.idx==1)]['set_size'], y=df_sv_old[df_sv_old.vlmc_size=='medium']['mean_elapsed_time'], line_color='#00CC96', name=\"hashmap\", marker_symbol='square', showlegend = False), 1, 2)\n",
    "fig.add_trace(go.Scatter(x=df_sv_new[(df_sv_new.vlmc_size=='medium') & (df_sv_new.idx==1)]['set_size'], y=df_sv_new[df_sv_new.vlmc_size=='medium']['mean_elapsed_time'], line_color='#636EFA', name=\"hashmap\", marker_symbol='square', showlegend = False), 1, 2)\n",
    "fig.add_trace(go.Scatter(x=df_sv_tmp[(df_sv_tmp.vlmc_size=='medium') & (df_sv_tmp.idx==1)]['set_size'], y=df_sv_tmp[df_sv_tmp.vlmc_size=='medium']['mean_elapsed_time'], line_color='yellow', name=\"hashmap\", marker_symbol='square', showlegend = False), 1, 2)\n",
    "\n",
    "\n",
    "fig.add_trace(go.Scatter(x=df_pst[df_pst.vlmc_size=='large']['set_size'], y=df_pst[df_pst.vlmc_size=='large']['elapsed_time'], line_color='#EF553B', name=\"Pst\", marker_symbol='x', showlegend = False), 2, 1)\n",
    "fig.add_trace(go.Scatter(x=df_sv_old[(df_sv_old.vlmc_size=='large') & (df_sv_old.idx==1)]['set_size'], y=df_sv_old[df_sv_old.vlmc_size=='large']['mean_elapsed_time'], line_color='#00CC96', name=\"hashmap\", marker_symbol='square', showlegend = False), 2, 1)\n",
    "fig.add_trace(go.Scatter(x=df_sv_new[(df_sv_new.vlmc_size=='large') & (df_sv_new.idx==1)]['set_size'], y=df_sv_new[df_sv_new.vlmc_size=='large']['mean_elapsed_time'], line_color='#636EFA', name=\"hashmap\", marker_symbol='square', showlegend = False), 2, 1)\n",
    "fig.add_trace(go.Scatter(x=df_sv_tmp[(df_sv_tmp.vlmc_size=='large') & (df_sv_tmp.idx==1)]['set_size'], y=df_sv_tmp[df_sv_tmp.vlmc_size=='large']['mean_elapsed_time'], line_color='yellow', name=\"hashmap\", marker_symbol='square', showlegend = False), 2, 1)\n",
    "\n",
    "\n",
    "fig.update_layout(legend=dict(\n",
    "    orientation=\"h\",\n",
    "    yanchor=\"bottom\",\n",
    "    y=1.08),\n",
    "    margin=dict(l=60, r=20, t=60, b=60),\n",
    "    height=700)\n",
    "\n",
    "fig.add_annotation(x=-0.045, y=0.5,\n",
    "            xref=\"paper\",\n",
    "            yref=\"paper\",\n",
    "            text=\"Elapsed time [sec]\",\n",
    "            showarrow=False,\n",
    "            textangle=-90,\n",
    "            font_size=20)\n",
    "\n",
    "fig.add_annotation(x=0.5, y=-0.11,\n",
    "            xref=\"paper\",\n",
    "            yref=\"paper\",\n",
    "            text=\"Amount of VLMCs\",\n",
    "            showarrow=False,\n",
    "            font_size=20)\n",
    "\n",
    "fig.show()"
   ]
  },
  {
   "attachments": {},
   "cell_type": "markdown",
   "metadata": {},
   "source": [
    "### Ahmdals"
   ]
  },
  {
   "cell_type": "code",
   "execution_count": null,
   "metadata": {},
   "outputs": [],
   "source": [
    "df = pd.read_csv('csv_results/parallelization_ecoli_03_28_16_11.csv')\n",
    "time = df['elapsed_time']\n",
    "cores = df['nr_cores_used']\n",
    "single_core_time = time[0]\n",
    "speedup = single_core_time / time \n",
    "fig = go.Figure()\n",
    "fig.add_trace(go.Scatter(mode='lines', x=cores, y=speedup, line_color='#00CC96', name=\"Algorithm\"))\n",
    "\n",
    "infinite_ahmdals = cores\n",
    "fig.add_trace(go.Scatter(mode='lines', x=cores, y=infinite_ahmdals, line_color='#636EFA', name=\"Theoretical\"))\n",
    "fig.update_layout(yaxis_title=\"Speedup\", xaxis_title=\"Amount of cores used\", yaxis_range=[0,20], xaxis_range=[0,17], font={'size': 20}, plot_bgcolor=\"white\", yaxis_gridcolor='LightGrey'\n",
    ",xaxis_gridcolor='LightGrey')\n",
    "fig.update_layout(\n",
    "    autosize=False,\n",
    "    width=1000,\n",
    "    height=600,)\n",
    "fig.show()\n",
    "fig.write_image(\"images/ecolit-parallel-to-ahmdals.pdf\")"
   ]
  },
  {
   "cell_type": "code",
   "execution_count": null,
   "metadata": {},
   "outputs": [],
   "source": [
    "df.head()"
   ]
  },
  {
   "cell_type": "code",
   "execution_count": null,
   "metadata": {},
   "outputs": [],
   "source": [
    "df = pd.read_csv('csv_results/dev_test_6.csv')\n",
    "\n",
    "fig = go.Figure()\n",
    "fig.add_trace(go.Scatter(mode='lines', x=df['nr_elements'], y=df['cache_misses_count'] / df['instructions_count'], line_color='#00CC96'))\n",
    "\n",
    "# infinite_ahmdals = cores\n",
    "# fig.add_trace(go.Scatter(mode='lines', x=cores, y=infinite_ahmdals, line_color='#636EFA', name=\"Theoretical\"))\n",
    "fig.update_layout(yaxis_title=\"Speedup\", xaxis_title=\"Amount of cores used\", font={'size': 20}, plot_bgcolor=\"white\", yaxis_gridcolor='LightGrey', xaxis_gridcolor='LightGrey')\n",
    "fig.update_layout(\n",
    "    autosize=False,\n",
    "    width=1000,\n",
    "    height=600,)\n",
    "fig.show()"
   ]
  }
 ],
 "metadata": {
  "kernelspec": {
   "display_name": "pytenv",
   "language": "python",
   "name": "python3"
  },
  "language_info": {
   "codemirror_mode": {
    "name": "ipython",
    "version": 3
   },
   "file_extension": ".py",
   "mimetype": "text/x-python",
   "name": "python",
   "nbconvert_exporter": "python",
   "pygments_lexer": "ipython3",
   "version": "3.10.6"
  },
  "orig_nbformat": 4,
  "vscode": {
   "interpreter": {
    "hash": "48d0a4ca29d602f526e1aa695dc41e454d4aef6a87f358e764b4e396349856d8"
   }
  }
 },
 "nbformat": 4,
 "nbformat_minor": 2
}
