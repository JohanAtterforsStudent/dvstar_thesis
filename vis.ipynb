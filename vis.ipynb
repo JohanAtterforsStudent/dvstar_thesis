{
 "cells": [
  {
   "cell_type": "code",
   "execution_count": 1,
   "metadata": {},
   "outputs": [],
   "source": [
    "import plotly.express as px \n",
    "import plotly.graph_objects as go\n",
    "from plotly.subplots import make_subplots\n",
    "import pandas as pd \n",
    "import os "
   ]
  },
  {
   "cell_type": "code",
   "execution_count": null,
   "metadata": {},
   "outputs": [],
   "source": [
    "cwd = os.getcwd()\n",
    "csv_path = cwd + \"/tmp/benchmarks/test.csv\""
   ]
  },
  {
   "cell_type": "code",
   "execution_count": null,
   "metadata": {},
   "outputs": [],
   "source": [
    "df = pd.read_csv(csv_path)\n",
    "\n",
    "fig = px.line(df, x='Set size', y='cache-misses', title=\"Cache misses relative to amount of sequences compared <b>Repo : \" + df['Repo Version'].iloc[0] + \"</b>\")\n",
    "fig.update_layout(yaxis_title='cache misses (%)', xaxis_title='Number of unique sequences compared')\n",
    "fig.show()\n",
    "\n",
    "fig = px.line(df, x='Set size', y='elapsed time', title=\"Cache misses relative to amount of sequences compared <b>Repo : \" + df['Repo Version'].iloc[0] + \"</b>\")\n",
    "fig.update_layout(yaxis_title='cache misses (%)', xaxis_title='Number of unique sequences compared')\n",
    "fig.show()"
   ]
  },
  {
   "attachments": {},
   "cell_type": "markdown",
   "metadata": {},
   "source": [
    "# The following section analysises the relation of file size to input parameters"
   ]
  },
  {
   "cell_type": "code",
   "execution_count": null,
   "metadata": {},
   "outputs": [],
   "source": [
    "sequence = []\n",
    "threshold = []\n",
    "min_count = []\n",
    "max_depth = []\n",
    "size = []\n",
    "\n",
    "directory = \"data/benchmarking/parameter_test\"\n",
    "\n",
    "for filename in os.listdir(\"data/benchmarking/parameter_test\"):\n",
    "    f = os.path.join(directory, filename)\n",
    "    file_stats = os.stat(f)\n",
    "    parameters = filename.split(\"_\")\n",
    "    sequence.append(parameters[1])\n",
    "    threshold.append(float(parameters[2]))\n",
    "    min_count.append(int(parameters[3]))\n",
    "    max_depth.append(int(parameters[4].split(\".\")[0]))\n",
    "    size.append(file_stats.st_size)\n",
    "\n",
    "data = {\n",
    "    \"sequence\" : sequence, \n",
    "    \"threshold\" : threshold,\n",
    "    \"min_count\" : min_count,\n",
    "    \"max_depth\" : max_depth,\n",
    "    \"size\" : size\n",
    "}\n",
    "\n",
    "df = pd.DataFrame(data)\n",
    "df.columns"
   ]
  },
  {
   "cell_type": "code",
   "execution_count": null,
   "metadata": {},
   "outputs": [],
   "source": [
    "df['avg_size_threshold'] = df.groupby(['threshold'])['size'].transform('mean')\n",
    "df['avg_size_min_count'] = df.groupby(['min_count'])['size'].transform('mean')\n",
    "df['avg_size_max_depth'] = df.groupby(['max_depth'])['size'].transform('mean')\n",
    "\n",
    "df_threshold = df[['threshold', 'avg_size_threshold']]\n",
    "df_threshold.drop_duplicates(inplace=True)\n",
    "df_threshold.sort_values('threshold', inplace=True)\n",
    "\n",
    "df_min_count = df[['min_count', 'avg_size_min_count']]\n",
    "df_min_count.drop_duplicates(inplace=True)\n",
    "df_min_count.sort_values('min_count', inplace=True)\n",
    "\n",
    "df_max_depth = df[['max_depth', 'avg_size_max_depth']]\n",
    "df_max_depth.drop_duplicates(inplace=True)\n",
    "df_max_depth.sort_values('max_depth', inplace=True)"
   ]
  },
  {
   "cell_type": "code",
   "execution_count": null,
   "metadata": {},
   "outputs": [],
   "source": [
    "fig = go.Figure()\n",
    "\n",
    "fig.add_trace(go.Scatter(x=df_threshold['threshold'], y=df_threshold['avg_size_threshold'], name='threshold'))\n",
    "fig.add_trace(go.Scatter(x=df_min_count['min_count'], y=df_min_count['avg_size_min_count'], name='min_count'))\n",
    "fig.add_trace(go.Scatter(x=df_max_depth['max_depth'], y=df_max_depth['avg_size_max_depth'], name='max_depth'))\n",
    "\n",
    "fig.update_layout(yaxis_title='Size (Bytes)', xaxis_title='Parameter', title='File size change in relation to parameter tuning')\n",
    "\n",
    "fig.show()"
   ]
  },
  {
   "attachments": {},
   "cell_type": "markdown",
   "metadata": {},
   "source": [
    "# <b>Visualizing Benchmarking on Human Dataset</b>"
   ]
  },
  {
   "attachments": {},
   "cell_type": "markdown",
   "metadata": {},
   "source": [
    "## Visualize time elapsed compared to amount of VLMCs compared"
   ]
  },
  {
   "cell_type": "code",
   "execution_count": 60,
   "metadata": {},
   "outputs": [
    {
     "data": {
      "application/vnd.plotly.v1+json": {
       "config": {
        "plotlyServerURL": "https://plot.ly"
       },
       "data": [
        {
         "line": {
          "color": "#EF553B"
         },
         "marker": {
          "symbol": "x"
         },
         "name": "Pst",
         "type": "scatter",
         "x": [
          24,
          12,
          6,
          3
         ],
         "xaxis": "x",
         "y": [
          0.485253499,
          0.114175506,
          0.0446014,
          0.019887101
         ],
         "yaxis": "y"
        },
        {
         "line": {
          "color": "#FECB52"
         },
         "marker": {
          "symbol": "square"
         },
         "name": "hashmap",
         "type": "scatter",
         "x": [
          24,
          12,
          6,
          3
         ],
         "xaxis": "x",
         "y": [
          0.056953211,
          0.068529697,
          0.019673899,
          0.013906799
         ],
         "yaxis": "y"
        },
        {
         "line": {
          "color": "#00CC96"
         },
         "marker": {
          "symbol": "diamond"
         },
         "name": "combo",
         "type": "scatter",
         "x": [
          24,
          12,
          6,
          3
         ],
         "xaxis": "x",
         "y": [
          0.043112598,
          0.028886897,
          0.0224225,
          0.010587799
         ],
         "yaxis": "y"
        },
        {
         "line": {
          "color": "#636EFA"
         },
         "name": "sorted-vector",
         "type": "scatter",
         "x": [
          24,
          12,
          6,
          3
         ],
         "xaxis": "x",
         "y": [
          0.1201944,
          0.035741507,
          0.019598204,
          0.010194502
         ],
         "yaxis": "y"
        },
        {
         "line": {
          "color": "#EF553B"
         },
         "marker": {
          "symbol": "x"
         },
         "name": "Pst",
         "showlegend": false,
         "type": "scatter",
         "x": [
          24,
          12,
          6,
          3
         ],
         "xaxis": "x2",
         "y": [
          4.548532001,
          0.944180145,
          0.538431109,
          0.223892103
         ],
         "yaxis": "y2"
        },
        {
         "line": {
          "color": "#FECB52"
         },
         "marker": {
          "symbol": "square"
         },
         "name": "hashmap",
         "showlegend": false,
         "type": "scatter",
         "x": [
          24,
          12,
          6,
          3
         ],
         "xaxis": "x2",
         "y": [
          1.043098801,
          0.391747484,
          0.122533096,
          0.080469197
         ],
         "yaxis": "y2"
        },
        {
         "line": {
          "color": "#00CC96"
         },
         "marker": {
          "symbol": "diamond"
         },
         "name": "combo",
         "showlegend": false,
         "type": "scatter",
         "x": [
          24,
          12,
          6,
          3
         ],
         "xaxis": "x2",
         "y": [
          0.731322668,
          0.239272772,
          0.133373098,
          0.0617077
         ],
         "yaxis": "y2"
        },
        {
         "line": {
          "color": "#636EFA"
         },
         "name": "sorted-vector",
         "showlegend": false,
         "type": "scatter",
         "x": [
          24,
          12,
          6,
          3
         ],
         "xaxis": "x2",
         "y": [
          0.704025198,
          0.276588553,
          0.10577352,
          0.068065913
         ],
         "yaxis": "y2"
        },
        {
         "line": {
          "color": "#EF553B"
         },
         "marker": {
          "symbol": "x"
         },
         "name": "Pst",
         "showlegend": false,
         "type": "scatter",
         "x": [
          24,
          12,
          6,
          3
         ],
         "xaxis": "x3",
         "y": [
          33.207906679,
          10.136397168,
          5.050396365,
          2.168589698
         ],
         "yaxis": "y3"
        },
        {
         "line": {
          "color": "#FECB52"
         },
         "marker": {
          "symbol": "square"
         },
         "name": "hashmap",
         "showlegend": false,
         "type": "scatter",
         "x": [
          24,
          12,
          6,
          3
         ],
         "xaxis": "x3",
         "y": [
          9.537478785,
          3.524424458,
          1.235946951,
          0.614440976
         ],
         "yaxis": "y3"
        },
        {
         "line": {
          "color": "#00CC96"
         },
         "marker": {
          "symbol": "diamond"
         },
         "name": "combo",
         "showlegend": false,
         "type": "scatter",
         "x": [
          24,
          12,
          6,
          3
         ],
         "xaxis": "x3",
         "y": [
          6.082265986,
          2.437585511,
          0.960111092,
          0.539206295
         ],
         "yaxis": "y3"
        },
        {
         "line": {
          "color": "#636EFA"
         },
         "name": "sorted-vector",
         "showlegend": false,
         "type": "scatter",
         "x": [
          24,
          12,
          6,
          3
         ],
         "xaxis": "x3",
         "y": [
          6.678323296,
          2.545795491,
          1.099955212,
          0.512672599
         ],
         "yaxis": "y3"
        }
       ],
       "layout": {
        "annotations": [
         {
          "font": {
           "size": 32
          },
          "showarrow": false,
          "text": "Small",
          "x": 0.245,
          "xanchor": "center",
          "xref": "paper",
          "y": 1,
          "yanchor": "bottom",
          "yref": "paper"
         },
         {
          "font": {
           "size": 32
          },
          "showarrow": false,
          "text": "Medium",
          "x": 0.755,
          "xanchor": "center",
          "xref": "paper",
          "y": 1,
          "yanchor": "bottom",
          "yref": "paper"
         },
         {
          "font": {
           "size": 32
          },
          "showarrow": false,
          "text": "Large",
          "x": 0.5,
          "xanchor": "center",
          "xref": "paper",
          "y": 0.46,
          "yanchor": "bottom",
          "yref": "paper"
         },
         {
          "font": {
           "size": 32
          },
          "showarrow": false,
          "text": "Amount of VLMCs",
          "x": 0.5,
          "xanchor": "center",
          "xref": "paper",
          "y": 0,
          "yanchor": "top",
          "yref": "paper",
          "yshift": -30
         },
         {
          "font": {
           "size": 32
          },
          "showarrow": false,
          "text": "Elapsed Time (s)",
          "textangle": -90,
          "x": 0,
          "xanchor": "right",
          "xref": "paper",
          "xshift": -40,
          "y": 0.5,
          "yanchor": "middle",
          "yref": "paper"
         }
        ],
        "height": 800,
        "legend": {
         "orientation": "h",
         "y": 1.08,
         "yanchor": "bottom"
        },
        "margin": {
         "b": 80,
         "l": 100,
         "r": 60,
         "t": 60
        },
        "plot_bgcolor": "white",
        "template": {
         "data": {
          "bar": [
           {
            "error_x": {
             "color": "#2a3f5f"
            },
            "error_y": {
             "color": "#2a3f5f"
            },
            "marker": {
             "line": {
              "color": "#E5ECF6",
              "width": 0.5
             },
             "pattern": {
              "fillmode": "overlay",
              "size": 10,
              "solidity": 0.2
             }
            },
            "type": "bar"
           }
          ],
          "barpolar": [
           {
            "marker": {
             "line": {
              "color": "#E5ECF6",
              "width": 0.5
             },
             "pattern": {
              "fillmode": "overlay",
              "size": 10,
              "solidity": 0.2
             }
            },
            "type": "barpolar"
           }
          ],
          "carpet": [
           {
            "aaxis": {
             "endlinecolor": "#2a3f5f",
             "gridcolor": "white",
             "linecolor": "white",
             "minorgridcolor": "white",
             "startlinecolor": "#2a3f5f"
            },
            "baxis": {
             "endlinecolor": "#2a3f5f",
             "gridcolor": "white",
             "linecolor": "white",
             "minorgridcolor": "white",
             "startlinecolor": "#2a3f5f"
            },
            "type": "carpet"
           }
          ],
          "choropleth": [
           {
            "colorbar": {
             "outlinewidth": 0,
             "ticks": ""
            },
            "type": "choropleth"
           }
          ],
          "contour": [
           {
            "colorbar": {
             "outlinewidth": 0,
             "ticks": ""
            },
            "colorscale": [
             [
              0,
              "#0d0887"
             ],
             [
              0.1111111111111111,
              "#46039f"
             ],
             [
              0.2222222222222222,
              "#7201a8"
             ],
             [
              0.3333333333333333,
              "#9c179e"
             ],
             [
              0.4444444444444444,
              "#bd3786"
             ],
             [
              0.5555555555555556,
              "#d8576b"
             ],
             [
              0.6666666666666666,
              "#ed7953"
             ],
             [
              0.7777777777777778,
              "#fb9f3a"
             ],
             [
              0.8888888888888888,
              "#fdca26"
             ],
             [
              1,
              "#f0f921"
             ]
            ],
            "type": "contour"
           }
          ],
          "contourcarpet": [
           {
            "colorbar": {
             "outlinewidth": 0,
             "ticks": ""
            },
            "type": "contourcarpet"
           }
          ],
          "heatmap": [
           {
            "colorbar": {
             "outlinewidth": 0,
             "ticks": ""
            },
            "colorscale": [
             [
              0,
              "#0d0887"
             ],
             [
              0.1111111111111111,
              "#46039f"
             ],
             [
              0.2222222222222222,
              "#7201a8"
             ],
             [
              0.3333333333333333,
              "#9c179e"
             ],
             [
              0.4444444444444444,
              "#bd3786"
             ],
             [
              0.5555555555555556,
              "#d8576b"
             ],
             [
              0.6666666666666666,
              "#ed7953"
             ],
             [
              0.7777777777777778,
              "#fb9f3a"
             ],
             [
              0.8888888888888888,
              "#fdca26"
             ],
             [
              1,
              "#f0f921"
             ]
            ],
            "type": "heatmap"
           }
          ],
          "heatmapgl": [
           {
            "colorbar": {
             "outlinewidth": 0,
             "ticks": ""
            },
            "colorscale": [
             [
              0,
              "#0d0887"
             ],
             [
              0.1111111111111111,
              "#46039f"
             ],
             [
              0.2222222222222222,
              "#7201a8"
             ],
             [
              0.3333333333333333,
              "#9c179e"
             ],
             [
              0.4444444444444444,
              "#bd3786"
             ],
             [
              0.5555555555555556,
              "#d8576b"
             ],
             [
              0.6666666666666666,
              "#ed7953"
             ],
             [
              0.7777777777777778,
              "#fb9f3a"
             ],
             [
              0.8888888888888888,
              "#fdca26"
             ],
             [
              1,
              "#f0f921"
             ]
            ],
            "type": "heatmapgl"
           }
          ],
          "histogram": [
           {
            "marker": {
             "pattern": {
              "fillmode": "overlay",
              "size": 10,
              "solidity": 0.2
             }
            },
            "type": "histogram"
           }
          ],
          "histogram2d": [
           {
            "colorbar": {
             "outlinewidth": 0,
             "ticks": ""
            },
            "colorscale": [
             [
              0,
              "#0d0887"
             ],
             [
              0.1111111111111111,
              "#46039f"
             ],
             [
              0.2222222222222222,
              "#7201a8"
             ],
             [
              0.3333333333333333,
              "#9c179e"
             ],
             [
              0.4444444444444444,
              "#bd3786"
             ],
             [
              0.5555555555555556,
              "#d8576b"
             ],
             [
              0.6666666666666666,
              "#ed7953"
             ],
             [
              0.7777777777777778,
              "#fb9f3a"
             ],
             [
              0.8888888888888888,
              "#fdca26"
             ],
             [
              1,
              "#f0f921"
             ]
            ],
            "type": "histogram2d"
           }
          ],
          "histogram2dcontour": [
           {
            "colorbar": {
             "outlinewidth": 0,
             "ticks": ""
            },
            "colorscale": [
             [
              0,
              "#0d0887"
             ],
             [
              0.1111111111111111,
              "#46039f"
             ],
             [
              0.2222222222222222,
              "#7201a8"
             ],
             [
              0.3333333333333333,
              "#9c179e"
             ],
             [
              0.4444444444444444,
              "#bd3786"
             ],
             [
              0.5555555555555556,
              "#d8576b"
             ],
             [
              0.6666666666666666,
              "#ed7953"
             ],
             [
              0.7777777777777778,
              "#fb9f3a"
             ],
             [
              0.8888888888888888,
              "#fdca26"
             ],
             [
              1,
              "#f0f921"
             ]
            ],
            "type": "histogram2dcontour"
           }
          ],
          "mesh3d": [
           {
            "colorbar": {
             "outlinewidth": 0,
             "ticks": ""
            },
            "type": "mesh3d"
           }
          ],
          "parcoords": [
           {
            "line": {
             "colorbar": {
              "outlinewidth": 0,
              "ticks": ""
             }
            },
            "type": "parcoords"
           }
          ],
          "pie": [
           {
            "automargin": true,
            "type": "pie"
           }
          ],
          "scatter": [
           {
            "fillpattern": {
             "fillmode": "overlay",
             "size": 10,
             "solidity": 0.2
            },
            "type": "scatter"
           }
          ],
          "scatter3d": [
           {
            "line": {
             "colorbar": {
              "outlinewidth": 0,
              "ticks": ""
             }
            },
            "marker": {
             "colorbar": {
              "outlinewidth": 0,
              "ticks": ""
             }
            },
            "type": "scatter3d"
           }
          ],
          "scattercarpet": [
           {
            "marker": {
             "colorbar": {
              "outlinewidth": 0,
              "ticks": ""
             }
            },
            "type": "scattercarpet"
           }
          ],
          "scattergeo": [
           {
            "marker": {
             "colorbar": {
              "outlinewidth": 0,
              "ticks": ""
             }
            },
            "type": "scattergeo"
           }
          ],
          "scattergl": [
           {
            "marker": {
             "colorbar": {
              "outlinewidth": 0,
              "ticks": ""
             }
            },
            "type": "scattergl"
           }
          ],
          "scattermapbox": [
           {
            "marker": {
             "colorbar": {
              "outlinewidth": 0,
              "ticks": ""
             }
            },
            "type": "scattermapbox"
           }
          ],
          "scatterpolar": [
           {
            "marker": {
             "colorbar": {
              "outlinewidth": 0,
              "ticks": ""
             }
            },
            "type": "scatterpolar"
           }
          ],
          "scatterpolargl": [
           {
            "marker": {
             "colorbar": {
              "outlinewidth": 0,
              "ticks": ""
             }
            },
            "type": "scatterpolargl"
           }
          ],
          "scatterternary": [
           {
            "marker": {
             "colorbar": {
              "outlinewidth": 0,
              "ticks": ""
             }
            },
            "type": "scatterternary"
           }
          ],
          "surface": [
           {
            "colorbar": {
             "outlinewidth": 0,
             "ticks": ""
            },
            "colorscale": [
             [
              0,
              "#0d0887"
             ],
             [
              0.1111111111111111,
              "#46039f"
             ],
             [
              0.2222222222222222,
              "#7201a8"
             ],
             [
              0.3333333333333333,
              "#9c179e"
             ],
             [
              0.4444444444444444,
              "#bd3786"
             ],
             [
              0.5555555555555556,
              "#d8576b"
             ],
             [
              0.6666666666666666,
              "#ed7953"
             ],
             [
              0.7777777777777778,
              "#fb9f3a"
             ],
             [
              0.8888888888888888,
              "#fdca26"
             ],
             [
              1,
              "#f0f921"
             ]
            ],
            "type": "surface"
           }
          ],
          "table": [
           {
            "cells": {
             "fill": {
              "color": "#EBF0F8"
             },
             "line": {
              "color": "white"
             }
            },
            "header": {
             "fill": {
              "color": "#C8D4E3"
             },
             "line": {
              "color": "white"
             }
            },
            "type": "table"
           }
          ]
         },
         "layout": {
          "annotationdefaults": {
           "arrowcolor": "#2a3f5f",
           "arrowhead": 0,
           "arrowwidth": 1
          },
          "autotypenumbers": "strict",
          "coloraxis": {
           "colorbar": {
            "outlinewidth": 0,
            "ticks": ""
           }
          },
          "colorscale": {
           "diverging": [
            [
             0,
             "#8e0152"
            ],
            [
             0.1,
             "#c51b7d"
            ],
            [
             0.2,
             "#de77ae"
            ],
            [
             0.3,
             "#f1b6da"
            ],
            [
             0.4,
             "#fde0ef"
            ],
            [
             0.5,
             "#f7f7f7"
            ],
            [
             0.6,
             "#e6f5d0"
            ],
            [
             0.7,
             "#b8e186"
            ],
            [
             0.8,
             "#7fbc41"
            ],
            [
             0.9,
             "#4d9221"
            ],
            [
             1,
             "#276419"
            ]
           ],
           "sequential": [
            [
             0,
             "#0d0887"
            ],
            [
             0.1111111111111111,
             "#46039f"
            ],
            [
             0.2222222222222222,
             "#7201a8"
            ],
            [
             0.3333333333333333,
             "#9c179e"
            ],
            [
             0.4444444444444444,
             "#bd3786"
            ],
            [
             0.5555555555555556,
             "#d8576b"
            ],
            [
             0.6666666666666666,
             "#ed7953"
            ],
            [
             0.7777777777777778,
             "#fb9f3a"
            ],
            [
             0.8888888888888888,
             "#fdca26"
            ],
            [
             1,
             "#f0f921"
            ]
           ],
           "sequentialminus": [
            [
             0,
             "#0d0887"
            ],
            [
             0.1111111111111111,
             "#46039f"
            ],
            [
             0.2222222222222222,
             "#7201a8"
            ],
            [
             0.3333333333333333,
             "#9c179e"
            ],
            [
             0.4444444444444444,
             "#bd3786"
            ],
            [
             0.5555555555555556,
             "#d8576b"
            ],
            [
             0.6666666666666666,
             "#ed7953"
            ],
            [
             0.7777777777777778,
             "#fb9f3a"
            ],
            [
             0.8888888888888888,
             "#fdca26"
            ],
            [
             1,
             "#f0f921"
            ]
           ]
          },
          "colorway": [
           "#636efa",
           "#EF553B",
           "#00cc96",
           "#ab63fa",
           "#FFA15A",
           "#19d3f3",
           "#FF6692",
           "#B6E880",
           "#FF97FF",
           "#FECB52"
          ],
          "font": {
           "color": "#2a3f5f"
          },
          "geo": {
           "bgcolor": "white",
           "lakecolor": "white",
           "landcolor": "#E5ECF6",
           "showlakes": true,
           "showland": true,
           "subunitcolor": "white"
          },
          "hoverlabel": {
           "align": "left"
          },
          "hovermode": "closest",
          "mapbox": {
           "style": "light"
          },
          "paper_bgcolor": "white",
          "plot_bgcolor": "#E5ECF6",
          "polar": {
           "angularaxis": {
            "gridcolor": "white",
            "linecolor": "white",
            "ticks": ""
           },
           "bgcolor": "#E5ECF6",
           "radialaxis": {
            "gridcolor": "white",
            "linecolor": "white",
            "ticks": ""
           }
          },
          "scene": {
           "xaxis": {
            "backgroundcolor": "#E5ECF6",
            "gridcolor": "white",
            "gridwidth": 2,
            "linecolor": "white",
            "showbackground": true,
            "ticks": "",
            "zerolinecolor": "white"
           },
           "yaxis": {
            "backgroundcolor": "#E5ECF6",
            "gridcolor": "white",
            "gridwidth": 2,
            "linecolor": "white",
            "showbackground": true,
            "ticks": "",
            "zerolinecolor": "white"
           },
           "zaxis": {
            "backgroundcolor": "#E5ECF6",
            "gridcolor": "white",
            "gridwidth": 2,
            "linecolor": "white",
            "showbackground": true,
            "ticks": "",
            "zerolinecolor": "white"
           }
          },
          "shapedefaults": {
           "line": {
            "color": "#2a3f5f"
           }
          },
          "ternary": {
           "aaxis": {
            "gridcolor": "white",
            "linecolor": "white",
            "ticks": ""
           },
           "baxis": {
            "gridcolor": "white",
            "linecolor": "white",
            "ticks": ""
           },
           "bgcolor": "#E5ECF6",
           "caxis": {
            "gridcolor": "white",
            "linecolor": "white",
            "ticks": ""
           }
          },
          "title": {
           "x": 0.05
          },
          "xaxis": {
           "automargin": true,
           "gridcolor": "white",
           "linecolor": "white",
           "ticks": "",
           "title": {
            "standoff": 15
           },
           "zerolinecolor": "white",
           "zerolinewidth": 2
          },
          "yaxis": {
           "automargin": true,
           "gridcolor": "white",
           "linecolor": "white",
           "ticks": "",
           "title": {
            "standoff": 15
           },
           "zerolinecolor": "white",
           "zerolinewidth": 2
          }
         }
        },
        "xaxis": {
         "anchor": "y",
         "domain": [
          0,
          0.49
         ],
         "gridcolor": "LightGrey"
        },
        "xaxis2": {
         "anchor": "y2",
         "domain": [
          0.51,
          1
         ],
         "gridcolor": "LightGrey"
        },
        "xaxis3": {
         "anchor": "y3",
         "domain": [
          0,
          1
         ],
         "gridcolor": "LightGrey"
        },
        "yaxis": {
         "anchor": "x",
         "domain": [
          0.54,
          1
         ],
         "gridcolor": "LightGrey",
         "tickvals": [
          0,
          0.1,
          0.2,
          0.3,
          0.4,
          0.5
         ]
        },
        "yaxis2": {
         "anchor": "x2",
         "domain": [
          0.54,
          1
         ],
         "gridcolor": "LightGrey",
         "tickvals": [
          0,
          1,
          2,
          3,
          4,
          5
         ]
        },
        "yaxis3": {
         "anchor": "x3",
         "domain": [
          0,
          0.46
         ],
         "gridcolor": "LightGrey",
         "tickvals": [
          0,
          5,
          10,
          15,
          20,
          25,
          30
         ]
        }
       }
      }
     },
     "metadata": {},
     "output_type": "display_data"
    }
   ],
   "source": [
    "df = pd.read_csv('csv_results/03_15_11_44.csv')\n",
    "df_sv = pd.read_csv('csv_results/sorted-vector_human_03_20_12_09.csv')\n",
    "df_hm = pd.read_csv('csv_results/hashmap_human_03_20_12_10.csv')\n",
    "df_co = pd.read_csv('csv_results/combo_human_03_20_12_10.csv')\n",
    "df_pst = df[df.implementation=='PstClassifierSeqan']\n",
    "\n",
    "fig = make_subplots(rows=2, cols=2, shared_yaxes=False, \n",
    "                    x_title=\"Amount of VLMCs\",\n",
    "                    y_title=\"Elapsed Time (s)\",\n",
    "                    subplot_titles=(\"Small\", \"Medium\", \"Large\"), \n",
    "                    horizontal_spacing= 0.02, vertical_spacing= 0.08, \n",
    "                    specs=[[{}, {}],[{\"colspan\": 2}, None]])\n",
    "\n",
    "fig.add_trace(go.Scatter(x=df_pst[df_pst.vlmc_size=='small']['set_size'], y=df_pst[df_pst.vlmc_size=='small']['elapsed_time'], line_color='#EF553B', name=\"Pst\", marker_symbol='x'), 1, 1)\n",
    "fig.add_trace(go.Scatter(x=df_hm[df_hm.vlmc_size=='small']['set_size'], y=df_hm[df_hm.vlmc_size=='small']['elapsed_time'], line_color='#FECB52', name=\"hashmap\", marker_symbol='square'), 1, 1)\n",
    "fig.add_trace(go.Scatter(x=df_co[df_co.vlmc_size=='small']['set_size'], y=df_co[df_co.vlmc_size=='small']['elapsed_time'], line_color='#00CC96', name=\"combo\", marker_symbol='diamond'), 1, 1)\n",
    "fig.add_trace(go.Scatter(x=df_sv[df_sv.vlmc_size=='small']['set_size'], y=df_sv[df_sv.vlmc_size=='small']['elapsed_time'], line_color='#636EFA', name=\"sorted-vector\"), 1, 1)\n",
    "\n",
    "fig.add_trace(go.Scatter(x=df_pst[df_pst.vlmc_size=='medium']['set_size'], y=df_pst[df_pst.vlmc_size=='medium']['elapsed_time'], line_color='#EF553B', name=\"Pst\", marker_symbol='x', showlegend = False), 1, 2)\n",
    "fig.add_trace(go.Scatter(x=df_hm[df_hm.vlmc_size=='medium']['set_size'], y=df_hm[df_hm.vlmc_size=='medium']['elapsed_time'], line_color='#FECB52', name=\"hashmap\", marker_symbol='square', showlegend = False), 1, 2)\n",
    "fig.add_trace(go.Scatter(x=df_co[df_co.vlmc_size=='medium']['set_size'], y=df_co[df_co.vlmc_size=='medium']['elapsed_time'], line_color='#00CC96', name=\"combo\", marker_symbol='diamond', showlegend = False), 1, 2)\n",
    "fig.add_trace(go.Scatter(x=df_sv[df_sv.vlmc_size=='medium']['set_size'], y=df_sv[df_sv.vlmc_size=='medium']['elapsed_time'], line_color='#636EFA', name=\"sorted-vector\", showlegend = False), 1, 2)\n",
    "\n",
    "fig.add_trace(go.Scatter(x=df_pst[df_pst.vlmc_size=='large']['set_size'], y=df_pst[df_pst.vlmc_size=='large']['elapsed_time'], line_color='#EF553B', name=\"Pst\", marker_symbol='x', showlegend = False), 2, 1)\n",
    "fig.add_trace(go.Scatter(x=df_hm[df_hm.vlmc_size=='large']['set_size'], y=df_hm[df_hm.vlmc_size=='large']['elapsed_time'], line_color='#FECB52', name=\"hashmap\", marker_symbol='square', showlegend = False), 2, 1)\n",
    "fig.add_trace(go.Scatter(x=df_co[df_co.vlmc_size=='large']['set_size'], y=df_co[df_co.vlmc_size=='large']['elapsed_time'], line_color='#00CC96', name=\"combo\", marker_symbol='diamond', showlegend = False), 2, 1)\n",
    "fig.add_trace(go.Scatter(x=df_sv[df_sv.vlmc_size=='large']['set_size'], y=df_sv[df_sv.vlmc_size=='large']['elapsed_time'], line_color='#636EFA', name=\"sorted-vector\", showlegend = False), 2, 1)\n",
    "\n",
    "\n",
    "fig.update_layout(legend=dict(\n",
    "    orientation=\"h\",\n",
    "    yanchor=\"bottom\",\n",
    "    y=1.08),\n",
    "    margin=dict(l=100, r=60, t=60, b=80),\n",
    "    height=800,\n",
    "    plot_bgcolor=\"white\")\n",
    "\n",
    "fig.update_xaxes(gridcolor='LightGrey', row=1, col=1)\n",
    "fig.update_yaxes(gridcolor='LightGrey', row=1, col=1)\n",
    "fig.update_yaxes(tickvals=[0, 0.1, 0.2, 0.3, 0.4, 0.5], row=1, col=1)\n",
    "\n",
    "fig.update_xaxes(gridcolor='LightGrey', row=1, col=2)\n",
    "fig.update_yaxes(gridcolor='LightGrey', row=1, col=2)\n",
    "fig.update_yaxes(tickvals=[0, 1, 2, 3, 4, 5], row=1, col=2)\n",
    "\n",
    "fig.update_xaxes(gridcolor='LightGrey', row=2, col=1)\n",
    "fig.update_yaxes(gridcolor='LightGrey', row=2, col=1)\n",
    "fig.update_yaxes(tickvals=[0, 5, 10, 15, 20, 25, 30], row=2, col=1)\n",
    "\n",
    "fig.layout.annotations[0][\"font\"] = {'size': 32}\n",
    "fig.layout.annotations[1][\"font\"] = {'size': 32}\n",
    "fig.layout.annotations[2][\"font\"] = {'size': 32}\n",
    "\n",
    "fig.layout.annotations[3][\"font\"] = {'size': 32}\n",
    "fig.layout.annotations[4][\"font\"] = {'size': 32}\n",
    "fig.show()"
   ]
  },
  {
   "attachments": {},
   "cell_type": "markdown",
   "metadata": {},
   "source": [
    "## Visualizing cache-misses in relation to amount of VLMCs compared"
   ]
  },
  {
   "cell_type": "code",
   "execution_count": null,
   "metadata": {},
   "outputs": [],
   "source": [
    "df = pd.read_csv('csv_results/03_15_11_44.csv')\n",
    "df_sv = pd.read_csv('csv_results/sorted-vector_human_03_20_12_09.csv')\n",
    "df_hm = pd.read_csv('csv_results/hashmap_human_03_20_12_10.csv')\n",
    "df_co = pd.read_csv('csv_results/combo_human_03_20_12_10.csv')\n",
    "df_pst = df[df.implementation=='PstClassifierSeqan']\n",
    "\n",
    "fig = make_subplots(rows=2, cols=2, shared_yaxes=False, subplot_titles=(\"Small\", \"Medium\", \"Large\"), horizontal_spacing= 0.02, vertical_spacing= 0.06, specs=[[{}, {}],[{\"colspan\": 2}, None]])\n",
    "\n",
    "fig.add_trace(go.Scatter(x=df_pst[df_pst.vlmc_size=='small']['set_size'], y=df_pst[df_pst.vlmc_size=='small']['cache_misses'], line_color='#EF553B', name=\"Pst\", marker_symbol='x'), 1, 1)\n",
    "fig.add_trace(go.Scatter(x=df_hm[df_hm.vlmc_size=='small']['set_size'], y=df_hm[df_hm.vlmc_size=='small']['cache_misses'], line_color='#FECB52', name=\"hashmap\"), 1, 1)\n",
    "fig.add_trace(go.Scatter(x=df_co[df_co.vlmc_size=='small']['set_size'], y=df_co[df_co.vlmc_size=='small']['cache_misses'], line_color='#00CC96', name=\"combo\", marker_symbol='diamond'), 1, 1)\n",
    "fig.add_trace(go.Scatter(x=df_sv[df_sv.vlmc_size=='small']['set_size'], y=df_sv[df_sv.vlmc_size=='small']['cache_misses'], line_color='#636EFA', name=\"sorted-vector\"), 1, 1)\n",
    "\n",
    "fig.add_trace(go.Scatter(x=df_pst[df_pst.vlmc_size=='medium']['set_size'], y=df_pst[df_pst.vlmc_size=='medium']['cache_misses'], line_color='#EF553B', name=\"Pst\", marker_symbol='x', showlegend = False), 1, 2)\n",
    "fig.add_trace(go.Scatter(x=df_hm[df_hm.vlmc_size=='medium']['set_size'], y=df_hm[df_hm.vlmc_size=='medium']['cache_misses'], line_color='#FECB52', name=\"hashmap\", marker_symbol='square', showlegend = False), 1, 2)\n",
    "fig.add_trace(go.Scatter(x=df_co[df_co.vlmc_size=='medium']['set_size'], y=df_co[df_co.vlmc_size=='medium']['cache_misses'], line_color='#00CC96', name=\"combo\", marker_symbol='diamond', showlegend = False), 1, 2)\n",
    "fig.add_trace(go.Scatter(x=df_sv[df_sv.vlmc_size=='medium']['set_size'], y=df_sv[df_sv.vlmc_size=='medium']['cache_misses'], line_color='#636EFA', name=\"sorted-vector\", showlegend = False), 1, 2)\n",
    "\n",
    "fig.add_trace(go.Scatter(x=df_pst[df_pst.vlmc_size=='large']['set_size'], y=df_pst[df_pst.vlmc_size=='large']['cache_misses'], line_color='#EF553B', name=\"Pst\", marker_symbol='x', showlegend = False), 2, 1)\n",
    "fig.add_trace(go.Scatter(x=df_hm[df_hm.vlmc_size=='large']['set_size'], y=df_hm[df_hm.vlmc_size=='large']['cache_misses'], line_color='#FECB52', name=\"hashmap\", marker_symbol='square', showlegend = False), 2, 1)\n",
    "fig.add_trace(go.Scatter(x=df_co[df_co.vlmc_size=='large']['set_size'], y=df_co[df_co.vlmc_size=='large']['cache_misses'], line_color='#00CC96', name=\"combo\", marker_symbol='diamond', showlegend = False), 2, 1)\n",
    "fig.add_trace(go.Scatter(x=df_sv[df_sv.vlmc_size=='large']['set_size'], y=df_sv[df_sv.vlmc_size=='large']['cache_misses'], line_color='#636EFA', name=\"sorted-vector\", showlegend = False), 2, 1)\n",
    "\n",
    "\n",
    "fig.update_layout(legend=dict(\n",
    "    orientation=\"h\",\n",
    "    yanchor=\"bottom\",\n",
    "    y=1.08),\n",
    "    margin=dict(l=60, r=20, t=60, b=60),\n",
    "    height=700)\n",
    "\n",
    "fig.add_annotation(x=-0.045, y=0.5,\n",
    "            xref=\"paper\",\n",
    "            yref=\"paper\",\n",
    "            text=\"Cache-misses [%]\",\n",
    "            showarrow=False,\n",
    "            textangle=-90,\n",
    "            font_size=20)\n",
    "\n",
    "fig.add_annotation(x=0.5, y=-0.11,\n",
    "            xref=\"paper\",\n",
    "            yref=\"paper\",\n",
    "            text=\"Amount of VLMCs\",\n",
    "            showarrow=False,\n",
    "            font_size=20)\n",
    "\n",
    "fig.show()"
   ]
  },
  {
   "attachments": {},
   "cell_type": "markdown",
   "metadata": {},
   "source": [
    "## Visualizing degree of parallelization"
   ]
  },
  {
   "cell_type": "code",
   "execution_count": null,
   "metadata": {},
   "outputs": [],
   "source": [
    "df = pd.read_csv('csv_results/parallelization_human_03_15_13_45.csv')\n",
    "df_small = df[df.vlmc_size==\"small\"]\n",
    "\n",
    "fig = px.line(df, x='nr_cores_used', y='elapsed_time', color='vlmc_size')\n",
    "\n",
    "fig.update_layout(title=\"Elapsed time compared to amount of cores used\", yaxis_title=\"Elapsed time (sec)\", xaxis_title=\"Amount of cores used\")\n",
    "\n",
    "fig.show()\n",
    "\n",
    "\n",
    "fig = px.line(df, x='nr_cores_used', y='task_clock', color='vlmc_size')\n",
    "\n",
    "fig.update_layout(title=\"Degree of parallelization compared to amount of cores used (Human dataset)\", yaxis_title=\"Degree of parallelization\", xaxis_title=\"Amount of cores used\")\n",
    "\n",
    "fig.show()\n",
    "\n",
    "fig = px.line(df, x='nr_cores_used', y='cache_misses', color='vlmc_size')\n",
    "\n",
    "fig.update_layout(title=\"Cache-misses compared to amount of cores used (Human dataset)\", yaxis_title=\"Degree of parallelization\", xaxis_title=\"Amount of cores used\")\n",
    "\n",
    "fig.show()\n",
    "\n"
   ]
  },
  {
   "attachments": {},
   "cell_type": "markdown",
   "metadata": {},
   "source": [
    "# <b>Visualizing Benchmarking on E-coli Dataset</b>"
   ]
  },
  {
   "attachments": {},
   "cell_type": "markdown",
   "metadata": {},
   "source": [
    "## Visualize time elapsed compared to amount of VLMCs compared"
   ]
  },
  {
   "cell_type": "code",
   "execution_count": null,
   "metadata": {},
   "outputs": [],
   "source": [
    "df_sv = pd.read_csv('csv_results/sorted-vector_ecoli_03_20_12_30.csv')\n",
    "df_hm = pd.read_csv('csv_results/hashmap_ecoli_03_20_12_32.csv')\n",
    "df_co = pd.read_csv('csv_results/combo_ecoli_03_20_12_51.csv')\n",
    "df_pst = pd.read_csv('csv_results/ecoli_03_16_09_44.csv')\n",
    "\n",
    "fig = make_subplots(rows=2, cols=2, shared_yaxes=False, subplot_titles=(\"Small\", \"Medium\", \"Large\"), horizontal_spacing= 0.02, vertical_spacing= 0.06, specs=[[{}, {}],[{\"colspan\": 2}, None]])\n",
    "\n",
    "fig.add_trace(go.Scatter(x=df_pst[df_pst.vlmc_size=='small']['set_size'], y=df_pst[df_pst.vlmc_size=='small']['elapsed_time'], line_color='#EF553B', name=\"Pst\", marker_symbol='x'), 1, 1)\n",
    "fig.add_trace(go.Scatter(x=df_hm[df_hm.vlmc_size=='small']['set_size'], y=df_hm[df_hm.vlmc_size=='small']['elapsed_time'], line_color='#FECB52', name=\"hashmap\"), 1, 1)\n",
    "fig.add_trace(go.Scatter(x=df_co[df_co.vlmc_size=='small']['set_size'], y=df_co[df_co.vlmc_size=='small']['elapsed_time'], line_color='#00CC96', name=\"combo\", marker_symbol='diamond'), 1, 1)\n",
    "fig.add_trace(go.Scatter(x=df_sv[df_sv.vlmc_size=='small']['set_size'], y=df_sv[df_sv.vlmc_size=='small']['elapsed_time'], line_color='#636EFA', name=\"sorted-vector\"), 1, 1)\n",
    "\n",
    "fig.add_trace(go.Scatter(x=df_pst[df_pst.vlmc_size=='medium']['set_size'], y=df_pst[df_pst.vlmc_size=='medium']['elapsed_time'], line_color='#EF553B', name=\"Pst\", marker_symbol='x', showlegend = False), 1, 2)\n",
    "fig.add_trace(go.Scatter(x=df_hm[df_hm.vlmc_size=='medium']['set_size'], y=df_hm[df_hm.vlmc_size=='medium']['elapsed_time'], line_color='#FECB52', name=\"hashmap\", marker_symbol='square', showlegend = False), 1, 2)\n",
    "fig.add_trace(go.Scatter(x=df_co[df_co.vlmc_size=='medium']['set_size'], y=df_co[df_co.vlmc_size=='medium']['elapsed_time'], line_color='#00CC96', name=\"combo\", marker_symbol='diamond', showlegend = False), 1, 2)\n",
    "fig.add_trace(go.Scatter(x=df_sv[df_sv.vlmc_size=='medium']['set_size'], y=df_sv[df_sv.vlmc_size=='medium']['elapsed_time'], line_color='#636EFA', name=\"sorted-vector\", showlegend = False), 1, 2)\n",
    "\n",
    "fig.add_trace(go.Scatter(x=df_pst[df_pst.vlmc_size=='large']['set_size'], y=df_pst[df_pst.vlmc_size=='large']['elapsed_time'], line_color='#EF553B', name=\"Pst\", marker_symbol='x', showlegend = False), 2, 1)\n",
    "fig.add_trace(go.Scatter(x=df_hm[df_hm.vlmc_size=='large']['set_size'], y=df_hm[df_hm.vlmc_size=='large']['elapsed_time'], line_color='#FECB52', name=\"hashmap\", marker_symbol='square', showlegend = False), 2, 1)\n",
    "fig.add_trace(go.Scatter(x=df_co[df_co.vlmc_size=='large']['set_size'], y=df_co[df_co.vlmc_size=='large']['elapsed_time'], line_color='#00CC96', name=\"combo\", marker_symbol='diamond', showlegend = False), 2, 1)\n",
    "fig.add_trace(go.Scatter(x=df_sv[df_sv.vlmc_size=='large']['set_size'], y=df_sv[df_sv.vlmc_size=='large']['elapsed_time'], line_color='#636EFA', name=\"sorted-vector\", showlegend = False), 2, 1)\n",
    "\n",
    "\n",
    "fig.update_layout(legend=dict(\n",
    "    orientation=\"h\",\n",
    "    yanchor=\"bottom\",\n",
    "    y=1.08),\n",
    "    margin=dict(l=60, r=20, t=60, b=60),\n",
    "    height=700)\n",
    "\n",
    "fig.add_annotation(x=-0.045, y=0.5,\n",
    "            xref=\"paper\",\n",
    "            yref=\"paper\",\n",
    "            text=\"Elapsed time [sec]\",\n",
    "            showarrow=False,\n",
    "            textangle=-90,\n",
    "            font_size=20)\n",
    "\n",
    "fig.add_annotation(x=0.5, y=-0.11,\n",
    "            xref=\"paper\",\n",
    "            yref=\"paper\",\n",
    "            text=\"Amount of VLMCs\",\n",
    "            showarrow=False,\n",
    "            font_size=20)\n",
    "\n",
    "fig.show()"
   ]
  },
  {
   "attachments": {},
   "cell_type": "markdown",
   "metadata": {},
   "source": [
    "## Cache-misses"
   ]
  },
  {
   "cell_type": "code",
   "execution_count": null,
   "metadata": {},
   "outputs": [],
   "source": [
    "df_sv = pd.read_csv('csv_results/sorted-vector_ecoli_03_20_12_30.csv')\n",
    "df_hm = pd.read_csv('csv_results/hashmap_ecoli_03_20_12_32.csv')\n",
    "df_co = pd.read_csv('csv_results/combo_ecoli_03_20_12_51.csv')\n",
    "df_pst = pd.read_csv('csv_results/ecoli_03_16_09_44.csv')\n",
    "\n",
    "fig = make_subplots(rows=2, cols=2, shared_yaxes=False, subplot_titles=(\"Small\", \"Medium\", \"Large\"), horizontal_spacing= 0.02, vertical_spacing= 0.06, specs=[[{}, {}],[{\"colspan\": 2}, None]])\n",
    "\n",
    "fig.add_trace(go.Scatter(x=df_pst[df_pst.vlmc_size=='small']['set_size'], y=df_pst[df_pst.vlmc_size=='small']['cache_misses'], line_color='#EF553B', name=\"Pst\", marker_symbol='x'), 1, 1)\n",
    "fig.add_trace(go.Scatter(x=df_hm[df_hm.vlmc_size=='small']['set_size'], y=df_hm[df_hm.vlmc_size=='small']['cache_misses'], line_color='#FECB52', name=\"hashmap\"), 1, 1)\n",
    "fig.add_trace(go.Scatter(x=df_co[df_co.vlmc_size=='small']['set_size'], y=df_co[df_co.vlmc_size=='small']['cache_misses'], line_color='#00CC96', name=\"combo\", marker_symbol='diamond'), 1, 1)\n",
    "fig.add_trace(go.Scatter(x=df_sv[df_sv.vlmc_size=='small']['set_size'], y=df_sv[df_sv.vlmc_size=='small']['cache_misses'], line_color='#636EFA', name=\"sorted-vector\"), 1, 1)\n",
    "\n",
    "fig.add_trace(go.Scatter(x=df_pst[df_pst.vlmc_size=='medium']['set_size'], y=df_pst[df_pst.vlmc_size=='medium']['cache_misses'], line_color='#EF553B', name=\"Pst\", marker_symbol='x', showlegend = False), 1, 2)\n",
    "fig.add_trace(go.Scatter(x=df_hm[df_hm.vlmc_size=='medium']['set_size'], y=df_hm[df_hm.vlmc_size=='medium']['cache_misses'], line_color='#FECB52', name=\"hashmap\", marker_symbol='square', showlegend = False), 1, 2)\n",
    "fig.add_trace(go.Scatter(x=df_co[df_co.vlmc_size=='medium']['set_size'], y=df_co[df_co.vlmc_size=='medium']['cache_misses'], line_color='#00CC96', name=\"combo\", marker_symbol='diamond', showlegend = False), 1, 2)\n",
    "fig.add_trace(go.Scatter(x=df_sv[df_sv.vlmc_size=='medium']['set_size'], y=df_sv[df_sv.vlmc_size=='medium']['cache_misses'], line_color='#636EFA', name=\"sorted-vector\", showlegend = False), 1, 2)\n",
    "\n",
    "fig.add_trace(go.Scatter(x=df_pst[df_pst.vlmc_size=='large']['set_size'], y=df_pst[df_pst.vlmc_size=='large']['cache_misses'], line_color='#EF553B', name=\"Pst\", marker_symbol='x', showlegend = False), 2, 1)\n",
    "fig.add_trace(go.Scatter(x=df_hm[df_hm.vlmc_size=='large']['set_size'], y=df_hm[df_hm.vlmc_size=='large']['cache_misses'], line_color='#FECB52', name=\"hashmap\", marker_symbol='square', showlegend = False), 2, 1)\n",
    "fig.add_trace(go.Scatter(x=df_co[df_co.vlmc_size=='large']['set_size'], y=df_co[df_co.vlmc_size=='large']['cache_misses'], line_color='#00CC96', name=\"combo\", marker_symbol='diamond', showlegend = False), 2, 1)\n",
    "fig.add_trace(go.Scatter(x=df_sv[df_sv.vlmc_size=='large']['set_size'], y=df_sv[df_sv.vlmc_size=='large']['cache_misses'], line_color='#636EFA', name=\"sorted-vector\", showlegend = False), 2, 1)\n",
    "\n",
    "\n",
    "fig.update_layout(legend=dict(\n",
    "    orientation=\"h\",\n",
    "    yanchor=\"bottom\",\n",
    "    y=1.08),\n",
    "    margin=dict(l=60, r=20, t=60, b=60),\n",
    "    height=700)\n",
    "\n",
    "fig.add_annotation(x=-0.045, y=0.5,\n",
    "            xref=\"paper\",\n",
    "            yref=\"paper\",\n",
    "            text=\"Cache-misses [%]\",\n",
    "            showarrow=False,\n",
    "            textangle=-90,\n",
    "            font_size=20)\n",
    "\n",
    "fig.add_annotation(x=0.5, y=-0.11,\n",
    "            xref=\"paper\",\n",
    "            yref=\"paper\",\n",
    "            text=\"Amount of VLMCs\",\n",
    "            showarrow=False,\n",
    "            font_size=20)\n",
    "\n",
    "fig.show()"
   ]
  },
  {
   "cell_type": "code",
   "execution_count": null,
   "metadata": {},
   "outputs": [],
   "source": [
    "df = pd.read_csv('csv_results/03_15_11_44.csv')\n",
    "df_sv = pd.read_csv('csv_results/sorted-vector_human_03_20_12_09.csv')\n",
    "df_hm = pd.read_csv('csv_results/hashmap_human_03_20_12_10.csv')\n",
    "df_co = pd.read_csv('csv_results/combo_human_03_20_12_10.csv')\n",
    "df_pst = df[df.implementation=='PstClassifierSeqan']\n",
    "fig = go.Figure()\n",
    "\n",
    "df_sv['misses_per_instruction'] = (df_sv.cache_misses_count * 100) / df_sv.instructions_count\n",
    "df_pst['misses_per_instruction'] = (df_pst.cache_misses_count * 100) / df_pst.instructions_count\n",
    "\n",
    "for vlmc_size in ['small', 'medium', 'large']:\n",
    "  fig.add_trace(go.Scatter(x=df_pst[df_pst.vlmc_size==vlmc_size]['set_size'], y=df_pst[df_pst.vlmc_size==vlmc_size]['misses_per_instruction'], name=\"PstClassifierSeqan \" + vlmc_size, marker_symbol='x'))\n",
    "  fig.add_trace(go.Scatter(x=df_sv[df_sv.vlmc_size==vlmc_size]['set_size'], y=df_sv[df_sv.vlmc_size==vlmc_size]['misses_per_instruction'], name=\"Sorted-vector \" + vlmc_size))\n",
    " \n",
    "fig.update_layout(title=\"Cache-misses per instruction compared to amount of VLMCs compared (E-coli dataset)\", yaxis_title=\"Cache-misses per instruction (%)\", xaxis_title=\"Size of directory of VLMCs\")\n",
    "\n",
    "fig.show()"
   ]
  },
  {
   "attachments": {},
   "cell_type": "markdown",
   "metadata": {},
   "source": [
    "# <b>Comparison of vlmc container </b>"
   ]
  },
  {
   "cell_type": "code",
   "execution_count": null,
   "metadata": {},
   "outputs": [],
   "source": [
    "df_sv = pd.read_csv('csv_results/sorted-vector_human_03_20_12_09.csv')\n",
    "df_hm = pd.read_csv('csv_results/hashmap_human_03_20_12_10.csv')\n",
    "df_co = pd.read_csv('csv_results/combo_human_03_20_12_10.csv')\n",
    "\n",
    "fig = go.Figure()\n",
    "vlmc_size = 'small'\n",
    "fig.add_trace(go.Scatter(x=df_sv[df_sv.vlmc_size==vlmc_size]['set_size'], y=df_sv[df_sv.vlmc_size==vlmc_size]['elapsed_time'], name=\"sorted-vector \" + vlmc_size))\n",
    "fig.add_trace(go.Scatter(x=df_hm[df_hm.vlmc_size==vlmc_size]['set_size'], y=df_hm[df_hm.vlmc_size==vlmc_size]['elapsed_time'], name=\"hashmap \" + vlmc_size))\n",
    "fig.add_trace(go.Scatter(x=df_co[df_co.vlmc_size==vlmc_size]['set_size'], y=df_co[df_co.vlmc_size==vlmc_size]['elapsed_time'], name=\"combo \" + vlmc_size))\n",
    "fig.update_layout(title=\"Elapsed time compared to amount of VLMCs compared for different vlmc containers (dataset human small)\", yaxis_title=\"Elapsed time (sec)\", xaxis_title=\"Size of directory of VLMCs\")\n",
    "fig.show()\n",
    "\n",
    "fig = go.Figure()\n",
    "vlmc_size = 'medium'\n",
    "fig.add_trace(go.Scatter(x=df_sv[df_sv.vlmc_size==vlmc_size]['set_size'], y=df_sv[df_sv.vlmc_size==vlmc_size]['elapsed_time'], name=\"sorted-vector \" + vlmc_size))\n",
    "fig.add_trace(go.Scatter(x=df_hm[df_hm.vlmc_size==vlmc_size]['set_size'], y=df_hm[df_hm.vlmc_size==vlmc_size]['elapsed_time'], name=\"hashmap \" + vlmc_size))\n",
    "fig.add_trace(go.Scatter(x=df_co[df_co.vlmc_size==vlmc_size]['set_size'], y=df_co[df_co.vlmc_size==vlmc_size]['elapsed_time'], name=\"combo \" + vlmc_size))\n",
    "fig.update_layout(title=\"Elapsed time compared to amount of VLMCs compared for different vlmc containers (dataset human medium)\", yaxis_title=\"Elapsed time (sec)\", xaxis_title=\"Size of directory of VLMCs\")\n",
    "fig.show()\n",
    "\n",
    "fig = go.Figure()\n",
    "vlmc_size = 'large'\n",
    "fig.add_trace(go.Scatter(x=df_sv[df_sv.vlmc_size==vlmc_size]['set_size'], y=df_sv[df_sv.vlmc_size==vlmc_size]['elapsed_time'], name=\"sorted-vector \" + vlmc_size))\n",
    "fig.add_trace(go.Scatter(x=df_hm[df_hm.vlmc_size==vlmc_size]['set_size'], y=df_hm[df_hm.vlmc_size==vlmc_size]['elapsed_time'], name=\"hashmap \" + vlmc_size))\n",
    "fig.add_trace(go.Scatter(x=df_co[df_co.vlmc_size==vlmc_size]['set_size'], y=df_co[df_co.vlmc_size==vlmc_size]['elapsed_time'], name=\"combo \" + vlmc_size))\n",
    "fig.update_layout(title=\"Elapsed time compared to amount of VLMCs compared for different vlmc containers (dataset human large)\", yaxis_title=\"Elapsed time (sec)\", xaxis_title=\"Size of directory of VLMCs\")\n",
    "fig.show()"
   ]
  },
  {
   "cell_type": "code",
   "execution_count": null,
   "metadata": {},
   "outputs": [],
   "source": [
    "df_sv = pd.read_csv('csv_results/sorted-vector_human_03_20_12_09.csv')\n",
    "df_hm = pd.read_csv('csv_results/hashmap_human_03_20_12_10.csv')\n",
    "df_co = pd.read_csv('csv_results/combo_human_03_20_12_10.csv')\n",
    "\n",
    "fig = go.Figure()\n",
    "vlmc_size = 'small'\n",
    "fig.add_trace(go.Scatter(x=df_sv[df_sv.vlmc_size==vlmc_size]['set_size'], y=df_sv[df_sv.vlmc_size==vlmc_size]['cache_misses'], name=\"sorted-vector \" + vlmc_size))\n",
    "fig.add_trace(go.Scatter(x=df_hm[df_hm.vlmc_size==vlmc_size]['set_size'], y=df_hm[df_hm.vlmc_size==vlmc_size]['cache_misses'], name=\"hashmap \" + vlmc_size))\n",
    "fig.add_trace(go.Scatter(x=df_co[df_co.vlmc_size==vlmc_size]['set_size'], y=df_co[df_co.vlmc_size==vlmc_size]['cache_misses'], name=\"combo \" + vlmc_size))\n",
    "fig.update_layout(title=\"Elapsed time compared to amount of VLMCs compared for different vlmc containers (dataset human small)\", yaxis_title=\"Elapsed time (sec)\", xaxis_title=\"Size of directory of VLMCs\")\n",
    "fig.show()\n",
    "\n",
    "fig = go.Figure()\n",
    "vlmc_size = 'medium'\n",
    "fig.add_trace(go.Scatter(x=df_sv[df_sv.vlmc_size==vlmc_size]['set_size'], y=df_sv[df_sv.vlmc_size==vlmc_size]['cache_misses'], name=\"sorted-vector \" + vlmc_size))\n",
    "fig.add_trace(go.Scatter(x=df_hm[df_hm.vlmc_size==vlmc_size]['set_size'], y=df_hm[df_hm.vlmc_size==vlmc_size]['cache_misses'], name=\"hashmap \" + vlmc_size))\n",
    "fig.add_trace(go.Scatter(x=df_co[df_co.vlmc_size==vlmc_size]['set_size'], y=df_co[df_co.vlmc_size==vlmc_size]['cache_misses'], name=\"combo \" + vlmc_size))\n",
    "fig.update_layout(title=\"Elapsed time compared to amount of VLMCs compared for different vlmc containers (dataset human medium)\", yaxis_title=\"Elapsed time (sec)\", xaxis_title=\"Size of directory of VLMCs\")\n",
    "fig.show()\n",
    "\n",
    "fig = go.Figure()\n",
    "vlmc_size = 'large'\n",
    "fig.add_trace(go.Scatter(x=df_sv[df_sv.vlmc_size==vlmc_size]['set_size'], y=df_sv[df_sv.vlmc_size==vlmc_size]['cache_misses'], name=\"sorted-vector \" + vlmc_size))\n",
    "fig.add_trace(go.Scatter(x=df_hm[df_hm.vlmc_size==vlmc_size]['set_size'], y=df_hm[df_hm.vlmc_size==vlmc_size]['cache_misses'], name=\"hashmap \" + vlmc_size))\n",
    "fig.add_trace(go.Scatter(x=df_co[df_co.vlmc_size==vlmc_size]['set_size'], y=df_co[df_co.vlmc_size==vlmc_size]['cache_misses'], name=\"combo \" + vlmc_size))\n",
    "fig.update_layout(title=\"Elapsed time compared to amount of VLMCs compared for different vlmc containers (dataset human large)\", yaxis_title=\"Elapsed time (sec)\", xaxis_title=\"Size of directory of VLMCs\")\n",
    "fig.show()"
   ]
  },
  {
   "cell_type": "code",
   "execution_count": null,
   "metadata": {},
   "outputs": [],
   "source": [
    "df_sv = pd.read_csv('csv_results/sorted-vector_ecoli_03_20_12_30.csv')\n",
    "df_hm = pd.read_csv('csv_results/hashmap_ecoli_03_20_12_32.csv')\n",
    "df_co = pd.read_csv('csv_results/combo_ecoli_03_20_12_51.csv')\n",
    "\n",
    "fig = go.Figure()\n",
    "vlmc_size = 'small'\n",
    "fig.add_trace(go.Scatter(x=df_sv[df_sv.vlmc_size==vlmc_size]['set_size'], y=df_sv[df_sv.vlmc_size==vlmc_size]['elapsed_time'], name=\"sorted-vector \" + vlmc_size))\n",
    "fig.add_trace(go.Scatter(x=df_hm[df_hm.vlmc_size==vlmc_size]['set_size'], y=df_hm[df_hm.vlmc_size==vlmc_size]['elapsed_time'], name=\"hashmap \" + vlmc_size))\n",
    "fig.add_trace(go.Scatter(x=df_co[df_co.vlmc_size==vlmc_size]['set_size'], y=df_co[df_co.vlmc_size==vlmc_size]['elapsed_time'], name=\"combo \" + vlmc_size))\n",
    "fig.update_layout(title=\"Elapsed time compared to amount of VLMCs compared for different vlmc containers (E-coli dataset small)\", yaxis_title=\"Elapsed time (sec)\", xaxis_title=\"Size of directory of VLMCs\")\n",
    "fig.show()\n",
    "\n",
    "fig = go.Figure()\n",
    "vlmc_size = 'medium'\n",
    "fig.add_trace(go.Scatter(x=df_sv[df_sv.vlmc_size==vlmc_size]['set_size'], y=df_sv[df_sv.vlmc_size==vlmc_size]['elapsed_time'], name=\"sorted-vector \" + vlmc_size))\n",
    "fig.add_trace(go.Scatter(x=df_hm[df_hm.vlmc_size==vlmc_size]['set_size'], y=df_hm[df_hm.vlmc_size==vlmc_size]['elapsed_time'], name=\"hashmap \" + vlmc_size))\n",
    "fig.add_trace(go.Scatter(x=df_co[df_co.vlmc_size==vlmc_size]['set_size'], y=df_co[df_co.vlmc_size==vlmc_size]['elapsed_time'], name=\"combo \" + vlmc_size))\n",
    "fig.update_layout(title=\"Elapsed time compared to amount of VLMCs compared for different vlmc containers (E-coli dataset medium)\", yaxis_title=\"Elapsed time (sec)\", xaxis_title=\"Size of directory of VLMCs\")\n",
    "fig.show()\n",
    "\n",
    "fig = go.Figure()\n",
    "vlmc_size = 'large'\n",
    "fig.add_trace(go.Scatter(x=df_sv[df_sv.vlmc_size==vlmc_size]['set_size'], y=df_sv[df_sv.vlmc_size==vlmc_size]['elapsed_time'], name=\"sorted-vector \" + vlmc_size))\n",
    "fig.add_trace(go.Scatter(x=df_hm[df_hm.vlmc_size==vlmc_size]['set_size'], y=df_hm[df_hm.vlmc_size==vlmc_size]['elapsed_time'], name=\"hashmap \" + vlmc_size))\n",
    "fig.add_trace(go.Scatter(x=df_co[df_co.vlmc_size==vlmc_size]['set_size'], y=df_co[df_co.vlmc_size==vlmc_size]['elapsed_time'], name=\"combo \" + vlmc_size))\n",
    "fig.update_layout(title=\"Elapsed time compared to amount of VLMCs compared for different vlmc containers (E-coli dataset large)\", yaxis_title=\"Elapsed time (sec)\", xaxis_title=\"Size of directory of VLMCs\")\n",
    "fig.show()"
   ]
  },
  {
   "cell_type": "code",
   "execution_count": null,
   "metadata": {},
   "outputs": [],
   "source": [
    "df_sv = pd.read_csv('csv_results/sorted-vector_ecoli_03_20_12_30.csv')\n",
    "df_hm = pd.read_csv('csv_results/hashmap_ecoli_03_20_12_32.csv')\n",
    "df_co = pd.read_csv('csv_results/combo_ecoli_03_20_12_51.csv')\n",
    "\n",
    "fig = go.Figure()\n",
    "vlmc_size = 'small'\n",
    "fig.add_trace(go.Scatter(x=df_sv[df_sv.vlmc_size==vlmc_size]['set_size'], y=df_sv[df_sv.vlmc_size==vlmc_size]['cache_misses'], name=\"sorted-vector \" + vlmc_size))\n",
    "fig.add_trace(go.Scatter(x=df_hm[df_hm.vlmc_size==vlmc_size]['set_size'], y=df_hm[df_hm.vlmc_size==vlmc_size]['cache_misses'], name=\"hashmap \" + vlmc_size))\n",
    "fig.add_trace(go.Scatter(x=df_co[df_co.vlmc_size==vlmc_size]['set_size'], y=df_co[df_co.vlmc_size==vlmc_size]['cache_misses'], name=\"combo \" + vlmc_size))\n",
    "fig.update_layout(title=\"Cache-misses compared to amount of VLMCs compared for different vlmc containers (E-coli dataset small)\", yaxis_title=\"Cache-misses (%)\", xaxis_title=\"Size of directory of VLMCs\")\n",
    "fig.show()\n",
    "\n",
    "fig = go.Figure()\n",
    "vlmc_size = 'medium'\n",
    "fig.add_trace(go.Scatter(x=df_sv[df_sv.vlmc_size==vlmc_size]['set_size'], y=df_sv[df_sv.vlmc_size==vlmc_size]['cache_misses'], name=\"sorted-vector \" + vlmc_size))\n",
    "fig.add_trace(go.Scatter(x=df_hm[df_hm.vlmc_size==vlmc_size]['set_size'], y=df_hm[df_hm.vlmc_size==vlmc_size]['cache_misses'], name=\"hashmap \" + vlmc_size))\n",
    "fig.add_trace(go.Scatter(x=df_co[df_co.vlmc_size==vlmc_size]['set_size'], y=df_co[df_co.vlmc_size==vlmc_size]['cache_misses'], name=\"combo \" + vlmc_size))\n",
    "fig.update_layout(title=\"Cache-misses compared to amount of VLMCs compared for different vlmc containers (E-coli dataset medium)\", yaxis_title=\"Cache-misses (%)\", xaxis_title=\"Size of directory of VLMCs\")\n",
    "fig.show()\n",
    "\n",
    "fig = go.Figure()\n",
    "vlmc_size = 'large'\n",
    "fig.add_trace(go.Scatter(x=df_sv[df_sv.vlmc_size==vlmc_size]['set_size'], y=df_sv[df_sv.vlmc_size==vlmc_size]['cache_misses'], name=\"sorted-vector \" + vlmc_size))\n",
    "fig.add_trace(go.Scatter(x=df_hm[df_hm.vlmc_size==vlmc_size]['set_size'], y=df_hm[df_hm.vlmc_size==vlmc_size]['cache_misses'], name=\"hashmap \" + vlmc_size))\n",
    "fig.add_trace(go.Scatter(x=df_co[df_co.vlmc_size==vlmc_size]['set_size'], y=df_co[df_co.vlmc_size==vlmc_size]['cache_misses'], name=\"combo \" + vlmc_size))\n",
    "fig.update_layout(title=\"Cache-misses compared to amount of VLMCs compared for different vlmc containers (E-coli dataset large)\", yaxis_title=\"Cache-misses (%)\", xaxis_title=\"Size of directory of VLMCs\")\n",
    "fig.show()"
   ]
  },
  {
   "attachments": {},
   "cell_type": "markdown",
   "metadata": {},
   "source": [
    "# <b>Parameter Sweep for combo container </b>"
   ]
  },
  {
   "attachments": {},
   "cell_type": "markdown",
   "metadata": {},
   "source": [
    "## Human dataset"
   ]
  },
  {
   "cell_type": "code",
   "execution_count": null,
   "metadata": {},
   "outputs": [],
   "source": [
    "df = pd.read_csv('csv_results/parameter_sweep_human_03_20_10_33.csv')\n",
    "df['mean_elapsed_time'] = df.groupby(['vlmc_size', 'combo_init_size'])['elapsed_time'].transform('mean')\n",
    "df.sort_values('combo_init_size', inplace=True)\n",
    "fig = px.line(df, x='combo_init_size', y='mean_elapsed_time', color='vlmc_size')\n",
    "\n",
    "fig.update_layout(title=\"Elapsed time with different initial sizes for index by value vector\", yaxis_title=\"Elapsed time (sec)\", xaxis_title=\"Initial size for index by value vector\")\n",
    "\n",
    "fig.show()\n",
    "\n",
    "df.groupby('vlmc_size').mean_elapsed_time.min()"
   ]
  },
  {
   "cell_type": "code",
   "execution_count": null,
   "metadata": {},
   "outputs": [],
   "source": [
    "df = pd.read_csv('csv_results/parameter_sweep_ecoli_03_20_10_40.csv')\n",
    "df['mean_elapsed_time'] = df.groupby(['vlmc_size', 'combo_init_size'])['elapsed_time'].transform('mean')\n",
    "df.sort_values('combo_init_size', inplace=True)\n",
    "fig = px.line(df, x='combo_init_size', y='mean_elapsed_time', color='vlmc_size')\n",
    "\n",
    "fig.update_layout(title=\"Elapsed time with different initial sizes for index by value vector\", yaxis_title=\"Elapsed time (sec)\", xaxis_title=\"Initial size for index by value vector\")\n",
    "\n",
    "fig.show()\n",
    "\n",
    "df.groupby('vlmc_size').mean_elapsed_time.min()"
   ]
  },
  {
   "attachments": {},
   "cell_type": "markdown",
   "metadata": {},
   "source": [
    "# <b>Kmer distributions </b>"
   ]
  },
  {
   "attachments": {},
   "cell_type": "markdown",
   "metadata": {},
   "source": [
    "## Human dataset"
   ]
  },
  {
   "cell_type": "code",
   "execution_count": null,
   "metadata": {},
   "outputs": [],
   "source": [
    "df = pd.read_csv(\"./tmp/one_human_VLMCs_kmer-distribution.txt\", sep=\",\", header=None)\n",
    "\n",
    "fig = px.histogram(df)\n",
    "\n",
    "fig.show()"
   ]
  },
  {
   "attachments": {},
   "cell_type": "markdown",
   "metadata": {},
   "source": [
    "## E-coli dataset"
   ]
  },
  {
   "cell_type": "code",
   "execution_count": null,
   "metadata": {},
   "outputs": [],
   "source": [
    "df = pd.read_csv(\"./tmp/small_test_kmer-distribution.txt\", sep=\",\", header=None)\n",
    "\n",
    "fig = px.histogram(df)\n",
    "\n",
    "fig.show()"
   ]
  },
  {
   "cell_type": "code",
   "execution_count": null,
   "metadata": {},
   "outputs": [],
   "source": [
    "df = pd.read_csv(\"./tmp/one_human_VLMCs_kmer-distribution.txt\", sep=\",\", header=None)\n",
    "df.head(100)"
   ]
  },
  {
   "cell_type": "code",
   "execution_count": null,
   "metadata": {},
   "outputs": [],
   "source": [
    "df = pd.read_csv(\"./tmp/one_human_VLMCs_kmer-distribution.txt\", sep=\",\", header=None)\n",
    "df.columns = [\"integer_rep\"]\n",
    "\n",
    "fig = px.bar(df[df.index < 400], x=df[df.index < 400].index, y='integer_rep')\n",
    "fig.update_layout(yaxis_title=\"Integer representation\", xaxis_title=\"Index\")\n",
    "\n",
    "fig.show()"
   ]
  },
  {
   "cell_type": "code",
   "execution_count": null,
   "metadata": {},
   "outputs": [],
   "source": [
    "t = [35, 29, 21, 15, 34, 28, 20, 14, 33, 27, 19, 13, 32, 26, 18]\n",
    "t.reverse()\n",
    "print(t)"
   ]
  },
  {
   "cell_type": "code",
   "execution_count": null,
   "metadata": {},
   "outputs": [],
   "source": [
    "df = pd.read_csv(\"./tmp/one_vlmcs_kmer-distribution.txt\", sep=\",\", header=None)\n",
    "df.columns = [\"integer_rep\"]\n",
    "\n",
    "fig = px.bar(df[df.index < 100], x=df[df.index < 100].index, y='integer_rep')\n",
    "fig.update_layout(yaxis_title=\"Integer representation\", xaxis_title=\"Index\")\n",
    "\n",
    "fig.show()"
   ]
  },
  {
   "cell_type": "code",
   "execution_count": null,
   "metadata": {},
   "outputs": [],
   "source": [
    "df = pd.read_csv('csv_results/03_15_11_44.csv')\n",
    "df_sv_old = pd.read_csv('csv_results/sorted-vector_human_03_27_11_28.csv')\n",
    "df_sv_new = pd.read_csv('csv_results/sorted-vector_human_03_27_11_34.csv')\n",
    "df_sv_tmp = pd.read_csv('csv_results/sorted-vector_human_03_27_12_09.csv')\n",
    "df_pst = df[df.implementation=='PstClassifierSeqan']\n",
    "\n",
    "df_sv_old['mean_elapsed_time'] = df_sv_old.groupby(['vlmc_size', 'set_size'])['cache_misses'].transform('mean')\n",
    "df_sv_new['mean_elapsed_time'] = df_sv_new.groupby(['vlmc_size', 'set_size'])['cache_misses'].transform('mean')\n",
    "df_sv_tmp['mean_elapsed_time'] = df_sv_tmp.groupby(['vlmc_size', 'set_size'])['cache_misses'].transform('mean')\n",
    "df_sv_old['idx_helped'] = 1\n",
    "df_sv_old['idx'] = df_sv_old.groupby(['vlmc_size', 'set_size'])['idx_helped'].transform('cumsum')\n",
    "df_sv_new['idx_helped'] = 1\n",
    "df_sv_new['idx'] = df_sv_new.groupby(['vlmc_size', 'set_size'])['idx_helped'].transform('cumsum')\n",
    "df_sv_tmp['idx_helped'] = 1\n",
    "df_sv_tmp['idx'] = df_sv_tmp.groupby(['vlmc_size', 'set_size'])['idx_helped'].transform('cumsum')\n",
    "\n",
    "fig = make_subplots(rows=2, cols=2, shared_yaxes=False, subplot_titles=(\"Small\", \"Medium\", \"Large\"), horizontal_spacing= 0.02, vertical_spacing= 0.06, specs=[[{}, {}],[{\"colspan\": 2}, None]])\n",
    "\n",
    "fig.add_trace(go.Scatter(x=df_pst[df_pst.vlmc_size=='small']['set_size'], y=df_pst[df_pst.vlmc_size=='small']['elapsed_time'], line_color='#EF553B', name=\"Pst\", marker_symbol='x'), 1, 1)\n",
    "fig.add_trace(go.Scatter(x=df_sv_old[(df_sv_old.vlmc_size=='small') & (df_sv_old.idx==1)]['set_size'], y=df_sv_old[df_sv_old.vlmc_size=='small']['mean_elapsed_time'], line_color='#00CC96', name=\"sorted-vector old\"), 1, 1)\n",
    "fig.add_trace(go.Scatter(x=df_sv_new[(df_sv_new.vlmc_size=='small') & (df_sv_new.idx==1)]['set_size'], y=df_sv_new[df_sv_new.vlmc_size=='small']['mean_elapsed_time'], line_color='#636EFA', name=\"sorted-vector new\"), 1, 1)\n",
    "fig.add_trace(go.Scatter(x=df_sv_tmp[(df_sv_tmp.vlmc_size=='small') & (df_sv_tmp.idx==1)]['set_size'], y=df_sv_tmp[df_sv_tmp.vlmc_size=='small']['mean_elapsed_time'], line_color='yellow', name=\"sorted-vector new new\"), 1, 1)\n",
    "\n",
    "\n",
    "fig.add_trace(go.Scatter(x=df_pst[df_pst.vlmc_size=='medium']['set_size'], y=df_pst[df_pst.vlmc_size=='medium']['elapsed_time'], line_color='#EF553B', name=\"Pst\", marker_symbol='x', showlegend = False), 1, 2)\n",
    "fig.add_trace(go.Scatter(x=df_sv_old[(df_sv_old.vlmc_size=='medium') & (df_sv_old.idx==1)]['set_size'], y=df_sv_old[df_sv_old.vlmc_size=='medium']['mean_elapsed_time'], line_color='#00CC96', name=\"hashmap\", marker_symbol='square', showlegend = False), 1, 2)\n",
    "fig.add_trace(go.Scatter(x=df_sv_new[(df_sv_new.vlmc_size=='medium') & (df_sv_new.idx==1)]['set_size'], y=df_sv_new[df_sv_new.vlmc_size=='medium']['mean_elapsed_time'], line_color='#636EFA', name=\"hashmap\", marker_symbol='square', showlegend = False), 1, 2)\n",
    "fig.add_trace(go.Scatter(x=df_sv_tmp[(df_sv_tmp.vlmc_size=='medium') & (df_sv_tmp.idx==1)]['set_size'], y=df_sv_tmp[df_sv_tmp.vlmc_size=='medium']['mean_elapsed_time'], line_color='yellow', name=\"hashmap\", marker_symbol='square', showlegend = False), 1, 2)\n",
    "\n",
    "\n",
    "fig.add_trace(go.Scatter(x=df_pst[df_pst.vlmc_size=='large']['set_size'], y=df_pst[df_pst.vlmc_size=='large']['elapsed_time'], line_color='#EF553B', name=\"Pst\", marker_symbol='x', showlegend = False), 2, 1)\n",
    "fig.add_trace(go.Scatter(x=df_sv_old[(df_sv_old.vlmc_size=='large') & (df_sv_old.idx==1)]['set_size'], y=df_sv_old[df_sv_old.vlmc_size=='large']['mean_elapsed_time'], line_color='#00CC96', name=\"hashmap\", marker_symbol='square', showlegend = False), 2, 1)\n",
    "fig.add_trace(go.Scatter(x=df_sv_new[(df_sv_new.vlmc_size=='large') & (df_sv_new.idx==1)]['set_size'], y=df_sv_new[df_sv_new.vlmc_size=='large']['mean_elapsed_time'], line_color='#636EFA', name=\"hashmap\", marker_symbol='square', showlegend = False), 2, 1)\n",
    "fig.add_trace(go.Scatter(x=df_sv_tmp[(df_sv_tmp.vlmc_size=='large') & (df_sv_tmp.idx==1)]['set_size'], y=df_sv_tmp[df_sv_tmp.vlmc_size=='large']['mean_elapsed_time'], line_color='yellow', name=\"hashmap\", marker_symbol='square', showlegend = False), 2, 1)\n",
    "\n",
    "\n",
    "fig.update_layout(legend=dict(\n",
    "    orientation=\"h\",\n",
    "    yanchor=\"bottom\",\n",
    "    y=1.08),\n",
    "    margin=dict(l=60, r=20, t=60, b=60),\n",
    "    height=700)\n",
    "\n",
    "fig.add_annotation(x=-0.045, y=0.5,\n",
    "            xref=\"paper\",\n",
    "            yref=\"paper\",\n",
    "            text=\"Elapsed time [sec]\",\n",
    "            showarrow=False,\n",
    "            textangle=-90,\n",
    "            font_size=20)\n",
    "\n",
    "fig.add_annotation(x=0.5, y=-0.11,\n",
    "            xref=\"paper\",\n",
    "            yref=\"paper\",\n",
    "            text=\"Amount of VLMCs\",\n",
    "            showarrow=False,\n",
    "            font_size=20)\n",
    "\n",
    "fig.show()"
   ]
  },
  {
   "attachments": {},
   "cell_type": "markdown",
   "metadata": {},
   "source": [
    "### Ahmdals"
   ]
  },
  {
   "cell_type": "code",
   "execution_count": null,
   "metadata": {},
   "outputs": [],
   "source": [
    "df = pd.read_csv('csv_results/parallelization_ecoli_03_28_16_11.csv')\n",
    "time = df['elapsed_time']\n",
    "cores = df['nr_cores_used']\n",
    "single_core_time = time[0]\n",
    "speedup = single_core_time / time \n",
    "fig = go.Figure()\n",
    "fig.add_trace(go.Scatter(mode='lines', x=cores, y=speedup, line_color='#00CC96', name=\"Algorithm\"))\n",
    "\n",
    "infinite_ahmdals = cores\n",
    "fig.add_trace(go.Scatter(mode='lines', x=cores, y=infinite_ahmdals, line_color='#636EFA', name=\"Theoretical\"))\n",
    "fig.update_layout(yaxis_title=\"Speedup\", xaxis_title=\"Amount of cores used\", yaxis_range=[0,20], xaxis_range=[0,17], font={'size': 20}, plot_bgcolor=\"white\", yaxis_gridcolor='LightGrey'\n",
    ",xaxis_gridcolor='LightGrey')\n",
    "fig.update_layout(\n",
    "    autosize=False,\n",
    "    width=1000,\n",
    "    height=600,)\n",
    "fig.show()\n",
    "fig.write_image(\"images/ecolit-parallel-to-ahmdals.pdf\")"
   ]
  },
  {
   "cell_type": "code",
   "execution_count": 5,
   "metadata": {},
   "outputs": [
    {
     "data": {
      "text/html": [
       "<div>\n",
       "<style scoped>\n",
       "    .dataframe tbody tr th:only-of-type {\n",
       "        vertical-align: middle;\n",
       "    }\n",
       "\n",
       "    .dataframe tbody tr th {\n",
       "        vertical-align: top;\n",
       "    }\n",
       "\n",
       "    .dataframe thead th {\n",
       "        text-align: right;\n",
       "    }\n",
       "</style>\n",
       "<table border=\"1\" class=\"dataframe\">\n",
       "  <thead>\n",
       "    <tr style=\"text-align: right;\">\n",
       "      <th></th>\n",
       "      <th>repo_version</th>\n",
       "      <th>nr_elements</th>\n",
       "      <th>size_of_vector</th>\n",
       "      <th>branch_misses</th>\n",
       "      <th>branch_misses_count</th>\n",
       "      <th>branches</th>\n",
       "      <th>branches_count</th>\n",
       "      <th>task_clock</th>\n",
       "      <th>task_clock_count</th>\n",
       "      <th>cycles</th>\n",
       "      <th>cycles_count</th>\n",
       "      <th>instructions</th>\n",
       "      <th>instructions_count</th>\n",
       "      <th>cache_references</th>\n",
       "      <th>cache_references_count</th>\n",
       "      <th>cache_misses</th>\n",
       "      <th>cache_misses_count</th>\n",
       "    </tr>\n",
       "  </thead>\n",
       "  <tbody>\n",
       "    <tr>\n",
       "      <th>0</th>\n",
       "      <td>91a6b55</td>\n",
       "      <td>4</td>\n",
       "      <td>536</td>\n",
       "      <td>2.05</td>\n",
       "      <td>17195</td>\n",
       "      <td>816.936</td>\n",
       "      <td>841348</td>\n",
       "      <td>0.914</td>\n",
       "      <td>1</td>\n",
       "      <td>4.212</td>\n",
       "      <td>4338353</td>\n",
       "      <td>1.33</td>\n",
       "      <td>4906590</td>\n",
       "      <td>121.505</td>\n",
       "      <td>125136</td>\n",
       "      <td>35.821</td>\n",
       "      <td>46676</td>\n",
       "    </tr>\n",
       "    <tr>\n",
       "      <th>1</th>\n",
       "      <td>91a6b55</td>\n",
       "      <td>5</td>\n",
       "      <td>1048</td>\n",
       "      <td>1.96</td>\n",
       "      <td>16452</td>\n",
       "      <td>798.101</td>\n",
       "      <td>833962</td>\n",
       "      <td>0.733</td>\n",
       "      <td>0</td>\n",
       "      <td>3.362</td>\n",
       "      <td>3513382</td>\n",
       "      <td>1.30</td>\n",
       "      <td>4869492</td>\n",
       "      <td>123.082</td>\n",
       "      <td>128612</td>\n",
       "      <td>37.495</td>\n",
       "      <td>48597</td>\n",
       "    </tr>\n",
       "    <tr>\n",
       "      <th>2</th>\n",
       "      <td>91a6b55</td>\n",
       "      <td>6</td>\n",
       "      <td>2072</td>\n",
       "      <td>2.00</td>\n",
       "      <td>16773</td>\n",
       "      <td>696.560</td>\n",
       "      <td>836144</td>\n",
       "      <td>0.680</td>\n",
       "      <td>1</td>\n",
       "      <td>3.127</td>\n",
       "      <td>3753554</td>\n",
       "      <td>1.14</td>\n",
       "      <td>4880598</td>\n",
       "      <td>108.084</td>\n",
       "      <td>129743</td>\n",
       "      <td>41.544</td>\n",
       "      <td>53095</td>\n",
       "    </tr>\n",
       "    <tr>\n",
       "      <th>3</th>\n",
       "      <td>91a6b55</td>\n",
       "      <td>7</td>\n",
       "      <td>4120</td>\n",
       "      <td>1.92</td>\n",
       "      <td>16158</td>\n",
       "      <td>750.128</td>\n",
       "      <td>837430</td>\n",
       "      <td>0.689</td>\n",
       "      <td>0</td>\n",
       "      <td>3.086</td>\n",
       "      <td>3445436</td>\n",
       "      <td>1.22</td>\n",
       "      <td>4888697</td>\n",
       "      <td>114.802</td>\n",
       "      <td>128163</td>\n",
       "      <td>33.602</td>\n",
       "      <td>44453</td>\n",
       "    </tr>\n",
       "    <tr>\n",
       "      <th>4</th>\n",
       "      <td>91a6b55</td>\n",
       "      <td>8</td>\n",
       "      <td>8216</td>\n",
       "      <td>1.96</td>\n",
       "      <td>16427</td>\n",
       "      <td>804.177</td>\n",
       "      <td>840462</td>\n",
       "      <td>0.731</td>\n",
       "      <td>0</td>\n",
       "      <td>3.323</td>\n",
       "      <td>3472838</td>\n",
       "      <td>1.31</td>\n",
       "      <td>4906366</td>\n",
       "      <td>123.138</td>\n",
       "      <td>128694</td>\n",
       "      <td>33.057</td>\n",
       "      <td>43361</td>\n",
       "    </tr>\n",
       "  </tbody>\n",
       "</table>\n",
       "</div>"
      ],
      "text/plain": [
       "  repo_version  nr_elements  size_of_vector  branch_misses  \\\n",
       "0      91a6b55            4             536           2.05   \n",
       "1      91a6b55            5            1048           1.96   \n",
       "2      91a6b55            6            2072           2.00   \n",
       "3      91a6b55            7            4120           1.92   \n",
       "4      91a6b55            8            8216           1.96   \n",
       "\n",
       "   branch_misses_count  branches  branches_count  task_clock  \\\n",
       "0                17195   816.936          841348       0.914   \n",
       "1                16452   798.101          833962       0.733   \n",
       "2                16773   696.560          836144       0.680   \n",
       "3                16158   750.128          837430       0.689   \n",
       "4                16427   804.177          840462       0.731   \n",
       "\n",
       "   task_clock_count  cycles  cycles_count  instructions  instructions_count  \\\n",
       "0                 1   4.212       4338353          1.33             4906590   \n",
       "1                 0   3.362       3513382          1.30             4869492   \n",
       "2                 1   3.127       3753554          1.14             4880598   \n",
       "3                 0   3.086       3445436          1.22             4888697   \n",
       "4                 0   3.323       3472838          1.31             4906366   \n",
       "\n",
       "   cache_references  cache_references_count  cache_misses  cache_misses_count  \n",
       "0           121.505                  125136        35.821               46676  \n",
       "1           123.082                  128612        37.495               48597  \n",
       "2           108.084                  129743        41.544               53095  \n",
       "3           114.802                  128163        33.602               44453  \n",
       "4           123.138                  128694        33.057               43361  "
      ]
     },
     "execution_count": 5,
     "metadata": {},
     "output_type": "execute_result"
    }
   ],
   "source": [
    "df.head()"
   ]
  },
  {
   "cell_type": "code",
   "execution_count": 12,
   "metadata": {},
   "outputs": [
    {
     "data": {
      "application/vnd.plotly.v1+json": {
       "config": {
        "plotlyServerURL": "https://plot.ly"
       },
       "data": [
        {
         "line": {
          "color": "#00CC96"
         },
         "mode": "lines",
         "type": "scatter",
         "x": [
          4,
          5,
          6,
          7,
          8,
          9,
          10,
          11,
          12,
          13,
          14,
          15,
          16,
          17,
          18
         ],
         "y": [
          0.005711699623581745,
          0.004772534969910456,
          0.004192013102522259,
          0.003676133104279054,
          0.003102035163979684,
          0.002805923808992608,
          0.003154834560189892,
          0.003743874705058633,
          0.005216694962400087,
          0.008343573979138237,
          0.011924820344072272,
          0.018530047100782217,
          0.02617296387619583,
          0.025927445080797844,
          0.0275923061237611
         ]
        }
       ],
       "layout": {
        "autosize": false,
        "font": {
         "size": 20
        },
        "height": 600,
        "plot_bgcolor": "white",
        "template": {
         "data": {
          "bar": [
           {
            "error_x": {
             "color": "#2a3f5f"
            },
            "error_y": {
             "color": "#2a3f5f"
            },
            "marker": {
             "line": {
              "color": "#E5ECF6",
              "width": 0.5
             },
             "pattern": {
              "fillmode": "overlay",
              "size": 10,
              "solidity": 0.2
             }
            },
            "type": "bar"
           }
          ],
          "barpolar": [
           {
            "marker": {
             "line": {
              "color": "#E5ECF6",
              "width": 0.5
             },
             "pattern": {
              "fillmode": "overlay",
              "size": 10,
              "solidity": 0.2
             }
            },
            "type": "barpolar"
           }
          ],
          "carpet": [
           {
            "aaxis": {
             "endlinecolor": "#2a3f5f",
             "gridcolor": "white",
             "linecolor": "white",
             "minorgridcolor": "white",
             "startlinecolor": "#2a3f5f"
            },
            "baxis": {
             "endlinecolor": "#2a3f5f",
             "gridcolor": "white",
             "linecolor": "white",
             "minorgridcolor": "white",
             "startlinecolor": "#2a3f5f"
            },
            "type": "carpet"
           }
          ],
          "choropleth": [
           {
            "colorbar": {
             "outlinewidth": 0,
             "ticks": ""
            },
            "type": "choropleth"
           }
          ],
          "contour": [
           {
            "colorbar": {
             "outlinewidth": 0,
             "ticks": ""
            },
            "colorscale": [
             [
              0,
              "#0d0887"
             ],
             [
              0.1111111111111111,
              "#46039f"
             ],
             [
              0.2222222222222222,
              "#7201a8"
             ],
             [
              0.3333333333333333,
              "#9c179e"
             ],
             [
              0.4444444444444444,
              "#bd3786"
             ],
             [
              0.5555555555555556,
              "#d8576b"
             ],
             [
              0.6666666666666666,
              "#ed7953"
             ],
             [
              0.7777777777777778,
              "#fb9f3a"
             ],
             [
              0.8888888888888888,
              "#fdca26"
             ],
             [
              1,
              "#f0f921"
             ]
            ],
            "type": "contour"
           }
          ],
          "contourcarpet": [
           {
            "colorbar": {
             "outlinewidth": 0,
             "ticks": ""
            },
            "type": "contourcarpet"
           }
          ],
          "heatmap": [
           {
            "colorbar": {
             "outlinewidth": 0,
             "ticks": ""
            },
            "colorscale": [
             [
              0,
              "#0d0887"
             ],
             [
              0.1111111111111111,
              "#46039f"
             ],
             [
              0.2222222222222222,
              "#7201a8"
             ],
             [
              0.3333333333333333,
              "#9c179e"
             ],
             [
              0.4444444444444444,
              "#bd3786"
             ],
             [
              0.5555555555555556,
              "#d8576b"
             ],
             [
              0.6666666666666666,
              "#ed7953"
             ],
             [
              0.7777777777777778,
              "#fb9f3a"
             ],
             [
              0.8888888888888888,
              "#fdca26"
             ],
             [
              1,
              "#f0f921"
             ]
            ],
            "type": "heatmap"
           }
          ],
          "heatmapgl": [
           {
            "colorbar": {
             "outlinewidth": 0,
             "ticks": ""
            },
            "colorscale": [
             [
              0,
              "#0d0887"
             ],
             [
              0.1111111111111111,
              "#46039f"
             ],
             [
              0.2222222222222222,
              "#7201a8"
             ],
             [
              0.3333333333333333,
              "#9c179e"
             ],
             [
              0.4444444444444444,
              "#bd3786"
             ],
             [
              0.5555555555555556,
              "#d8576b"
             ],
             [
              0.6666666666666666,
              "#ed7953"
             ],
             [
              0.7777777777777778,
              "#fb9f3a"
             ],
             [
              0.8888888888888888,
              "#fdca26"
             ],
             [
              1,
              "#f0f921"
             ]
            ],
            "type": "heatmapgl"
           }
          ],
          "histogram": [
           {
            "marker": {
             "pattern": {
              "fillmode": "overlay",
              "size": 10,
              "solidity": 0.2
             }
            },
            "type": "histogram"
           }
          ],
          "histogram2d": [
           {
            "colorbar": {
             "outlinewidth": 0,
             "ticks": ""
            },
            "colorscale": [
             [
              0,
              "#0d0887"
             ],
             [
              0.1111111111111111,
              "#46039f"
             ],
             [
              0.2222222222222222,
              "#7201a8"
             ],
             [
              0.3333333333333333,
              "#9c179e"
             ],
             [
              0.4444444444444444,
              "#bd3786"
             ],
             [
              0.5555555555555556,
              "#d8576b"
             ],
             [
              0.6666666666666666,
              "#ed7953"
             ],
             [
              0.7777777777777778,
              "#fb9f3a"
             ],
             [
              0.8888888888888888,
              "#fdca26"
             ],
             [
              1,
              "#f0f921"
             ]
            ],
            "type": "histogram2d"
           }
          ],
          "histogram2dcontour": [
           {
            "colorbar": {
             "outlinewidth": 0,
             "ticks": ""
            },
            "colorscale": [
             [
              0,
              "#0d0887"
             ],
             [
              0.1111111111111111,
              "#46039f"
             ],
             [
              0.2222222222222222,
              "#7201a8"
             ],
             [
              0.3333333333333333,
              "#9c179e"
             ],
             [
              0.4444444444444444,
              "#bd3786"
             ],
             [
              0.5555555555555556,
              "#d8576b"
             ],
             [
              0.6666666666666666,
              "#ed7953"
             ],
             [
              0.7777777777777778,
              "#fb9f3a"
             ],
             [
              0.8888888888888888,
              "#fdca26"
             ],
             [
              1,
              "#f0f921"
             ]
            ],
            "type": "histogram2dcontour"
           }
          ],
          "mesh3d": [
           {
            "colorbar": {
             "outlinewidth": 0,
             "ticks": ""
            },
            "type": "mesh3d"
           }
          ],
          "parcoords": [
           {
            "line": {
             "colorbar": {
              "outlinewidth": 0,
              "ticks": ""
             }
            },
            "type": "parcoords"
           }
          ],
          "pie": [
           {
            "automargin": true,
            "type": "pie"
           }
          ],
          "scatter": [
           {
            "fillpattern": {
             "fillmode": "overlay",
             "size": 10,
             "solidity": 0.2
            },
            "type": "scatter"
           }
          ],
          "scatter3d": [
           {
            "line": {
             "colorbar": {
              "outlinewidth": 0,
              "ticks": ""
             }
            },
            "marker": {
             "colorbar": {
              "outlinewidth": 0,
              "ticks": ""
             }
            },
            "type": "scatter3d"
           }
          ],
          "scattercarpet": [
           {
            "marker": {
             "colorbar": {
              "outlinewidth": 0,
              "ticks": ""
             }
            },
            "type": "scattercarpet"
           }
          ],
          "scattergeo": [
           {
            "marker": {
             "colorbar": {
              "outlinewidth": 0,
              "ticks": ""
             }
            },
            "type": "scattergeo"
           }
          ],
          "scattergl": [
           {
            "marker": {
             "colorbar": {
              "outlinewidth": 0,
              "ticks": ""
             }
            },
            "type": "scattergl"
           }
          ],
          "scattermapbox": [
           {
            "marker": {
             "colorbar": {
              "outlinewidth": 0,
              "ticks": ""
             }
            },
            "type": "scattermapbox"
           }
          ],
          "scatterpolar": [
           {
            "marker": {
             "colorbar": {
              "outlinewidth": 0,
              "ticks": ""
             }
            },
            "type": "scatterpolar"
           }
          ],
          "scatterpolargl": [
           {
            "marker": {
             "colorbar": {
              "outlinewidth": 0,
              "ticks": ""
             }
            },
            "type": "scatterpolargl"
           }
          ],
          "scatterternary": [
           {
            "marker": {
             "colorbar": {
              "outlinewidth": 0,
              "ticks": ""
             }
            },
            "type": "scatterternary"
           }
          ],
          "surface": [
           {
            "colorbar": {
             "outlinewidth": 0,
             "ticks": ""
            },
            "colorscale": [
             [
              0,
              "#0d0887"
             ],
             [
              0.1111111111111111,
              "#46039f"
             ],
             [
              0.2222222222222222,
              "#7201a8"
             ],
             [
              0.3333333333333333,
              "#9c179e"
             ],
             [
              0.4444444444444444,
              "#bd3786"
             ],
             [
              0.5555555555555556,
              "#d8576b"
             ],
             [
              0.6666666666666666,
              "#ed7953"
             ],
             [
              0.7777777777777778,
              "#fb9f3a"
             ],
             [
              0.8888888888888888,
              "#fdca26"
             ],
             [
              1,
              "#f0f921"
             ]
            ],
            "type": "surface"
           }
          ],
          "table": [
           {
            "cells": {
             "fill": {
              "color": "#EBF0F8"
             },
             "line": {
              "color": "white"
             }
            },
            "header": {
             "fill": {
              "color": "#C8D4E3"
             },
             "line": {
              "color": "white"
             }
            },
            "type": "table"
           }
          ]
         },
         "layout": {
          "annotationdefaults": {
           "arrowcolor": "#2a3f5f",
           "arrowhead": 0,
           "arrowwidth": 1
          },
          "autotypenumbers": "strict",
          "coloraxis": {
           "colorbar": {
            "outlinewidth": 0,
            "ticks": ""
           }
          },
          "colorscale": {
           "diverging": [
            [
             0,
             "#8e0152"
            ],
            [
             0.1,
             "#c51b7d"
            ],
            [
             0.2,
             "#de77ae"
            ],
            [
             0.3,
             "#f1b6da"
            ],
            [
             0.4,
             "#fde0ef"
            ],
            [
             0.5,
             "#f7f7f7"
            ],
            [
             0.6,
             "#e6f5d0"
            ],
            [
             0.7,
             "#b8e186"
            ],
            [
             0.8,
             "#7fbc41"
            ],
            [
             0.9,
             "#4d9221"
            ],
            [
             1,
             "#276419"
            ]
           ],
           "sequential": [
            [
             0,
             "#0d0887"
            ],
            [
             0.1111111111111111,
             "#46039f"
            ],
            [
             0.2222222222222222,
             "#7201a8"
            ],
            [
             0.3333333333333333,
             "#9c179e"
            ],
            [
             0.4444444444444444,
             "#bd3786"
            ],
            [
             0.5555555555555556,
             "#d8576b"
            ],
            [
             0.6666666666666666,
             "#ed7953"
            ],
            [
             0.7777777777777778,
             "#fb9f3a"
            ],
            [
             0.8888888888888888,
             "#fdca26"
            ],
            [
             1,
             "#f0f921"
            ]
           ],
           "sequentialminus": [
            [
             0,
             "#0d0887"
            ],
            [
             0.1111111111111111,
             "#46039f"
            ],
            [
             0.2222222222222222,
             "#7201a8"
            ],
            [
             0.3333333333333333,
             "#9c179e"
            ],
            [
             0.4444444444444444,
             "#bd3786"
            ],
            [
             0.5555555555555556,
             "#d8576b"
            ],
            [
             0.6666666666666666,
             "#ed7953"
            ],
            [
             0.7777777777777778,
             "#fb9f3a"
            ],
            [
             0.8888888888888888,
             "#fdca26"
            ],
            [
             1,
             "#f0f921"
            ]
           ]
          },
          "colorway": [
           "#636efa",
           "#EF553B",
           "#00cc96",
           "#ab63fa",
           "#FFA15A",
           "#19d3f3",
           "#FF6692",
           "#B6E880",
           "#FF97FF",
           "#FECB52"
          ],
          "font": {
           "color": "#2a3f5f"
          },
          "geo": {
           "bgcolor": "white",
           "lakecolor": "white",
           "landcolor": "#E5ECF6",
           "showlakes": true,
           "showland": true,
           "subunitcolor": "white"
          },
          "hoverlabel": {
           "align": "left"
          },
          "hovermode": "closest",
          "mapbox": {
           "style": "light"
          },
          "paper_bgcolor": "white",
          "plot_bgcolor": "#E5ECF6",
          "polar": {
           "angularaxis": {
            "gridcolor": "white",
            "linecolor": "white",
            "ticks": ""
           },
           "bgcolor": "#E5ECF6",
           "radialaxis": {
            "gridcolor": "white",
            "linecolor": "white",
            "ticks": ""
           }
          },
          "scene": {
           "xaxis": {
            "backgroundcolor": "#E5ECF6",
            "gridcolor": "white",
            "gridwidth": 2,
            "linecolor": "white",
            "showbackground": true,
            "ticks": "",
            "zerolinecolor": "white"
           },
           "yaxis": {
            "backgroundcolor": "#E5ECF6",
            "gridcolor": "white",
            "gridwidth": 2,
            "linecolor": "white",
            "showbackground": true,
            "ticks": "",
            "zerolinecolor": "white"
           },
           "zaxis": {
            "backgroundcolor": "#E5ECF6",
            "gridcolor": "white",
            "gridwidth": 2,
            "linecolor": "white",
            "showbackground": true,
            "ticks": "",
            "zerolinecolor": "white"
           }
          },
          "shapedefaults": {
           "line": {
            "color": "#2a3f5f"
           }
          },
          "ternary": {
           "aaxis": {
            "gridcolor": "white",
            "linecolor": "white",
            "ticks": ""
           },
           "baxis": {
            "gridcolor": "white",
            "linecolor": "white",
            "ticks": ""
           },
           "bgcolor": "#E5ECF6",
           "caxis": {
            "gridcolor": "white",
            "linecolor": "white",
            "ticks": ""
           }
          },
          "title": {
           "x": 0.05
          },
          "xaxis": {
           "automargin": true,
           "gridcolor": "white",
           "linecolor": "white",
           "ticks": "",
           "title": {
            "standoff": 15
           },
           "zerolinecolor": "white",
           "zerolinewidth": 2
          },
          "yaxis": {
           "automargin": true,
           "gridcolor": "white",
           "linecolor": "white",
           "ticks": "",
           "title": {
            "standoff": 15
           },
           "zerolinecolor": "white",
           "zerolinewidth": 2
          }
         }
        },
        "width": 1000,
        "xaxis": {
         "gridcolor": "LightGrey",
         "title": {
          "text": "Amount of cores used"
         }
        },
        "yaxis": {
         "gridcolor": "LightGrey",
         "title": {
          "text": "Speedup"
         }
        }
       }
      }
     },
     "metadata": {},
     "output_type": "display_data"
    }
   ],
   "source": [
    "df = pd.read_csv('csv_results/dev_test_6.csv')\n",
    "\n",
    "fig = go.Figure()\n",
    "fig.add_trace(go.Scatter(mode='lines', x=df['nr_elements'], y=df['cache_misses_count'] / df['instructions_count'], line_color='#00CC96'))\n",
    "\n",
    "# infinite_ahmdals = cores\n",
    "# fig.add_trace(go.Scatter(mode='lines', x=cores, y=infinite_ahmdals, line_color='#636EFA', name=\"Theoretical\"))\n",
    "fig.update_layout(yaxis_title=\"Speedup\", xaxis_title=\"Amount of cores used\", font={'size': 20}, plot_bgcolor=\"white\", yaxis_gridcolor='LightGrey', xaxis_gridcolor='LightGrey')\n",
    "fig.update_layout(\n",
    "    autosize=False,\n",
    "    width=1000,\n",
    "    height=600,)\n",
    "fig.show()"
   ]
  }
 ],
 "metadata": {
  "kernelspec": {
   "display_name": "pytenv",
   "language": "python",
   "name": "python3"
  },
  "language_info": {
   "codemirror_mode": {
    "name": "ipython",
    "version": 3
   },
   "file_extension": ".py",
   "mimetype": "text/x-python",
   "name": "python",
   "nbconvert_exporter": "python",
   "pygments_lexer": "ipython3",
   "version": "3.10.6"
  },
  "orig_nbformat": 4,
  "vscode": {
   "interpreter": {
    "hash": "48d0a4ca29d602f526e1aa695dc41e454d4aef6a87f358e764b4e396349856d8"
   }
  }
 },
 "nbformat": 4,
 "nbformat_minor": 2
}
