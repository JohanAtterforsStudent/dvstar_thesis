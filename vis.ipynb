{
 "cells": [
  {
   "cell_type": "code",
   "execution_count": null,
   "metadata": {},
   "outputs": [],
   "source": [
    "import plotly.express as px \n",
    "import plotly.graph_objects as go\n",
    "import pandas as pd \n",
    "import os "
   ]
  },
  {
   "cell_type": "code",
   "execution_count": null,
   "metadata": {},
   "outputs": [],
   "source": [
    "cwd = os.getcwd()\n",
    "csv_path = cwd + \"/tmp/benchmarks/test.csv\""
   ]
  },
  {
   "cell_type": "code",
   "execution_count": null,
   "metadata": {},
   "outputs": [],
   "source": [
    "df = pd.read_csv(csv_path)\n",
    "\n",
    "fig = px.line(df, x='Set size', y='cache-misses', title=\"Cache misses relative to amount of sequences compared <b>Repo : \" + df['Repo Version'].iloc[0] + \"</b>\")\n",
    "fig.update_layout(yaxis_title='cache misses (%)', xaxis_title='Number of unique sequences compared')\n",
    "fig.show()\n",
    "\n",
    "fig = px.line(df, x='Set size', y='elapsed time', title=\"Cache misses relative to amount of sequences compared <b>Repo : \" + df['Repo Version'].iloc[0] + \"</b>\")\n",
    "fig.update_layout(yaxis_title='cache misses (%)', xaxis_title='Number of unique sequences compared')\n",
    "fig.show()"
   ]
  },
  {
   "cell_type": "code",
   "execution_count": null,
   "metadata": {},
   "outputs": [],
   "source": [
    "sequence = []\n",
    "threshold = []\n",
    "min_count = []\n",
    "max_depth = []\n",
    "size = []\n",
    "\n",
    "directory = \"data/benchmarking/parameter_test\"\n",
    "\n",
    "for filename in os.listdir(\"data/benchmarking/parameter_test\"):\n",
    "    f = os.path.join(directory, filename)\n",
    "    file_stats = os.stat(f)\n",
    "    parameters = filename.split(\"_\")\n",
    "    sequence.append(parameters[1])\n",
    "    threshold.append(float(parameters[2]))\n",
    "    min_count.append(int(parameters[3]))\n",
    "    max_depth.append(int(parameters[4].split(\".\")[0]))\n",
    "    size.append(file_stats.st_size)\n",
    "\n",
    "data = {\n",
    "    \"sequence\" : sequence, \n",
    "    \"threshold\" : threshold,\n",
    "    \"min_count\" : min_count,\n",
    "    \"max_depth\" : max_depth,\n",
    "    \"size\" : size\n",
    "}\n",
    "\n",
    "df = pd.DataFrame(data)\n",
    "df.columns"
   ]
  },
  {
   "cell_type": "code",
   "execution_count": null,
   "metadata": {},
   "outputs": [],
   "source": [
    "df['avg_size_threshold'] = df.groupby(['threshold'])['size'].transform('mean')\n",
    "df['avg_size_min_count'] = df.groupby(['min_count'])['size'].transform('mean')\n",
    "df['avg_size_max_depth'] = df.groupby(['max_depth'])['size'].transform('mean')\n",
    "\n",
    "df_threshold = df[['threshold', 'avg_size_threshold']]\n",
    "df_threshold.drop_duplicates(inplace=True)\n",
    "df_threshold.sort_values('threshold', inplace=True)\n",
    "\n",
    "df_min_count = df[['min_count', 'avg_size_min_count']]\n",
    "df_min_count.drop_duplicates(inplace=True)\n",
    "df_min_count.sort_values('min_count', inplace=True)\n",
    "\n",
    "df_max_depth = df[['max_depth', 'avg_size_max_depth']]\n",
    "df_max_depth.drop_duplicates(inplace=True)\n",
    "df_max_depth.sort_values('max_depth', inplace=True)"
   ]
  },
  {
   "cell_type": "code",
   "execution_count": null,
   "metadata": {},
   "outputs": [],
   "source": [
    "fig = go.Figure()\n",
    "\n",
    "fig.add_trace(go.Scatter(x=df_threshold['threshold'], y=df_threshold['avg_size_threshold'], name='threshold'))\n",
    "fig.add_trace(go.Scatter(x=df_min_count['min_count'], y=df_min_count['avg_size_min_count'], name='min_count'))\n",
    "fig.add_trace(go.Scatter(x=df_max_depth['max_depth'], y=df_max_depth['avg_size_max_depth'], name='max_depth'))\n",
    "\n",
    "fig.update_layout(yaxis_title='Size (Bytes)', xaxis_title='Parameter', title='File size change in relation to parameter tuning')\n",
    "\n",
    "fig.show()"
   ]
  }
 ],
 "metadata": {
  "kernelspec": {
   "display_name": "pytenv",
   "language": "python",
   "name": "python3"
  },
  "language_info": {
   "codemirror_mode": {
    "name": "ipython",
    "version": 3
   },
   "file_extension": ".py",
   "mimetype": "text/x-python",
   "name": "python",
   "nbconvert_exporter": "python",
   "pygments_lexer": "ipython3",
   "version": "3.10.6"
  },
  "orig_nbformat": 4,
  "vscode": {
   "interpreter": {
    "hash": "48d0a4ca29d602f526e1aa695dc41e454d4aef6a87f358e764b4e396349856d8"
   }
  }
 },
 "nbformat": 4,
 "nbformat_minor": 2
}
