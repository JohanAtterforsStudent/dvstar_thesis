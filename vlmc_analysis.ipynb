{
 "cells": [
  {
   "attachments": {},
   "cell_type": "markdown",
   "metadata": {},
   "source": [
    "### Imports"
   ]
  },
  {
   "cell_type": "code",
   "execution_count": null,
   "metadata": {},
   "outputs": [],
   "source": [
    "import plotly.express as px \n",
    "import plotly.graph_objects as go\n",
    "from plotly.subplots import make_subplots\n",
    "import pandas as pd \n",
    "import os \n",
    "import plotly.io as pio\n",
    "pio.kaleido.scope.mathjax = None \n",
    "from math import log"
   ]
  },
  {
   "attachments": {},
   "cell_type": "markdown",
   "metadata": {},
   "source": [
    "# <b>VLMC Analysis</b>\n",
    "This notebook is devoted to analysing VLMCs. "
   ]
  },
  {
   "attachments": {},
   "cell_type": "markdown",
   "metadata": {},
   "source": [
    "## Amount of matching kmers when comparing two VLMCs\n",
    "Here we count which kmers are matched and not matched in two VLMCs that are compared by our distance calculation. By design the distance calculation selects the left VLMC to be the shorted of the two VLMCs. "
   ]
  },
  {
   "cell_type": "code",
   "execution_count": null,
   "metadata": {},
   "outputs": [],
   "source": [
    "iloc_x = 1000\n",
    "rolling_x = 10000\n",
    "\n",
    "df_left = pd.read_csv(\"./tmp/distributions/left_distribution_turkey_to_human.txt\", sep=\",\", header=None)\n",
    "df_right = pd.read_csv(\"./tmp/distributions/right_distribution_turkey_to_human.txt\", sep=\",\", header=None)\n",
    "df_left.columns = ['match']\n",
    "df_left['not_match'] = df_left.match != 1\n",
    "df_left['in_a_row'] = df_left['not_match'].cumsum()-df_left['not_match'].cumsum().where(~df_left['not_match']).ffill().fillna(0).astype(int)\n",
    "\n",
    "df_right.columns = ['match']\n",
    "df_right['not_match'] = df_right.match != 1\n",
    "df_right['in_a_row'] = df_right['not_match'].cumsum()-df_right['not_match'].cumsum().where(~df_right['not_match']).ffill().fillna(0).astype(int)\n",
    "\n",
    "fig = go.Figure()\n",
    "fig.add_trace(go.Scatter(x=df_left.iloc[::iloc_x].index, y=df_left.iloc[::iloc_x].in_a_row, name=\"Left\"))\n",
    "fig.add_trace(go.Scatter(x=df_right.iloc[::iloc_x].index, y=df_right.iloc[::iloc_x].in_a_row, name=\"Right\"))\n",
    "fig.update_layout(title=\"Amount of kmers missed in a row for left and right VLMC (Left = Turkey, Right = human)\", yaxis_title=\"Missed in a row\", xaxis_title='Kmer')\n",
    "fig.show()\n",
    "\n",
    "fig = go.Figure()\n",
    "fig.add_trace(go.Scatter(x=df_left.iloc[::iloc_x].index, y=df_left.in_a_row.rolling(rolling_x).mean().iloc[::iloc_x], name=\"Left\"))\n",
    "fig.add_trace(go.Scatter(x=df_right.iloc[::iloc_x].index, y=df_right.in_a_row.rolling(rolling_x).mean().iloc[::iloc_x], name=\"Right\"))\n",
    "fig.update_layout(title=\"Rolling average of amount of kmers missed in a row for left and right VLMC (Left = Turkey, Right = human)\", yaxis_title=\"Average missed in a row\", xaxis_title='Kmer')\n",
    "fig.show()\n",
    "\n",
    "df_left = pd.read_csv(\"./tmp/distributions/left_distribution_human_to_human.txt\", sep=\",\", header=None)\n",
    "df_right = pd.read_csv(\"./tmp/distributions/right_distribution_human_to_human.txt\", sep=\",\", header=None)\n",
    "df_left.columns = ['match']\n",
    "df_left['not_match'] = df_left.match != 1\n",
    "df_left['in_a_row'] = df_left['not_match'].cumsum()-df_left['not_match'].cumsum().where(~df_left['not_match']).ffill().fillna(0).astype(int)\n",
    "\n",
    "df_right.columns = ['match']\n",
    "df_right['not_match'] = df_right.match != 1\n",
    "df_right['in_a_row'] = df_right['not_match'].cumsum()-df_right['not_match'].cumsum().where(~df_right['not_match']).ffill().fillna(0).astype(int)\n",
    "\n",
    "fig = go.Figure()\n",
    "fig.add_trace(go.Scatter(x=df_left.iloc[::iloc_x].index, y=df_left.iloc[::iloc_x].in_a_row, name=\"Left\"))\n",
    "fig.add_trace(go.Scatter(x=df_right.iloc[::iloc_x].index, y=df_right.iloc[::iloc_x].in_a_row, name=\"Right\"))\n",
    "fig.update_layout(title=\"Amount of kmers missed in a row for left and right VLMC (Left = Human, Right = human)\", yaxis_title=\"Missed in a row\", xaxis_title='Kmer')\n",
    "fig.show()\n",
    "\n",
    "fig = go.Figure()\n",
    "fig.add_trace(go.Scatter(x=df_left.iloc[::iloc_x].index, y=df_left.in_a_row.rolling(rolling_x).mean().iloc[::iloc_x], name=\"Left\"))\n",
    "fig.add_trace(go.Scatter(x=df_right.iloc[::iloc_x].index, y=df_right.in_a_row.rolling(rolling_x).mean().iloc[::iloc_x], name=\"Right\"))\n",
    "fig.update_layout(title=\"Rolling average of amount of kmers missed in a row for left and right VLMC (Left = Human, Right = human)\", yaxis_title=\"Average missed in a row\", xaxis_title='Kmer')\n",
    "fig.show()"
   ]
  },
  {
   "attachments": {},
   "cell_type": "markdown",
   "metadata": {},
   "source": [
    "## Percentage of matching kmers \n",
    "Once again when comparing two VLMCs, this graph displays the amount of kmers in each VLMC that is matched with the other VLMC."
   ]
  },
  {
   "cell_type": "code",
   "execution_count": null,
   "metadata": {},
   "outputs": [],
   "source": [
    "df_left = pd.read_csv(\"./tmp/distributions/left_distribution_turkey_to_human.txt\", sep=\",\", header=None)\n",
    "df_right = pd.read_csv(\"./tmp/distributions/right_distribution_turkey_to_human.txt\", sep=\",\", header=None)\n",
    "df_left.columns = ['match']\n",
    "df_left['ones'] = 1\n",
    "df_left['matchsum'] = df_left.match.cumsum()\n",
    "df_left['prc_matches'] = df_left.matchsum / df_left.ones.cumsum()\n",
    "\n",
    "df_right.columns = ['match']\n",
    "df_right['ones'] = 1\n",
    "df_right['matchsum'] = df_right.match.cumsum()\n",
    "df_right['prc_matches'] = df_right.matchsum / df_right.ones.cumsum()\n",
    "fig = go.Figure()\n",
    "fig.add_trace(go.Scatter(x=df_left.iloc[::1000].index, y=df_left.iloc[::1000].prc_matches, name=\"Left\"))\n",
    "fig.add_trace(go.Scatter(x=df_right.iloc[::1000].index, y=df_right.iloc[::1000].prc_matches, name=\"Right\"))\n",
    "fig.update_layout(title=\"Percentage of matches (Left = Turkey, Right = Human)\", yaxis_title=\"percentage\", xaxis_title=\"Kmer\")\n",
    "fig.show()\n",
    "\n",
    "df_left = pd.read_csv(\"./tmp/distributions/left_distribution_human_to_human.txt\", sep=\",\", header=None)\n",
    "df_right = pd.read_csv(\"./tmp/distributions/right_distribution_human_to_human.txt\", sep=\",\", header=None)\n",
    "df_left.columns = ['match']\n",
    "df_left['ones'] = 1\n",
    "df_left['matchsum'] = df_left.match.cumsum()\n",
    "df_left['prc_matches'] = df_left.matchsum / df_left.ones.cumsum()\n",
    "\n",
    "df_right.columns = ['match']\n",
    "df_right['ones'] = 1\n",
    "df_right['matchsum'] = df_right.match.cumsum()\n",
    "df_right['prc_matches'] = df_right.matchsum / df_right.ones.cumsum()\n",
    "fig = go.Figure()\n",
    "fig.add_trace(go.Scatter(x=df_left.iloc[::1000].index, y=df_left.iloc[::1000].prc_matches, name=\"Left\"))\n",
    "fig.add_trace(go.Scatter(x=df_right.iloc[::1000].index, y=df_right.iloc[::1000].prc_matches, name=\"Right\"))\n",
    "fig.update_layout(title=\"Percentage of matches (Left = Human, Right = Human)\", yaxis_title=\"percentage\", xaxis_title=\"Kmer\")\n",
    "fig.show()"
   ]
  },
  {
   "attachments": {},
   "cell_type": "markdown",
   "metadata": {},
   "source": [
    "## Counting percentage of length of kmers that is filled\n",
    "For each length of a kmer there can at most exist 4 to the power of the length amount of different Kmers. Here we examine how high of a percentage each length has filled for different DNA datasets."
   ]
  },
  {
   "cell_type": "code",
   "execution_count": null,
   "metadata": {},
   "outputs": [],
   "source": [
    "df = pd.read_csv(\"./tmp/length_distributions/kmer_length_distribution.txt\", sep=\",\", header=None)\n",
    "df.columns = ['input']\n",
    "df['vlmc'] = df.input.apply(lambda x : x.split('_')[0])\n",
    "df['kmer_length'] = df.input.apply(lambda x : int(x.split('_')[1]))\n",
    "df['dataset'] = df.input.apply(lambda x : x.split('_')[2])\n",
    "df['max_depth'] = df.input.apply(lambda x : x.split('_')[3].split('.')[0])\n",
    "df.loc[df.max_depth=='10 copy', 'max_depth'] = 10\n",
    "df['max_depth'] = df.max_depth.apply(int)\n",
    "df['min_count'] = df.input.apply(lambda x : int(x.split('_')[4]))\n",
    "df['threshhold'] = df.input.apply(lambda x : float(x.split('_')[5]))\n",
    "df['kmer_count'] = df.input.apply(lambda x : int(x.split('_')[6]))\n",
    "df['length_max_count'] = df.kmer_length.apply(lambda x : 4**x)\n",
    "df['cover_prc'] = df.kmer_count / df.length_max_count\n",
    "\n",
    "fig = go.Figure()\n",
    "\n",
    "fig.add_trace(go.Scatter(x=[x for x in range(0,11)], y=[4**x for x in range(0,11)], name=\"max count\"))\n",
    "fig.add_trace(go.Scatter(x=[x for x in range(0,7)], y=df[df.max_depth==6].groupby('kmer_length')['kmer_count'].mean(), name='max depth 6'))\n",
    "fig.add_trace(go.Scatter(x=[x for x in range(0,9)], y=df[df.max_depth==8].groupby('kmer_length')['kmer_count'].mean(), name='max depth 8'))\n",
    "fig.add_trace(go.Scatter(x=[x for x in range(0,11)], y=df[df.max_depth==10].groupby('kmer_length')['kmer_count'].mean(), name='max depth 10'))\n",
    "fig.show()\n",
    "df_test = df[df.max_depth==10]\n",
    "fig = go.Figure()\n",
    "fig.add_trace(go.Scatter(x=df_test[df_test.min_count==9]['kmer_length'].unique(), y=df_test[df_test.min_count==9].groupby('kmer_length').cover_prc.mean(), name='min count 9'))\n",
    "fig.add_trace(go.Scatter(x=df_test[df_test.min_count==3]['kmer_length'].unique(), y=df_test[df_test.min_count==3].groupby('kmer_length').cover_prc.mean(), name='min count 3'))\n",
    "fig.show()\n",
    "\n",
    "fig = go.Figure()\n",
    "fig.add_trace(go.Scatter(x=df[df.max_depth==10]['kmer_length'].unique(), y=df[df.max_depth==10].groupby('kmer_length').cover_prc.mean(), name='max depth 10'))\n",
    "fig.add_trace(go.Scatter(x=df[df.max_depth==8]['kmer_length'].unique(), y=df[df.max_depth==8].groupby('kmer_length').cover_prc.mean(), name='max depth 8'))\n",
    "fig.add_trace(go.Scatter(x=df[df.max_depth==6]['kmer_length'].unique(), y=df[df.max_depth==6].groupby('kmer_length').cover_prc.mean(), name='max depth 8'))\n",
    "fig.show()"
   ]
  },
  {
   "attachments": {},
   "cell_type": "markdown",
   "metadata": {},
   "source": [
    "## Similar to above but examining single VLMC with its actual kmer string"
   ]
  },
  {
   "cell_type": "code",
   "execution_count": null,
   "metadata": {},
   "outputs": [],
   "source": [
    "df_human = pd.read_csv(\"./tmp/one_vlmcs_kmer-distribution.txt\", sep=\",\", header=None)\n",
    "df_turkey = pd.read_csv(\"./tmp/another_vlmcs_kmer-distribution.txt\", sep=\",\", header=None)\n",
    "\n",
    "df_human.columns = ['kmer_string']\n",
    "df_turkey.columns = ['kmer_string']\n",
    "\n",
    "df_human['kmer_string'] = df_human.kmer_string.astype(str)\n",
    "df_turkey['kmer_string'] = df_turkey.kmer_string.astype(str)\n",
    "\n",
    "df_human['start_letter'] = df_human.kmer_string.apply(lambda x : x[0])\n",
    "df_turkey['start_letter'] = df_turkey.kmer_string.apply(lambda x : x[0])\n",
    "\n",
    "df_human['kmer_length'] = df_human.kmer_string.apply(lambda x : len(x))\n",
    "df_turkey['kmer_length'] = df_turkey.kmer_string.apply(lambda x : len(x))\n",
    "\n",
    "df_human.sort_values('kmer_length', inplace=True)\n",
    "df_turkey.sort_values('kmer_length', inplace=True)\n",
    "\n",
    "df_human['one'] = 1\n",
    "df_human['new_index'] = df_human.one.cumsum()\n",
    "\n",
    "df_turkey['one'] = 1\n",
    "df_turkey['new_index'] = df_turkey.one.cumsum()\n",
    "\n",
    "fig = px.scatter(x=df_human.iloc[::1000].new_index, y=df_human.iloc[::1000].kmer_length, color=df_human.iloc[::1000].start_letter)\n",
    "fig.show()\n",
    "\n",
    "fig = px.scatter(x=df_turkey.iloc[::1000].new_index, y=df_turkey.iloc[::1000].kmer_length, color=df_turkey.iloc[::1000].start_letter)\n",
    "fig.show()\n",
    "divlist = []\n",
    "x_list = []\n",
    "for i in range(1,11):\n",
    "    divlist.append(4**i)\n",
    "    x_list.append(i)\n",
    "filled_human = list(df_human.groupby('kmer_length').kmer_length.count() / divlist) \n",
    "filled_turkey = list(df_turkey.groupby('kmer_length').kmer_length.count() / divlist)\n",
    "\n",
    "fig = go.Figure()\n",
    "fig.add_trace(go.Scatter(x=x_list, y=filled_human, name='human'))\n",
    "fig.add_trace(go.Scatter(x=x_list, y=filled_turkey, name='turkey'))\n",
    "fig.show()"
   ]
  }
 ],
 "metadata": {
  "kernelspec": {
   "display_name": "pytenv",
   "language": "python",
   "name": "python3"
  },
  "language_info": {
   "codemirror_mode": {
    "name": "ipython",
    "version": 3
   },
   "file_extension": ".py",
   "mimetype": "text/x-python",
   "name": "python",
   "nbconvert_exporter": "python",
   "pygments_lexer": "ipython3",
   "version": "3.10.6"
  },
  "orig_nbformat": 4
 },
 "nbformat": 4,
 "nbformat_minor": 2
}
